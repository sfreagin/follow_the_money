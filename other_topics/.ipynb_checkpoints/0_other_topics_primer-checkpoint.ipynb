{
 "cells": [
  {
   "cell_type": "markdown",
   "metadata": {},
   "source": [
    "## Other Topics\n",
    "* Compensation Philosophy\n",
    "* DEF 14A Proxy statements\n",
    "* 10-K Annual reports\n",
    "* Severance and Change-In-Control (CIC)\n",
    "* Employment contracts / agreements\n",
    "* Payout curves\n",
    "* Vesting schedules\n",
    "* Performance metrics\n",
    "    * STI\n",
    "    * LTI\n",
    "    * GAAP vs. non-GAAP adjusted metrics\n",
    "* Peer groups\n",
    "* Say-on-Pay votes\n",
    "* CEO Pay Ratio\n",
    "* Stock Ownership Guidelines / requirements\n",
    "* 10b5-1 prearranged trading plans\n",
    "* Form 4 analysis\n",
    "* Proxy fights\n",
    "* 162(m) considerations (maybe?)"
   ]
  },
  {
   "cell_type": "markdown",
   "metadata": {},
   "source": [
    "---\n",
    "## Other Topics\n",
    "---"
   ]
  },
  {
   "cell_type": "markdown",
   "metadata": {},
   "source": [
    "### Compensation Philosophy\n",
    "\n",
    "Compensation means to pay someone. The different ways in which compensation can be structured may serve to incentivize certain desired outcomes. There may also be unintended consequences of bad compensation design--for example, J.P. Morgan employees stealing from customers by opening additional unnecessary accounts to collect additional commissions."
   ]
  },
  {
   "cell_type": "markdown",
   "metadata": {},
   "source": [
    "### DEF 14A Proxy statements\n",
    "\n",
    "A proxy statement is sent to company shareholders when there is a matter that requires a shareholder vote. Back in the day, this document was accompanied by a proxy card which allowed shareholders to *vote by proxy*, that is, to mail in their ballots.\n",
    "\n",
    "Definitive Proxy Statements are filed with the Securities and Exchange commission and may be accessed using the SEC EDGAR search tool.\n",
    "\n",
    "All publicly traded companies issue at least one proxy annually to vote on nominees for the Board of Directors, and ratifying the firm which audited the company's financial statements. Other proposals requiring vote may include:\n",
    "* Say-on-Pay vote\n",
    "* Authorization of new shares added to available stock programs (equity compensation, ESPP, etc)\n",
    "* Merger and/or acquisition activity\n",
    "\n",
    "The proxy statement also includes required sections outlining:\n",
    "* Nominees for the Board of Directors\n",
    "* Director Compensation\n",
    "* Executive compensation in the Compensation Discussion and Analysis (CD&A) section\n",
    "* Executive compensation tables (SCT, GPBA, OESV, etc)\n",
    "* Post-termination (severance, CIC) pay\n"
   ]
  },
  {
   "cell_type": "markdown",
   "metadata": {},
   "source": [
    "### 10-K Annual reports\n",
    "\n",
    "Annual reports include financial results of the company over the previous 12 months. They also give an overview of the purpose, strategy, and direction of the company. An annual report is intended to give a prospective new investor all the relevant information they might need to make an informed decision whether or not to invest with the company."
   ]
  },
  {
   "cell_type": "markdown",
   "metadata": {},
   "source": [
    "### Severance and Change-In-Control (CIC)\n"
   ]
  },
  {
   "cell_type": "markdown",
   "metadata": {},
   "source": [
    "### Employment contracts / agreements\n"
   ]
  },
  {
   "cell_type": "markdown",
   "metadata": {},
   "source": [
    "### Payout curves\n"
   ]
  },
  {
   "cell_type": "markdown",
   "metadata": {},
   "source": [
    "### Vesting schedules\n"
   ]
  },
  {
   "cell_type": "markdown",
   "metadata": {},
   "source": [
    "### Performance metrics\n",
    "* STI\n",
    "* LTI\n",
    "* GAAP vs. non-GAAP adjusted metrics\n"
   ]
  },
  {
   "cell_type": "markdown",
   "metadata": {},
   "source": [
    "### Peer groups\n",
    "\n",
    "In general there are *compensation* peer groups and *performance* peer groups, which may or may not overlap. Compensation peer groups tend to be comprised of 10 to 20 companies that are similar in industry, size, growth, geography, etc. "
   ]
  },
  {
   "cell_type": "markdown",
   "metadata": {},
   "source": [
    "### Say-on-Pay votes\n"
   ]
  },
  {
   "cell_type": "markdown",
   "metadata": {},
   "source": [
    "### CEO Pay Ratio\n"
   ]
  },
  {
   "cell_type": "markdown",
   "metadata": {},
   "source": [
    "### Stock Ownership Guidelines / requirements\n"
   ]
  },
  {
   "cell_type": "markdown",
   "metadata": {},
   "source": [
    "### 10b5-1 prearranged trading plans\n"
   ]
  },
  {
   "cell_type": "markdown",
   "metadata": {},
   "source": [
    "### Form 4 analysis"
   ]
  },
  {
   "cell_type": "markdown",
   "metadata": {},
   "source": [
    "### Proxy fights"
   ]
  },
  {
   "cell_type": "markdown",
   "metadata": {},
   "source": [
    "### 162(m) considerations (maybe?)"
   ]
  }
 ],
 "metadata": {
  "kernelspec": {
   "display_name": "Python 3",
   "language": "python",
   "name": "python3"
  },
  "language_info": {
   "codemirror_mode": {
    "name": "ipython",
    "version": 3
   },
   "file_extension": ".py",
   "mimetype": "text/x-python",
   "name": "python",
   "nbconvert_exporter": "python",
   "pygments_lexer": "ipython3",
   "version": "3.8.5"
  }
 },
 "nbformat": 4,
 "nbformat_minor": 4
}
