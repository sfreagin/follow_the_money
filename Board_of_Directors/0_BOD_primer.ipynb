{
 "cells": [
  {
   "cell_type": "markdown",
   "metadata": {},
   "source": [
    "## Board of Directors\n",
    "\n",
    "* Shareholder governance\n",
    "* Committees\n",
    "* Chairman of the Board / Lead Director\n",
    "* Retainers\n",
    "* Meeting fees\n",
    "* Stock awards\n"
   ]
  },
  {
   "cell_type": "markdown",
   "metadata": {},
   "source": [
    "---\n",
    "## Board of Directors\n",
    "---"
   ]
  },
  {
   "cell_type": "markdown",
   "metadata": {},
   "source": [
    "### Shareholder governance\n",
    "\n",
    "Shareholders own the company and ultimately decide the purpose / direction / reason for the company's existence, but most publicly-traded companies have many thousands or millions of individual shareholders. For this reason, a **Board of Directors** is elected by the shareholders to represent them, establishing the strategy and purpose of the company. The Board hires (and fires) the executive management team to execute company strategy, and is also responsible for establishing the company's executive pay practices.\n",
    "\n",
    "A Director may be independent, meaning they do not work for the company nor have some other conflict of interest in making Board decisions. Sometimes a Director is not independent, meaning they work for the company (*e.g.* CEO, COO), or they are conflicted in some other way--perhaps they work for the controlling Chairman or something.\n",
    "\n",
    "Most typically these Directors are **not** employees of the company, and thus do not receive (for example) a salary the way a regular employee might."
   ]
  },
  {
   "cell_type": "markdown",
   "metadata": {},
   "source": [
    "### Chairman of the Board / Lead Director\n",
    "\n",
    "The Chairman of the Board provides leadership for the Board, sets the agenda for Board meetings, and has significant influence on the direction of the company. The COB often has (or represents) a large ownership share of the company.\n",
    "\n",
    "Often, the Board of Directors will vote for the CEO to hold a dual position of COB. In this case, the Board will also vote on a **Lead Director** to fulfill the duties that an otherwise independent COB would normally fulfill."
   ]
  },
  {
   "cell_type": "markdown",
   "metadata": {},
   "source": [
    "### Committees\n",
    "\n",
    "Most Boards are broken down into smaller working groups called committees which focus on particular aspects of company governance. A Director may sit on one or none or multiple committees. The 'big three' committees are:\n",
    "* Audit committee\n",
    "* Compensation committee\n",
    "* Governance / Nominating committee\n",
    "\n",
    "Other temporary or permanent committees may be formed by a Board to address other issues. For example:\n",
    "* Executive Committee to discuss executive performance, where no employee-directors are allowed\n",
    "* M&A committee to discuss potential M&A activity\n",
    "* Environmental committee to discus ESG topics\n",
    "* Special committees for restating financials and other *ad hoc* issues\n",
    "\n",
    "Committees may or may not meet more often than the Board itself."
   ]
  },
  {
   "cell_type": "markdown",
   "metadata": {},
   "source": [
    "### Retainers\n",
    "\n",
    "Directors are typically not employees of the company, therefore they do not receive a salary. Instead they may receive a cash retainer for their services to the Board, and cash retainers are typically *much* lower than executive salaries, often in the tens of thousands of dollars.\n",
    "\n",
    "The COB or Lead Director typically (but not always) has a higher retainer than other Board members.\n",
    "\n",
    "There are sometimes (but not always) additional retainers for serving on committees. The Audit committee typically (but not always) has the highest amount amongst committee retainers. Committee chairs typically (but not always) receive an even higher retainer than other committee members."
   ]
  },
  {
   "cell_type": "markdown",
   "metadata": {},
   "source": [
    "### Meeting fees\n",
    "\n",
    "Some Boards establish meeting fees, *e.g.* a Director might receive an additional several hundred or several thousand dollars for every Board meeting they attend. There might also be committee meeting fees, receiving an additional amount for every committee meeting attended."
   ]
  },
  {
   "cell_type": "markdown",
   "metadata": {},
   "source": [
    "### Stock awards\n",
    "\n",
    "A Board of Directors will often grant stock awards to Directors, almost always RSUs or Stock Options that have no performance component. The vesting schedule is most typically 1 year.\n",
    "\n",
    "There's most often no performance component because Directors are not employees of the company, and therefore do not have the ability to *perform* in service of the company to achieve metric goals."
   ]
  },
  {
   "cell_type": "markdown",
   "metadata": {},
   "source": [
    "### Deferred compensation\n",
    "\n",
    "It's a common practice for Directors to defer compensation for [tax purposes?]"
   ]
  }
 ],
 "metadata": {
  "kernelspec": {
   "display_name": "Python 3",
   "language": "python",
   "name": "python3"
  },
  "language_info": {
   "name": ""
  }
 },
 "nbformat": 4,
 "nbformat_minor": 4
}
