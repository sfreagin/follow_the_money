{
 "cells": [
  {
   "cell_type": "markdown",
   "metadata": {},
   "source": [
    "# Executive Compensation"
   ]
  },
  {
   "cell_type": "markdown",
   "metadata": {},
   "source": [
    "## Pay Components\n",
    "\n",
    "* Salary\n",
    "* Cash incentive (performance bonus)\n",
    "* Equity awards\n",
    "* Cash bonus (non-performance)\n",
    "* Benefits\n",
    "* Measures of total pay\n",
    "    * Total Target Compensation\n",
    "    * Total Cash Compensation\n",
    "    * Realizable pay\n",
    "    * Grant Date Fair Value of awards\n"
   ]
  },
  {
   "cell_type": "markdown",
   "metadata": {},
   "source": [
    "## Board of Directors\n",
    "\n",
    "* Shareholder governance\n",
    "* Committees\n",
    "* Chairman of the Board / Lead Director\n",
    "* Retainers\n",
    "* Meeting fees\n",
    "* Stock awards\n"
   ]
  },
  {
   "cell_type": "markdown",
   "metadata": {},
   "source": [
    "## Other Topics\n",
    "* Compensation Philosophy\n",
    "* DEF 14A Proxy statements\n",
    "* 10-K Annual reports\n",
    "* Severance and Change-In-Control (CIC)\n",
    "* Employment contracts / agreements\n",
    "* Payout curves\n",
    "* Vesting schedules\n",
    "* Performance metrics\n",
    "    * STI\n",
    "    * LTI\n",
    "    * GAAP vs. non-GAAP adjusted metrics\n",
    "* Peer groups\n",
    "* Say-on-Pay votes\n",
    "* CEO Pay Ratio\n",
    "* Stock Ownership Guidelines / requirements\n",
    "* 10b5-1 prearranged trading plans\n",
    "* Form 4 analysis\n",
    "* Proxy fights\n",
    "* 162(m) considerations (maybe?)"
   ]
  },
  {
   "cell_type": "markdown",
   "metadata": {},
   "source": [
    "## Case Studies\n",
    "\n",
    "* CEO salary and peer groups -- Hormel Foods (HRL)"
   ]
  },
  {
   "cell_type": "markdown",
   "metadata": {},
   "source": [
    "---\n",
    "## Pay Components\n",
    "---"
   ]
  },
  {
   "cell_type": "markdown",
   "metadata": {},
   "source": [
    "### Salary\n",
    "\n",
    "Table stakes for executives (and employees generally). Most often paid on a monthly or bi-monthly basis. \n",
    "\n",
    "CEO typically has the highest salary at a company. \n",
    "\n",
    "Annual raises are rather commonplace, ranging 1% to 10% (say) per year. Sometimes cited as a cost-of-living adjustment, sometimes cited as a market-rate adjustment (i.e. looking at peers and recalibrating), sometimes cited as a performance-based increase. My own completely-unfounded suspicion is, executive raises (and especially CEO raises) are more for Ego Management than any true statistical analysis, because the sample sizes are simply too small and there are too many unknown parameters to have any confidence that a (say) 5% adjustment is necessary or appropriate versus (say) a 7% adjustment YOY.\n",
    "\n",
    "In the past, base salaries would typically max out around $1M because of the 162(m) tax code limitations on deductions. But that changed with the 2017 tax code, and apparently also changed in 2021 with covid relief programs, so I personally need to investigate this more."
   ]
  },
  {
   "cell_type": "markdown",
   "metadata": {},
   "source": [
    "### Cash incentive (performance bonus)\n",
    "\n",
    "Cash performance bonuses are almost always an annual award, designed to encourage (or *incentivize*) particular achievements over the course of the year.\n",
    "\n",
    "Most often targeted as a percentage of salary, *e.g.* a target bonus might be equal to 75% of the executive's salary. Typically has a minimum / target / maximum range of payout opportunities.\n",
    "\n",
    "CEO typically has the highest percentage relative to other NEOs, *e.g.* the CEO's target bonus may be 100% of salary and the other NEOs may be 75% of salary.\n",
    "\n",
    "Payout ranges are most often based on metrics, like financial metrics and ESG or other internal qualitative goals. And these metrics are almost always measured on an annual basis, as opposed to (say) a 3-year measurement period.\n",
    "\n",
    "A typical payout range is something like 50% at minimum / 100% target (by definition) / 200% at maximum. Of course those payout ranges may be different for different companies.\n",
    "\n",
    "The most common or simplest plans are additive in nature, for example:\n",
    "* 25% based on a Revenue metric\n",
    "* 25% based on an Earnings metric\n",
    "* 30% based on qualitative goals like D&I metric\n",
    "* 20% based on leadership goals\n",
    "\n",
    "And each metric above will commonly have its own range of achievements and payouts. For example a Revenue range of \\\\$750m / \\\\$1B / $1.25B corresponds to a payout range of 50% / 100% / 200% of the Revenue metric, which is itself weighted as 25% of the target incentive above.\n",
    "\n",
    "There may also be *funding* metrics, where no payout will occur unless a particular metric is achieved. Or perhaps, the total bonus pool is equal to (say) 1% of the company's total revenue, and proportionately allocated from there."
   ]
  },
  {
   "cell_type": "markdown",
   "metadata": {},
   "source": [
    "### Cash bonus (non-performance)\n",
    "\n",
    "Sometimes executives receive discretionary bonuses. Maybe a signing bonus for joining the company, or a reward for a promotion, or a special discretionary bonus for some out-of-the-ordinary achievement."
   ]
  },
  {
   "cell_type": "markdown",
   "metadata": {},
   "source": [
    "### Equity awards\n",
    "\n",
    "Most often the largest component of an executive's total compensation package.\n",
    "\n",
    "All equity awards will:\n",
    "* Align the interests of executives with broader shareholders\n",
    "* Encourage retention through vesting schedules\n",
    "* Reward the executive for company success through higher stock appreciation\n",
    "\n",
    "The primary vehicles are:\n",
    "* Restricted Stock Units (RSUs)\n",
    "* Stock Options\n",
    "* Performance stock awards (PSUs / PRSUs)\n",
    "\n",
    "RSUs represent full shares of common stock. They are typically granted with a vesting schedule, and this is designed to encourage retention. If the executive leaves before a vesting event, the unvested portion is forfeited. Most common vesting schedule is something like 25% per year.\n",
    "\n",
    "Stock Options are a vehicle designed to encourage stock price appreciation, because stock options only have value if the stock price goes up. They give you the option *but not the obligation* to purchase shares at a predetermined exercise price. Stock options also often have a vesting schedule. Stock options have fallen out of favor with larger companies because of accounting changes, and also it's much harder to grow a large company than a small company percentage-wise.\n",
    "\n",
    "Performance stock awards are designed similar to cash performance bonuses, with payout ranges based on achievement of predetermined metrics. The performance period and measurement period are typically longer, most often 3 years, and the payout is usually in shares a common stock (as opposed to cash). The most common metric is Total Shareholder Return (TSR) and most often measured on a *relative* basis, *i.e.* compared to the TSR performance of other companies in the peer group. Sometimes TSR is measured in absolute terms. I personally do not care for the use of TSR as a metric to incentivize executives over the long term, because it takes the focus away from company execution and places it on stock price.\n",
    "\n",
    "\n",
    "\n",
    "Equity awards are often given to broader employees; as you move 'up' in the company hierarchy, equity awards tend to comprise a greater percentage of total compensation. This is because a Senior VP (say) makes decisions that can affect the stock price, much moreso than decisions made at the middle management or entry level positions."
   ]
  },
  {
   "cell_type": "markdown",
   "metadata": {},
   "source": [
    "### Benefits\n",
    "\n",
    "Usually pretty standard, typically not a large component of executive pay. \n",
    "\n",
    "On rare occasions you may see payments for private security, use of company jet, private club memberships, and other perks. But these are most often for the CEO only, and many companies have moved away from the practice of extravagant benefits."
   ]
  },
  {
   "cell_type": "markdown",
   "metadata": {},
   "source": [
    "### Measures of total pay\n",
    "\n",
    "* #### Total Target Compensation\n",
    "\n",
    "Total Target Compensation (TTC) or Total Direct Compensation (TDC) is most often taken to be the sum of:\n",
    "* Salary\n",
    "* Performance bonus (at target)\n",
    "* Equity awards (at target)\n"
   ]
  },
  {
   "cell_type": "markdown",
   "metadata": {},
   "source": [
    "* #### Total Cash Compensation\n",
    "\n",
    "Total Cash Compensation (TCC) or Total Target Cash (TTC) is most often taken to be the sum of:\n",
    "* Salary\n",
    "* Performance bonus (at target)\n",
    "\n",
    "The idea is, to get a sense for how much liquid cash is being paid to the executive on an annual basis. The executive may or may not sell their shares of vested stock. And the stock price may go up or down, so it's not neceessarily a great indicator for how much the executive is taking home on a regular or annual basis."
   ]
  },
  {
   "cell_type": "markdown",
   "metadata": {},
   "source": [
    "* #### Realizable pay\n",
    "\n",
    "Realizable pay is the amount than an executive *can realize* if they were to achieve certain long-term metrics and sell their vested shares of stock. A lot of assumptions may go into a realizable pay analysis, for example whether stock awards are earned at minimum or target or max.\n",
    "\n",
    "Similarly, **realized pay** is what the executive *actually* realized in previous years. This may include the actual performance of long-term awards that were vested, shares of stock that were sold, stock options exercised, etc."
   ]
  },
  {
   "cell_type": "markdown",
   "metadata": {},
   "source": [
    "* #### Grant Date Fair Value of awards\n",
    "\n",
    "The Grant Date Fair Value usually means the dollar-per-share amount of a given equity award. This usually depends on the company's stock price around the time the award was given. Many companies use a trailing average, *e.g.* a 45-day trailing average as of the grant date."
   ]
  },
  {
   "cell_type": "markdown",
   "metadata": {},
   "source": [
    "---\n",
    "## Board of Directors\n",
    "---"
   ]
  },
  {
   "cell_type": "markdown",
   "metadata": {},
   "source": [
    "### Shareholder governance\n",
    "\n",
    "Shareholders own the company and ultimately decide the purpose / direction / reason for the company's existence, but most publicly-traded companies have many thousands or millions of individual shareholders. For this reason, a **Board of Directors** is elected by the shareholders to represent them, establishing the strategy and purpose of the company. The Board hires (and fires) the executive management team to execute company strategy, and is also responsible for establishing the company's executive pay practices.\n",
    "\n",
    "A Director may be independent, meaning they do not work for the company nor have some other conflict of interest in making Board decisions. Sometimes a Director is not independent, meaning they work for the company (*e.g.* CEO, COO), or they are conflicted in some other way--perhaps they work for the controlling Chairman or something.\n",
    "\n",
    "Most typically these Directors are **not** employees of the company, and thus do not receive (for example) a salary the way a regular employee might."
   ]
  },
  {
   "cell_type": "markdown",
   "metadata": {},
   "source": [
    "### Chairman of the Board / Lead Director\n",
    "\n",
    "The Chairman of the Board provides leadership for the Board, sets the agenda for Board meetings, and has significant influence on the direction of the company. The COB often has (or represents) a large ownership share of the company.\n",
    "\n",
    "Often, the Board of Directors will vote for the CEO to hold a dual position of COB. In this case, the Board will also vote on a **Lead Director** to fulfill the duties that an otherwise independent COB would normally fulfill."
   ]
  },
  {
   "cell_type": "markdown",
   "metadata": {},
   "source": [
    "### Committees\n",
    "\n",
    "Most Boards are broken down into smaller working groups called committees which focus on particular aspects of company governance. A Director may sit on one or none or multiple committees. The 'big three' committees are:\n",
    "* Audit committee\n",
    "* Compensation committee\n",
    "* Governance / Nominating committee\n",
    "\n",
    "Other temporary or permanent committees may be formed by a Board to address other issues. For example:\n",
    "* Executive Committee to discuss executive performance, where no employee-directors are allowed\n",
    "* M&A committee to discuss potential M&A activity\n",
    "* Environmental committee to discus ESG topics\n",
    "* Special committees for restating financials and other *ad hoc* issues\n",
    "\n",
    "Committees may or may not meet more often than the Board itself."
   ]
  },
  {
   "cell_type": "markdown",
   "metadata": {},
   "source": [
    "### Retainers\n",
    "\n",
    "Directors are typically not employees of the company, therefore they do not receive a salary. Instead they may receive a cash retainer for their services to the Board, and cash retainers are typically *much* lower than executive salaries, often in the tens of thousands of dollars.\n",
    "\n",
    "The COB or Lead Director typically (but not always) has a higher retainer than other Board members.\n",
    "\n",
    "There are sometimes (but not always) additional retainers for serving on committees. The Audit committee typically (but not always) has the highest amount amongst committee retainers. Committee chairs typically (but not always) receive an even higher retainer than other committee members."
   ]
  },
  {
   "cell_type": "markdown",
   "metadata": {},
   "source": [
    "### Meeting fees\n",
    "\n",
    "Some Boards establish meeting fees, *e.g.* a Director might receive an additional several hundred or several thousand dollars for every Board meeting they attend. There might also be committee meeting fees, receiving an additional amount for every committee meeting attended."
   ]
  },
  {
   "cell_type": "markdown",
   "metadata": {},
   "source": [
    "### Stock awards\n",
    "\n",
    "A Board of Directors will often grant stock awards to Directors, almost always RSUs or Stock Options that have no performance component. The vesting schedule is most typically 1 year.\n",
    "\n",
    "There's most often no performance component because Directors are not employees of the company, and therefore do not have the ability to *perform* in service of the company to achieve metric goals."
   ]
  },
  {
   "cell_type": "markdown",
   "metadata": {},
   "source": [
    "### Deferred compensation\n",
    "\n",
    "It's a common practice for Directors to defer compensation for [tax purposes?]"
   ]
  },
  {
   "cell_type": "markdown",
   "metadata": {},
   "source": [
    "---\n",
    "## Other Topics\n",
    "---"
   ]
  },
  {
   "cell_type": "markdown",
   "metadata": {},
   "source": [
    "### Compensation Philosophy\n",
    "\n",
    "Compensation means to pay someone. The different ways in which compensation can be structured may serve to incentivize certain desired outcomes. There may also be unintended consequences of bad compensation design--for example, J.P. Morgan employees stealing from customers by opening additional unnecessary accounts to collect additional commissions."
   ]
  },
  {
   "cell_type": "markdown",
   "metadata": {},
   "source": [
    "### DEF 14A Proxy statements\n",
    "\n",
    "A proxy statement is sent to company shareholders when there is a matter that requires a shareholder vote. Back in the day, this document was accompanied by a proxy card which allowed shareholders to *vote by proxy*, that is, to mail in their ballots.\n",
    "\n",
    "Definitive Proxy Statements are filed with the Securities and Exchange commission and may be accessed using the SEC EDGAR search tool.\n",
    "\n",
    "All publicly traded companies issue at least one proxy annually to vote on nominees for the Board of Directors, and ratifying the firm which audited the company's financial statements. Other proposals requiring vote may include:\n",
    "* Say-on-Pay vote\n",
    "* Authorization of new shares added to available stock programs (equity compensation, ESPP, etc)\n",
    "* Merger and/or acquisition activity\n",
    "\n",
    "The proxy statement also includes required sections outlining:\n",
    "* Nominees for the Board of Directors\n",
    "* Director Compensation\n",
    "* Executive compensation in the Compensation Discussion and Analysis (CD&A) section\n",
    "* Executive compensation tables (SCT, GPBA, OESV, etc)\n",
    "* Post-termination (severance, CIC) pay\n"
   ]
  },
  {
   "cell_type": "markdown",
   "metadata": {},
   "source": [
    "### 10-K Annual reports\n",
    "\n",
    "Annual reports include financial results of the company over the previous 12 months. They also give an overview of the purpose, strategy, and direction of the company. An annual report is intended to give a prospective new investor all the relevant information they might need to make an informed decision whether or not to invest with the company."
   ]
  },
  {
   "cell_type": "markdown",
   "metadata": {},
   "source": [
    "### Severance and Change-In-Control (CIC)\n"
   ]
  },
  {
   "cell_type": "markdown",
   "metadata": {},
   "source": [
    "### Employment contracts / agreements\n"
   ]
  },
  {
   "cell_type": "markdown",
   "metadata": {},
   "source": [
    "### Payout curves\n"
   ]
  },
  {
   "cell_type": "markdown",
   "metadata": {},
   "source": [
    "### Vesting schedules\n"
   ]
  },
  {
   "cell_type": "markdown",
   "metadata": {},
   "source": [
    "### Performance metrics\n",
    "* STI\n",
    "* LTI\n",
    "* GAAP vs. non-GAAP adjusted metrics\n"
   ]
  },
  {
   "cell_type": "markdown",
   "metadata": {},
   "source": [
    "### Peer groups\n",
    "\n",
    "In general there are *compensation* peer groups and *performance* peer groups, which may or may not overlap. Compensation peer groups tend to be comprised of 10 to 20 companies that are similar in industry, size, growth, geography, etc. "
   ]
  },
  {
   "cell_type": "markdown",
   "metadata": {},
   "source": [
    "### Say-on-Pay votes\n"
   ]
  },
  {
   "cell_type": "markdown",
   "metadata": {},
   "source": [
    "### CEO Pay Ratio\n"
   ]
  },
  {
   "cell_type": "markdown",
   "metadata": {},
   "source": [
    "### Stock Ownership Guidelines / requirements\n"
   ]
  },
  {
   "cell_type": "markdown",
   "metadata": {},
   "source": [
    "### 10b5-1 prearranged trading plans\n"
   ]
  },
  {
   "cell_type": "markdown",
   "metadata": {},
   "source": [
    "### Form 4 analysis"
   ]
  },
  {
   "cell_type": "markdown",
   "metadata": {},
   "source": [
    "### Proxy fights"
   ]
  },
  {
   "cell_type": "markdown",
   "metadata": {},
   "source": [
    "### 162(m) considerations (maybe?)"
   ]
  },
  {
   "cell_type": "code",
   "execution_count": null,
   "metadata": {},
   "outputs": [],
   "source": []
  }
 ],
 "metadata": {
  "kernelspec": {
   "display_name": "Python 3",
   "language": "python",
   "name": "python3"
  },
  "language_info": {
   "codemirror_mode": {
    "name": "ipython",
    "version": 3
   },
   "file_extension": ".py",
   "mimetype": "text/x-python",
   "name": "python",
   "nbconvert_exporter": "python",
   "pygments_lexer": "ipython3",
   "version": "3.8.5"
  }
 },
 "nbformat": 4,
 "nbformat_minor": 4
}
