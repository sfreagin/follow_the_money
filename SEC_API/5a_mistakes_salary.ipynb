{
 "cells": [
  {
   "cell_type": "markdown",
   "metadata": {},
   "source": [
    "### Full DataFrame, Salary Errors"
   ]
  },
  {
   "cell_type": "code",
   "execution_count": 1,
   "metadata": {},
   "outputs": [],
   "source": [
    "#from collections import defaultdict\n",
    "#from pathlib import Path\n",
    "import json\n",
    "\n",
    "import os \n",
    "import time \n",
    "\n",
    "import pandas as pd\n",
    "import numpy as np\n",
    "\n",
    "import matplotlib.pyplot as plt\n",
    "import seaborn as sns"
   ]
  },
  {
   "cell_type": "code",
   "execution_count": 2,
   "metadata": {},
   "outputs": [],
   "source": [
    "russell_df = pd.read_csv('russell_3000_index.csv')\n",
    "\n",
    "ticker_list = russell_df['Ticker']"
   ]
  },
  {
   "cell_type": "code",
   "execution_count": 3,
   "metadata": {},
   "outputs": [],
   "source": [
    "#seeding the DataFrame\n",
    "#reading the data from a file\n",
    "with open('SCT_datasets/A_SCTpay_20220906.txt') as f:\n",
    "    a_txt = f.read()\n",
    "    \n",
    "#converting the text string into a dictionary\n",
    "a_dict = json.loads(a_txt)\n",
    "\n",
    "starter_df = pd.DataFrame(a_dict)"
   ]
  },
  {
   "cell_type": "code",
   "execution_count": 4,
   "metadata": {},
   "outputs": [],
   "source": [
    "starter_df = pd.DataFrame(starter_df.iloc[0]).T"
   ]
  },
  {
   "cell_type": "code",
   "execution_count": 5,
   "metadata": {},
   "outputs": [
    {
     "name": "stdout",
     "output_type": "stream",
     "text": [
      "Ticker XTSLA threw an error\n",
      "Ticker USD threw an error\n",
      "Ticker MANH threw an error\n",
      "Ticker MPW threw an error\n",
      "Ticker AFG threw an error\n",
      "Ticker GLOB threw an error\n",
      "Ticker RRC threw an error\n",
      "Ticker UGI threw an error\n",
      "Ticker MSFUT threw an error\n",
      "Ticker ESU2 threw an error\n",
      "Ticker RTYU2 threw an error\n",
      "This code took 212.71596598625183 seconds\n"
     ]
    }
   ],
   "source": [
    "start_time = time.time()\n",
    "\n",
    "for ticker in ticker_list:\n",
    "    try:\n",
    "        with open(f'SCT_datasets/{ticker}_SCTpay_20220906.txt') as f:\n",
    "            ticker_txt = f.read()\n",
    "        ticker_dict = json.loads(ticker_txt)    \n",
    "        #ticker_df = pd.DataFrame(ticker_dict)\n",
    "        starter_df = pd.concat([starter_df,pd.DataFrame(ticker_dict)])\n",
    "    except:\n",
    "        print(f'Ticker {ticker} threw an error')\n",
    "    \n",
    "        \n",
    "        \n",
    "print(f\"This code took {time.time() - start_time} seconds\")"
   ]
  },
  {
   "cell_type": "code",
   "execution_count": 8,
   "metadata": {},
   "outputs": [
    {
     "data": {
      "text/html": [
       "<div>\n",
       "<style scoped>\n",
       "    .dataframe tbody tr th:only-of-type {\n",
       "        vertical-align: middle;\n",
       "    }\n",
       "\n",
       "    .dataframe tbody tr th {\n",
       "        vertical-align: top;\n",
       "    }\n",
       "\n",
       "    .dataframe thead th {\n",
       "        text-align: right;\n",
       "    }\n",
       "</style>\n",
       "<table border=\"1\" class=\"dataframe\">\n",
       "  <thead>\n",
       "    <tr style=\"text-align: right;\">\n",
       "      <th></th>\n",
       "      <th>id</th>\n",
       "      <th>cik</th>\n",
       "      <th>ticker</th>\n",
       "      <th>name</th>\n",
       "      <th>position</th>\n",
       "      <th>year</th>\n",
       "      <th>salary</th>\n",
       "      <th>bonus</th>\n",
       "      <th>stockAwards</th>\n",
       "      <th>optionAwards</th>\n",
       "      <th>nonEquityIncentiveCompensation</th>\n",
       "      <th>otherCompensation</th>\n",
       "      <th>total</th>\n",
       "      <th>changeInPensionValueAndDeferredEarnings</th>\n",
       "    </tr>\n",
       "  </thead>\n",
       "  <tbody>\n",
       "    <tr>\n",
       "      <th>0</th>\n",
       "      <td>73b3a60ba203743c008330c96b7d8b66</td>\n",
       "      <td>1090872</td>\n",
       "      <td>A</td>\n",
       "      <td>Sam Raha</td>\n",
       "      <td>Senior Vice President, President Diagnostics a...</td>\n",
       "      <td>2021</td>\n",
       "      <td>563500</td>\n",
       "      <td>0</td>\n",
       "      <td>1541332</td>\n",
       "      <td>0</td>\n",
       "      <td>738536</td>\n",
       "      <td>33534</td>\n",
       "      <td>3262887</td>\n",
       "      <td>NaN</td>\n",
       "    </tr>\n",
       "    <tr>\n",
       "      <th>1</th>\n",
       "      <td>21bce6f864ee3d67e61232da5e371dcc</td>\n",
       "      <td>320193</td>\n",
       "      <td>AAPL</td>\n",
       "      <td>Jeff Williams</td>\n",
       "      <td>Chief Operating Officer</td>\n",
       "      <td>2021</td>\n",
       "      <td>1000000</td>\n",
       "      <td>0</td>\n",
       "      <td>21959620</td>\n",
       "      <td>0</td>\n",
       "      <td>4000000</td>\n",
       "      <td>17437</td>\n",
       "      <td>26977057</td>\n",
       "      <td>NaN</td>\n",
       "    </tr>\n",
       "    <tr>\n",
       "      <th>2</th>\n",
       "      <td>39c3be85559f978fceb001ed65f805a9</td>\n",
       "      <td>320193</td>\n",
       "      <td>AAPL</td>\n",
       "      <td>Tim Cook</td>\n",
       "      <td>Chief Executive Officer</td>\n",
       "      <td>2021</td>\n",
       "      <td>3000000</td>\n",
       "      <td>0</td>\n",
       "      <td>82347835</td>\n",
       "      <td>0</td>\n",
       "      <td>12000000</td>\n",
       "      <td>1386559</td>\n",
       "      <td>98734394</td>\n",
       "      <td>NaN</td>\n",
       "    </tr>\n",
       "    <tr>\n",
       "      <th>3</th>\n",
       "      <td>5672125e1128cae081168ab797e4184f</td>\n",
       "      <td>320193</td>\n",
       "      <td>AAPL</td>\n",
       "      <td>Kate Adams</td>\n",
       "      <td>Senior Vice President, General Counsel and Sec...</td>\n",
       "      <td>2021</td>\n",
       "      <td>1000000</td>\n",
       "      <td>0</td>\n",
       "      <td>21959620</td>\n",
       "      <td>0</td>\n",
       "      <td>4000000</td>\n",
       "      <td>14533</td>\n",
       "      <td>26974153</td>\n",
       "      <td>NaN</td>\n",
       "    </tr>\n",
       "    <tr>\n",
       "      <th>4</th>\n",
       "      <td>c34027ebeff9e609633c259618269ca3</td>\n",
       "      <td>320193</td>\n",
       "      <td>AAPL</td>\n",
       "      <td>Luca Maestri</td>\n",
       "      <td>Senior Vice President, Chief Financial Officer</td>\n",
       "      <td>2021</td>\n",
       "      <td>1000000</td>\n",
       "      <td>0</td>\n",
       "      <td>21959620</td>\n",
       "      <td>0</td>\n",
       "      <td>4000000</td>\n",
       "      <td>18883</td>\n",
       "      <td>26978503</td>\n",
       "      <td>NaN</td>\n",
       "    </tr>\n",
       "  </tbody>\n",
       "</table>\n",
       "</div>"
      ],
      "text/plain": [
       "                                 id      cik ticker           name  \\\n",
       "0  73b3a60ba203743c008330c96b7d8b66  1090872      A       Sam Raha   \n",
       "1  21bce6f864ee3d67e61232da5e371dcc   320193   AAPL  Jeff Williams   \n",
       "2  39c3be85559f978fceb001ed65f805a9   320193   AAPL       Tim Cook   \n",
       "3  5672125e1128cae081168ab797e4184f   320193   AAPL     Kate Adams   \n",
       "4  c34027ebeff9e609633c259618269ca3   320193   AAPL   Luca Maestri   \n",
       "\n",
       "                                            position  year   salary bonus  \\\n",
       "0  Senior Vice President, President Diagnostics a...  2021   563500     0   \n",
       "1                            Chief Operating Officer  2021  1000000     0   \n",
       "2                            Chief Executive Officer  2021  3000000     0   \n",
       "3  Senior Vice President, General Counsel and Sec...  2021  1000000     0   \n",
       "4     Senior Vice President, Chief Financial Officer  2021  1000000     0   \n",
       "\n",
       "  stockAwards optionAwards nonEquityIncentiveCompensation otherCompensation  \\\n",
       "0     1541332            0                         738536             33534   \n",
       "1    21959620            0                        4000000             17437   \n",
       "2    82347835            0                       12000000           1386559   \n",
       "3    21959620            0                        4000000             14533   \n",
       "4    21959620            0                        4000000             18883   \n",
       "\n",
       "      total  changeInPensionValueAndDeferredEarnings  \n",
       "0   3262887                                      NaN  \n",
       "1  26977057                                      NaN  \n",
       "2  98734394                                      NaN  \n",
       "3  26974153                                      NaN  \n",
       "4  26978503                                      NaN  "
      ]
     },
     "execution_count": 8,
     "metadata": {},
     "output_type": "execute_result"
    }
   ],
   "source": [
    "starter_df.reset_index(inplace=True,drop=True)\n",
    "starter_df.head()"
   ]
  },
  {
   "cell_type": "code",
   "execution_count": null,
   "metadata": {},
   "outputs": [],
   "source": []
  },
  {
   "cell_type": "code",
   "execution_count": null,
   "metadata": {},
   "outputs": [],
   "source": []
  },
  {
   "cell_type": "code",
   "execution_count": null,
   "metadata": {},
   "outputs": [],
   "source": []
  },
  {
   "cell_type": "code",
   "execution_count": null,
   "metadata": {},
   "outputs": [],
   "source": []
  },
  {
   "cell_type": "markdown",
   "metadata": {},
   "source": [
    "### Visualizations to Find Errors"
   ]
  },
  {
   "cell_type": "code",
   "execution_count": 395,
   "metadata": {},
   "outputs": [
    {
     "data": {
      "image/png": "[encoded data removed]",
      "text/plain": [
       "<Figure size 864x216 with 1 Axes>"
      ]
     },
     "metadata": {
      "needs_background": "light"
     },
     "output_type": "display_data"
    }
   ],
   "source": [
    "plt.figure(figsize=(12,3))\n",
    "sns.histplot(data=starter_df[starter_df['salary']>1], x='salary');"
   ]
  },
  {
   "cell_type": "code",
   "execution_count": 396,
   "metadata": {},
   "outputs": [
    {
     "data": {
      "image/png": "[encoded data removed]",
      "text/plain": [
       "<Figure size 864x216 with 1 Axes>"
      ]
     },
     "metadata": {
      "needs_background": "light"
     },
     "output_type": "display_data"
    }
   ],
   "source": [
    "plt.figure(figsize=(12,3))\n",
    "sns.rugplot(x=starter_df['salary']);"
   ]
  },
  {
   "cell_type": "code",
   "execution_count": 397,
   "metadata": {},
   "outputs": [
    {
     "data": {
      "image/png": "[encoded data removed]",
      "text/plain": [
       "<Figure size 864x216 with 1 Axes>"
      ]
     },
     "metadata": {
      "needs_background": "light"
     },
     "output_type": "display_data"
    }
   ],
   "source": [
    "plt.figure(figsize=(12,3))\n",
    "sns.boxplot(x=starter_df['salary']);"
   ]
  },
  {
   "cell_type": "code",
   "execution_count": null,
   "metadata": {},
   "outputs": [],
   "source": []
  },
  {
   "cell_type": "code",
   "execution_count": null,
   "metadata": {},
   "outputs": [],
   "source": []
  },
  {
   "cell_type": "code",
   "execution_count": 50,
   "metadata": {},
   "outputs": [
    {
     "data": {
      "text/plain": [
       "salary    31254\n",
       "dtype: int64"
      ]
     },
     "execution_count": 50,
     "metadata": {},
     "output_type": "execute_result"
    }
   ],
   "source": [
    "starter_df[['salary']].astype('float').idxmax()"
   ]
  },
  {
   "cell_type": "code",
   "execution_count": 424,
   "metadata": {},
   "outputs": [
    {
     "data": {
      "text/html": [
       "<div>\n",
       "<style scoped>\n",
       "    .dataframe tbody tr th:only-of-type {\n",
       "        vertical-align: middle;\n",
       "    }\n",
       "\n",
       "    .dataframe tbody tr th {\n",
       "        vertical-align: top;\n",
       "    }\n",
       "\n",
       "    .dataframe thead th {\n",
       "        text-align: right;\n",
       "    }\n",
       "</style>\n",
       "<table border=\"1\" class=\"dataframe\">\n",
       "  <thead>\n",
       "    <tr style=\"text-align: right;\">\n",
       "      <th></th>\n",
       "      <th>id</th>\n",
       "      <th>cik</th>\n",
       "      <th>ticker</th>\n",
       "      <th>name</th>\n",
       "      <th>position</th>\n",
       "      <th>year</th>\n",
       "      <th>salary</th>\n",
       "      <th>bonus</th>\n",
       "      <th>stockAwards</th>\n",
       "      <th>optionAwards</th>\n",
       "      <th>nonEquityIncentiveCompensation</th>\n",
       "      <th>otherCompensation</th>\n",
       "      <th>total</th>\n",
       "      <th>changeInPensionValueAndDeferredEarnings</th>\n",
       "    </tr>\n",
       "  </thead>\n",
       "  <tbody>\n",
       "    <tr>\n",
       "      <th>51630</th>\n",
       "      <td>bbdd4cf6fa44aa29cc4fa43ed6c5fada</td>\n",
       "      <td>59558</td>\n",
       "      <td>LNC</td>\n",
       "      <td>Dennis R. Glass</td>\n",
       "      <td>President and CEO of LNC</td>\n",
       "      <td>2007</td>\n",
       "      <td>9292315</td>\n",
       "      <td>0</td>\n",
       "      <td>2161080</td>\n",
       "      <td>3845660</td>\n",
       "      <td>2352781</td>\n",
       "      <td>4475008</td>\n",
       "      <td>18000852</td>\n",
       "      <td>4237092.0</td>\n",
       "    </tr>\n",
       "  </tbody>\n",
       "</table>\n",
       "</div>"
      ],
      "text/plain": [
       "                                     id    cik ticker             name  \\\n",
       "51630  bbdd4cf6fa44aa29cc4fa43ed6c5fada  59558    LNC  Dennis R. Glass   \n",
       "\n",
       "                       position  year   salary bonus stockAwards optionAwards  \\\n",
       "51630  President and CEO of LNC  2007  9292315     0     2161080      3845660   \n",
       "\n",
       "      nonEquityIncentiveCompensation otherCompensation     total  \\\n",
       "51630                        2352781           4475008  18000852   \n",
       "\n",
       "       changeInPensionValueAndDeferredEarnings  \n",
       "51630                                4237092.0  "
      ]
     },
     "execution_count": 424,
     "metadata": {},
     "output_type": "execute_result"
    }
   ],
   "source": [
    "#find the index of the highest salary\n",
    "highest_salary_index = starter_df[['salary']].astype('float').idxmax()\n",
    "\n",
    "#only run this the first time\n",
    "#mistakes_df = starter_df.iloc[highest_salary_index].copy()\n",
    "\n",
    "#look at this highest salary, which is clearly incorrect\n",
    "starter_df.iloc[highest_salary_index]\n"
   ]
  },
  {
   "cell_type": "code",
   "execution_count": 422,
   "metadata": {},
   "outputs": [],
   "source": [
    "mistakes_df = pd.concat([mistakes_df,starter_df.iloc[highest_salary_index]])"
   ]
  },
  {
   "cell_type": "code",
   "execution_count": 423,
   "metadata": {},
   "outputs": [],
   "source": [
    "#dropping the highest salary row\n",
    "starter_df.drop(labels=[highest_salary_index[0]],axis=0,inplace=True)\n",
    "starter_df.reset_index(inplace=True, drop=True)"
   ]
  },
  {
   "cell_type": "code",
   "execution_count": 432,
   "metadata": {},
   "outputs": [],
   "source": [
    "mistakes_df.to_csv('mistakes.csv')#,index = False)"
   ]
  },
  {
   "cell_type": "code",
   "execution_count": 430,
   "metadata": {},
   "outputs": [
    {
     "data": {
      "text/plain": [
       "FBMS    60\n",
       "MAA     29\n",
       "CSR      8\n",
       "JEF      8\n",
       "VBIV     2\n",
       "PDFS     2\n",
       "PEBO     2\n",
       "SWTX     1\n",
       "XRX      1\n",
       "AIG      1\n",
       "REI      1\n",
       "CMPR     1\n",
       "Name: ticker, dtype: int64"
      ]
     },
     "execution_count": 430,
     "metadata": {},
     "output_type": "execute_result"
    }
   ],
   "source": [
    "mistakes_df['ticker'].value_counts()"
   ]
  },
  {
   "cell_type": "code",
   "execution_count": null,
   "metadata": {},
   "outputs": [],
   "source": []
  }
 ],
 "metadata": {
  "kernelspec": {
   "display_name": "Python 3",
   "language": "python",
   "name": "python3"
  },
  "language_info": {
   "codemirror_mode": {
    "name": "ipython",
    "version": 3
   },
   "file_extension": ".py",
   "mimetype": "text/x-python",
   "name": "python",
   "nbconvert_exporter": "python",
   "pygments_lexer": "ipython3",
   "version": "3.8.5"
  }
 },
 "nbformat": 4,
 "nbformat_minor": 4
}
