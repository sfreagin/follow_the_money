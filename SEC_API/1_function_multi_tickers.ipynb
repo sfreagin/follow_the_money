{
 "cells": [
  {
   "cell_type": "markdown",
   "id": "b8e85b4d-744e-4307-9a6a-12fa87b4fb5d",
   "metadata": {},
   "source": [
    "### Creating a loop to iterate through multiple tickers and writing a function for pulling data and generating CSV files\n",
    "#### (note to self: look into generating JSON files for better performance at scale)\n",
    "\n",
    "This is all based on Summary Compensation Table (SCT) pay data, and currently does NOT include:\n",
    "* Grants of Plan Based Awards\n",
    "* Options Exercised and Stock Vested\n",
    "* Outstanding Equity Awards"
   ]
  },
  {
   "cell_type": "code",
   "execution_count": 1,
   "id": "dd1feb77-6e20-452f-bc66-696fb32848a4",
   "metadata": {},
   "outputs": [],
   "source": [
    "from sec_api import ExecCompApi"
   ]
  },
  {
   "cell_type": "code",
   "execution_count": 2,
   "id": "547824e4-632c-4c80-a669-44482a63c3b4",
   "metadata": {},
   "outputs": [],
   "source": [
    "import pandas as pd\n",
    "import numpy as np\n",
    "\n",
    "import matplotlib.pyplot as plt\n",
    "import seaborn as sns"
   ]
  },
  {
   "cell_type": "code",
   "execution_count": 3,
   "id": "6c8c502f-d596-4bf4-a14b-26d6e0653afe",
   "metadata": {},
   "outputs": [],
   "source": [
    "api_key = '324614ace318064f2aa8dcd8ca0f8c5e79647f3dd5b45be7afcadca465924e6a'"
   ]
  },
  {
   "cell_type": "code",
   "execution_count": 5,
   "id": "cc1d80f9-fcf7-4489-a53a-42dac760ccee",
   "metadata": {},
   "outputs": [],
   "source": [
    "def SCTpay_csv_generator(api_key,ticker):\n",
    "    #instantiate the API\n",
    "    execCompApi = ExecCompApi(api_key)\n",
    "    \n",
    "    #pull data for the ticker\n",
    "    result_ticker = execCompApi.get_data(ticker)\n",
    "    \n",
    "    #turn query results into DataFrame\n",
    "    SCTpay_df = pd.DataFrame(result_ticker)\n",
    "    #SCTpay_df['ticker'] = ticker\n",
    "    \n",
    "    #output DataFrame to a CSV file\n",
    "    SCTpay_df.to_csv(f'SCT_datasets/{ticker}_SCTpay.csv',index=False)"
   ]
  },
  {
   "cell_type": "code",
   "execution_count": 6,
   "id": "ae7be3d6-c917-41fe-a869-fb236b688f21",
   "metadata": {},
   "outputs": [],
   "source": [
    "#testing this on a list of tickers\n",
    "ticker_list = ['INTC','KMI','GOOGL','KDP','SWKS','JNJ','F','VMW']"
   ]
  },
  {
   "cell_type": "code",
   "execution_count": 7,
   "id": "f7f40840-18fb-41d0-8ba6-74ba59ad14aa",
   "metadata": {},
   "outputs": [],
   "source": [
    "for tick in ticker_list:\n",
    "    try:\n",
    "        SCTpay_csv_generator(api_key, tick)\n",
    "    except:\n",
    "        print(f\"Ticker {ticker} throws an error\")"
   ]
  },
  {
   "cell_type": "code",
   "execution_count": null,
   "id": "2281b710-b32f-4767-a083-87ee901f3fde",
   "metadata": {},
   "outputs": [],
   "source": []
  }
 ],
 "metadata": {
  "kernelspec": {
   "display_name": "Python 3 (ipykernel)",
   "language": "python",
   "name": "python3"
  },
  "language_info": {
   "codemirror_mode": {
    "name": "ipython",
    "version": 3
   },
   "file_extension": ".py",
   "mimetype": "text/x-python",
   "name": "python",
   "nbconvert_exporter": "python",
   "pygments_lexer": "ipython3",
   "version": "3.10.5"
  }
 },
 "nbformat": 4,
 "nbformat_minor": 5
}
