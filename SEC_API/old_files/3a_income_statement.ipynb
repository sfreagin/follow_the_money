{
 "cells": [
  {
   "cell_type": "code",
   "execution_count": 1,
   "id": "82bcb314-857a-478c-9fcf-2bc34911956e",
   "metadata": {},
   "outputs": [],
   "source": [
    "import json\n",
    "\n",
    "import pandas as pd\n",
    "import numpy as np\n",
    "\n",
    "import matplotlib.pyplot as plt\n",
    "import seaborn as sns"
   ]
  },
  {
   "cell_type": "code",
   "execution_count": 2,
   "id": "41f92086-f276-41d5-8b34-5a8b31c1c719",
   "metadata": {},
   "outputs": [],
   "source": [
    "#reading the data from a file\n",
    "with open('AAPL_10K_2021.txt') as f:\n",
    "    aapl_txt = f.read()\n",
    "    \n",
    "#converting the text string into a dictionary\n",
    "aapl_dict = json.loads(aapl_txt)"
   ]
  },
  {
   "cell_type": "markdown",
   "id": "74cd6649-6aa4-4ddd-9410-a49e9a471150",
   "metadata": {},
   "source": [
    "### Extracting values from the Income Statement"
   ]
  },
  {
   "cell_type": "code",
   "execution_count": 3,
   "id": "6ccf40fb-90f3-43bd-91de-413a1ab360e2",
   "metadata": {},
   "outputs": [
    {
     "data": {
      "text/plain": [
       "dict_keys(['RevenueFromContractWithCustomerExcludingAssessedTax', 'CostOfGoodsAndServicesSold', 'GrossProfit', 'ResearchAndDevelopmentExpense', 'SellingGeneralAndAdministrativeExpense', 'OperatingExpenses', 'OperatingIncomeLoss', 'NonoperatingIncomeExpense', 'IncomeLossFromContinuingOperationsBeforeIncomeTaxesExtraordinaryItemsNoncontrollingInterest', 'IncomeTaxExpenseBenefit', 'NetIncomeLoss', 'EarningsPerShareBasic', 'EarningsPerShareDiluted', 'WeightedAverageNumberOfSharesOutstandingBasic', 'WeightedAverageNumberOfDilutedSharesOutstanding'])"
      ]
     },
     "execution_count": 3,
     "metadata": {},
     "output_type": "execute_result"
    }
   ],
   "source": [
    "aapl_dict['StatementsOfIncome'].keys()"
   ]
  },
  {
   "cell_type": "markdown",
   "id": "b38054aa-8846-4b23-8b7b-85ccfd4874ce",
   "metadata": {},
   "source": [
    "Note the the *Statement of Income* is published in triplicate, one for each of the last three years. \n",
    "\n",
    "For AAPL, the Revenue seems to be broken down by product rather than a sum total. But notice that the third dictionary in the list does NOT include a \"segment\" key, and it gives the full total Revenue under \"value\" so I have to systematically extract this somehow."
   ]
  },
  {
   "cell_type": "markdown",
   "id": "4cdeccb6-b7ce-4c25-a2e5-06436fa18e03",
   "metadata": {},
   "source": [
    "#### Revenue"
   ]
  },
  {
   "cell_type": "code",
   "execution_count": 4,
   "id": "e093034d-15e7-42c7-81f4-4cf143fdab76",
   "metadata": {},
   "outputs": [
    {
     "name": "stdout",
     "output_type": "stream",
     "text": [
      "{'decimals': '-6', 'unitRef': 'usd', 'period': {'startDate': '2020-09-27', 'endDate': '2021-09-25'}, 'segment': {'dimension': 'srt:ProductOrServiceAxis', 'value': 'us-gaap:ProductMember'}, 'value': '297392000000'}\n",
      "{'decimals': '-6', 'unitRef': 'usd', 'period': {'startDate': '2020-09-27', 'endDate': '2021-09-25'}, 'segment': {'dimension': 'srt:ProductOrServiceAxis', 'value': 'us-gaap:ServiceMember'}, 'value': '68425000000'}\n",
      "{'decimals': '-6', 'unitRef': 'usd', 'period': {'startDate': '2020-09-27', 'endDate': '2021-09-25'}, 'value': '365817000000'}\n",
      "{'decimals': '-6', 'unitRef': 'usd', 'period': {'startDate': '2020-09-27', 'endDate': '2021-09-25'}, 'segment': {'dimension': 'srt:ProductOrServiceAxis', 'value': 'aapl:IPhoneMember'}, 'value': '191973000000'}\n",
      "{'decimals': '-6', 'unitRef': 'usd', 'period': {'startDate': '2020-09-27', 'endDate': '2021-09-25'}, 'segment': {'dimension': 'srt:ProductOrServiceAxis', 'value': 'aapl:MacMember'}, 'value': '35190000000'}\n",
      "{'decimals': '-6', 'unitRef': 'usd', 'period': {'startDate': '2020-09-27', 'endDate': '2021-09-25'}, 'segment': {'dimension': 'srt:ProductOrServiceAxis', 'value': 'aapl:IPadMember'}, 'value': '31862000000'}\n",
      "{'decimals': '-6', 'unitRef': 'usd', 'period': {'startDate': '2020-09-27', 'endDate': '2021-09-25'}, 'segment': {'dimension': 'srt:ProductOrServiceAxis', 'value': 'aapl:WearablesHomeandAccessoriesMember'}, 'value': '38367000000'}\n",
      "{'decimals': '-6', 'unitRef': 'usd', 'period': {'startDate': '2020-09-27', 'endDate': '2021-09-25'}, 'segment': {'dimension': 'us-gaap:StatementBusinessSegmentsAxis', 'value': 'aapl:AmericasSegmentMember'}, 'value': '153306000000'}\n",
      "{'decimals': '-6', 'unitRef': 'usd', 'period': {'startDate': '2020-09-27', 'endDate': '2021-09-25'}, 'segment': {'dimension': 'us-gaap:StatementBusinessSegmentsAxis', 'value': 'aapl:EuropeSegmentMember'}, 'value': '89307000000'}\n",
      "{'decimals': '-6', 'unitRef': 'usd', 'period': {'startDate': '2020-09-27', 'endDate': '2021-09-25'}, 'segment': {'dimension': 'us-gaap:StatementBusinessSegmentsAxis', 'value': 'aapl:GreaterChinaSegmentMember'}, 'value': '68366000000'}\n",
      "{'decimals': '-6', 'unitRef': 'usd', 'period': {'startDate': '2020-09-27', 'endDate': '2021-09-25'}, 'segment': {'dimension': 'us-gaap:StatementBusinessSegmentsAxis', 'value': 'aapl:JapanSegmentMember'}, 'value': '28482000000'}\n",
      "{'decimals': '-6', 'unitRef': 'usd', 'period': {'startDate': '2020-09-27', 'endDate': '2021-09-25'}, 'segment': {'dimension': 'us-gaap:StatementBusinessSegmentsAxis', 'value': 'aapl:RestOfAsiaPacificSegmentMember'}, 'value': '26356000000'}\n",
      "{'decimals': '-6', 'unitRef': 'usd', 'period': {'startDate': '2020-09-27', 'endDate': '2021-09-25'}, 'segment': {'dimension': 'srt:StatementGeographicalAxis', 'value': 'country:US'}, 'value': '133803000000'}\n",
      "{'decimals': '-6', 'unitRef': 'usd', 'period': {'startDate': '2020-09-27', 'endDate': '2021-09-25'}, 'segment': {'dimension': 'srt:StatementGeographicalAxis', 'value': 'country:CN'}, 'value': '68366000000'}\n",
      "{'decimals': '-6', 'unitRef': 'usd', 'period': {'startDate': '2020-09-27', 'endDate': '2021-09-25'}, 'segment': {'dimension': 'srt:StatementGeographicalAxis', 'value': 'aapl:OtherCountriesMember'}, 'value': '163648000000'}\n",
      "\n",
      "Final Revenue value is: 365817000000\n"
     ]
    }
   ],
   "source": [
    "#aapl_dict['StatementsOfIncome']['RevenueFromContractWithCustomerExcludingAssessedTax'][0]\n",
    "\n",
    "rev_sum = 0\n",
    "for i in range(len(aapl_dict['StatementsOfIncome']['RevenueFromContractWithCustomerExcludingAssessedTax'])):\n",
    "    if i % 3 == 0:\n",
    "        print(aapl_dict['StatementsOfIncome']['RevenueFromContractWithCustomerExcludingAssessedTax'][i])\n",
    "\n",
    "print(f\"\\nFinal Revenue value is: {aapl_dict['StatementsOfIncome']['RevenueFromContractWithCustomerExcludingAssessedTax'][6]['value']}\")"
   ]
  },
  {
   "cell_type": "markdown",
   "id": "a22bfbf6-0785-4a4f-8a0c-d3b65586fca8",
   "metadata": {},
   "source": [
    "#### Cost of Goods and Services Sold (COGS)\n",
    "COGS similarly follows the rule of three, and is broken down into Product and Service COGS before finally being summed"
   ]
  },
  {
   "cell_type": "code",
   "execution_count": 5,
   "id": "94a7e18a-03fd-4b5c-8759-8808a11840e7",
   "metadata": {},
   "outputs": [
    {
     "name": "stdout",
     "output_type": "stream",
     "text": [
      "{'decimals': '-6', 'unitRef': 'usd', 'period': {'startDate': '2020-09-27', 'endDate': '2021-09-25'}, 'segment': {'dimension': 'srt:ProductOrServiceAxis', 'value': 'us-gaap:ProductMember'}, 'value': '192266000000'}\n",
      "{'decimals': '-6', 'unitRef': 'usd', 'period': {'startDate': '2020-09-27', 'endDate': '2021-09-25'}, 'segment': {'dimension': 'srt:ProductOrServiceAxis', 'value': 'us-gaap:ServiceMember'}, 'value': '20715000000'}\n",
      "{'decimals': '-6', 'unitRef': 'usd', 'period': {'startDate': '2020-09-27', 'endDate': '2021-09-25'}, 'value': '212981000000'}\n",
      "\n",
      "Final COGS value is: 212981000000\n"
     ]
    }
   ],
   "source": [
    "for i in range(len(aapl_dict['StatementsOfIncome']['CostOfGoodsAndServicesSold'])):\n",
    "    if i % 3 == 0:\n",
    "        print(aapl_dict['StatementsOfIncome']['CostOfGoodsAndServicesSold'][i])\n",
    "        \n",
    "print(f\"\\nFinal COGS value is: {aapl_dict['StatementsOfIncome']['CostOfGoodsAndServicesSold'][6]['value']}\")\n"
   ]
  },
  {
   "cell_type": "markdown",
   "id": "68da380b-f825-404a-9cc7-bf60295c71b5",
   "metadata": {},
   "source": [
    "#### Gross Profit\n",
    "Gross Profit is easy enough to extract the value"
   ]
  },
  {
   "cell_type": "code",
   "execution_count": 20,
   "id": "152057e6-92b0-4eec-ab02-a2d259db7e17",
   "metadata": {},
   "outputs": [
    {
     "data": {
      "text/plain": [
       "152836000000"
      ]
     },
     "execution_count": 20,
     "metadata": {},
     "output_type": "execute_result"
    }
   ],
   "source": [
    "int(aapl_dict['StatementsOfIncome']['GrossProfit'][0]['value'])"
   ]
  },
  {
   "cell_type": "markdown",
   "id": "cc72d896-7186-4b95-b866-e66788cf17d9",
   "metadata": {},
   "source": [
    "#### Research and Development Expense\n",
    "R&D is easy too"
   ]
  },
  {
   "cell_type": "code",
   "execution_count": 21,
   "id": "5b72435e-417c-4cd8-ac49-99fcb5dd22e0",
   "metadata": {},
   "outputs": [
    {
     "data": {
      "text/plain": [
       "21914000000"
      ]
     },
     "execution_count": 21,
     "metadata": {},
     "output_type": "execute_result"
    }
   ],
   "source": [
    "int(aapl_dict['StatementsOfIncome']['ResearchAndDevelopmentExpense'][0]['value'])"
   ]
  },
  {
   "cell_type": "markdown",
   "id": "824b3112-f1cf-4883-806f-0061e0258e7a",
   "metadata": {},
   "source": [
    "#### Selling, General & Administrative Expense (SG&A)\n",
    "Same for SG&A"
   ]
  },
  {
   "cell_type": "code",
   "execution_count": 22,
   "id": "f5d24b16-b84c-43e0-beb6-5f600095a9c9",
   "metadata": {},
   "outputs": [
    {
     "data": {
      "text/plain": [
       "21973000000"
      ]
     },
     "execution_count": 22,
     "metadata": {},
     "output_type": "execute_result"
    }
   ],
   "source": [
    "int(aapl_dict['StatementsOfIncome']['SellingGeneralAndAdministrativeExpense'][0]['value'])"
   ]
  },
  {
   "cell_type": "markdown",
   "id": "341d8261-38a0-48a4-a4dc-e9a662a6bf28",
   "metadata": {},
   "source": [
    "#### Operating Expenses\n",
    "And OpEx"
   ]
  },
  {
   "cell_type": "code",
   "execution_count": 23,
   "id": "0fd6b37e-a6f9-4bfc-836e-9213d6e4b8e5",
   "metadata": {},
   "outputs": [
    {
     "data": {
      "text/plain": [
       "43887000000"
      ]
     },
     "execution_count": 23,
     "metadata": {},
     "output_type": "execute_result"
    }
   ],
   "source": [
    "int(aapl_dict['StatementsOfIncome']['OperatingExpenses'][0]['value'])"
   ]
  },
  {
   "cell_type": "markdown",
   "id": "d0734209-1490-43fd-b81e-96ef46c4ffff",
   "metadata": {},
   "source": [
    "#### Operating Income Loss\n",
    "Operating Income Loss"
   ]
  },
  {
   "cell_type": "code",
   "execution_count": 24,
   "id": "2c988ce0-69d0-464c-9868-773a95e1b87f",
   "metadata": {},
   "outputs": [
    {
     "name": "stdout",
     "output_type": "stream",
     "text": [
      "{'decimals': '-6', 'unitRef': 'usd', 'period': {'startDate': '2020-09-27', 'endDate': '2021-09-25'}, 'value': '108949000000'}\n",
      "{'decimals': '-6', 'unitRef': 'usd', 'period': {'startDate': '2020-09-27', 'endDate': '2021-09-25'}, 'segment': {'dimension': 'us-gaap:StatementBusinessSegmentsAxis', 'value': 'aapl:AmericasSegmentMember'}, 'value': '53382000000'}\n",
      "{'decimals': '-6', 'unitRef': 'usd', 'period': {'startDate': '2020-09-27', 'endDate': '2021-09-25'}, 'segment': {'dimension': 'us-gaap:StatementBusinessSegmentsAxis', 'value': 'aapl:EuropeSegmentMember'}, 'value': '32505000000'}\n",
      "{'decimals': '-6', 'unitRef': 'usd', 'period': {'startDate': '2020-09-27', 'endDate': '2021-09-25'}, 'segment': {'dimension': 'us-gaap:StatementBusinessSegmentsAxis', 'value': 'aapl:GreaterChinaSegmentMember'}, 'value': '28504000000'}\n",
      "{'decimals': '-6', 'unitRef': 'usd', 'period': {'startDate': '2020-09-27', 'endDate': '2021-09-25'}, 'segment': {'dimension': 'us-gaap:StatementBusinessSegmentsAxis', 'value': 'aapl:JapanSegmentMember'}, 'value': '12798000000'}\n",
      "{'decimals': '-6', 'unitRef': 'usd', 'period': {'startDate': '2020-09-27', 'endDate': '2021-09-25'}, 'segment': {'dimension': 'us-gaap:StatementBusinessSegmentsAxis', 'value': 'aapl:RestOfAsiaPacificSegmentMember'}, 'value': '9817000000'}\n",
      "{'decimals': '-6', 'unitRef': 'usd', 'period': {'startDate': '2020-09-27', 'endDate': '2021-09-25'}, 'segment': {'dimension': 'srt:ConsolidationItemsAxis', 'value': 'us-gaap:OperatingSegmentsMember'}, 'value': '137006000000'}\n",
      "\n",
      "Operating Income Loss: 108949000000\n"
     ]
    }
   ],
   "source": [
    "for i in range(len(aapl_dict['StatementsOfIncome']['OperatingIncomeLoss'])):\n",
    "    if i % 3 == 0:\n",
    "        print(aapl_dict['StatementsOfIncome']['OperatingIncomeLoss'][i])\n",
    "        \n",
    "print(f\"\\nOperating Income Loss: {int(aapl_dict['StatementsOfIncome']['OperatingIncomeLoss'][0]['value'])}\")"
   ]
  },
  {
   "cell_type": "markdown",
   "id": "5cd3f51a-9f92-4cda-9671-c6c746e5cd5d",
   "metadata": {},
   "source": [
    "#### Nonoperating Income Expense"
   ]
  },
  {
   "cell_type": "code",
   "execution_count": 25,
   "id": "151fd480-69d9-480a-8f5a-3ecde6c24c72",
   "metadata": {},
   "outputs": [
    {
     "data": {
      "text/plain": [
       "258000000"
      ]
     },
     "execution_count": 25,
     "metadata": {},
     "output_type": "execute_result"
    }
   ],
   "source": [
    "int(aapl_dict['StatementsOfIncome']['NonoperatingIncomeExpense'][0]['value'])"
   ]
  },
  {
   "cell_type": "markdown",
   "id": "52ec7358-5e78-4bbb-b67e-566eb17823d0",
   "metadata": {},
   "source": [
    "#### Income before provision for income taxes (EBIT)"
   ]
  },
  {
   "cell_type": "code",
   "execution_count": 26,
   "id": "2af05995-a52f-4ecb-80c8-35bedf6bb64e",
   "metadata": {},
   "outputs": [
    {
     "data": {
      "text/plain": [
       "109207000000"
      ]
     },
     "execution_count": 26,
     "metadata": {},
     "output_type": "execute_result"
    }
   ],
   "source": [
    "int(aapl_dict['StatementsOfIncome']['IncomeLossFromContinuingOperationsBeforeIncomeTaxesExtraordinaryItemsNoncontrollingInterest'][0]['value'])"
   ]
  },
  {
   "cell_type": "markdown",
   "id": "2596695d-268b-49b3-8a9c-abf7011d5c15",
   "metadata": {},
   "source": [
    "#### Income Tax\n",
    "Provision for income tax expense (benefit)"
   ]
  },
  {
   "cell_type": "code",
   "execution_count": 27,
   "id": "057726d9-87d8-4bbf-9b95-34d0ffcebd79",
   "metadata": {},
   "outputs": [
    {
     "data": {
      "text/plain": [
       "14527000000"
      ]
     },
     "execution_count": 27,
     "metadata": {},
     "output_type": "execute_result"
    }
   ],
   "source": [
    "int(aapl_dict['StatementsOfIncome']['IncomeTaxExpenseBenefit'][0]['value'])"
   ]
  },
  {
   "cell_type": "markdown",
   "id": "25fd2bb5-1ffd-4436-9dd0-cf0f4eeb1736",
   "metadata": {},
   "source": [
    "#### Net Income/Earnings\n",
    "Net Income also includes *retained earnings* but in this case they seem to be the same?"
   ]
  },
  {
   "cell_type": "code",
   "execution_count": 28,
   "id": "7f61ef16-96f0-4ca5-b018-8e6d26e35047",
   "metadata": {},
   "outputs": [
    {
     "name": "stdout",
     "output_type": "stream",
     "text": [
      "{'decimals': '-6', 'unitRef': 'usd', 'period': {'startDate': '2020-09-27', 'endDate': '2021-09-25'}, 'value': '94680000000'}\n",
      "{'decimals': '-6', 'unitRef': 'usd', 'period': {'startDate': '2020-09-27', 'endDate': '2021-09-25'}, 'segment': {'dimension': 'us-gaap:StatementEquityComponentsAxis', 'value': 'us-gaap:RetainedEarningsMember'}, 'value': '94680000000'}\n",
      "\n",
      "Net Income: 94680000000\n"
     ]
    }
   ],
   "source": [
    "for i in range(len(aapl_dict['StatementsOfIncome']['NetIncomeLoss'])):\n",
    "    if i % 3 == 0:\n",
    "        print(aapl_dict['StatementsOfIncome']['NetIncomeLoss'][i])\n",
    "        \n",
    "print(f\"\\nNet Income: {int(aapl_dict['StatementsOfIncome']['NetIncomeLoss'][0]['value'])}\")"
   ]
  },
  {
   "cell_type": "markdown",
   "id": "378d575b-05ec-4c7c-afd4-a2f3a3985633",
   "metadata": {},
   "source": [
    "#### Basic EPS\n",
    "Be sure to use *float* rather than *int*"
   ]
  },
  {
   "cell_type": "code",
   "execution_count": 31,
   "id": "38b4339f-b477-4a16-9732-024e0db11458",
   "metadata": {},
   "outputs": [
    {
     "data": {
      "text/plain": [
       "5.67"
      ]
     },
     "execution_count": 31,
     "metadata": {},
     "output_type": "execute_result"
    }
   ],
   "source": [
    "float(aapl_dict['StatementsOfIncome']['EarningsPerShareBasic'][0]['value'])"
   ]
  },
  {
   "cell_type": "markdown",
   "id": "2294b21c-1d0a-4434-86be-732fbd262b99",
   "metadata": {},
   "source": [
    "#### Diluted EPS\n",
    "Be sure to use *float* rather than *int*"
   ]
  },
  {
   "cell_type": "code",
   "execution_count": 32,
   "id": "a1ee1b03-3d62-401b-a339-de71bef545f5",
   "metadata": {},
   "outputs": [
    {
     "data": {
      "text/plain": [
       "5.61"
      ]
     },
     "execution_count": 32,
     "metadata": {},
     "output_type": "execute_result"
    }
   ],
   "source": [
    "float(aapl_dict['StatementsOfIncome']['EarningsPerShareDiluted'][0]['value'])"
   ]
  },
  {
   "cell_type": "markdown",
   "id": "62937457-8a29-4b9c-99b4-08f93f98ae79",
   "metadata": {},
   "source": [
    "#### Basic Shares Outstanding"
   ]
  },
  {
   "cell_type": "code",
   "execution_count": 33,
   "id": "3d486fd4-387a-4ad3-9dc1-59d054a0cb00",
   "metadata": {},
   "outputs": [
    {
     "data": {
      "text/plain": [
       "16701272000"
      ]
     },
     "execution_count": 33,
     "metadata": {},
     "output_type": "execute_result"
    }
   ],
   "source": [
    "int(aapl_dict['StatementsOfIncome']['WeightedAverageNumberOfSharesOutstandingBasic'][0]['value'])"
   ]
  },
  {
   "cell_type": "markdown",
   "id": "151d4d5d-298c-440c-a733-0f7dc7c6e16c",
   "metadata": {},
   "source": [
    "#### Diluted Shares Outstanding"
   ]
  },
  {
   "cell_type": "code",
   "execution_count": 34,
   "id": "cd55274b-22f2-42f3-976a-f71f59b504a8",
   "metadata": {},
   "outputs": [
    {
     "data": {
      "text/plain": [
       "16864919000"
      ]
     },
     "execution_count": 34,
     "metadata": {},
     "output_type": "execute_result"
    }
   ],
   "source": [
    "int(aapl_dict['StatementsOfIncome']['WeightedAverageNumberOfDilutedSharesOutstanding'][0]['value'])"
   ]
  },
  {
   "cell_type": "code",
   "execution_count": null,
   "id": "b4adc959-4015-41a9-b7cc-a68a14f7a6f4",
   "metadata": {},
   "outputs": [],
   "source": []
  },
  {
   "cell_type": "code",
   "execution_count": null,
   "id": "d9878952-0d67-4ae3-ba15-35752f510581",
   "metadata": {},
   "outputs": [],
   "source": []
  },
  {
   "cell_type": "code",
   "execution_count": null,
   "id": "a09f30e2-9c81-46e4-b13f-98441e23f199",
   "metadata": {},
   "outputs": [],
   "source": []
  },
  {
   "cell_type": "code",
   "execution_count": 35,
   "id": "e52f9929-7ee3-4818-851e-e77eb36793c8",
   "metadata": {},
   "outputs": [],
   "source": [
    "import json"
   ]
  },
  {
   "cell_type": "code",
   "execution_count": 36,
   "id": "3aa6efd4-bba9-4ea0-96d1-37e8c4c5b289",
   "metadata": {},
   "outputs": [],
   "source": [
    "#reading the data from a file\n",
    "with open('INTC_10K_2021.txt') as f:\n",
    "    intc_txt = f.read()\n",
    "    \n",
    "#converting the text string into a dictionary\n",
    "intc_dict = json.loads(intc_txt)"
   ]
  },
  {
   "cell_type": "markdown",
   "id": "a260a960-a94e-4af9-a125-ba7f61210e0d",
   "metadata": {},
   "source": [
    "The INTC Income Statement has two fields that the AAPL Income Statement doesn't have:\n",
    "* GainLossOnInvestments\n",
    "* RestructuringSettlementAndImpairmentProvisions"
   ]
  },
  {
   "cell_type": "code",
   "execution_count": 58,
   "id": "4679a428-bca1-4910-b690-ea708fe37574",
   "metadata": {},
   "outputs": [],
   "source": [
    "keys_intc_is = intc_dict['StatementsOfIncome'].keys()\n",
    "keys_aapl_is = aapl_dict['StatementsOfIncome'].keys()"
   ]
  },
  {
   "cell_type": "code",
   "execution_count": 60,
   "id": "225ba1e4-1f20-4c3e-812e-3faf72d4dc47",
   "metadata": {},
   "outputs": [
    {
     "data": {
      "text/plain": [
       "{'CostOfGoodsAndServicesSold',\n",
       " 'EarningsPerShareBasic',\n",
       " 'EarningsPerShareDiluted',\n",
       " 'GrossProfit',\n",
       " 'IncomeLossFromContinuingOperationsBeforeIncomeTaxesExtraordinaryItemsNoncontrollingInterest',\n",
       " 'IncomeTaxExpenseBenefit',\n",
       " 'NetIncomeLoss',\n",
       " 'NonoperatingIncomeExpense',\n",
       " 'OperatingExpenses',\n",
       " 'OperatingIncomeLoss',\n",
       " 'ResearchAndDevelopmentExpense',\n",
       " 'RevenueFromContractWithCustomerExcludingAssessedTax',\n",
       " 'SellingGeneralAndAdministrativeExpense',\n",
       " 'WeightedAverageNumberOfDilutedSharesOutstanding',\n",
       " 'WeightedAverageNumberOfSharesOutstandingBasic'}"
      ]
     },
     "execution_count": 60,
     "metadata": {},
     "output_type": "execute_result"
    }
   ],
   "source": [
    "set(keys_aapl_is & keys_intc_is)"
   ]
  },
  {
   "cell_type": "code",
   "execution_count": 61,
   "id": "d0c93fef-8e81-42ba-90bd-7b55a4cf8d66",
   "metadata": {},
   "outputs": [
    {
     "name": "stdout",
     "output_type": "stream",
     "text": [
      "set()\n",
      "{'GainLossOnInvestments', 'RestructuringSettlementAndImpairmentProvisions'}\n"
     ]
    }
   ],
   "source": [
    "print(set(keys_aapl_is - keys_intc_is))\n",
    "print(set(keys_intc_is - keys_aapl_is))"
   ]
  },
  {
   "cell_type": "code",
   "execution_count": null,
   "id": "fe4689d2-8bf8-4f00-97ef-9f40af8616b1",
   "metadata": {},
   "outputs": [],
   "source": []
  },
  {
   "cell_type": "code",
   "execution_count": null,
   "id": "584c2ac0-e599-458f-a87e-2b84a36ec257",
   "metadata": {},
   "outputs": [],
   "source": []
  },
  {
   "cell_type": "code",
   "execution_count": 62,
   "id": "d2281e48-9ade-412a-9435-1bbbe6a96bf5",
   "metadata": {},
   "outputs": [],
   "source": [
    "#reading the data from a file\n",
    "with open('10K_datasets/MSFT_10K_2022.txt') as f:\n",
    "    msft_txt = f.read()\n",
    "    \n",
    "#converting the text string into a dictionary\n",
    "msft_dict = json.loads(msft_txt)"
   ]
  },
  {
   "cell_type": "code",
   "execution_count": 63,
   "id": "475b1773-bd69-4666-83c8-1ccc159c3237",
   "metadata": {},
   "outputs": [],
   "source": [
    "keys_intc_is = intc_dict['StatementsOfIncome'].keys()\n",
    "keys_aapl_is = aapl_dict['StatementsOfIncome'].keys()\n",
    "keys_msft_is = msft_dict['StatementsOfIncome'].keys()"
   ]
  },
  {
   "cell_type": "code",
   "execution_count": 90,
   "id": "47df7052-412e-44e5-9ebf-4514e98593c4",
   "metadata": {},
   "outputs": [
    {
     "data": {
      "text/plain": [
       "{'CostOfGoodsAndServicesSold',\n",
       " 'EarningsPerShareBasic',\n",
       " 'EarningsPerShareDiluted',\n",
       " 'GrossProfit',\n",
       " 'IncomeLossFromContinuingOperationsBeforeIncomeTaxesExtraordinaryItemsNoncontrollingInterest',\n",
       " 'IncomeTaxExpenseBenefit',\n",
       " 'NetIncomeLoss',\n",
       " 'NonoperatingIncomeExpense',\n",
       " 'OperatingIncomeLoss',\n",
       " 'ResearchAndDevelopmentExpense',\n",
       " 'RevenueFromContractWithCustomerExcludingAssessedTax',\n",
       " 'WeightedAverageNumberOfDilutedSharesOutstanding',\n",
       " 'WeightedAverageNumberOfSharesOutstandingBasic'}"
      ]
     },
     "execution_count": 90,
     "metadata": {},
     "output_type": "execute_result"
    }
   ],
   "source": [
    "keys_aapl_is & keys_intc_is & set(keys_msft_is)"
   ]
  },
  {
   "cell_type": "code",
   "execution_count": 88,
   "id": "b4b4887a-3b18-4ed2-932b-70e41ad14894",
   "metadata": {},
   "outputs": [
    {
     "name": "stdout",
     "output_type": "stream",
     "text": [
      "\n",
      "\n",
      "INTC only: GainLossOnInvestments\n",
      "INTC only: RestructuringSettlementAndImpairmentProvisions\n",
      "\n",
      "\n",
      "MSFT only: SellingAndMarketingExpense\n",
      "MSFT only: GeneralAndAdministrativeExpense\n"
     ]
    }
   ],
   "source": [
    "keys_only_aapl_is = keys_aapl_is - set(keys_intc_is | keys_msft_is)\n",
    "keys_only_intc_is = keys_intc_is - set(keys_aapl_is | keys_msft_is)\n",
    "keys_only_msft_is = keys_msft_is - set(keys_aapl_is | keys_intc_is)\n",
    "\n",
    "for field in keys_only_aapl_is:\n",
    "    print(f\"AAPL only: {field}\")\n",
    "\n",
    "print('\\n')\n",
    "for field in keys_only_intc_is:\n",
    "    print(f\"INTC only: {field}\")\n",
    "\n",
    "print('\\n')\n",
    "for field in keys_only_msft_is:\n",
    "    print(f\"MSFT only: {field}\")"
   ]
  },
  {
   "cell_type": "code",
   "execution_count": 89,
   "id": "7c8f1bc6-d79e-4f54-90cb-eb46547cf3a9",
   "metadata": {},
   "outputs": [
    {
     "name": "stdout",
     "output_type": "stream",
     "text": [
      "Not AAPL: GainLossOnInvestments\n",
      "Not AAPL: GeneralAndAdministrativeExpense\n",
      "Not AAPL: RestructuringSettlementAndImpairmentProvisions\n",
      "Not AAPL: SellingAndMarketingExpense\n",
      "\n",
      "\n",
      "Not INTC: GeneralAndAdministrativeExpense\n",
      "Not INTC: SellingAndMarketingExpense\n",
      "\n",
      "\n",
      "Not MSFT: GainLossOnInvestments\n",
      "Not MSFT: SellingGeneralAndAdministrativeExpense\n",
      "Not MSFT: RestructuringSettlementAndImpairmentProvisions\n",
      "Not MSFT: OperatingExpenses\n"
     ]
    }
   ],
   "source": [
    "keys_not_aapl_is = set(keys_intc_is | keys_msft_is) - keys_aapl_is\n",
    "keys_not_intc_is = set(keys_aapl_is | keys_msft_is) - keys_intc_is \n",
    "keys_not_msft_is = set(keys_aapl_is | keys_intc_is) - keys_msft_is\n",
    "\n",
    "for field in keys_not_aapl_is:\n",
    "    print(f\"Not AAPL: {field}\")\n",
    "\n",
    "print('\\n')\n",
    "for field in keys_not_intc_is:\n",
    "    print(f\"Not INTC: {field}\")\n",
    "\n",
    "print('\\n')\n",
    "for field in keys_not_msft_is:\n",
    "    print(f\"Not MSFT: {field}\")"
   ]
  },
  {
   "cell_type": "code",
   "execution_count": null,
   "id": "c8273ba0-b600-44a6-8a34-5d16c5684e33",
   "metadata": {},
   "outputs": [],
   "source": []
  }
 ],
 "metadata": {
  "kernelspec": {
   "display_name": "Python 3 (ipykernel)",
   "language": "python",
   "name": "python3"
  },
  "language_info": {
   "codemirror_mode": {
    "name": "ipython",
    "version": 3
   },
   "file_extension": ".py",
   "mimetype": "text/x-python",
   "name": "python",
   "nbconvert_exporter": "python",
   "pygments_lexer": "ipython3",
   "version": "3.10.5"
  }
 },
 "nbformat": 4,
 "nbformat_minor": 5
}
