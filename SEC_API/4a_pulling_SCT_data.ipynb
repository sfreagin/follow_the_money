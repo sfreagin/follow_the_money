{
 "cells": [
  {
   "cell_type": "markdown",
   "metadata": {},
   "source": [
    "## Russell 3000 Index\n",
    "\n",
    "I have a PDF of the Russell 3000 constituents, and I want to extract all stock tickers and company names.\n",
    "\n",
    "https://www.ishares.com/us/products/239714/ishares-russell-3000-etf and click \"Download\" for the XLSX (maybe XML?)\n"
   ]
  },
  {
   "cell_type": "code",
   "execution_count": 1,
   "metadata": {},
   "outputs": [],
   "source": [
    "import pandas as pd\n",
    "import numpy as np\n",
    "\n",
    "import json\n",
    "import os\n",
    "import time\n",
    "from collections import defaultdict\n",
    "from pathlib import Path\n",
    "\n",
    "import matplotlib.pyplot as plt\n",
    "import seaborn as sns\n",
    "\n",
    "#import PyPDF2\n",
    "#from PyPDF2 import PdfReader"
   ]
  },
  {
   "cell_type": "code",
   "execution_count": 2,
   "metadata": {},
   "outputs": [
    {
     "data": {
      "text/html": [
       "<div>\n",
       "<style scoped>\n",
       "    .dataframe tbody tr th:only-of-type {\n",
       "        vertical-align: middle;\n",
       "    }\n",
       "\n",
       "    .dataframe tbody tr th {\n",
       "        vertical-align: top;\n",
       "    }\n",
       "\n",
       "    .dataframe thead th {\n",
       "        text-align: right;\n",
       "    }\n",
       "</style>\n",
       "<table border=\"1\" class=\"dataframe\">\n",
       "  <thead>\n",
       "    <tr style=\"text-align: right;\">\n",
       "      <th></th>\n",
       "      <th>Ticker</th>\n",
       "      <th>Name</th>\n",
       "      <th>Sector</th>\n",
       "      <th>Asset Class</th>\n",
       "      <th>Market Value</th>\n",
       "      <th>Weight (%)</th>\n",
       "      <th>Notional Value</th>\n",
       "      <th>Shares</th>\n",
       "      <th>Price</th>\n",
       "      <th>Location</th>\n",
       "      <th>Exchange</th>\n",
       "      <th>Currency</th>\n",
       "      <th>FX Rate</th>\n",
       "    </tr>\n",
       "  </thead>\n",
       "  <tbody>\n",
       "    <tr>\n",
       "      <th>0</th>\n",
       "      <td>AAPL</td>\n",
       "      <td>APPLE INC</td>\n",
       "      <td>Information Technology</td>\n",
       "      <td>Equity</td>\n",
       "      <td>627,609,535.64</td>\n",
       "      <td>6.08</td>\n",
       "      <td>627,609,535.64</td>\n",
       "      <td>4,028,044.00</td>\n",
       "      <td>155.81</td>\n",
       "      <td>United States</td>\n",
       "      <td>NASDAQ</td>\n",
       "      <td>USD</td>\n",
       "      <td>1.0</td>\n",
       "    </tr>\n",
       "    <tr>\n",
       "      <th>1</th>\n",
       "      <td>MSFT</td>\n",
       "      <td>MICROSOFT CORP</td>\n",
       "      <td>Information Technology</td>\n",
       "      <td>Equity</td>\n",
       "      <td>504,709,879.66</td>\n",
       "      <td>4.89</td>\n",
       "      <td>504,709,879.66</td>\n",
       "      <td>1,971,061.00</td>\n",
       "      <td>256.06</td>\n",
       "      <td>United States</td>\n",
       "      <td>NASDAQ</td>\n",
       "      <td>USD</td>\n",
       "      <td>1.0</td>\n",
       "    </tr>\n",
       "    <tr>\n",
       "      <th>2</th>\n",
       "      <td>AMZN</td>\n",
       "      <td>AMAZON COM INC</td>\n",
       "      <td>Consumer Discretionary</td>\n",
       "      <td>Equity</td>\n",
       "      <td>298,546,176.05</td>\n",
       "      <td>2.89</td>\n",
       "      <td>298,546,176.05</td>\n",
       "      <td>2,341,355.00</td>\n",
       "      <td>127.51</td>\n",
       "      <td>United States</td>\n",
       "      <td>NASDAQ</td>\n",
       "      <td>USD</td>\n",
       "      <td>1.0</td>\n",
       "    </tr>\n",
       "    <tr>\n",
       "      <th>3</th>\n",
       "      <td>TSLA</td>\n",
       "      <td>TESLA INC</td>\n",
       "      <td>Consumer Discretionary</td>\n",
       "      <td>Equity</td>\n",
       "      <td>181,066,099.74</td>\n",
       "      <td>1.75</td>\n",
       "      <td>181,066,099.74</td>\n",
       "      <td>670,094.00</td>\n",
       "      <td>270.21</td>\n",
       "      <td>United States</td>\n",
       "      <td>NASDAQ</td>\n",
       "      <td>USD</td>\n",
       "      <td>1.0</td>\n",
       "    </tr>\n",
       "    <tr>\n",
       "      <th>4</th>\n",
       "      <td>GOOGL</td>\n",
       "      <td>ALPHABET INC CLASS A</td>\n",
       "      <td>Communication</td>\n",
       "      <td>Equity</td>\n",
       "      <td>170,894,796.00</td>\n",
       "      <td>1.66</td>\n",
       "      <td>170,894,796.00</td>\n",
       "      <td>1,584,560.00</td>\n",
       "      <td>107.85</td>\n",
       "      <td>United States</td>\n",
       "      <td>NASDAQ</td>\n",
       "      <td>USD</td>\n",
       "      <td>1.0</td>\n",
       "    </tr>\n",
       "  </tbody>\n",
       "</table>\n",
       "</div>"
      ],
      "text/plain": [
       "  Ticker                  Name                  Sector Asset Class  \\\n",
       "0   AAPL             APPLE INC  Information Technology      Equity   \n",
       "1   MSFT        MICROSOFT CORP  Information Technology      Equity   \n",
       "2   AMZN        AMAZON COM INC  Consumer Discretionary      Equity   \n",
       "3   TSLA             TESLA INC  Consumer Discretionary      Equity   \n",
       "4  GOOGL  ALPHABET INC CLASS A           Communication      Equity   \n",
       "\n",
       "     Market Value  Weight (%)  Notional Value        Shares   Price  \\\n",
       "0  627,609,535.64        6.08  627,609,535.64  4,028,044.00  155.81   \n",
       "1  504,709,879.66        4.89  504,709,879.66  1,971,061.00  256.06   \n",
       "2  298,546,176.05        2.89  298,546,176.05  2,341,355.00  127.51   \n",
       "3  181,066,099.74        1.75  181,066,099.74    670,094.00  270.21   \n",
       "4  170,894,796.00        1.66  170,894,796.00  1,584,560.00  107.85   \n",
       "\n",
       "        Location Exchange Currency  FX Rate  \n",
       "0  United States   NASDAQ      USD      1.0  \n",
       "1  United States   NASDAQ      USD      1.0  \n",
       "2  United States   NASDAQ      USD      1.0  \n",
       "3  United States   NASDAQ      USD      1.0  \n",
       "4  United States   NASDAQ      USD      1.0  "
      ]
     },
     "execution_count": 2,
     "metadata": {},
     "output_type": "execute_result"
    }
   ],
   "source": [
    "russell_df = pd.read_csv('russell_3000_index.csv')\n",
    "\n",
    "russell_df.head()"
   ]
  },
  {
   "cell_type": "code",
   "execution_count": 3,
   "metadata": {},
   "outputs": [],
   "source": [
    "equity_df = russell_df[russell_df['Asset Class']=='Equity']\n",
    "\n",
    "equity_df = equity_df[['Ticker', 'Name', 'Sector', 'Shares', 'Location', 'Exchange']]"
   ]
  },
  {
   "cell_type": "code",
   "execution_count": 4,
   "metadata": {},
   "outputs": [],
   "source": [
    "ticker_list = equity_df['Ticker']"
   ]
  },
  {
   "cell_type": "markdown",
   "metadata": {},
   "source": [
    "### Pulling SCT pay directly from tickers in a list"
   ]
  },
  {
   "cell_type": "code",
   "execution_count": 5,
   "metadata": {},
   "outputs": [],
   "source": [
    "from sec_api import ExecCompApi\n",
    "import config\n",
    "\n",
    "import json\n",
    "\n",
    "import time\n",
    "from time import sleep"
   ]
  },
  {
   "cell_type": "code",
   "execution_count": 8,
   "metadata": {},
   "outputs": [],
   "source": [
    "execCompApi = ExecCompApi(config.sec_api_key)"
   ]
  },
  {
   "cell_type": "code",
   "execution_count": 9,
   "metadata": {},
   "outputs": [],
   "source": [
    "#define a function with ticker argument that pulls SCT pay\n",
    "\n",
    "def SCTpay_puller(ticker):\n",
    "    result_ticker = execCompApi.get_data(f'{ticker}')\n",
    "    \n",
    "    #saving the dictionary as a text file\n",
    "    with open(f'SCT_datasets/{ticker}_SCTpay_20220906.txt', 'w') as converted_file:\n",
    "        converted_file.write(json.dumps(result_ticker))    \n",
    "    "
   ]
  },
  {
   "cell_type": "code",
   "execution_count": 10,
   "metadata": {},
   "outputs": [],
   "source": [
    "SCTpay_puller('AAPL')"
   ]
  },
  {
   "cell_type": "code",
   "execution_count": 11,
   "metadata": {},
   "outputs": [
    {
     "name": "stdout",
     "output_type": "stream",
     "text": [
      "Ticker TJX throws an error\n"
     ]
    },
    {
     "ename": "KeyboardInterrupt",
     "evalue": "",
     "output_type": "error",
     "traceback": [
      "\u001b[1;31m---------------------------------------------------------------------------\u001b[0m",
      "\u001b[1;31mKeyboardInterrupt\u001b[0m                         Traceback (most recent call last)",
      "Input \u001b[1;32mIn [11]\u001b[0m, in \u001b[0;36m<cell line: 5>\u001b[1;34m()\u001b[0m\n\u001b[0;32m      3\u001b[0m bad_ticker_list \u001b[38;5;241m=\u001b[39m []\n\u001b[0;32m      5\u001b[0m \u001b[38;5;28;01mfor\u001b[39;00m ticker \u001b[38;5;129;01min\u001b[39;00m ticker_list:\n\u001b[1;32m----> 6\u001b[0m     \u001b[43msleep\u001b[49m\u001b[43m(\u001b[49m\u001b[38;5;241;43m.1\u001b[39;49m\u001b[43m)\u001b[49m\n\u001b[0;32m      7\u001b[0m     \u001b[38;5;28;01mtry\u001b[39;00m:\n\u001b[0;32m      8\u001b[0m         SCTpay_puller(ticker)\n",
      "\u001b[1;31mKeyboardInterrupt\u001b[0m: "
     ]
    }
   ],
   "source": [
    "start_time = time.time()\n",
    "\n",
    "bad_ticker_list = []\n",
    "\n",
    "for ticker in ticker_list:\n",
    "    sleep(.1)\n",
    "    try:\n",
    "        SCTpay_puller(ticker)\n",
    "    except:\n",
    "        bad_ticker_list.append(ticker)\n",
    "        print(f\"Ticker {ticker} throws an error\")\n",
    "    \n",
    "print(f\"This code took {time.time() - start_time} seconds\")"
   ]
  },
  {
   "cell_type": "markdown",
   "metadata": {},
   "source": [
    "### Now take those text files and combine them into a single DataFrame"
   ]
  },
  {
   "cell_type": "code",
   "execution_count": 12,
   "metadata": {},
   "outputs": [],
   "source": [
    "#seeding the DataFrame\n",
    "#reading the data from a file\n",
    "with open('SCT_datasets/A_SCTpay_20220906.txt') as f:\n",
    "    a_txt = f.read()\n",
    "    \n",
    "#converting the text string into a dictionary\n",
    "a_dict = json.loads(a_txt)\n",
    "\n",
    "starter_df = pd.DataFrame(a_dict)"
   ]
  },
  {
   "cell_type": "code",
   "execution_count": 13,
   "metadata": {},
   "outputs": [
    {
     "name": "stdout",
     "output_type": "stream",
     "text": [
      "Ticker MANH threw an error\n",
      "Ticker MPW threw an error\n",
      "Ticker AFG threw an error\n",
      "Ticker GLOB threw an error\n",
      "Ticker RRC threw an error\n",
      "Ticker UGI threw an error\n",
      "This code took 40.62692618370056 seconds\n"
     ]
    }
   ],
   "source": [
    "start_time = time.time()\n",
    "\n",
    "for ticker in ticker_list:\n",
    "    try:\n",
    "        with open(f'SCT_datasets/{ticker}_SCTpay_20220906.txt') as f:\n",
    "            ticker_txt = f.read()\n",
    "        ticker_dict = json.loads(ticker_txt)    \n",
    "        #ticker_df = pd.DataFrame(ticker_dict)\n",
    "        starter_df = pd.concat([starter_df,pd.DataFrame(ticker_dict)])\n",
    "    except:\n",
    "        print(f'Ticker {ticker} threw an error')\n",
    "    \n",
    "        \n",
    "        \n",
    "print(f\"This code took {time.time() - start_time} seconds\")"
   ]
  },
  {
   "cell_type": "code",
   "execution_count": 14,
   "metadata": {},
   "outputs": [],
   "source": [
    "starter_df.reset_index(inplace=True,drop=True)"
   ]
  },
  {
   "cell_type": "code",
   "execution_count": 18,
   "metadata": {},
   "outputs": [
    {
     "data": {
      "text/html": [
       "<div>\n",
       "<style scoped>\n",
       "    .dataframe tbody tr th:only-of-type {\n",
       "        vertical-align: middle;\n",
       "    }\n",
       "\n",
       "    .dataframe tbody tr th {\n",
       "        vertical-align: top;\n",
       "    }\n",
       "\n",
       "    .dataframe thead th {\n",
       "        text-align: right;\n",
       "    }\n",
       "</style>\n",
       "<table border=\"1\" class=\"dataframe\">\n",
       "  <thead>\n",
       "    <tr style=\"text-align: right;\">\n",
       "      <th></th>\n",
       "      <th>id</th>\n",
       "      <th>cik</th>\n",
       "      <th>ticker</th>\n",
       "      <th>name</th>\n",
       "      <th>position</th>\n",
       "      <th>year</th>\n",
       "      <th>salary</th>\n",
       "      <th>bonus</th>\n",
       "      <th>stockAwards</th>\n",
       "      <th>optionAwards</th>\n",
       "      <th>nonEquityIncentiveCompensation</th>\n",
       "      <th>otherCompensation</th>\n",
       "      <th>total</th>\n",
       "      <th>changeInPensionValueAndDeferredEarnings</th>\n",
       "    </tr>\n",
       "  </thead>\n",
       "  <tbody>\n",
       "    <tr>\n",
       "      <th>0</th>\n",
       "      <td>73b3a60ba203743c008330c96b7d8b66</td>\n",
       "      <td>1090872</td>\n",
       "      <td>A</td>\n",
       "      <td>Sam Raha</td>\n",
       "      <td>Senior Vice President, President Diagnostics a...</td>\n",
       "      <td>2021</td>\n",
       "      <td>563500</td>\n",
       "      <td>0</td>\n",
       "      <td>1541332</td>\n",
       "      <td>0</td>\n",
       "      <td>738536</td>\n",
       "      <td>33534</td>\n",
       "      <td>3262887</td>\n",
       "      <td>NaN</td>\n",
       "    </tr>\n",
       "    <tr>\n",
       "      <th>1</th>\n",
       "      <td>97393f60cd9f321650e472673daaa70c</td>\n",
       "      <td>1090872</td>\n",
       "      <td>A</td>\n",
       "      <td>Michael R. McMullen</td>\n",
       "      <td>Chief Executive Officer</td>\n",
       "      <td>2021</td>\n",
       "      <td>1280000</td>\n",
       "      <td>0</td>\n",
       "      <td>9165390</td>\n",
       "      <td>0</td>\n",
       "      <td>3149714</td>\n",
       "      <td>77512</td>\n",
       "      <td>15967631</td>\n",
       "      <td>NaN</td>\n",
       "    </tr>\n",
       "    <tr>\n",
       "      <th>2</th>\n",
       "      <td>83b9cc2bca477fe8ce23e0ab56e70c66</td>\n",
       "      <td>1090872</td>\n",
       "      <td>A</td>\n",
       "      <td>Jacob Thaysen</td>\n",
       "      <td>Senior Vice President, President Life Sciences...</td>\n",
       "      <td>2021</td>\n",
       "      <td>625000</td>\n",
       "      <td>0</td>\n",
       "      <td>1812285</td>\n",
       "      <td>0</td>\n",
       "      <td>897589</td>\n",
       "      <td>13684</td>\n",
       "      <td>3802349</td>\n",
       "      <td>NaN</td>\n",
       "    </tr>\n",
       "    <tr>\n",
       "      <th>3</th>\n",
       "      <td>7c60bb804071675ae15ec930f6dea190</td>\n",
       "      <td>1090872</td>\n",
       "      <td>A</td>\n",
       "      <td>Robert McMahon</td>\n",
       "      <td>Senior Vice President, Chief Financial Officer</td>\n",
       "      <td>2021</td>\n",
       "      <td>663500</td>\n",
       "      <td>0</td>\n",
       "      <td>2291271</td>\n",
       "      <td>0</td>\n",
       "      <td>1007000</td>\n",
       "      <td>176196</td>\n",
       "      <td>4711733</td>\n",
       "      <td>NaN</td>\n",
       "    </tr>\n",
       "    <tr>\n",
       "      <th>4</th>\n",
       "      <td>259b710a8befe67c61a2c3dec14f344a</td>\n",
       "      <td>1090872</td>\n",
       "      <td>A</td>\n",
       "      <td>Padraig McDonnell</td>\n",
       "      <td>Senior Vice President, President Cross-Lab Group</td>\n",
       "      <td>2021</td>\n",
       "      <td>495000</td>\n",
       "      <td>0</td>\n",
       "      <td>1249771</td>\n",
       "      <td>0</td>\n",
       "      <td>686716</td>\n",
       "      <td>499472</td>\n",
       "      <td>3243927</td>\n",
       "      <td>NaN</td>\n",
       "    </tr>\n",
       "    <tr>\n",
       "      <th>...</th>\n",
       "      <td>...</td>\n",
       "      <td>...</td>\n",
       "      <td>...</td>\n",
       "      <td>...</td>\n",
       "      <td>...</td>\n",
       "      <td>...</td>\n",
       "      <td>...</td>\n",
       "      <td>...</td>\n",
       "      <td>...</td>\n",
       "      <td>...</td>\n",
       "      <td>...</td>\n",
       "      <td>...</td>\n",
       "      <td>...</td>\n",
       "      <td>...</td>\n",
       "    </tr>\n",
       "    <tr>\n",
       "      <th>173772</th>\n",
       "      <td>65031058801add0364554c29d65e6347</td>\n",
       "      <td>1489979</td>\n",
       "      <td>TFM</td>\n",
       "      <td>Craig Carlock</td>\n",
       "      <td></td>\n",
       "      <td>2009</td>\n",
       "      <td>0</td>\n",
       "      <td>0</td>\n",
       "      <td>0</td>\n",
       "      <td>0</td>\n",
       "      <td>0</td>\n",
       "      <td>15067</td>\n",
       "      <td>1475018</td>\n",
       "      <td>NaN</td>\n",
       "    </tr>\n",
       "    <tr>\n",
       "      <th>173773</th>\n",
       "      <td>c37aabf7f94134aef1f9497a544392b6</td>\n",
       "      <td>1489979</td>\n",
       "      <td>TFM</td>\n",
       "      <td>Sean Crane</td>\n",
       "      <td></td>\n",
       "      <td>2009</td>\n",
       "      <td>0</td>\n",
       "      <td>0</td>\n",
       "      <td>0</td>\n",
       "      <td>0</td>\n",
       "      <td>0</td>\n",
       "      <td>23181</td>\n",
       "      <td>1670897</td>\n",
       "      <td>NaN</td>\n",
       "    </tr>\n",
       "    <tr>\n",
       "      <th>173774</th>\n",
       "      <td>329cc12c3b0109ea681cab39a198225b</td>\n",
       "      <td>1489979</td>\n",
       "      <td>TFM</td>\n",
       "      <td>Lisa Klinger</td>\n",
       "      <td></td>\n",
       "      <td>2009</td>\n",
       "      <td>0</td>\n",
       "      <td>0</td>\n",
       "      <td>0</td>\n",
       "      <td>0</td>\n",
       "      <td>0</td>\n",
       "      <td>95105</td>\n",
       "      <td>2330074</td>\n",
       "      <td>NaN</td>\n",
       "    </tr>\n",
       "    <tr>\n",
       "      <th>173775</th>\n",
       "      <td>bb696be59ae7c1bde8d37ae07477efd1</td>\n",
       "      <td>1489979</td>\n",
       "      <td>TFM</td>\n",
       "      <td>Marc Jones</td>\n",
       "      <td>and Marketing</td>\n",
       "      <td>2009</td>\n",
       "      <td>209500</td>\n",
       "      <td>75000</td>\n",
       "      <td>0</td>\n",
       "      <td>880273</td>\n",
       "      <td>0</td>\n",
       "      <td>15827</td>\n",
       "      <td>1180600</td>\n",
       "      <td>NaN</td>\n",
       "    </tr>\n",
       "    <tr>\n",
       "      <th>173776</th>\n",
       "      <td>bf33a4c26486beec8111c5fe8a2f7592</td>\n",
       "      <td>1489979</td>\n",
       "      <td>TFM</td>\n",
       "      <td>Randy Kelley</td>\n",
       "      <td></td>\n",
       "      <td>2009</td>\n",
       "      <td>0</td>\n",
       "      <td>0</td>\n",
       "      <td>0</td>\n",
       "      <td>0</td>\n",
       "      <td>0</td>\n",
       "      <td>16384</td>\n",
       "      <td>681341</td>\n",
       "      <td>NaN</td>\n",
       "    </tr>\n",
       "  </tbody>\n",
       "</table>\n",
       "<p>173777 rows × 14 columns</p>\n",
       "</div>"
      ],
      "text/plain": [
       "                                      id      cik ticker                 name  \\\n",
       "0       73b3a60ba203743c008330c96b7d8b66  1090872      A             Sam Raha   \n",
       "1       97393f60cd9f321650e472673daaa70c  1090872      A  Michael R. McMullen   \n",
       "2       83b9cc2bca477fe8ce23e0ab56e70c66  1090872      A        Jacob Thaysen   \n",
       "3       7c60bb804071675ae15ec930f6dea190  1090872      A       Robert McMahon   \n",
       "4       259b710a8befe67c61a2c3dec14f344a  1090872      A    Padraig McDonnell   \n",
       "...                                  ...      ...    ...                  ...   \n",
       "173772  65031058801add0364554c29d65e6347  1489979    TFM        Craig Carlock   \n",
       "173773  c37aabf7f94134aef1f9497a544392b6  1489979    TFM           Sean Crane   \n",
       "173774  329cc12c3b0109ea681cab39a198225b  1489979    TFM         Lisa Klinger   \n",
       "173775  bb696be59ae7c1bde8d37ae07477efd1  1489979    TFM           Marc Jones   \n",
       "173776  bf33a4c26486beec8111c5fe8a2f7592  1489979    TFM         Randy Kelley   \n",
       "\n",
       "                                                 position  year   salary  \\\n",
       "0       Senior Vice President, President Diagnostics a...  2021   563500   \n",
       "1                                 Chief Executive Officer  2021  1280000   \n",
       "2       Senior Vice President, President Life Sciences...  2021   625000   \n",
       "3          Senior Vice President, Chief Financial Officer  2021   663500   \n",
       "4        Senior Vice President, President Cross-Lab Group  2021   495000   \n",
       "...                                                   ...   ...      ...   \n",
       "173772                                                     2009        0   \n",
       "173773                                                     2009        0   \n",
       "173774                                                     2009        0   \n",
       "173775                                      and Marketing  2009   209500   \n",
       "173776                                                     2009        0   \n",
       "\n",
       "        bonus  stockAwards  optionAwards  nonEquityIncentiveCompensation  \\\n",
       "0           0      1541332             0                          738536   \n",
       "1           0      9165390             0                         3149714   \n",
       "2           0      1812285             0                          897589   \n",
       "3           0      2291271             0                         1007000   \n",
       "4           0      1249771             0                          686716   \n",
       "...       ...          ...           ...                             ...   \n",
       "173772      0            0             0                               0   \n",
       "173773      0            0             0                               0   \n",
       "173774      0            0             0                               0   \n",
       "173775  75000            0        880273                               0   \n",
       "173776      0            0             0                               0   \n",
       "\n",
       "        otherCompensation     total  changeInPensionValueAndDeferredEarnings  \n",
       "0                   33534   3262887                                      NaN  \n",
       "1                   77512  15967631                                      NaN  \n",
       "2                   13684   3802349                                      NaN  \n",
       "3                  176196   4711733                                      NaN  \n",
       "4                  499472   3243927                                      NaN  \n",
       "...                   ...       ...                                      ...  \n",
       "173772              15067   1475018                                      NaN  \n",
       "173773              23181   1670897                                      NaN  \n",
       "173774              95105   2330074                                      NaN  \n",
       "173775              15827   1180600                                      NaN  \n",
       "173776              16384    681341                                      NaN  \n",
       "\n",
       "[173777 rows x 14 columns]"
      ]
     },
     "execution_count": 18,
     "metadata": {},
     "output_type": "execute_result"
    }
   ],
   "source": [
    "starter_df"
   ]
  },
  {
   "cell_type": "code",
   "execution_count": 43,
   "metadata": {},
   "outputs": [
    {
     "data": {
      "text/plain": [
       "Text(0.5, 0, 'NEO Salary')"
      ]
     },
     "execution_count": 43,
     "metadata": {},
     "output_type": "execute_result"
    },
    {
     "data": {
      "image/png": "[encoded data removed]",
      "text/plain": [
       "<Figure size 864x216 with 1 Axes>"
      ]
     },
     "metadata": {
      "needs_background": "light"
     },
     "output_type": "display_data"
    }
   ],
   "source": [
    "plt.figure(figsize=(12,3))\n",
    "sns.histplot(starter_df[(starter_df['salary'] < 5000000) & (starter_df['salary'] > 0)]['salary'])\n",
    "plt.title('Distribution of NEO salary less than $5M')\n",
    "plt.xlabel('NEO Salary')"
   ]
  },
  {
   "cell_type": "code",
   "execution_count": 48,
   "metadata": {},
   "outputs": [
    {
     "name": "stderr",
     "output_type": "stream",
     "text": [
      "C:\\Users\\reagins\\AppData\\Local\\Packages\\PythonSoftwareFoundation.Python.3.10_qbz5n2kfra8p0\\LocalCache\\local-packages\\Python310\\site-packages\\seaborn\\_decorators.py:36: FutureWarning: Pass the following variable as a keyword arg: x. From version 0.12, the only valid positional argument will be `data`, and passing other arguments without an explicit keyword will result in an error or misinterpretation.\n",
      "  warnings.warn(\n"
     ]
    },
    {
     "data": {
      "text/plain": [
       "Text(0.5, 0, 'NEO Salary')"
      ]
     },
     "execution_count": 48,
     "metadata": {},
     "output_type": "execute_result"
    },
    {
     "data": {
      "image/png": "[encoded data removed]",
      "text/plain": [
       "<Figure size 864x216 with 1 Axes>"
      ]
     },
     "metadata": {
      "needs_background": "light"
     },
     "output_type": "display_data"
    }
   ],
   "source": [
    "plt.figure(figsize=(12,3))\n",
    "sns.boxplot(starter_df[(starter_df['salary'] < 5000000) & (starter_df['salary'] > 0)]['salary'])\n",
    "plt.title('Distribution of NEO salary less than $5M')\n",
    "plt.ylabel(' ')\n",
    "plt.xlabel('NEO Salary')"
   ]
  },
  {
   "cell_type": "code",
   "execution_count": null,
   "metadata": {},
   "outputs": [],
   "source": []
  },
  {
   "cell_type": "code",
   "execution_count": 51,
   "metadata": {},
   "outputs": [
    {
     "data": {
      "text/plain": [
       "Text(0.5, 0, 'NEO Stock Award')"
      ]
     },
     "execution_count": 51,
     "metadata": {},
     "output_type": "execute_result"
    },
    {
     "data": {
      "image/png": "[encoded data removed]",
      "text/plain": [
       "<Figure size 864x216 with 1 Axes>"
      ]
     },
     "metadata": {
      "needs_background": "light"
     },
     "output_type": "display_data"
    }
   ],
   "source": [
    "plt.figure(figsize=(12,3))\n",
    "sns.histplot(starter_df[(starter_df['stockAwards'] < 15000000) & (starter_df['stockAwards'] > 0)]['stockAwards'])\n",
    "plt.title('Distribution of NEO stock awards less than $15M')\n",
    "\n",
    "plt.xlabel('NEO Stock Award')"
   ]
  },
  {
   "cell_type": "code",
   "execution_count": 54,
   "metadata": {},
   "outputs": [
    {
     "data": {
      "text/plain": [
       "Text(0.5, 0, 'NEO Stock Award')"
      ]
     },
     "execution_count": 54,
     "metadata": {},
     "output_type": "execute_result"
    },
    {
     "data": {
      "image/png": "[encoded data removed]",
      "text/plain": [
       "<Figure size 864x216 with 1 Axes>"
      ]
     },
     "metadata": {
      "needs_background": "light"
     },
     "output_type": "display_data"
    }
   ],
   "source": [
    "plt.figure(figsize=(12,3))\n",
    "sns.boxplot(x=starter_df[(starter_df['stockAwards'] < 15000000) & (starter_df['stockAwards'] > 0)]['stockAwards'])\n",
    "plt.title('Distribution of NEO stock awards less than $15M')\n",
    "plt.ylabel(' ')\n",
    "plt.xlabel('NEO Stock Award')"
   ]
  },
  {
   "cell_type": "code",
   "execution_count": null,
   "metadata": {},
   "outputs": [],
   "source": []
  }
 ],
 "metadata": {
  "kernelspec": {
   "display_name": "Python 3 (ipykernel)",
   "language": "python",
   "name": "python3"
  },
  "language_info": {
   "codemirror_mode": {
    "name": "ipython",
    "version": 3
   },
   "file_extension": ".py",
   "mimetype": "text/x-python",
   "name": "python",
   "nbconvert_exporter": "python",
   "pygments_lexer": "ipython3",
   "version": "3.10.6"
  }
 },
 "nbformat": 4,
 "nbformat_minor": 4
}
