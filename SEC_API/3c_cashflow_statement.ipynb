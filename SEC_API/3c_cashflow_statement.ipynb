{
 "cells": [
  {
   "cell_type": "code",
   "execution_count": 1,
   "id": "7b97369e-d24d-4852-9830-26fe13957837",
   "metadata": {},
   "outputs": [],
   "source": [
    "import json\n",
    "\n",
    "import pandas as pd\n",
    "import numpy as np\n",
    "\n",
    "import matplotlib.pyplot as plt\n",
    "import seaborn as sns"
   ]
  },
  {
   "cell_type": "code",
   "execution_count": 2,
   "id": "a6544e97-20e3-47ec-98de-b251c2e0a3c8",
   "metadata": {},
   "outputs": [],
   "source": [
    "#reading the data from a file\n",
    "with open('AAPL_10K_2021.txt') as f:\n",
    "    aapl_txt = f.read()\n",
    "    \n",
    "#converting the text string into a dictionary\n",
    "aapl_dict = json.loads(aapl_txt)"
   ]
  },
  {
   "cell_type": "markdown",
   "id": "7c7050eb-fe4a-43f4-97da-443ccc548e09",
   "metadata": {},
   "source": [
    "### Extracting value from the Cash Flow Statement"
   ]
  },
  {
   "cell_type": "code",
   "execution_count": 7,
   "id": "8484063b-0cbd-4950-880f-27e1aef79a17",
   "metadata": {},
   "outputs": [
    {
     "data": {
      "text/plain": [
       "dict_keys(['CashCashEquivalentsRestrictedCashAndRestrictedCashEquivalents', 'NetIncomeLoss', 'DepreciationDepletionAndAmortization', 'ShareBasedCompensation', 'DeferredIncomeTaxExpenseBenefit', 'OtherNoncashIncomeExpense', 'IncreaseDecreaseInAccountsReceivable', 'IncreaseDecreaseInInventories', 'IncreaseDecreaseInOtherReceivables', 'IncreaseDecreaseInOtherOperatingAssets', 'IncreaseDecreaseInAccountsPayable', 'IncreaseDecreaseInContractWithCustomerLiability', 'IncreaseDecreaseInOtherOperatingLiabilities', 'NetCashProvidedByUsedInOperatingActivities', 'PaymentsToAcquireAvailableForSaleSecuritiesDebt', 'ProceedsFromMaturitiesPrepaymentsAndCallsOfAvailableForSaleSecurities', 'ProceedsFromSaleOfAvailableForSaleSecuritiesDebt', 'PaymentsToAcquirePropertyPlantAndEquipment', 'PaymentsToAcquireBusinessesNetOfCashAcquired', 'PaymentsToAcquireOtherInvestments', 'ProceedsFromSaleAndMaturityOfOtherInvestments', 'PaymentsForProceedsFromOtherInvestingActivities', 'NetCashProvidedByUsedInInvestingActivities', 'ProceedsFromIssuanceOfCommonStock', 'PaymentsRelatedToTaxWithholdingForShareBasedCompensation', 'PaymentsOfDividends', 'PaymentsForRepurchaseOfCommonStock', 'ProceedsFromIssuanceOfLongTermDebt', 'RepaymentsOfLongTermDebt', 'ProceedsFromRepaymentsOfCommercialPaper', 'ProceedsFromPaymentsForOtherFinancingActivities', 'NetCashProvidedByUsedInFinancingActivities', 'CashCashEquivalentsRestrictedCashAndRestrictedCashEquivalentsPeriodIncreaseDecreaseIncludingExchangeRateEffect', 'IncomeTaxesPaidNet', 'InterestPaidNet'])"
      ]
     },
     "execution_count": 7,
     "metadata": {},
     "output_type": "execute_result"
    }
   ],
   "source": [
    "aapl_dict['StatementsOfCashFlows'].keys()"
   ]
  },
  {
   "cell_type": "code",
   "execution_count": 9,
   "id": "9c2286af-2155-4d42-ad45-393e29fcb1b5",
   "metadata": {},
   "outputs": [],
   "source": [
    "aapl_dict['StatementsOfCashFlows'][]"
   ]
  },
  {
   "cell_type": "code",
   "execution_count": 9,
   "id": "9aaadde1-5e7c-477d-8167-522ac32382e5",
   "metadata": {},
   "outputs": [],
   "source": [
    "aapl_dict['StatementsOfCashFlows'][]"
   ]
  },
  {
   "cell_type": "code",
   "execution_count": 9,
   "id": "e849a2ab-7d40-4de8-98f5-bd126581e151",
   "metadata": {},
   "outputs": [],
   "source": [
    "aapl_dict['StatementsOfCashFlows'][]"
   ]
  },
  {
   "cell_type": "code",
   "execution_count": 9,
   "id": "7a82b0e5-ab58-4618-b372-0c199f4cec58",
   "metadata": {},
   "outputs": [],
   "source": [
    "aapl_dict['StatementsOfCashFlows'][]"
   ]
  },
  {
   "cell_type": "code",
   "execution_count": 9,
   "id": "5b0213bb-0ef1-4af0-ba34-2256e1896e59",
   "metadata": {},
   "outputs": [],
   "source": [
    "aapl_dict['StatementsOfCashFlows'][]"
   ]
  },
  {
   "cell_type": "code",
   "execution_count": 9,
   "id": "8dc6a57f-a478-4ecc-8a35-828d70190ac7",
   "metadata": {},
   "outputs": [],
   "source": [
    "aapl_dict['StatementsOfCashFlows'][]"
   ]
  },
  {
   "cell_type": "code",
   "execution_count": 9,
   "id": "f512f455-332e-4f7a-94d8-9f07b8e03957",
   "metadata": {},
   "outputs": [],
   "source": [
    "aapl_dict['StatementsOfCashFlows'][]"
   ]
  },
  {
   "cell_type": "code",
   "execution_count": 9,
   "id": "d3c68306-55b5-49c2-8fdc-76c21c7ead89",
   "metadata": {},
   "outputs": [],
   "source": [
    "aapl_dict['StatementsOfCashFlows'][]"
   ]
  },
  {
   "cell_type": "code",
   "execution_count": 9,
   "id": "3573ff1b-ea6f-41c8-89a5-bc485efdea45",
   "metadata": {},
   "outputs": [],
   "source": [
    "aapl_dict['StatementsOfCashFlows'][]"
   ]
  },
  {
   "cell_type": "code",
   "execution_count": 9,
   "id": "e30e42fe-3593-4e09-bb08-495a2265d0af",
   "metadata": {},
   "outputs": [],
   "source": [
    "aapl_dict['StatementsOfCashFlows'][]"
   ]
  },
  {
   "cell_type": "code",
   "execution_count": 9,
   "id": "a7d15e27-fbed-45ce-af95-223f3367483a",
   "metadata": {},
   "outputs": [],
   "source": [
    "aapl_dict['StatementsOfCashFlows'][]"
   ]
  },
  {
   "cell_type": "code",
   "execution_count": 9,
   "id": "3874f092-78a9-426c-b2e7-cbb54f4b0bbd",
   "metadata": {},
   "outputs": [],
   "source": [
    "aapl_dict['StatementsOfCashFlows'][]"
   ]
  },
  {
   "cell_type": "code",
   "execution_count": 9,
   "id": "e5eaada3-8b22-4f4e-bfa8-6fa000b3ba1c",
   "metadata": {},
   "outputs": [],
   "source": [
    "aapl_dict['StatementsOfCashFlows'][]"
   ]
  },
  {
   "cell_type": "code",
   "execution_count": 9,
   "id": "8c15257c-6e44-47a2-ae09-909843dd38f3",
   "metadata": {},
   "outputs": [],
   "source": [
    "aapl_dict['StatementsOfCashFlows'][]"
   ]
  },
  {
   "cell_type": "code",
   "execution_count": 9,
   "id": "bbbf4a0c-8806-4628-98aa-1cb969c766a9",
   "metadata": {},
   "outputs": [],
   "source": [
    "aapl_dict['StatementsOfCashFlows'][]"
   ]
  },
  {
   "cell_type": "code",
   "execution_count": 9,
   "id": "d9554cea-359a-4714-ad00-571d892915da",
   "metadata": {},
   "outputs": [],
   "source": [
    "aapl_dict['StatementsOfCashFlows'][]"
   ]
  },
  {
   "cell_type": "code",
   "execution_count": 9,
   "id": "fb09e238-c687-4bfc-9931-4e007848b009",
   "metadata": {},
   "outputs": [],
   "source": [
    "aapl_dict['StatementsOfCashFlows'][]"
   ]
  },
  {
   "cell_type": "code",
   "execution_count": 9,
   "id": "4f3b79e9-78e3-4342-91ad-875fbd23a656",
   "metadata": {},
   "outputs": [],
   "source": [
    "aapl_dict['StatementsOfCashFlows'][]"
   ]
  },
  {
   "cell_type": "code",
   "execution_count": 9,
   "id": "5fb81713-753d-4549-b342-dc71d97437b3",
   "metadata": {},
   "outputs": [],
   "source": [
    "aapl_dict['StatementsOfCashFlows'][]"
   ]
  },
  {
   "cell_type": "code",
   "execution_count": 9,
   "id": "ccb92080-5901-4073-8840-6b78115c5df3",
   "metadata": {},
   "outputs": [],
   "source": [
    "aapl_dict['StatementsOfCashFlows'][]"
   ]
  },
  {
   "cell_type": "code",
   "execution_count": 9,
   "id": "28c008e8-fcfd-4786-b005-f724882dc1af",
   "metadata": {},
   "outputs": [],
   "source": [
    "aapl_dict['StatementsOfCashFlows'][]"
   ]
  },
  {
   "cell_type": "code",
   "execution_count": 9,
   "id": "92ce782a-70b5-4768-aeaa-56b70b47a082",
   "metadata": {},
   "outputs": [],
   "source": [
    "aapl_dict['StatementsOfCashFlows'][]"
   ]
  },
  {
   "cell_type": "code",
   "execution_count": 9,
   "id": "25b6e5b9-45c7-41fc-aa8c-fbcc88398a40",
   "metadata": {},
   "outputs": [],
   "source": [
    "aapl_dict['StatementsOfCashFlows'][]"
   ]
  },
  {
   "cell_type": "code",
   "execution_count": 9,
   "id": "14731e0b-21f1-450a-92d0-158b3eedbeb3",
   "metadata": {},
   "outputs": [],
   "source": [
    "aapl_dict['StatementsOfCashFlows'][]"
   ]
  },
  {
   "cell_type": "code",
   "execution_count": 9,
   "id": "19e736bb-800d-4717-910a-9d9f7ac166e3",
   "metadata": {},
   "outputs": [],
   "source": [
    "aapl_dict['StatementsOfCashFlows'][]"
   ]
  },
  {
   "cell_type": "code",
   "execution_count": 9,
   "id": "02730327-4517-4f2f-a550-8d7b33fab30e",
   "metadata": {},
   "outputs": [],
   "source": [
    "aapl_dict['StatementsOfCashFlows'][]"
   ]
  },
  {
   "cell_type": "code",
   "execution_count": 9,
   "id": "cc64f4b6-226b-4133-a7c6-e7ee6cb83068",
   "metadata": {},
   "outputs": [],
   "source": [
    "aapl_dict['StatementsOfCashFlows'][]"
   ]
  },
  {
   "cell_type": "code",
   "execution_count": null,
   "id": "b907f8a1-937b-414a-808b-3fbac3743fbc",
   "metadata": {},
   "outputs": [],
   "source": []
  },
  {
   "cell_type": "code",
   "execution_count": null,
   "id": "e87350a2-39fe-4e6a-b3df-4bc95f5d5134",
   "metadata": {},
   "outputs": [],
   "source": []
  },
  {
   "cell_type": "code",
   "execution_count": null,
   "id": "492e42b1-961d-45f7-8ebe-b5aa90d30a20",
   "metadata": {},
   "outputs": [],
   "source": []
  },
  {
   "cell_type": "code",
   "execution_count": 16,
   "id": "135f7c53-0cbb-4d2a-9864-94fd0fc41208",
   "metadata": {},
   "outputs": [],
   "source": [
    "#reading the data from a file\n",
    "with open('INTC_10K_2021.txt') as f:\n",
    "    intc_txt = f.read()\n",
    "    \n",
    "#converting the text string into a dictionary\n",
    "intc_dict = json.loads(intc_txt)"
   ]
  },
  {
   "cell_type": "code",
   "execution_count": 24,
   "id": "7e8a8e62-657d-4999-9c26-8d202e39b45e",
   "metadata": {},
   "outputs": [],
   "source": [
    "#reading the data from a file\n",
    "with open('10K_datasets/MSFT_10K_2022.txt') as f:\n",
    "    msft_txt = f.read()\n",
    "    \n",
    "#converting the text string into a dictionary\n",
    "msft_dict = json.loads(msft_txt)"
   ]
  },
  {
   "cell_type": "code",
   "execution_count": 25,
   "id": "30269038-958b-4f1b-9365-a9ae6d7e0d9e",
   "metadata": {},
   "outputs": [],
   "source": [
    "keys_intc_cf = intc_dict['StatementsOfCashFlows'].keys()\n",
    "keys_aapl_cf = aapl_dict['StatementsOfCashFlows'].keys()\n",
    "keys_msft_cf = msft_dict['StatementsOfCashFlows'].keys()"
   ]
  },
  {
   "cell_type": "code",
   "execution_count": 26,
   "id": "83666420-7bb9-4aef-b96b-393ef90ddf5c",
   "metadata": {},
   "outputs": [
    {
     "data": {
      "text/plain": [
       "{'CashCashEquivalentsRestrictedCashAndRestrictedCashEquivalents',\n",
       " 'CashCashEquivalentsRestrictedCashAndRestrictedCashEquivalentsPeriodIncreaseDecreaseIncludingExchangeRateEffect',\n",
       " 'IncreaseDecreaseInAccountsPayable',\n",
       " 'IncreaseDecreaseInAccountsReceivable',\n",
       " 'IncreaseDecreaseInContractWithCustomerLiability',\n",
       " 'IncreaseDecreaseInInventories',\n",
       " 'NetCashProvidedByUsedInFinancingActivities',\n",
       " 'NetCashProvidedByUsedInInvestingActivities',\n",
       " 'NetCashProvidedByUsedInOperatingActivities',\n",
       " 'NetIncomeLoss',\n",
       " 'PaymentsForProceedsFromOtherInvestingActivities',\n",
       " 'PaymentsForRepurchaseOfCommonStock',\n",
       " 'PaymentsToAcquirePropertyPlantAndEquipment',\n",
       " 'ProceedsFromMaturitiesPrepaymentsAndCallsOfAvailableForSaleSecurities',\n",
       " 'ProceedsFromPaymentsForOtherFinancingActivities',\n",
       " 'ShareBasedCompensation'}"
      ]
     },
     "execution_count": 26,
     "metadata": {},
     "output_type": "execute_result"
    }
   ],
   "source": [
    "keys_aapl_cf & keys_intc_cf & keys_msft_cf"
   ]
  },
  {
   "cell_type": "code",
   "execution_count": 27,
   "id": "ab64c1fe-0c65-4505-ab72-c680484c9d2b",
   "metadata": {},
   "outputs": [
    {
     "name": "stdout",
     "output_type": "stream",
     "text": [
      "AAPL only: PaymentsRelatedToTaxWithholdingForShareBasedCompensation\n",
      "AAPL only: OtherNoncashIncomeExpense\n",
      "AAPL only: ProceedsFromSaleOfAvailableForSaleSecuritiesDebt\n",
      "AAPL only: ProceedsFromSaleAndMaturityOfOtherInvestments\n",
      "AAPL only: PaymentsOfDividends\n",
      "AAPL only: ProceedsFromRepaymentsOfCommercialPaper\n",
      "AAPL only: DepreciationDepletionAndAmortization\n",
      "AAPL only: IncreaseDecreaseInOtherOperatingLiabilities\n",
      "AAPL only: IncreaseDecreaseInOtherReceivables\n",
      "AAPL only: IncreaseDecreaseInOtherOperatingAssets\n",
      "\n",
      "\n",
      "INTC only: PaymentsToAcquireShortTermInvestments\n",
      "INTC only: IncreaseDecreaseInEmployeeRelatedLiabilities\n",
      "INTC only: IncreaseDecreaseInOtherOperatingCapitalNet\n",
      "INTC only: CapitalExpendituresIncurredButNotYetPaid\n",
      "INTC only: Depreciation\n",
      "INTC only: DisposalGroupNotDiscontinuedOperationGainLossOnDisposal\n",
      "INTC only: ProceedsFromStockPlans\n",
      "INTC only: RestructuringSettlementAndImpairmentProvisions\n",
      "INTC only: AdjustmentsToReconcileNetIncomeLossToCashProvidedByUsedInOperatingActivities\n",
      "INTC only: DivestitureAdditionsToPropertyPlantAndEquipmentHeldForSale\n",
      "INTC only: ProceedsFromEquityMethodInvestmentDividendsOrDistributionsReturnOfCapital\n",
      "INTC only: IncreaseDecreaseInEquitySecuritiesFvNi\n",
      "INTC only: IncreaseDecreaseInIncomeTaxesPayableNetOfIncomeTaxesReceivable\n",
      "INTC only: AmortizationOfIntangibleAssets\n",
      "INTC only: ProceedsFromSaleMaturityAndCollectionOfShorttermInvestments\n",
      "\n",
      "\n",
      "MSFT only: DepreciationAmortizationAndOther\n",
      "MSFT only: IncreaseDecreaseInOtherNoncurrentLiabilities\n",
      "MSFT only: PaymentsToAcquireInvestments\n",
      "MSFT only: IncreaseDecreaseInAccruedIncomeTaxesPayable\n",
      "MSFT only: IncreaseDecreaseInOtherCurrentAssets\n",
      "MSFT only: PaymentsOfDebtRestructuringCosts\n",
      "MSFT only: IncreaseDecreaseInOtherNoncurrentAssets\n",
      "MSFT only: IncreaseDecreaseInOtherCurrentLiabilities\n",
      "MSFT only: GainLossOnInvestmentsAndDerivativeInstruments\n",
      "MSFT only: RepaymentsOfDebtMaturingInMoreThanThreeMonths\n",
      "MSFT only: ProceedsFromInvestments\n",
      "MSFT only: EffectOfExchangeRateOnCashCashEquivalentsRestrictedCashAndRestrictedCashEquivalentsIncludingDisposalGroupAndDiscontinuedOperations\n",
      "MSFT only: AcquisitionsNetOfCashAcquiredAndPurchasesOfIntangibleAndOtherAssets\n"
     ]
    }
   ],
   "source": [
    "keys_only_aapl_cf = keys_aapl_cf - set(keys_intc_cf | keys_msft_cf)\n",
    "keys_only_intc_cf = keys_intc_cf - set(keys_aapl_cf | keys_msft_cf)\n",
    "keys_only_msft_cf = keys_msft_cf - set(keys_aapl_cf | keys_intc_cf)\n",
    "\n",
    "for field in keys_only_aapl_cf:\n",
    "    print(f\"AAPL only: {field}\")\n",
    "\n",
    "print('\\n')\n",
    "for field in keys_only_intc_cf:\n",
    "    print(f\"INTC only: {field}\")\n",
    "\n",
    "print('\\n')\n",
    "for field in keys_only_msft_cf:\n",
    "    print(f\"MSFT only: {field}\")"
   ]
  },
  {
   "cell_type": "code",
   "execution_count": 28,
   "id": "366ceb32-e745-470a-9961-d1f7fad4b8ca",
   "metadata": {},
   "outputs": [
    {
     "name": "stdout",
     "output_type": "stream",
     "text": [
      "Not AAPL: DepreciationAmortizationAndOther\n",
      "Not AAPL: IncreaseDecreaseInOtherNoncurrentLiabilities\n",
      "Not AAPL: PaymentsToAcquireShortTermInvestments\n",
      "Not AAPL: IncreaseDecreaseInEmployeeRelatedLiabilities\n",
      "Not AAPL: IncreaseDecreaseInOtherOperatingCapitalNet\n",
      "Not AAPL: CapitalExpendituresIncurredButNotYetPaid\n",
      "Not AAPL: PaymentsToAcquireInvestments\n",
      "Not AAPL: Depreciation\n",
      "Not AAPL: IncreaseDecreaseInAccruedIncomeTaxesPayable\n",
      "Not AAPL: PaymentsOfDebtRestructuringCosts\n",
      "Not AAPL: IncreaseDecreaseInOtherNoncurrentAssets\n",
      "Not AAPL: IncreaseDecreaseInOtherCurrentAssets\n",
      "Not AAPL: DisposalGroupNotDiscontinuedOperationGainLossOnDisposal\n",
      "Not AAPL: ProceedsFromStockPlans\n",
      "Not AAPL: PaymentsOfDividendsCommonStock\n",
      "Not AAPL: IncreaseDecreaseInOtherCurrentLiabilities\n",
      "Not AAPL: GainLossOnInvestmentsAndDerivativeInstruments\n",
      "Not AAPL: RestructuringSettlementAndImpairmentProvisions\n",
      "Not AAPL: RepaymentsOfDebtMaturingInMoreThanThreeMonths\n",
      "Not AAPL: AdjustmentsToReconcileNetIncomeLossToCashProvidedByUsedInOperatingActivities\n",
      "Not AAPL: ProceedsFromInvestments\n",
      "Not AAPL: DivestitureAdditionsToPropertyPlantAndEquipmentHeldForSale\n",
      "Not AAPL: ProceedsFromEquityMethodInvestmentDividendsOrDistributionsReturnOfCapital\n",
      "Not AAPL: EffectOfExchangeRateOnCashCashEquivalentsRestrictedCashAndRestrictedCashEquivalentsIncludingDisposalGroupAndDiscontinuedOperations\n",
      "Not AAPL: AcquisitionsNetOfCashAcquiredAndPurchasesOfIntangibleAndOtherAssets\n",
      "Not AAPL: IncreaseDecreaseInEquitySecuritiesFvNi\n",
      "Not AAPL: IncreaseDecreaseInIncomeTaxesPayableNetOfIncomeTaxesReceivable\n",
      "Not AAPL: AmortizationOfIntangibleAssets\n",
      "Not AAPL: ProceedsFromSaleMaturityAndCollectionOfShorttermInvestments\n",
      "\n",
      "\n",
      "Not INTC: DepreciationAmortizationAndOther\n",
      "Not INTC: IncreaseDecreaseInOtherNoncurrentLiabilities\n",
      "Not INTC: PaymentsRelatedToTaxWithholdingForShareBasedCompensation\n",
      "Not INTC: OtherNoncashIncomeExpense\n",
      "Not INTC: ProceedsFromSaleOfAvailableForSaleSecuritiesDebt\n",
      "Not INTC: ProceedsFromSaleAndMaturityOfOtherInvestments\n",
      "Not INTC: PaymentsToAcquireInvestments\n",
      "Not INTC: PaymentsOfDividends\n",
      "Not INTC: IncreaseDecreaseInAccruedIncomeTaxesPayable\n",
      "Not INTC: PaymentsOfDebtRestructuringCosts\n",
      "Not INTC: IncreaseDecreaseInOtherNoncurrentAssets\n",
      "Not INTC: IncreaseDecreaseInOtherCurrentAssets\n",
      "Not INTC: ProceedsFromRepaymentsOfCommercialPaper\n",
      "Not INTC: IncreaseDecreaseInOtherCurrentLiabilities\n",
      "Not INTC: GainLossOnInvestmentsAndDerivativeInstruments\n",
      "Not INTC: DepreciationDepletionAndAmortization\n",
      "Not INTC: IncreaseDecreaseInOtherOperatingLiabilities\n",
      "Not INTC: RepaymentsOfDebtMaturingInMoreThanThreeMonths\n",
      "Not INTC: ProceedsFromIssuanceOfCommonStock\n",
      "Not INTC: ProceedsFromInvestments\n",
      "Not INTC: EffectOfExchangeRateOnCashCashEquivalentsRestrictedCashAndRestrictedCashEquivalentsIncludingDisposalGroupAndDiscontinuedOperations\n",
      "Not INTC: AcquisitionsNetOfCashAcquiredAndPurchasesOfIntangibleAndOtherAssets\n",
      "Not INTC: IncreaseDecreaseInOtherReceivables\n",
      "Not INTC: IncreaseDecreaseInOtherOperatingAssets\n",
      "Not INTC: DeferredIncomeTaxExpenseBenefit\n",
      "\n",
      "\n",
      "Not MSFT: PaymentsRelatedToTaxWithholdingForShareBasedCompensation\n",
      "Not MSFT: PaymentsToAcquireShortTermInvestments\n",
      "Not MSFT: IncreaseDecreaseInEmployeeRelatedLiabilities\n",
      "Not MSFT: OtherNoncashIncomeExpense\n",
      "Not MSFT: RepaymentsOfLongTermDebt\n",
      "Not MSFT: IncreaseDecreaseInOtherOperatingCapitalNet\n",
      "Not MSFT: PaymentsToAcquireOtherInvestments\n",
      "Not MSFT: InterestPaidNet\n",
      "Not MSFT: ProceedsFromSaleOfAvailableForSaleSecuritiesDebt\n",
      "Not MSFT: ProceedsFromSaleAndMaturityOfOtherInvestments\n",
      "Not MSFT: ProceedsFromIssuanceOfLongTermDebt\n",
      "Not MSFT: CapitalExpendituresIncurredButNotYetPaid\n",
      "Not MSFT: PaymentsOfDividends\n",
      "Not MSFT: Depreciation\n",
      "Not MSFT: DisposalGroupNotDiscontinuedOperationGainLossOnDisposal\n",
      "Not MSFT: ProceedsFromStockPlans\n",
      "Not MSFT: ProceedsFromRepaymentsOfCommercialPaper\n",
      "Not MSFT: RestructuringSettlementAndImpairmentProvisions\n",
      "Not MSFT: PaymentsToAcquireBusinessesNetOfCashAcquired\n",
      "Not MSFT: DepreciationDepletionAndAmortization\n",
      "Not MSFT: IncreaseDecreaseInOtherOperatingLiabilities\n",
      "Not MSFT: AdjustmentsToReconcileNetIncomeLossToCashProvidedByUsedInOperatingActivities\n",
      "Not MSFT: IncomeTaxesPaidNet\n",
      "Not MSFT: DivestitureAdditionsToPropertyPlantAndEquipmentHeldForSale\n",
      "Not MSFT: ProceedsFromEquityMethodInvestmentDividendsOrDistributionsReturnOfCapital\n",
      "Not MSFT: IncreaseDecreaseInOtherReceivables\n",
      "Not MSFT: IncreaseDecreaseInOtherOperatingAssets\n",
      "Not MSFT: IncreaseDecreaseInEquitySecuritiesFvNi\n",
      "Not MSFT: PaymentsToAcquireAvailableForSaleSecuritiesDebt\n",
      "Not MSFT: IncreaseDecreaseInIncomeTaxesPayableNetOfIncomeTaxesReceivable\n",
      "Not MSFT: AmortizationOfIntangibleAssets\n",
      "Not MSFT: ProceedsFromSaleMaturityAndCollectionOfShorttermInvestments\n"
     ]
    }
   ],
   "source": [
    "keys_not_aapl_cf = set(keys_intc_cf | keys_msft_cf) - keys_aapl_cf\n",
    "keys_not_intc_cf = set(keys_aapl_cf | keys_msft_cf) - keys_intc_cf \n",
    "keys_not_msft_cf = set(keys_aapl_cf | keys_intc_cf) - keys_msft_cf\n",
    "\n",
    "for field in keys_not_aapl_cf:\n",
    "    print(f\"Not AAPL: {field}\")\n",
    "\n",
    "print('\\n')\n",
    "for field in keys_not_intc_cf:\n",
    "    print(f\"Not INTC: {field}\")\n",
    "\n",
    "print('\\n')\n",
    "for field in keys_not_msft_cf:\n",
    "    print(f\"Not MSFT: {field}\")"
   ]
  },
  {
   "cell_type": "code",
   "execution_count": null,
   "id": "7fc29f84-2eeb-42d2-a8fe-d5e451a29d51",
   "metadata": {},
   "outputs": [],
   "source": []
  }
 ],
 "metadata": {
  "kernelspec": {
   "display_name": "Python 3 (ipykernel)",
   "language": "python",
   "name": "python3"
  },
  "language_info": {
   "codemirror_mode": {
    "name": "ipython",
    "version": 3
   },
   "file_extension": ".py",
   "mimetype": "text/x-python",
   "name": "python",
   "nbconvert_exporter": "python",
   "pygments_lexer": "ipython3",
   "version": "3.10.5"
  }
 },
 "nbformat": 4,
 "nbformat_minor": 5
}
