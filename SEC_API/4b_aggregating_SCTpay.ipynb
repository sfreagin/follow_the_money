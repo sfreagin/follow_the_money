{
 "cells": [
  {
   "cell_type": "markdown",
   "metadata": {},
   "source": [
    "### Taking the SCT text files and combining them into a single DataFrame"
   ]
  },
  {
   "cell_type": "code",
   "execution_count": 1,
   "metadata": {},
   "outputs": [],
   "source": [
    "#from collections import defaultdict\n",
    "#from pathlib import Path\n",
    "import json\n",
    "\n",
    "import os \n",
    "import time \n",
    "\n",
    "import pandas as pd\n",
    "import numpy as np\n",
    "\n",
    "import matplotlib.pyplot as plt\n",
    "import seaborn as sns"
   ]
  },
  {
   "cell_type": "code",
   "execution_count": 2,
   "metadata": {},
   "outputs": [],
   "source": [
    "russell_df = pd.read_csv('russell_3000_index.csv')\n",
    "\n",
    "ticker_list = russell_df['Ticker']"
   ]
  },
  {
   "cell_type": "code",
   "execution_count": 3,
   "metadata": {},
   "outputs": [],
   "source": [
    "#seeding the DataFrame\n",
    "#reading the data from a file\n",
    "with open('SCT_datasets/A_SCTpay_20220906.txt') as f:\n",
    "    a_txt = f.read()\n",
    "    \n",
    "#converting the text string into a dictionary\n",
    "a_dict = json.loads(a_txt)\n",
    "\n",
    "starter_df = pd.DataFrame(a_dict)"
   ]
  },
  {
   "cell_type": "code",
   "execution_count": 4,
   "metadata": {},
   "outputs": [
    {
     "name": "stdout",
     "output_type": "stream",
     "text": [
      "Ticker XTSLA threw an error\n",
      "Ticker USD threw an error\n",
      "Ticker MANH threw an error\n",
      "Ticker MPW threw an error\n",
      "Ticker AFG threw an error\n",
      "Ticker GLOB threw an error\n",
      "Ticker RRC threw an error\n",
      "Ticker UGI threw an error\n",
      "Ticker MSFUT threw an error\n",
      "Ticker ESU2 threw an error\n",
      "Ticker RTYU2 threw an error\n",
      "This code took 42.02050161361694 seconds\n"
     ]
    }
   ],
   "source": [
    "start_time = time.time()\n",
    "\n",
    "for ticker in ticker_list:\n",
    "    try:\n",
    "        with open(f'SCT_datasets/{ticker}_SCTpay_20220906.txt') as f:\n",
    "            ticker_txt = f.read()\n",
    "        ticker_dict = json.loads(ticker_txt)    \n",
    "        #ticker_df = pd.DataFrame(ticker_dict)\n",
    "        starter_df = pd.concat([starter_df,pd.DataFrame(ticker_dict)])\n",
    "    except:\n",
    "        print(f'Ticker {ticker} threw an error')\n",
    "    \n",
    "        \n",
    "        \n",
    "print(f\"This code took {time.time() - start_time} seconds\")"
   ]
  },
  {
   "cell_type": "code",
   "execution_count": 5,
   "metadata": {},
   "outputs": [],
   "source": [
    "starter_df.reset_index(inplace=True,drop=True)"
   ]
  },
  {
   "cell_type": "code",
   "execution_count": 6,
   "metadata": {},
   "outputs": [
    {
     "data": {
      "text/html": [
       "<div>\n",
       "<style scoped>\n",
       "    .dataframe tbody tr th:only-of-type {\n",
       "        vertical-align: middle;\n",
       "    }\n",
       "\n",
       "    .dataframe tbody tr th {\n",
       "        vertical-align: top;\n",
       "    }\n",
       "\n",
       "    .dataframe thead th {\n",
       "        text-align: right;\n",
       "    }\n",
       "</style>\n",
       "<table border=\"1\" class=\"dataframe\">\n",
       "  <thead>\n",
       "    <tr style=\"text-align: right;\">\n",
       "      <th></th>\n",
       "      <th>id</th>\n",
       "      <th>cik</th>\n",
       "      <th>ticker</th>\n",
       "      <th>name</th>\n",
       "      <th>position</th>\n",
       "      <th>year</th>\n",
       "      <th>salary</th>\n",
       "      <th>bonus</th>\n",
       "      <th>stockAwards</th>\n",
       "      <th>optionAwards</th>\n",
       "      <th>nonEquityIncentiveCompensation</th>\n",
       "      <th>otherCompensation</th>\n",
       "      <th>total</th>\n",
       "      <th>changeInPensionValueAndDeferredEarnings</th>\n",
       "    </tr>\n",
       "  </thead>\n",
       "  <tbody>\n",
       "    <tr>\n",
       "      <th>0</th>\n",
       "      <td>73b3a60ba203743c008330c96b7d8b66</td>\n",
       "      <td>1090872</td>\n",
       "      <td>A</td>\n",
       "      <td>Sam Raha</td>\n",
       "      <td>Senior Vice President, President Diagnostics a...</td>\n",
       "      <td>2021</td>\n",
       "      <td>563500</td>\n",
       "      <td>0</td>\n",
       "      <td>1541332</td>\n",
       "      <td>0</td>\n",
       "      <td>738536</td>\n",
       "      <td>33534</td>\n",
       "      <td>3262887</td>\n",
       "      <td>NaN</td>\n",
       "    </tr>\n",
       "    <tr>\n",
       "      <th>1</th>\n",
       "      <td>97393f60cd9f321650e472673daaa70c</td>\n",
       "      <td>1090872</td>\n",
       "      <td>A</td>\n",
       "      <td>Michael R. McMullen</td>\n",
       "      <td>Chief Executive Officer</td>\n",
       "      <td>2021</td>\n",
       "      <td>1280000</td>\n",
       "      <td>0</td>\n",
       "      <td>9165390</td>\n",
       "      <td>0</td>\n",
       "      <td>3149714</td>\n",
       "      <td>77512</td>\n",
       "      <td>15967631</td>\n",
       "      <td>NaN</td>\n",
       "    </tr>\n",
       "    <tr>\n",
       "      <th>2</th>\n",
       "      <td>83b9cc2bca477fe8ce23e0ab56e70c66</td>\n",
       "      <td>1090872</td>\n",
       "      <td>A</td>\n",
       "      <td>Jacob Thaysen</td>\n",
       "      <td>Senior Vice President, President Life Sciences...</td>\n",
       "      <td>2021</td>\n",
       "      <td>625000</td>\n",
       "      <td>0</td>\n",
       "      <td>1812285</td>\n",
       "      <td>0</td>\n",
       "      <td>897589</td>\n",
       "      <td>13684</td>\n",
       "      <td>3802349</td>\n",
       "      <td>NaN</td>\n",
       "    </tr>\n",
       "    <tr>\n",
       "      <th>3</th>\n",
       "      <td>7c60bb804071675ae15ec930f6dea190</td>\n",
       "      <td>1090872</td>\n",
       "      <td>A</td>\n",
       "      <td>Robert McMahon</td>\n",
       "      <td>Senior Vice President, Chief Financial Officer</td>\n",
       "      <td>2021</td>\n",
       "      <td>663500</td>\n",
       "      <td>0</td>\n",
       "      <td>2291271</td>\n",
       "      <td>0</td>\n",
       "      <td>1007000</td>\n",
       "      <td>176196</td>\n",
       "      <td>4711733</td>\n",
       "      <td>NaN</td>\n",
       "    </tr>\n",
       "    <tr>\n",
       "      <th>4</th>\n",
       "      <td>259b710a8befe67c61a2c3dec14f344a</td>\n",
       "      <td>1090872</td>\n",
       "      <td>A</td>\n",
       "      <td>Padraig McDonnell</td>\n",
       "      <td>Senior Vice President, President Cross-Lab Group</td>\n",
       "      <td>2021</td>\n",
       "      <td>495000</td>\n",
       "      <td>0</td>\n",
       "      <td>1249771</td>\n",
       "      <td>0</td>\n",
       "      <td>686716</td>\n",
       "      <td>499472</td>\n",
       "      <td>3243927</td>\n",
       "      <td>NaN</td>\n",
       "    </tr>\n",
       "  </tbody>\n",
       "</table>\n",
       "</div>"
      ],
      "text/plain": [
       "                                 id      cik ticker                 name  \\\n",
       "0  73b3a60ba203743c008330c96b7d8b66  1090872      A             Sam Raha   \n",
       "1  97393f60cd9f321650e472673daaa70c  1090872      A  Michael R. McMullen   \n",
       "2  83b9cc2bca477fe8ce23e0ab56e70c66  1090872      A        Jacob Thaysen   \n",
       "3  7c60bb804071675ae15ec930f6dea190  1090872      A       Robert McMahon   \n",
       "4  259b710a8befe67c61a2c3dec14f344a  1090872      A    Padraig McDonnell   \n",
       "\n",
       "                                            position  year   salary  bonus  \\\n",
       "0  Senior Vice President, President Diagnostics a...  2021   563500      0   \n",
       "1                            Chief Executive Officer  2021  1280000      0   \n",
       "2  Senior Vice President, President Life Sciences...  2021   625000      0   \n",
       "3     Senior Vice President, Chief Financial Officer  2021   663500      0   \n",
       "4   Senior Vice President, President Cross-Lab Group  2021   495000      0   \n",
       "\n",
       "   stockAwards  optionAwards  nonEquityIncentiveCompensation  \\\n",
       "0      1541332             0                          738536   \n",
       "1      9165390             0                         3149714   \n",
       "2      1812285             0                          897589   \n",
       "3      2291271             0                         1007000   \n",
       "4      1249771             0                          686716   \n",
       "\n",
       "   otherCompensation     total  changeInPensionValueAndDeferredEarnings  \n",
       "0              33534   3262887                                      NaN  \n",
       "1              77512  15967631                                      NaN  \n",
       "2              13684   3802349                                      NaN  \n",
       "3             176196   4711733                                      NaN  \n",
       "4             499472   3243927                                      NaN  "
      ]
     },
     "execution_count": 6,
     "metadata": {},
     "output_type": "execute_result"
    }
   ],
   "source": [
    "starter_df.head()"
   ]
  },
  {
   "cell_type": "code",
   "execution_count": 7,
   "metadata": {},
   "outputs": [
    {
     "data": {
      "text/plain": [
       "<AxesSubplot:xlabel='total', ylabel='salary'>"
      ]
     },
     "execution_count": 7,
     "metadata": {},
     "output_type": "execute_result"
    },
    {
     "data": {
      "image/png": "[encoded data removed]",
      "text/plain": [
       "<Figure size 432x288 with 1 Axes>"
      ]
     },
     "metadata": {
      "needs_background": "light"
     },
     "output_type": "display_data"
    }
   ],
   "source": [
    "sns.scatterplot(data=starter_df, x='total',y='salary')"
   ]
  },
  {
   "cell_type": "code",
   "execution_count": 8,
   "metadata": {},
   "outputs": [
    {
     "data": {
      "text/plain": [
       "<AxesSubplot:xlabel='salary'>"
      ]
     },
     "execution_count": 8,
     "metadata": {},
     "output_type": "execute_result"
    },
    {
     "data": {
      "image/png": "[encoded data removed]",
      "text/plain": [
       "<Figure size 432x288 with 1 Axes>"
      ]
     },
     "metadata": {
      "needs_background": "light"
     },
     "output_type": "display_data"
    }
   ],
   "source": [
    "sns.rugplot(x=starter_df['salary'])"
   ]
  },
  {
   "cell_type": "code",
   "execution_count": 9,
   "metadata": {},
   "outputs": [
    {
     "data": {
      "text/plain": [
       "<AxesSubplot:xlabel='salary'>"
      ]
     },
     "execution_count": 9,
     "metadata": {},
     "output_type": "execute_result"
    },
    {
     "data": {
      "image/png": "[encoded data removed]",
      "text/plain": [
       "<Figure size 432x288 with 1 Axes>"
      ]
     },
     "metadata": {
      "needs_background": "light"
     },
     "output_type": "display_data"
    }
   ],
   "source": [
    "sns.boxplot(x=starter_df['salary'])"
   ]
  },
  {
   "cell_type": "code",
   "execution_count": 10,
   "metadata": {},
   "outputs": [
    {
     "data": {
      "text/plain": [
       "18200060667"
      ]
     },
     "execution_count": 10,
     "metadata": {},
     "output_type": "execute_result"
    }
   ],
   "source": [
    "starter_df['salary'].max()"
   ]
  },
  {
   "cell_type": "code",
   "execution_count": 11,
   "metadata": {},
   "outputs": [
    {
     "data": {
      "text/html": [
       "<div>\n",
       "<style scoped>\n",
       "    .dataframe tbody tr th:only-of-type {\n",
       "        vertical-align: middle;\n",
       "    }\n",
       "\n",
       "    .dataframe tbody tr th {\n",
       "        vertical-align: top;\n",
       "    }\n",
       "\n",
       "    .dataframe thead th {\n",
       "        text-align: right;\n",
       "    }\n",
       "</style>\n",
       "<table border=\"1\" class=\"dataframe\">\n",
       "  <thead>\n",
       "    <tr style=\"text-align: right;\">\n",
       "      <th></th>\n",
       "      <th>id</th>\n",
       "      <th>cik</th>\n",
       "      <th>ticker</th>\n",
       "      <th>name</th>\n",
       "      <th>position</th>\n",
       "      <th>year</th>\n",
       "      <th>salary</th>\n",
       "      <th>bonus</th>\n",
       "      <th>stockAwards</th>\n",
       "      <th>optionAwards</th>\n",
       "      <th>nonEquityIncentiveCompensation</th>\n",
       "      <th>otherCompensation</th>\n",
       "      <th>total</th>\n",
       "      <th>changeInPensionValueAndDeferredEarnings</th>\n",
       "    </tr>\n",
       "  </thead>\n",
       "  <tbody>\n",
       "    <tr>\n",
       "      <th>149457</th>\n",
       "      <td>1e4ef9a59c291947b10235e1cca11435</td>\n",
       "      <td>318300</td>\n",
       "      <td>PEBO</td>\n",
       "      <td>Deborah K. Hill</td>\n",
       "      <td>Executive Vice President, Consumer and Busines...</td>\n",
       "      <td>2008</td>\n",
       "      <td>18200060667</td>\n",
       "      <td>30000</td>\n",
       "      <td>30135</td>\n",
       "      <td>4436</td>\n",
       "      <td>0</td>\n",
       "      <td>10127</td>\n",
       "      <td>256698</td>\n",
       "      <td>NaN</td>\n",
       "    </tr>\n",
       "  </tbody>\n",
       "</table>\n",
       "</div>"
      ],
      "text/plain": [
       "                                      id     cik ticker             name  \\\n",
       "149457  1e4ef9a59c291947b10235e1cca11435  318300   PEBO  Deborah K. Hill   \n",
       "\n",
       "                                                 position  year       salary  \\\n",
       "149457  Executive Vice President, Consumer and Busines...  2008  18200060667   \n",
       "\n",
       "        bonus  stockAwards  optionAwards  nonEquityIncentiveCompensation  \\\n",
       "149457  30000        30135          4436                               0   \n",
       "\n",
       "        otherCompensation   total  changeInPensionValueAndDeferredEarnings  \n",
       "149457              10127  256698                                      NaN  "
      ]
     },
     "execution_count": 11,
     "metadata": {},
     "output_type": "execute_result"
    }
   ],
   "source": [
    "#find the index of the highest salary\n",
    "highest_salary_index = starter_df[['salary']].idxmax()\n",
    "\n",
    "#look at this highest salary, which is clearly incorrect\n",
    "starter_df.iloc[highest_salary_index]"
   ]
  },
  {
   "cell_type": "code",
   "execution_count": 15,
   "metadata": {},
   "outputs": [],
   "source": [
    "#this cell is run out of order\n",
    "#mistakes_df = starter_df.iloc[highest_salary_index].copy()"
   ]
  },
  {
   "cell_type": "code",
   "execution_count": 11,
   "metadata": {},
   "outputs": [
    {
     "ename": "NameError",
     "evalue": "name 'mistakes_df' is not defined",
     "output_type": "error",
     "traceback": [
      "\u001b[1;31m---------------------------------------------------------------------------\u001b[0m",
      "\u001b[1;31mNameError\u001b[0m                                 Traceback (most recent call last)",
      "\u001b[1;32m<ipython-input-11-ac65b0aa124e>\u001b[0m in \u001b[0;36m<module>\u001b[1;34m\u001b[0m\n\u001b[1;32m----> 1\u001b[1;33m \u001b[0mmistakes_df\u001b[0m \u001b[1;33m=\u001b[0m \u001b[0mpd\u001b[0m\u001b[1;33m.\u001b[0m\u001b[0mconcat\u001b[0m\u001b[1;33m(\u001b[0m\u001b[1;33m[\u001b[0m\u001b[0mmistakes_df\u001b[0m\u001b[1;33m,\u001b[0m\u001b[0mstarter_df\u001b[0m\u001b[1;33m.\u001b[0m\u001b[0miloc\u001b[0m\u001b[1;33m[\u001b[0m\u001b[0mhighest_salary_index\u001b[0m\u001b[1;33m]\u001b[0m\u001b[1;33m]\u001b[0m\u001b[1;33m)\u001b[0m\u001b[1;33m\u001b[0m\u001b[1;33m\u001b[0m\u001b[0m\n\u001b[0m",
      "\u001b[1;31mNameError\u001b[0m: name 'mistakes_df' is not defined"
     ]
    }
   ],
   "source": [
    "mistakes_df = pd.concat([mistakes_df,starter_df.iloc[highest_salary_index]])"
   ]
  },
  {
   "cell_type": "code",
   "execution_count": 17,
   "metadata": {},
   "outputs": [],
   "source": [
    "#dropping the highest salary row\n",
    "starter_df.drop(labels=[highest_salary_index[0]],axis=0,inplace=True)\n",
    "starter_df.reset_index(inplace=True, drop=True)"
   ]
  },
  {
   "cell_type": "code",
   "execution_count": 475,
   "metadata": {},
   "outputs": [],
   "source": [
    "#mistakes_df.to_csv('mistakes.csv')#,index = False)"
   ]
  },
  {
   "cell_type": "code",
   "execution_count": 20,
   "metadata": {},
   "outputs": [],
   "source": [
    "bad_ticker_list = pd.read_csv('mistakes.csv')['ticker'].unique()\n",
    "\n",
    "bad_index_list = pd.read_csv('mistakes.csv')['Unnamed: 0']"
   ]
  },
  {
   "cell_type": "code",
   "execution_count": 25,
   "metadata": {},
   "outputs": [],
   "source": [
    "#get rid of the bad tickers\n",
    "starter_df = starter_df[~starter_df['ticker'].isin(bad_ticker_list)]"
   ]
  },
  {
   "cell_type": "code",
   "execution_count": 28,
   "metadata": {},
   "outputs": [
    {
     "data": {
      "text/html": [
       "<div>\n",
       "<style scoped>\n",
       "    .dataframe tbody tr th:only-of-type {\n",
       "        vertical-align: middle;\n",
       "    }\n",
       "\n",
       "    .dataframe tbody tr th {\n",
       "        vertical-align: top;\n",
       "    }\n",
       "\n",
       "    .dataframe thead th {\n",
       "        text-align: right;\n",
       "    }\n",
       "</style>\n",
       "<table border=\"1\" class=\"dataframe\">\n",
       "  <thead>\n",
       "    <tr style=\"text-align: right;\">\n",
       "      <th></th>\n",
       "      <th>year</th>\n",
       "      <th>salary</th>\n",
       "      <th>bonus</th>\n",
       "      <th>stockAwards</th>\n",
       "      <th>optionAwards</th>\n",
       "      <th>nonEquityIncentiveCompensation</th>\n",
       "      <th>otherCompensation</th>\n",
       "      <th>total</th>\n",
       "      <th>changeInPensionValueAndDeferredEarnings</th>\n",
       "    </tr>\n",
       "  </thead>\n",
       "  <tbody>\n",
       "    <tr>\n",
       "      <th>count</th>\n",
       "      <td>173116.000000</td>\n",
       "      <td>1.731160e+05</td>\n",
       "      <td>1.731160e+05</td>\n",
       "      <td>1.731160e+05</td>\n",
       "      <td>1.731160e+05</td>\n",
       "      <td>1.731160e+05</td>\n",
       "      <td>1.731160e+05</td>\n",
       "      <td>1.731160e+05</td>\n",
       "      <td>5.599800e+04</td>\n",
       "    </tr>\n",
       "    <tr>\n",
       "      <th>mean</th>\n",
       "      <td>2014.197423</td>\n",
       "      <td>4.820140e+05</td>\n",
       "      <td>9.312163e+05</td>\n",
       "      <td>1.494504e+06</td>\n",
       "      <td>1.424884e+06</td>\n",
       "      <td>9.667322e+05</td>\n",
       "      <td>4.414802e+05</td>\n",
       "      <td>3.297269e+06</td>\n",
       "      <td>1.494591e+05</td>\n",
       "    </tr>\n",
       "    <tr>\n",
       "      <th>std</th>\n",
       "      <td>4.545604</td>\n",
       "      <td>3.731142e+05</td>\n",
       "      <td>1.497735e+08</td>\n",
       "      <td>5.588771e+07</td>\n",
       "      <td>1.844805e+08</td>\n",
       "      <td>8.388864e+07</td>\n",
       "      <td>9.141134e+07</td>\n",
       "      <td>1.702662e+07</td>\n",
       "      <td>8.234798e+05</td>\n",
       "    </tr>\n",
       "    <tr>\n",
       "      <th>min</th>\n",
       "      <td>2004.000000</td>\n",
       "      <td>0.000000e+00</td>\n",
       "      <td>0.000000e+00</td>\n",
       "      <td>0.000000e+00</td>\n",
       "      <td>0.000000e+00</td>\n",
       "      <td>0.000000e+00</td>\n",
       "      <td>0.000000e+00</td>\n",
       "      <td>0.000000e+00</td>\n",
       "      <td>0.000000e+00</td>\n",
       "    </tr>\n",
       "    <tr>\n",
       "      <th>25%</th>\n",
       "      <td>2010.000000</td>\n",
       "      <td>2.879182e+05</td>\n",
       "      <td>0.000000e+00</td>\n",
       "      <td>0.000000e+00</td>\n",
       "      <td>0.000000e+00</td>\n",
       "      <td>0.000000e+00</td>\n",
       "      <td>8.556000e+03</td>\n",
       "      <td>7.855870e+05</td>\n",
       "      <td>0.000000e+00</td>\n",
       "    </tr>\n",
       "    <tr>\n",
       "      <th>50%</th>\n",
       "      <td>2015.000000</td>\n",
       "      <td>4.130860e+05</td>\n",
       "      <td>0.000000e+00</td>\n",
       "      <td>3.379195e+05</td>\n",
       "      <td>0.000000e+00</td>\n",
       "      <td>1.800000e+05</td>\n",
       "      <td>2.622000e+04</td>\n",
       "      <td>1.658577e+06</td>\n",
       "      <td>0.000000e+00</td>\n",
       "    </tr>\n",
       "    <tr>\n",
       "      <th>75%</th>\n",
       "      <td>2018.000000</td>\n",
       "      <td>6.000000e+05</td>\n",
       "      <td>9.401250e+03</td>\n",
       "      <td>1.174012e+06</td>\n",
       "      <td>3.325902e+05</td>\n",
       "      <td>5.485542e+05</td>\n",
       "      <td>8.063675e+04</td>\n",
       "      <td>3.540130e+06</td>\n",
       "      <td>9.800000e+03</td>\n",
       "    </tr>\n",
       "    <tr>\n",
       "      <th>max</th>\n",
       "      <td>2022.000000</td>\n",
       "      <td>2.000000e+07</td>\n",
       "      <td>5.232056e+10</td>\n",
       "      <td>1.798045e+10</td>\n",
       "      <td>4.999991e+10</td>\n",
       "      <td>1.877108e+10</td>\n",
       "      <td>3.736161e+10</td>\n",
       "      <td>5.682146e+09</td>\n",
       "      <td>6.268528e+07</td>\n",
       "    </tr>\n",
       "  </tbody>\n",
       "</table>\n",
       "</div>"
      ],
      "text/plain": [
       "                year        salary         bonus   stockAwards  optionAwards  \\\n",
       "count  173116.000000  1.731160e+05  1.731160e+05  1.731160e+05  1.731160e+05   \n",
       "mean     2014.197423  4.820140e+05  9.312163e+05  1.494504e+06  1.424884e+06   \n",
       "std         4.545604  3.731142e+05  1.497735e+08  5.588771e+07  1.844805e+08   \n",
       "min      2004.000000  0.000000e+00  0.000000e+00  0.000000e+00  0.000000e+00   \n",
       "25%      2010.000000  2.879182e+05  0.000000e+00  0.000000e+00  0.000000e+00   \n",
       "50%      2015.000000  4.130860e+05  0.000000e+00  3.379195e+05  0.000000e+00   \n",
       "75%      2018.000000  6.000000e+05  9.401250e+03  1.174012e+06  3.325902e+05   \n",
       "max      2022.000000  2.000000e+07  5.232056e+10  1.798045e+10  4.999991e+10   \n",
       "\n",
       "       nonEquityIncentiveCompensation  otherCompensation         total  \\\n",
       "count                    1.731160e+05       1.731160e+05  1.731160e+05   \n",
       "mean                     9.667322e+05       4.414802e+05  3.297269e+06   \n",
       "std                      8.388864e+07       9.141134e+07  1.702662e+07   \n",
       "min                      0.000000e+00       0.000000e+00  0.000000e+00   \n",
       "25%                      0.000000e+00       8.556000e+03  7.855870e+05   \n",
       "50%                      1.800000e+05       2.622000e+04  1.658577e+06   \n",
       "75%                      5.485542e+05       8.063675e+04  3.540130e+06   \n",
       "max                      1.877108e+10       3.736161e+10  5.682146e+09   \n",
       "\n",
       "       changeInPensionValueAndDeferredEarnings  \n",
       "count                             5.599800e+04  \n",
       "mean                              1.494591e+05  \n",
       "std                               8.234798e+05  \n",
       "min                               0.000000e+00  \n",
       "25%                               0.000000e+00  \n",
       "50%                               0.000000e+00  \n",
       "75%                               9.800000e+03  \n",
       "max                               6.268528e+07  "
      ]
     },
     "execution_count": 28,
     "metadata": {},
     "output_type": "execute_result"
    }
   ],
   "source": [
    "starter_df.describe()"
   ]
  },
  {
   "cell_type": "code",
   "execution_count": 29,
   "metadata": {},
   "outputs": [
    {
     "name": "stdout",
     "output_type": "stream",
     "text": [
      "<class 'pandas.core.frame.DataFrame'>\n",
      "Int64Index: 173116 entries, 0 to 173776\n",
      "Data columns (total 14 columns):\n",
      " #   Column                                   Non-Null Count   Dtype  \n",
      "---  ------                                   --------------   -----  \n",
      " 0   id                                       173116 non-null  object \n",
      " 1   cik                                      173116 non-null  object \n",
      " 2   ticker                                   173116 non-null  object \n",
      " 3   name                                     173116 non-null  object \n",
      " 4   position                                 173116 non-null  object \n",
      " 5   year                                     173116 non-null  int64  \n",
      " 6   salary                                   173116 non-null  int64  \n",
      " 7   bonus                                    173116 non-null  int64  \n",
      " 8   stockAwards                              173116 non-null  int64  \n",
      " 9   optionAwards                             173116 non-null  int64  \n",
      " 10  nonEquityIncentiveCompensation           173116 non-null  int64  \n",
      " 11  otherCompensation                        173116 non-null  int64  \n",
      " 12  total                                    173116 non-null  int64  \n",
      " 13  changeInPensionValueAndDeferredEarnings  55998 non-null   float64\n",
      "dtypes: float64(1), int64(8), object(5)\n",
      "memory usage: 19.8+ MB\n"
     ]
    }
   ],
   "source": [
    "starter_df.info()"
   ]
  },
  {
   "cell_type": "code",
   "execution_count": null,
   "metadata": {},
   "outputs": [],
   "source": []
  },
  {
   "cell_type": "code",
   "execution_count": null,
   "metadata": {},
   "outputs": [],
   "source": []
  },
  {
   "cell_type": "code",
   "execution_count": null,
   "metadata": {},
   "outputs": [],
   "source": []
  },
  {
   "cell_type": "code",
   "execution_count": null,
   "metadata": {},
   "outputs": [],
   "source": []
  },
  {
   "cell_type": "code",
   "execution_count": null,
   "metadata": {},
   "outputs": [],
   "source": []
  },
  {
   "cell_type": "code",
   "execution_count": 31,
   "metadata": {},
   "outputs": [
    {
     "data": {
      "text/plain": [
       "<AxesSubplot:ylabel='Frequency'>"
      ]
     },
     "execution_count": 31,
     "metadata": {},
     "output_type": "execute_result"
    },
    {
     "data": {
      "image/png": "[encoded data removed]",
      "text/plain": [
       "<Figure size 864x216 with 1 Axes>"
      ]
     },
     "metadata": {
      "needs_background": "light"
     },
     "output_type": "display_data"
    }
   ],
   "source": [
    "plt.figure(figsize=(12,3))\n",
    "starter_df[(starter_df['salary'] < 5000000) & (starter_df['salary'] > 0)]['salary'].plot.hist(bins=100)"
   ]
  },
  {
   "cell_type": "code",
   "execution_count": 30,
   "metadata": {},
   "outputs": [
    {
     "data": {
      "text/plain": [
       "<AxesSubplot:ylabel='Frequency'>"
      ]
     },
     "execution_count": 30,
     "metadata": {},
     "output_type": "execute_result"
    },
    {
     "data": {
      "image/png": "[encoded data removed]",
      "text/plain": [
       "<Figure size 864x216 with 1 Axes>"
      ]
     },
     "metadata": {
      "needs_background": "light"
     },
     "output_type": "display_data"
    }
   ],
   "source": [
    "plt.figure(figsize=(12,3))\n",
    "starter_df[(starter_df['stockAwards'] < 15000000) & (starter_df['stockAwards'] > 0)]['stockAwards'].plot.hist(bins=100)"
   ]
  },
  {
   "cell_type": "code",
   "execution_count": null,
   "metadata": {},
   "outputs": [],
   "source": []
  },
  {
   "cell_type": "code",
   "execution_count": 27,
   "metadata": {},
   "outputs": [
    {
     "data": {
      "text/plain": [
       "<AxesSubplot:xlabel='year', ylabel='salary'>"
      ]
     },
     "execution_count": 27,
     "metadata": {},
     "output_type": "execute_result"
    },
    {
     "data": {
      "image/png": "[encoded data removed]",
      "text/plain": [
       "<Figure size 432x288 with 1 Axes>"
      ]
     },
     "metadata": {
      "needs_background": "light"
     },
     "output_type": "display_data"
    }
   ],
   "source": [
    "sns.scatterplot(x=starter_df[starter_df['ticker']=='MSFT']['year'],y=starter_df[starter_df['ticker']=='MSFT']['salary'])"
   ]
  },
  {
   "cell_type": "code",
   "execution_count": 33,
   "metadata": {},
   "outputs": [
    {
     "data": {
      "image/png": "[encoded data removed]",
      "text/plain": [
       "<Figure size 864x216 with 1 Axes>"
      ]
     },
     "metadata": {
      "needs_background": "light"
     },
     "output_type": "display_data"
    }
   ],
   "source": [
    "plt.figure(figsize=(12,3))\n",
    "sns.histplot(starter_df[(starter_df['salary'] < 5000000) & (starter_df['salary'] > 0)]['salary'])\n",
    "plt.title('Distribution of NEO salary less than $5M')\n",
    "plt.xlabel('NEO Salary');"
   ]
  },
  {
   "cell_type": "code",
   "execution_count": 38,
   "metadata": {},
   "outputs": [
    {
     "name": "stderr",
     "output_type": "stream",
     "text": [
      "C:\\Users\\reagins\\AppData\\Local\\Packages\\PythonSoftwareFoundation.Python.3.10_qbz5n2kfra8p0\\LocalCache\\local-packages\\Python310\\site-packages\\seaborn\\_decorators.py:36: FutureWarning: Pass the following variable as a keyword arg: x. From version 0.12, the only valid positional argument will be `data`, and passing other arguments without an explicit keyword will result in an error or misinterpretation.\n",
      "  warnings.warn(\n"
     ]
    },
    {
     "data": {
      "image/png": "[encoded data removed]",
      "text/plain": [
       "<Figure size 864x216 with 1 Axes>"
      ]
     },
     "metadata": {
      "needs_background": "light"
     },
     "output_type": "display_data"
    }
   ],
   "source": [
    "plt.figure(figsize=(12,3))\n",
    "sns.boxplot(starter_df[(starter_df['salary'] < 5000000) & (starter_df['salary'] > 0)]['salary'])\n",
    "plt.title('Boxplot of NEO salary less than $5M')\n",
    "plt.xlabel('NEO Salary');"
   ]
  },
  {
   "cell_type": "code",
   "execution_count": 35,
   "metadata": {},
   "outputs": [
    {
     "data": {
      "text/plain": [
       "count    1.667350e+05\n",
       "mean     4.959915e+05\n",
       "std      3.123337e+05\n",
       "min      1.000000e+00\n",
       "25%      3.000000e+05\n",
       "50%      4.243830e+05\n",
       "75%      6.018050e+05\n",
       "max      4.981693e+06\n",
       "Name: salary, dtype: float64"
      ]
     },
     "execution_count": 35,
     "metadata": {},
     "output_type": "execute_result"
    }
   ],
   "source": [
    "starter_df[(starter_df['salary'] < 5000000) & (starter_df['salary'] > 0)]['salary'].describe()"
   ]
  },
  {
   "cell_type": "code",
   "execution_count": 40,
   "metadata": {},
   "outputs": [
    {
     "data": {
      "text/plain": [
       "count    1.731160e+05\n",
       "mean     4.820140e+05\n",
       "std      3.731142e+05\n",
       "min      0.000000e+00\n",
       "25%      2.879182e+05\n",
       "50%      4.130860e+05\n",
       "75%      6.000000e+05\n",
       "max      2.000000e+07\n",
       "Name: salary, dtype: float64"
      ]
     },
     "execution_count": 40,
     "metadata": {},
     "output_type": "execute_result"
    }
   ],
   "source": [
    "starter_df['salary'].describe()"
   ]
  },
  {
   "cell_type": "code",
   "execution_count": 46,
   "metadata": {},
   "outputs": [
    {
     "data": {
      "image/png": "[encoded data removed]",
      "text/plain": [
       "<Figure size 864x216 with 1 Axes>"
      ]
     },
     "metadata": {
      "needs_background": "light"
     },
     "output_type": "display_data"
    }
   ],
   "source": [
    "plt.figure(figsize=(12,3))\n",
    "sns.histplot(starter_df[(starter_df['stockAwards'] < 15000000) & (starter_df['stockAwards'] > 0)]['stockAwards'])\n",
    "plt.title('Distribution of NEO stock awards less than $15M')\n",
    "\n",
    "plt.xlabel('NEO Stock Award');"
   ]
  },
  {
   "cell_type": "code",
   "execution_count": 45,
   "metadata": {},
   "outputs": [
    {
     "data": {
      "image/png": "[encoded data removed]",
      "text/plain": [
       "<Figure size 864x216 with 1 Axes>"
      ]
     },
     "metadata": {
      "needs_background": "light"
     },
     "output_type": "display_data"
    }
   ],
   "source": [
    "plt.figure(figsize=(12,3))\n",
    "sns.boxplot(x=starter_df[(starter_df['stockAwards'] < 15000000) & (starter_df['stockAwards'] > 0)]['stockAwards'])\n",
    "plt.title('Distribution of NEO stock awards less than $15M')\n",
    "plt.ylabel(' ')\n",
    "plt.xlabel('NEO Stock Award');"
   ]
  },
  {
   "cell_type": "code",
   "execution_count": 51,
   "metadata": {},
   "outputs": [
    {
     "data": {
      "text/plain": [
       "count    1.260110e+05\n",
       "mean     2.053175e+06\n",
       "std      6.549725e+07\n",
       "min      2.000000e+00\n",
       "25%      2.547365e+05\n",
       "50%      6.750040e+05\n",
       "75%      1.702548e+06\n",
       "max      1.798045e+10\n",
       "Name: stockAwards, dtype: float64"
      ]
     },
     "execution_count": 51,
     "metadata": {},
     "output_type": "execute_result"
    }
   ],
   "source": [
    "starter_df[starter_df['stockAwards'] > 0]['stockAwards'].describe()"
   ]
  },
  {
   "cell_type": "code",
   "execution_count": null,
   "metadata": {},
   "outputs": [],
   "source": []
  },
  {
   "cell_type": "code",
   "execution_count": 56,
   "metadata": {},
   "outputs": [],
   "source": [
    "starter_df['actual_bonus_perc'] = np.round(starter_df['nonEquityIncentiveCompensation'] / starter_df['salary'],4)"
   ]
  },
  {
   "cell_type": "code",
   "execution_count": 64,
   "metadata": {},
   "outputs": [],
   "source": [
    "starter_df['actual_bonus_perc'] = starter_df['actual_bonus_perc'].fillna(0)"
   ]
  },
  {
   "cell_type": "code",
   "execution_count": 66,
   "metadata": {},
   "outputs": [
    {
     "data": {
      "text/plain": [
       "count    115158.000000\n",
       "mean          1.212686\n",
       "std           2.072090\n",
       "min           0.000100\n",
       "25%           0.500000\n",
       "50%           0.859350\n",
       "75%           1.384500\n",
       "max          96.923100\n",
       "Name: actual_bonus_perc, dtype: float64"
      ]
     },
     "execution_count": 66,
     "metadata": {},
     "output_type": "execute_result"
    }
   ],
   "source": [
    "starter_df[(starter_df['actual_bonus_perc'] > 0) & (starter_df['actual_bonus_perc'] < 100)]['actual_bonus_perc'].describe()"
   ]
  },
  {
   "cell_type": "code",
   "execution_count": 71,
   "metadata": {},
   "outputs": [
    {
     "data": {
      "text/plain": [
       "Text(0.5, 0, 'Actual Performance Bonus Achieved as a % of Salary')"
      ]
     },
     "execution_count": 71,
     "metadata": {},
     "output_type": "execute_result"
    },
    {
     "data": {
      "image/png": "[encoded data removed]",
      "text/plain": [
       "<Figure size 864x216 with 1 Axes>"
      ]
     },
     "metadata": {
      "needs_background": "light"
     },
     "output_type": "display_data"
    }
   ],
   "source": [
    "plt.figure(figsize=(12,3))\n",
    "sns.histplot(starter_df[(starter_df['actual_bonus_perc'] > 0) & (starter_df['actual_bonus_perc'] < 10)]['actual_bonus_perc'])\n",
    "plt.title('Distribution of Actual Bonus as a Percentage of Salary')\n",
    "plt.xlabel('Actual Performance Bonus Achieved as a % of Salary')"
   ]
  },
  {
   "cell_type": "code",
   "execution_count": 72,
   "metadata": {},
   "outputs": [
    {
     "name": "stderr",
     "output_type": "stream",
     "text": [
      "C:\\Users\\reagins\\AppData\\Local\\Packages\\PythonSoftwareFoundation.Python.3.10_qbz5n2kfra8p0\\LocalCache\\local-packages\\Python310\\site-packages\\seaborn\\_decorators.py:36: FutureWarning: Pass the following variable as a keyword arg: x. From version 0.12, the only valid positional argument will be `data`, and passing other arguments without an explicit keyword will result in an error or misinterpretation.\n",
      "  warnings.warn(\n"
     ]
    },
    {
     "data": {
      "text/plain": [
       "Text(0.5, 0, 'Actual Performance Bonus Achieved as a % of Salary')"
      ]
     },
     "execution_count": 72,
     "metadata": {},
     "output_type": "execute_result"
    },
    {
     "data": {
      "image/png": "[encoded data removed]",
      "text/plain": [
       "<Figure size 864x216 with 1 Axes>"
      ]
     },
     "metadata": {
      "needs_background": "light"
     },
     "output_type": "display_data"
    }
   ],
   "source": [
    "plt.figure(figsize=(12,3))\n",
    "sns.boxplot(starter_df[(starter_df['actual_bonus_perc'] > 0) & (starter_df['actual_bonus_perc'] < 10)]['actual_bonus_perc'])\n",
    "plt.title('Distribution of Actual Bonus as a Percentage of Salary')\n",
    "plt.xlabel('Actual Performance Bonus Achieved as a % of Salary')"
   ]
  },
  {
   "cell_type": "code",
   "execution_count": null,
   "metadata": {},
   "outputs": [],
   "source": []
  },
  {
   "cell_type": "code",
   "execution_count": 57,
   "metadata": {},
   "outputs": [
    {
     "ename": "KeyboardInterrupt",
     "evalue": "",
     "output_type": "error",
     "traceback": [
      "\u001b[1;31m---------------------------------------------------------------------------\u001b[0m",
      "\u001b[1;31mKeyboardInterrupt\u001b[0m                         Traceback (most recent call last)",
      "Input \u001b[1;32mIn [57]\u001b[0m, in \u001b[0;36m<cell line: 2>\u001b[1;34m()\u001b[0m\n\u001b[0;32m      1\u001b[0m plt\u001b[38;5;241m.\u001b[39mfigure(figsize\u001b[38;5;241m=\u001b[39m(\u001b[38;5;241m12\u001b[39m,\u001b[38;5;241m3\u001b[39m))\n\u001b[1;32m----> 2\u001b[0m \u001b[43msns\u001b[49m\u001b[38;5;241;43m.\u001b[39;49m\u001b[43mhistplot\u001b[49m\u001b[43m(\u001b[49m\u001b[43mstarter_df\u001b[49m\u001b[43m[\u001b[49m\u001b[38;5;124;43m'\u001b[39;49m\u001b[38;5;124;43mactual_bonus_perc\u001b[39;49m\u001b[38;5;124;43m'\u001b[39;49m\u001b[43m]\u001b[49m\u001b[43m)\u001b[49m\n\u001b[0;32m      3\u001b[0m plt\u001b[38;5;241m.\u001b[39mtitle(\u001b[38;5;124m'\u001b[39m\u001b[38;5;124mDistribution of NEO stock awards less than $15M\u001b[39m\u001b[38;5;124m'\u001b[39m)\n\u001b[0;32m      5\u001b[0m plt\u001b[38;5;241m.\u001b[39mxlabel(\u001b[38;5;124m'\u001b[39m\u001b[38;5;124mNEO Stock Award\u001b[39m\u001b[38;5;124m'\u001b[39m)\n",
      "File \u001b[1;32m~\\AppData\\Local\\Packages\\PythonSoftwareFoundation.Python.3.10_qbz5n2kfra8p0\\LocalCache\\local-packages\\Python310\\site-packages\\seaborn\\distributions.py:1462\u001b[0m, in \u001b[0;36mhistplot\u001b[1;34m(data, x, y, hue, weights, stat, bins, binwidth, binrange, discrete, cumulative, common_bins, common_norm, multiple, element, fill, shrink, kde, kde_kws, line_kws, thresh, pthresh, pmax, cbar, cbar_ax, cbar_kws, palette, hue_order, hue_norm, color, log_scale, legend, ax, **kwargs)\u001b[0m\n\u001b[0;32m   1451\u001b[0m estimate_kws \u001b[38;5;241m=\u001b[39m \u001b[38;5;28mdict\u001b[39m(\n\u001b[0;32m   1452\u001b[0m     stat\u001b[38;5;241m=\u001b[39mstat,\n\u001b[0;32m   1453\u001b[0m     bins\u001b[38;5;241m=\u001b[39mbins,\n\u001b[1;32m   (...)\u001b[0m\n\u001b[0;32m   1457\u001b[0m     cumulative\u001b[38;5;241m=\u001b[39mcumulative,\n\u001b[0;32m   1458\u001b[0m )\n\u001b[0;32m   1460\u001b[0m \u001b[38;5;28;01mif\u001b[39;00m p\u001b[38;5;241m.\u001b[39munivariate:\n\u001b[1;32m-> 1462\u001b[0m     p\u001b[38;5;241m.\u001b[39mplot_univariate_histogram(\n\u001b[0;32m   1463\u001b[0m         multiple\u001b[38;5;241m=\u001b[39mmultiple,\n\u001b[0;32m   1464\u001b[0m         element\u001b[38;5;241m=\u001b[39melement,\n\u001b[0;32m   1465\u001b[0m         fill\u001b[38;5;241m=\u001b[39mfill,\n\u001b[0;32m   1466\u001b[0m         shrink\u001b[38;5;241m=\u001b[39mshrink,\n\u001b[0;32m   1467\u001b[0m         common_norm\u001b[38;5;241m=\u001b[39mcommon_norm,\n\u001b[0;32m   1468\u001b[0m         common_bins\u001b[38;5;241m=\u001b[39mcommon_bins,\n\u001b[0;32m   1469\u001b[0m         kde\u001b[38;5;241m=\u001b[39mkde,\n\u001b[0;32m   1470\u001b[0m         kde_kws\u001b[38;5;241m=\u001b[39mkde_kws,\n\u001b[0;32m   1471\u001b[0m         color\u001b[38;5;241m=\u001b[39mcolor,\n\u001b[0;32m   1472\u001b[0m         legend\u001b[38;5;241m=\u001b[39mlegend,\n\u001b[0;32m   1473\u001b[0m         estimate_kws\u001b[38;5;241m=\u001b[39mestimate_kws,\n\u001b[0;32m   1474\u001b[0m         line_kws\u001b[38;5;241m=\u001b[39mline_kws,\n\u001b[0;32m   1475\u001b[0m         \u001b[38;5;241m*\u001b[39m\u001b[38;5;241m*\u001b[39mkwargs,\n\u001b[0;32m   1476\u001b[0m     )\n\u001b[0;32m   1478\u001b[0m \u001b[38;5;28;01melse\u001b[39;00m:\n\u001b[0;32m   1480\u001b[0m     p\u001b[38;5;241m.\u001b[39mplot_bivariate_histogram(\n\u001b[0;32m   1481\u001b[0m         common_bins\u001b[38;5;241m=\u001b[39mcommon_bins,\n\u001b[0;32m   1482\u001b[0m         common_norm\u001b[38;5;241m=\u001b[39mcommon_norm,\n\u001b[1;32m   (...)\u001b[0m\n\u001b[0;32m   1492\u001b[0m         \u001b[38;5;241m*\u001b[39m\u001b[38;5;241m*\u001b[39mkwargs,\n\u001b[0;32m   1493\u001b[0m     )\n",
      "File \u001b[1;32m~\\AppData\\Local\\Packages\\PythonSoftwareFoundation.Python.3.10_qbz5n2kfra8p0\\LocalCache\\local-packages\\Python310\\site-packages\\seaborn\\distributions.py:441\u001b[0m, in \u001b[0;36m_DistributionPlotter.plot_univariate_histogram\u001b[1;34m(self, multiple, element, fill, common_norm, common_bins, shrink, kde, kde_kws, color, legend, line_kws, estimate_kws, **plot_kws)\u001b[0m\n\u001b[0;32m    438\u001b[0m     weights \u001b[38;5;241m=\u001b[39m \u001b[38;5;28;01mNone\u001b[39;00m\n\u001b[0;32m    440\u001b[0m \u001b[38;5;66;03m# Do the histogram computation\u001b[39;00m\n\u001b[1;32m--> 441\u001b[0m heights, edges \u001b[38;5;241m=\u001b[39m \u001b[43mestimator\u001b[49m\u001b[43m(\u001b[49m\u001b[43mobservations\u001b[49m\u001b[43m,\u001b[49m\u001b[43m \u001b[49m\u001b[43mweights\u001b[49m\u001b[38;5;241;43m=\u001b[39;49m\u001b[43mweights\u001b[49m\u001b[43m)\u001b[49m\n\u001b[0;32m    443\u001b[0m \u001b[38;5;66;03m# Rescale the smoothed curve to match the histogram\u001b[39;00m\n\u001b[0;32m    444\u001b[0m \u001b[38;5;28;01mif\u001b[39;00m kde \u001b[38;5;129;01mand\u001b[39;00m key \u001b[38;5;129;01min\u001b[39;00m densities:\n",
      "File \u001b[1;32m~\\AppData\\Local\\Packages\\PythonSoftwareFoundation.Python.3.10_qbz5n2kfra8p0\\LocalCache\\local-packages\\Python310\\site-packages\\seaborn\\_statistics.py:386\u001b[0m, in \u001b[0;36mHistogram.__call__\u001b[1;34m(self, x1, x2, weights)\u001b[0m\n\u001b[0;32m    384\u001b[0m \u001b[38;5;124;03m\"\"\"Count the occurrences in each bin, maybe normalize.\"\"\"\u001b[39;00m\n\u001b[0;32m    385\u001b[0m \u001b[38;5;28;01mif\u001b[39;00m x2 \u001b[38;5;129;01mis\u001b[39;00m \u001b[38;5;28;01mNone\u001b[39;00m:\n\u001b[1;32m--> 386\u001b[0m     \u001b[38;5;28;01mreturn\u001b[39;00m \u001b[38;5;28;43mself\u001b[39;49m\u001b[38;5;241;43m.\u001b[39;49m\u001b[43m_eval_univariate\u001b[49m\u001b[43m(\u001b[49m\u001b[43mx1\u001b[49m\u001b[43m,\u001b[49m\u001b[43m \u001b[49m\u001b[43mweights\u001b[49m\u001b[43m)\u001b[49m\n\u001b[0;32m    387\u001b[0m \u001b[38;5;28;01melse\u001b[39;00m:\n\u001b[0;32m    388\u001b[0m     \u001b[38;5;28;01mreturn\u001b[39;00m \u001b[38;5;28mself\u001b[39m\u001b[38;5;241m.\u001b[39m_eval_bivariate(x1, x2, weights)\n",
      "File \u001b[1;32m~\\AppData\\Local\\Packages\\PythonSoftwareFoundation.Python.3.10_qbz5n2kfra8p0\\LocalCache\\local-packages\\Python310\\site-packages\\seaborn\\_statistics.py:361\u001b[0m, in \u001b[0;36mHistogram._eval_univariate\u001b[1;34m(self, x, weights)\u001b[0m\n\u001b[0;32m    359\u001b[0m bin_kws \u001b[38;5;241m=\u001b[39m \u001b[38;5;28mself\u001b[39m\u001b[38;5;241m.\u001b[39mbin_kws\n\u001b[0;32m    360\u001b[0m \u001b[38;5;28;01mif\u001b[39;00m bin_kws \u001b[38;5;129;01mis\u001b[39;00m \u001b[38;5;28;01mNone\u001b[39;00m:\n\u001b[1;32m--> 361\u001b[0m     bin_kws \u001b[38;5;241m=\u001b[39m \u001b[38;5;28;43mself\u001b[39;49m\u001b[38;5;241;43m.\u001b[39;49m\u001b[43mdefine_bin_params\u001b[49m\u001b[43m(\u001b[49m\u001b[43mx\u001b[49m\u001b[43m,\u001b[49m\u001b[43m \u001b[49m\u001b[43mweights\u001b[49m\u001b[38;5;241;43m=\u001b[39;49m\u001b[43mweights\u001b[49m\u001b[43m,\u001b[49m\u001b[43m \u001b[49m\u001b[43mcache\u001b[49m\u001b[38;5;241;43m=\u001b[39;49m\u001b[38;5;28;43;01mFalse\u001b[39;49;00m\u001b[43m)\u001b[49m\n\u001b[0;32m    363\u001b[0m density \u001b[38;5;241m=\u001b[39m \u001b[38;5;28mself\u001b[39m\u001b[38;5;241m.\u001b[39mstat \u001b[38;5;241m==\u001b[39m \u001b[38;5;124m\"\u001b[39m\u001b[38;5;124mdensity\u001b[39m\u001b[38;5;124m\"\u001b[39m\n\u001b[0;32m    364\u001b[0m hist, bin_edges \u001b[38;5;241m=\u001b[39m np\u001b[38;5;241m.\u001b[39mhistogram(\n\u001b[0;32m    365\u001b[0m     x, \u001b[38;5;241m*\u001b[39m\u001b[38;5;241m*\u001b[39mbin_kws, weights\u001b[38;5;241m=\u001b[39mweights, density\u001b[38;5;241m=\u001b[39mdensity,\n\u001b[0;32m    366\u001b[0m )\n",
      "File \u001b[1;32m~\\AppData\\Local\\Packages\\PythonSoftwareFoundation.Python.3.10_qbz5n2kfra8p0\\LocalCache\\local-packages\\Python310\\site-packages\\seaborn\\_statistics.py:275\u001b[0m, in \u001b[0;36mHistogram.define_bin_params\u001b[1;34m(self, x1, x2, weights, cache)\u001b[0m\n\u001b[0;32m    273\u001b[0m \u001b[38;5;28;01mif\u001b[39;00m \u001b[38;5;28misinstance\u001b[39m(\u001b[38;5;28mself\u001b[39m\u001b[38;5;241m.\u001b[39mbins, (\u001b[38;5;28mstr\u001b[39m, Number)):\n\u001b[0;32m    274\u001b[0m     n_bins \u001b[38;5;241m=\u001b[39m \u001b[38;5;28mlen\u001b[39m(bin_edges) \u001b[38;5;241m-\u001b[39m \u001b[38;5;241m1\u001b[39m\n\u001b[1;32m--> 275\u001b[0m     bin_range \u001b[38;5;241m=\u001b[39m \u001b[43mbin_edges\u001b[49m\u001b[38;5;241;43m.\u001b[39;49m\u001b[43mmin\u001b[49m\u001b[43m(\u001b[49m\u001b[43m)\u001b[49m, bin_edges\u001b[38;5;241m.\u001b[39mmax()\n\u001b[0;32m    276\u001b[0m     bin_kws \u001b[38;5;241m=\u001b[39m \u001b[38;5;28mdict\u001b[39m(bins\u001b[38;5;241m=\u001b[39mn_bins, \u001b[38;5;28mrange\u001b[39m\u001b[38;5;241m=\u001b[39mbin_range)\n\u001b[0;32m    277\u001b[0m \u001b[38;5;28;01melse\u001b[39;00m:\n",
      "File \u001b[1;32m~\\AppData\\Local\\Packages\\PythonSoftwareFoundation.Python.3.10_qbz5n2kfra8p0\\LocalCache\\local-packages\\Python310\\site-packages\\numpy\\core\\_methods.py:44\u001b[0m, in \u001b[0;36m_amin\u001b[1;34m(a, axis, out, keepdims, initial, where)\u001b[0m\n\u001b[0;32m     42\u001b[0m \u001b[38;5;28;01mdef\u001b[39;00m \u001b[38;5;21m_amin\u001b[39m(a, axis\u001b[38;5;241m=\u001b[39m\u001b[38;5;28;01mNone\u001b[39;00m, out\u001b[38;5;241m=\u001b[39m\u001b[38;5;28;01mNone\u001b[39;00m, keepdims\u001b[38;5;241m=\u001b[39m\u001b[38;5;28;01mFalse\u001b[39;00m,\n\u001b[0;32m     43\u001b[0m           initial\u001b[38;5;241m=\u001b[39m_NoValue, where\u001b[38;5;241m=\u001b[39m\u001b[38;5;28;01mTrue\u001b[39;00m):\n\u001b[1;32m---> 44\u001b[0m     \u001b[38;5;28;01mreturn\u001b[39;00m \u001b[43mumr_minimum\u001b[49m\u001b[43m(\u001b[49m\u001b[43ma\u001b[49m\u001b[43m,\u001b[49m\u001b[43m \u001b[49m\u001b[43maxis\u001b[49m\u001b[43m,\u001b[49m\u001b[43m \u001b[49m\u001b[38;5;28;43;01mNone\u001b[39;49;00m\u001b[43m,\u001b[49m\u001b[43m \u001b[49m\u001b[43mout\u001b[49m\u001b[43m,\u001b[49m\u001b[43m \u001b[49m\u001b[43mkeepdims\u001b[49m\u001b[43m,\u001b[49m\u001b[43m \u001b[49m\u001b[43minitial\u001b[49m\u001b[43m,\u001b[49m\u001b[43m \u001b[49m\u001b[43mwhere\u001b[49m\u001b[43m)\u001b[49m\n",
      "\u001b[1;31mKeyboardInterrupt\u001b[0m: "
     ]
    },
    {
     "data": {
      "image/png": "[encoded data removed]",
      "text/plain": [
       "<Figure size 864x216 with 1 Axes>"
      ]
     },
     "metadata": {
      "needs_background": "light"
     },
     "output_type": "display_data"
    }
   ],
   "source": [
    "plt.figure(figsize=(12,3))\n",
    "sns.histplot(starter_df['actual_bonus_perc'])\n",
    "plt.title('Distribution of NEO stock awards less than $15M')\n",
    "\n",
    "plt.xlabel('NEO Stock Award');"
   ]
  },
  {
   "cell_type": "code",
   "execution_count": null,
   "metadata": {},
   "outputs": [],
   "source": []
  }
 ],
 "metadata": {
  "kernelspec": {
   "display_name": "Python 3 (ipykernel)",
   "language": "python",
   "name": "python3"
  },
  "language_info": {
   "codemirror_mode": {
    "name": "ipython",
    "version": 3
   },
   "file_extension": ".py",
   "mimetype": "text/x-python",
   "name": "python",
   "nbconvert_exporter": "python",
   "pygments_lexer": "ipython3",
   "version": "3.10.6"
  }
 },
 "nbformat": 4,
 "nbformat_minor": 4
}
