{
 "cells": [
  {
   "cell_type": "code",
   "execution_count": 1,
   "metadata": {},
   "outputs": [
    {
     "data": {
      "text/plain": [
       "4"
      ]
     },
     "execution_count": 1,
     "metadata": {},
     "output_type": "execute_result"
    }
   ],
   "source": [
    "2+2"
   ]
  },
  {
   "cell_type": "code",
   "execution_count": 2,
   "metadata": {},
   "outputs": [],
   "source": [
    "#from collections import defaultdict\n",
    "#from pathlib import Path\n",
    "import json\n",
    "\n",
    "import os \n",
    "import time \n",
    "\n",
    "import pandas as pd\n",
    "import numpy as np\n",
    "\n",
    "import matplotlib.pyplot as plt\n",
    "import seaborn as sns"
   ]
  },
  {
   "cell_type": "code",
   "execution_count": 3,
   "metadata": {},
   "outputs": [],
   "source": [
    "russell_df = pd.read_csv('russell_3000_index.csv')\n",
    "\n",
    "ticker_list = russell_df['Ticker']"
   ]
  },
  {
   "cell_type": "code",
   "execution_count": 4,
   "metadata": {},
   "outputs": [],
   "source": [
    "#seeding the DataFrame\n",
    "#reading the data from a file\n",
    "with open('SCT_datasets/A_SCTpay_20220906.txt') as f:\n",
    "    a_txt = f.read()\n",
    "    \n",
    "#converting the text string into a dictionary\n",
    "a_dict = json.loads(a_txt)\n",
    "\n",
    "starter_df = pd.DataFrame(a_dict)"
   ]
  },
  {
   "cell_type": "code",
   "execution_count": 5,
   "metadata": {},
   "outputs": [
    {
     "name": "stdout",
     "output_type": "stream",
     "text": [
      "Ticker XTSLA threw an error\n",
      "Ticker USD threw an error\n",
      "Ticker MANH threw an error\n",
      "Ticker MPW threw an error\n",
      "Ticker AFG threw an error\n",
      "Ticker GLOB threw an error\n",
      "Ticker RRC threw an error\n",
      "Ticker UGI threw an error\n",
      "Ticker MSFUT threw an error\n",
      "Ticker ESU2 threw an error\n",
      "Ticker RTYU2 threw an error\n",
      "This code took 50.353553771972656 seconds\n"
     ]
    }
   ],
   "source": [
    "start_time = time.time()\n",
    "\n",
    "for ticker in ticker_list:\n",
    "    try:\n",
    "        with open(f'SCT_datasets/{ticker}_SCTpay_20220906.txt') as f:\n",
    "            ticker_txt = f.read()\n",
    "        ticker_dict = json.loads(ticker_txt)    \n",
    "        #ticker_df = pd.DataFrame(ticker_dict)\n",
    "        starter_df = pd.concat([starter_df,pd.DataFrame(ticker_dict)])\n",
    "    except:\n",
    "        print(f'Ticker {ticker} threw an error')\n",
    "    \n",
    "        \n",
    "        \n",
    "print(f\"This code took {time.time() - start_time} seconds\")"
   ]
  },
  {
   "cell_type": "code",
   "execution_count": 6,
   "metadata": {},
   "outputs": [],
   "source": [
    "starter_df.reset_index(inplace=True,drop=True)"
   ]
  },
  {
   "cell_type": "code",
   "execution_count": 18,
   "metadata": {},
   "outputs": [
    {
     "data": {
      "text/html": [
       "<div>\n",
       "<style scoped>\n",
       "    .dataframe tbody tr th:only-of-type {\n",
       "        vertical-align: middle;\n",
       "    }\n",
       "\n",
       "    .dataframe tbody tr th {\n",
       "        vertical-align: top;\n",
       "    }\n",
       "\n",
       "    .dataframe thead th {\n",
       "        text-align: right;\n",
       "    }\n",
       "</style>\n",
       "<table border=\"1\" class=\"dataframe\">\n",
       "  <thead>\n",
       "    <tr style=\"text-align: right;\">\n",
       "      <th></th>\n",
       "      <th>id</th>\n",
       "      <th>cik</th>\n",
       "      <th>ticker</th>\n",
       "      <th>name</th>\n",
       "      <th>position</th>\n",
       "      <th>year</th>\n",
       "      <th>salary</th>\n",
       "      <th>bonus</th>\n",
       "      <th>stockAwards</th>\n",
       "      <th>optionAwards</th>\n",
       "      <th>nonEquityIncentiveCompensation</th>\n",
       "      <th>otherCompensation</th>\n",
       "      <th>total</th>\n",
       "      <th>changeInPensionValueAndDeferredEarnings</th>\n",
       "    </tr>\n",
       "  </thead>\n",
       "  <tbody>\n",
       "    <tr>\n",
       "      <th>0</th>\n",
       "      <td>73b3a60ba203743c008330c96b7d8b66</td>\n",
       "      <td>1090872</td>\n",
       "      <td>A</td>\n",
       "      <td>Sam Raha</td>\n",
       "      <td>Senior Vice President, President Diagnostics a...</td>\n",
       "      <td>2021</td>\n",
       "      <td>563500</td>\n",
       "      <td>0</td>\n",
       "      <td>1541332</td>\n",
       "      <td>0</td>\n",
       "      <td>738536</td>\n",
       "      <td>33534</td>\n",
       "      <td>3262887</td>\n",
       "      <td>NaN</td>\n",
       "    </tr>\n",
       "    <tr>\n",
       "      <th>1</th>\n",
       "      <td>97393f60cd9f321650e472673daaa70c</td>\n",
       "      <td>1090872</td>\n",
       "      <td>A</td>\n",
       "      <td>Michael R. McMullen</td>\n",
       "      <td>Chief Executive Officer</td>\n",
       "      <td>2021</td>\n",
       "      <td>1280000</td>\n",
       "      <td>0</td>\n",
       "      <td>9165390</td>\n",
       "      <td>0</td>\n",
       "      <td>3149714</td>\n",
       "      <td>77512</td>\n",
       "      <td>15967631</td>\n",
       "      <td>NaN</td>\n",
       "    </tr>\n",
       "    <tr>\n",
       "      <th>2</th>\n",
       "      <td>83b9cc2bca477fe8ce23e0ab56e70c66</td>\n",
       "      <td>1090872</td>\n",
       "      <td>A</td>\n",
       "      <td>Jacob Thaysen</td>\n",
       "      <td>Senior Vice President, President Life Sciences...</td>\n",
       "      <td>2021</td>\n",
       "      <td>625000</td>\n",
       "      <td>0</td>\n",
       "      <td>1812285</td>\n",
       "      <td>0</td>\n",
       "      <td>897589</td>\n",
       "      <td>13684</td>\n",
       "      <td>3802349</td>\n",
       "      <td>NaN</td>\n",
       "    </tr>\n",
       "  </tbody>\n",
       "</table>\n",
       "</div>"
      ],
      "text/plain": [
       "                                 id      cik ticker                 name  \\\n",
       "0  73b3a60ba203743c008330c96b7d8b66  1090872      A             Sam Raha   \n",
       "1  97393f60cd9f321650e472673daaa70c  1090872      A  Michael R. McMullen   \n",
       "2  83b9cc2bca477fe8ce23e0ab56e70c66  1090872      A        Jacob Thaysen   \n",
       "\n",
       "                                            position  year   salary  bonus  \\\n",
       "0  Senior Vice President, President Diagnostics a...  2021   563500      0   \n",
       "1                            Chief Executive Officer  2021  1280000      0   \n",
       "2  Senior Vice President, President Life Sciences...  2021   625000      0   \n",
       "\n",
       "   stockAwards  optionAwards  nonEquityIncentiveCompensation  \\\n",
       "0      1541332             0                          738536   \n",
       "1      9165390             0                         3149714   \n",
       "2      1812285             0                          897589   \n",
       "\n",
       "   otherCompensation     total  changeInPensionValueAndDeferredEarnings  \n",
       "0              33534   3262887                                      NaN  \n",
       "1              77512  15967631                                      NaN  \n",
       "2              13684   3802349                                      NaN  "
      ]
     },
     "execution_count": 18,
     "metadata": {},
     "output_type": "execute_result"
    }
   ],
   "source": [
    "starter_df.head(3)"
   ]
  },
  {
   "cell_type": "code",
   "execution_count": 12,
   "metadata": {},
   "outputs": [
    {
     "data": {
      "text/plain": [
       "True"
      ]
     },
     "execution_count": 12,
     "metadata": {},
     "output_type": "execute_result"
    }
   ],
   "source": [
    "'Chief' in starter_df['position'][1]"
   ]
  },
  {
   "cell_type": "code",
   "execution_count": 41,
   "metadata": {},
   "outputs": [],
   "source": [
    "ceo_title_list = ['CHIEF EXECUTIVE','CEO']\n",
    "cfo_title_list = ['CHIEF FINANC','CFO']"
   ]
  },
  {
   "cell_type": "code",
   "execution_count": 42,
   "metadata": {},
   "outputs": [],
   "source": [
    "ceo_regstr = '|'.join(ceo_title_list)\n",
    "cfo_regstr = '|'.join(cfo_title_list)"
   ]
  },
  {
   "cell_type": "code",
   "execution_count": 43,
   "metadata": {},
   "outputs": [
    {
     "data": {
      "text/plain": [
       "'CHIEF EXECUTIVE|CEO'"
      ]
     },
     "execution_count": 43,
     "metadata": {},
     "output_type": "execute_result"
    }
   ],
   "source": [
    "ceo_regstr"
   ]
  },
  {
   "cell_type": "code",
   "execution_count": 44,
   "metadata": {},
   "outputs": [],
   "source": [
    "# https://stackoverflow.com/questions/49508281/check-if-multiple-substrings-are-in-pandas-dataframe\n",
    "starter_df['CEO'] = starter_df['position'].str.upper().str.contains(ceo_regstr)\n",
    "starter_df['CFO'] = starter_df['position'].str.upper().str.contains(cfo_regstr)"
   ]
  },
  {
   "cell_type": "code",
   "execution_count": 53,
   "metadata": {},
   "outputs": [],
   "source": [
    "ceo_2021_df = starter_df[(starter_df['CEO']==True) & (starter_df['year']==2021)]\n",
    "ceo_2021_df.reset_index(inplace=True)\n",
    "\n",
    "cfo_2021_df = starter_df[(starter_df['CFO']==True) & (starter_df['year']==2021)]\n",
    "cfo_2021_df.reset_index(inplace=True)"
   ]
  },
  {
   "cell_type": "code",
   "execution_count": null,
   "metadata": {},
   "outputs": [],
   "source": []
  },
  {
   "cell_type": "code",
   "execution_count": 59,
   "metadata": {},
   "outputs": [
    {
     "data": {
      "text/plain": [
       "<AxesSubplot:xlabel='salary', ylabel='Count'>"
      ]
     },
     "execution_count": 59,
     "metadata": {},
     "output_type": "execute_result"
    },
    {
     "data": {
      "image/png": "[encoded data removed]",
      "text/plain": [
       "<Figure size 864x216 with 1 Axes>"
      ]
     },
     "metadata": {
      "needs_background": "light"
     },
     "output_type": "display_data"
    }
   ],
   "source": [
    "plt.figure(figsize=(12,3))\n",
    "sns.histplot(ceo_2021_df[ceo_2021_df['salary']<10000000]['salary'])"
   ]
  },
  {
   "cell_type": "code",
   "execution_count": 60,
   "metadata": {},
   "outputs": [
    {
     "data": {
      "text/plain": [
       "<AxesSubplot:xlabel='salary'>"
      ]
     },
     "execution_count": 60,
     "metadata": {},
     "output_type": "execute_result"
    },
    {
     "data": {
      "image/png": "[encoded data removed]",
      "text/plain": [
       "<Figure size 864x216 with 1 Axes>"
      ]
     },
     "metadata": {
      "needs_background": "light"
     },
     "output_type": "display_data"
    }
   ],
   "source": [
    "plt.figure(figsize=(12,3))\n",
    "sns.rugplot(ceo_2021_df[ceo_2021_df['salary']<10000000]['salary'])"
   ]
  },
  {
   "cell_type": "code",
   "execution_count": 64,
   "metadata": {},
   "outputs": [
    {
     "data": {
      "text/plain": [
       "Text(0, 0.5, 'CEO')"
      ]
     },
     "execution_count": 64,
     "metadata": {},
     "output_type": "execute_result"
    },
    {
     "data": {
      "image/png": "[encoded data removed]",
      "text/plain": [
       "<Figure size 864x216 with 1 Axes>"
      ]
     },
     "metadata": {
      "needs_background": "light"
     },
     "output_type": "display_data"
    }
   ],
   "source": [
    "plt.figure(figsize=(12,3))\n",
    "sns.boxplot(x=ceo_2021_df[ceo_2021_df['salary']<10000000]['salary'])\n",
    "plt.ylabel('CEO')"
   ]
  },
  {
   "cell_type": "code",
   "execution_count": 67,
   "metadata": {},
   "outputs": [
    {
     "data": {
      "text/plain": [
       "<AxesSubplot:xlabel='salary', ylabel='nonEquityIncentiveCompensation'>"
      ]
     },
     "execution_count": 67,
     "metadata": {},
     "output_type": "execute_result"
    },
    {
     "data": {
      "image/png": "[encoded data removed]",
      "text/plain": [
       "<Figure size 432x288 with 1 Axes>"
      ]
     },
     "metadata": {
      "needs_background": "light"
     },
     "output_type": "display_data"
    }
   ],
   "source": [
    "sns.scatterplot(data=ceo_2021_df,x='salary',y='nonEquityIncentiveCompensation')"
   ]
  },
  {
   "cell_type": "code",
   "execution_count": null,
   "metadata": {},
   "outputs": [],
   "source": []
  }
 ],
 "metadata": {
  "kernelspec": {
   "display_name": "Python 3",
   "language": "python",
   "name": "python3"
  },
  "language_info": {
   "name": ""
  }
 },
 "nbformat": 4,
 "nbformat_minor": 4
}
