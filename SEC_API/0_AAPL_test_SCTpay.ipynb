{
 "cells": [
  {
   "cell_type": "markdown",
   "id": "9ff70cbf",
   "metadata": {},
   "source": [
    "## Summary Compensation Table pay\n",
    "\n",
    "Following along this tutorial: https://sec-api.io/docs/executive-compensation-api/python-example"
   ]
  },
  {
   "cell_type": "code",
   "execution_count": 1,
   "id": "c4d85d51",
   "metadata": {},
   "outputs": [],
   "source": [
    "from sec_api import ExecCompApi\n",
    "import config"
   ]
  },
  {
   "cell_type": "code",
   "execution_count": 2,
   "id": "e5cacba5",
   "metadata": {},
   "outputs": [],
   "source": [
    "import pandas as pd\n",
    "import numpy as np\n",
    "\n",
    "import matplotlib.pyplot as plt\n",
    "import seaborn as sns"
   ]
  },
  {
   "cell_type": "code",
   "execution_count": 3,
   "id": "ed26118d",
   "metadata": {},
   "outputs": [],
   "source": [
    "execCompApi = ExecCompApi(config.sec_api_key)"
   ]
  },
  {
   "cell_type": "code",
   "execution_count": 4,
   "id": "561f5476",
   "metadata": {},
   "outputs": [],
   "source": [
    "result_ticker = execCompApi.get_data('AAPL')"
   ]
  },
  {
   "cell_type": "code",
   "execution_count": 5,
   "id": "73f20905",
   "metadata": {},
   "outputs": [
    {
     "data": {
      "text/html": [
       "<div>\n",
       "<style scoped>\n",
       "    .dataframe tbody tr th:only-of-type {\n",
       "        vertical-align: middle;\n",
       "    }\n",
       "\n",
       "    .dataframe tbody tr th {\n",
       "        vertical-align: top;\n",
       "    }\n",
       "\n",
       "    .dataframe thead th {\n",
       "        text-align: right;\n",
       "    }\n",
       "</style>\n",
       "<table border=\"1\" class=\"dataframe\">\n",
       "  <thead>\n",
       "    <tr style=\"text-align: right;\">\n",
       "      <th></th>\n",
       "      <th>id</th>\n",
       "      <th>cik</th>\n",
       "      <th>ticker</th>\n",
       "      <th>name</th>\n",
       "      <th>position</th>\n",
       "      <th>year</th>\n",
       "      <th>salary</th>\n",
       "      <th>bonus</th>\n",
       "      <th>stockAwards</th>\n",
       "      <th>optionAwards</th>\n",
       "      <th>nonEquityIncentiveCompensation</th>\n",
       "      <th>otherCompensation</th>\n",
       "      <th>total</th>\n",
       "      <th>changeInPensionValueAndDeferredEarnings</th>\n",
       "    </tr>\n",
       "  </thead>\n",
       "  <tbody>\n",
       "    <tr>\n",
       "      <th>0</th>\n",
       "      <td>21bce6f864ee3d67e61232da5e371dcc</td>\n",
       "      <td>320193</td>\n",
       "      <td>AAPL</td>\n",
       "      <td>Jeff Williams</td>\n",
       "      <td>Chief Operating Officer</td>\n",
       "      <td>2021</td>\n",
       "      <td>1000000</td>\n",
       "      <td>0</td>\n",
       "      <td>21959620</td>\n",
       "      <td>0</td>\n",
       "      <td>4000000</td>\n",
       "      <td>17437</td>\n",
       "      <td>26977057</td>\n",
       "      <td>NaN</td>\n",
       "    </tr>\n",
       "    <tr>\n",
       "      <th>1</th>\n",
       "      <td>39c3be85559f978fceb001ed65f805a9</td>\n",
       "      <td>320193</td>\n",
       "      <td>AAPL</td>\n",
       "      <td>Tim Cook</td>\n",
       "      <td>Chief Executive Officer</td>\n",
       "      <td>2021</td>\n",
       "      <td>3000000</td>\n",
       "      <td>0</td>\n",
       "      <td>82347835</td>\n",
       "      <td>0</td>\n",
       "      <td>12000000</td>\n",
       "      <td>1386559</td>\n",
       "      <td>98734394</td>\n",
       "      <td>NaN</td>\n",
       "    </tr>\n",
       "    <tr>\n",
       "      <th>2</th>\n",
       "      <td>5672125e1128cae081168ab797e4184f</td>\n",
       "      <td>320193</td>\n",
       "      <td>AAPL</td>\n",
       "      <td>Kate Adams</td>\n",
       "      <td>Senior Vice President, General Counsel and Sec...</td>\n",
       "      <td>2021</td>\n",
       "      <td>1000000</td>\n",
       "      <td>0</td>\n",
       "      <td>21959620</td>\n",
       "      <td>0</td>\n",
       "      <td>4000000</td>\n",
       "      <td>14533</td>\n",
       "      <td>26974153</td>\n",
       "      <td>NaN</td>\n",
       "    </tr>\n",
       "    <tr>\n",
       "      <th>3</th>\n",
       "      <td>c34027ebeff9e609633c259618269ca3</td>\n",
       "      <td>320193</td>\n",
       "      <td>AAPL</td>\n",
       "      <td>Luca Maestri</td>\n",
       "      <td>Senior Vice President, Chief Financial Officer</td>\n",
       "      <td>2021</td>\n",
       "      <td>1000000</td>\n",
       "      <td>0</td>\n",
       "      <td>21959620</td>\n",
       "      <td>0</td>\n",
       "      <td>4000000</td>\n",
       "      <td>18883</td>\n",
       "      <td>26978503</td>\n",
       "      <td>NaN</td>\n",
       "    </tr>\n",
       "    <tr>\n",
       "      <th>4</th>\n",
       "      <td>73ba5d6d21abab167c84c61f4a5b8e2f</td>\n",
       "      <td>320193</td>\n",
       "      <td>AAPL</td>\n",
       "      <td>Deirdre O Brien</td>\n",
       "      <td>Senior Vice President, Retail + People</td>\n",
       "      <td>2021</td>\n",
       "      <td>1000000</td>\n",
       "      <td>0</td>\n",
       "      <td>21959620</td>\n",
       "      <td>0</td>\n",
       "      <td>4000000</td>\n",
       "      <td>61191</td>\n",
       "      <td>27020811</td>\n",
       "      <td>NaN</td>\n",
       "    </tr>\n",
       "    <tr>\n",
       "      <th>...</th>\n",
       "      <td>...</td>\n",
       "      <td>...</td>\n",
       "      <td>...</td>\n",
       "      <td>...</td>\n",
       "      <td>...</td>\n",
       "      <td>...</td>\n",
       "      <td>...</td>\n",
       "      <td>...</td>\n",
       "      <td>...</td>\n",
       "      <td>...</td>\n",
       "      <td>...</td>\n",
       "      <td>...</td>\n",
       "      <td>...</td>\n",
       "      <td>...</td>\n",
       "    </tr>\n",
       "    <tr>\n",
       "      <th>91</th>\n",
       "      <td>8d28713ae5fd1a346a051fa53b53660d</td>\n",
       "      <td>320193</td>\n",
       "      <td>AAPL</td>\n",
       "      <td>Ronald B. Johnson</td>\n",
       "      <td>Senior Vice President, Retail</td>\n",
       "      <td>2007</td>\n",
       "      <td>600012</td>\n",
       "      <td>0</td>\n",
       "      <td>4946610</td>\n",
       "      <td>0</td>\n",
       "      <td>600000</td>\n",
       "      <td>379</td>\n",
       "      <td>6147001</td>\n",
       "      <td>0.0</td>\n",
       "    </tr>\n",
       "    <tr>\n",
       "      <th>92</th>\n",
       "      <td>5424fc3e116446ac4ff2a9350287ef62</td>\n",
       "      <td>320193</td>\n",
       "      <td>AAPL</td>\n",
       "      <td>Tony Fadell</td>\n",
       "      <td>Senior Vice President, iPod Division</td>\n",
       "      <td>2007</td>\n",
       "      <td>500009</td>\n",
       "      <td>6750</td>\n",
       "      <td>3705832</td>\n",
       "      <td>628628</td>\n",
       "      <td>500000</td>\n",
       "      <td>13952</td>\n",
       "      <td>5355171</td>\n",
       "      <td>0.0</td>\n",
       "    </tr>\n",
       "    <tr>\n",
       "      <th>93</th>\n",
       "      <td>bd011145bebfe58a89964a4f9d838b9f</td>\n",
       "      <td>320193</td>\n",
       "      <td>AAPL</td>\n",
       "      <td>Timothy D. Cook</td>\n",
       "      <td>Chief Operating Officer</td>\n",
       "      <td>2007</td>\n",
       "      <td>700014</td>\n",
       "      <td>0</td>\n",
       "      <td>6943426</td>\n",
       "      <td>0</td>\n",
       "      <td>700000</td>\n",
       "      <td>13750</td>\n",
       "      <td>8357190</td>\n",
       "      <td>0.0</td>\n",
       "    </tr>\n",
       "    <tr>\n",
       "      <th>94</th>\n",
       "      <td>dcb180477323949b9e2b2a3910e93dfb</td>\n",
       "      <td>320193</td>\n",
       "      <td>AAPL</td>\n",
       "      <td>Peter Oppenheimer</td>\n",
       "      <td>Senior Vice President and Chief Financial Officer</td>\n",
       "      <td>2007</td>\n",
       "      <td>600012</td>\n",
       "      <td>0</td>\n",
       "      <td>4946610</td>\n",
       "      <td>0</td>\n",
       "      <td>600000</td>\n",
       "      <td>598723</td>\n",
       "      <td>6745345</td>\n",
       "      <td>0.0</td>\n",
       "    </tr>\n",
       "    <tr>\n",
       "      <th>95</th>\n",
       "      <td>13c5cb9b41501d5a80aee56cfa163d2f</td>\n",
       "      <td>320193</td>\n",
       "      <td>AAPL</td>\n",
       "      <td>Steven P. Jobs</td>\n",
       "      <td>Chief Executive Officer</td>\n",
       "      <td>2007</td>\n",
       "      <td>1</td>\n",
       "      <td>0</td>\n",
       "      <td>0</td>\n",
       "      <td>0</td>\n",
       "      <td>0</td>\n",
       "      <td>0</td>\n",
       "      <td>1</td>\n",
       "      <td>0.0</td>\n",
       "    </tr>\n",
       "  </tbody>\n",
       "</table>\n",
       "<p>96 rows × 14 columns</p>\n",
       "</div>"
      ],
      "text/plain": [
       "                                  id     cik ticker               name  \\\n",
       "0   21bce6f864ee3d67e61232da5e371dcc  320193   AAPL      Jeff Williams   \n",
       "1   39c3be85559f978fceb001ed65f805a9  320193   AAPL           Tim Cook   \n",
       "2   5672125e1128cae081168ab797e4184f  320193   AAPL         Kate Adams   \n",
       "3   c34027ebeff9e609633c259618269ca3  320193   AAPL       Luca Maestri   \n",
       "4   73ba5d6d21abab167c84c61f4a5b8e2f  320193   AAPL    Deirdre O Brien   \n",
       "..                               ...     ...    ...                ...   \n",
       "91  8d28713ae5fd1a346a051fa53b53660d  320193   AAPL  Ronald B. Johnson   \n",
       "92  5424fc3e116446ac4ff2a9350287ef62  320193   AAPL        Tony Fadell   \n",
       "93  bd011145bebfe58a89964a4f9d838b9f  320193   AAPL    Timothy D. Cook   \n",
       "94  dcb180477323949b9e2b2a3910e93dfb  320193   AAPL  Peter Oppenheimer   \n",
       "95  13c5cb9b41501d5a80aee56cfa163d2f  320193   AAPL     Steven P. Jobs   \n",
       "\n",
       "                                             position  year   salary  bonus  \\\n",
       "0                             Chief Operating Officer  2021  1000000      0   \n",
       "1                             Chief Executive Officer  2021  3000000      0   \n",
       "2   Senior Vice President, General Counsel and Sec...  2021  1000000      0   \n",
       "3      Senior Vice President, Chief Financial Officer  2021  1000000      0   \n",
       "4              Senior Vice President, Retail + People  2021  1000000      0   \n",
       "..                                                ...   ...      ...    ...   \n",
       "91                      Senior Vice President, Retail  2007   600012      0   \n",
       "92               Senior Vice President, iPod Division  2007   500009   6750   \n",
       "93                            Chief Operating Officer  2007   700014      0   \n",
       "94  Senior Vice President and Chief Financial Officer  2007   600012      0   \n",
       "95                            Chief Executive Officer  2007        1      0   \n",
       "\n",
       "    stockAwards  optionAwards  nonEquityIncentiveCompensation  \\\n",
       "0      21959620             0                         4000000   \n",
       "1      82347835             0                        12000000   \n",
       "2      21959620             0                         4000000   \n",
       "3      21959620             0                         4000000   \n",
       "4      21959620             0                         4000000   \n",
       "..          ...           ...                             ...   \n",
       "91      4946610             0                          600000   \n",
       "92      3705832        628628                          500000   \n",
       "93      6943426             0                          700000   \n",
       "94      4946610             0                          600000   \n",
       "95            0             0                               0   \n",
       "\n",
       "    otherCompensation     total  changeInPensionValueAndDeferredEarnings  \n",
       "0               17437  26977057                                      NaN  \n",
       "1             1386559  98734394                                      NaN  \n",
       "2               14533  26974153                                      NaN  \n",
       "3               18883  26978503                                      NaN  \n",
       "4               61191  27020811                                      NaN  \n",
       "..                ...       ...                                      ...  \n",
       "91                379   6147001                                      0.0  \n",
       "92              13952   5355171                                      0.0  \n",
       "93              13750   8357190                                      0.0  \n",
       "94             598723   6745345                                      0.0  \n",
       "95                  0         1                                      0.0  \n",
       "\n",
       "[96 rows x 14 columns]"
      ]
     },
     "execution_count": 5,
     "metadata": {},
     "output_type": "execute_result"
    }
   ],
   "source": [
    "pd.DataFrame(result_ticker)"
   ]
  },
  {
   "cell_type": "code",
   "execution_count": 6,
   "id": "17f035c6",
   "metadata": {},
   "outputs": [
    {
     "data": {
      "text/plain": [
       "dict_keys(['id', 'cik', 'ticker', 'name', 'position', 'year', 'salary', 'bonus', 'stockAwards', 'optionAwards', 'nonEquityIncentiveCompensation', 'otherCompensation', 'total'])"
      ]
     },
     "execution_count": 6,
     "metadata": {},
     "output_type": "execute_result"
    }
   ],
   "source": [
    "result_ticker[0].keys()"
   ]
  },
  {
   "cell_type": "code",
   "execution_count": 7,
   "id": "ca44f83a",
   "metadata": {},
   "outputs": [
    {
     "data": {
      "text/plain": [
       "dict_values(['21bce6f864ee3d67e61232da5e371dcc', '320193', 'AAPL', 'Jeff Williams', 'Chief Operating Officer', 2021, 1000000, 0, 21959620, 0, 4000000, 17437, 26977057])"
      ]
     },
     "execution_count": 7,
     "metadata": {},
     "output_type": "execute_result"
    }
   ],
   "source": [
    "result_ticker[0].values()"
   ]
  },
  {
   "cell_type": "code",
   "execution_count": 8,
   "id": "be45e79e",
   "metadata": {},
   "outputs": [
    {
     "name": "stdout",
     "output_type": "stream",
     "text": [
      "id 21bce6f864ee3d67e61232da5e371dcc\n",
      "cik 320193\n",
      "ticker AAPL\n",
      "name Jeff Williams\n",
      "position Chief Operating Officer\n",
      "year 2021\n",
      "salary 1000000\n",
      "bonus 0\n",
      "stockAwards 21959620\n",
      "optionAwards 0\n",
      "nonEquityIncentiveCompensation 4000000\n",
      "otherCompensation 17437\n",
      "total 26977057\n"
     ]
    }
   ],
   "source": [
    "for key in result_ticker[0].keys():\n",
    "    print(key, result_ticker[0][key])"
   ]
  },
  {
   "cell_type": "code",
   "execution_count": 9,
   "id": "97076cf5",
   "metadata": {},
   "outputs": [],
   "source": [
    "aapl_mainpay_df = pd.DataFrame(result_ticker)"
   ]
  },
  {
   "cell_type": "code",
   "execution_count": 10,
   "id": "61ac18e7",
   "metadata": {},
   "outputs": [],
   "source": [
    "aapl_mainpay_df.to_csv('old_files/AAPL_SCTpay.csv',index=False)"
   ]
  },
  {
   "cell_type": "code",
   "execution_count": 11,
   "id": "112ecc56",
   "metadata": {},
   "outputs": [
    {
     "data": {
      "text/plain": [
       "<AxesSubplot:xlabel='year', ylabel='salary'>"
      ]
     },
     "execution_count": 11,
     "metadata": {},
     "output_type": "execute_result"
    },
    {
     "data": {
      "image/png": "[encoded data removed]",
      "text/plain": [
       "<Figure size 864x432 with 1 Axes>"
      ]
     },
     "metadata": {
      "needs_background": "light"
     },
     "output_type": "display_data"
    }
   ],
   "source": [
    "plt.figure(figsize=(12,6))\n",
    "sns.barplot(data=aapl_mainpay_df,x='year',y='salary',dodge=False)"
   ]
  },
  {
   "cell_type": "code",
   "execution_count": null,
   "id": "a1de60b2",
   "metadata": {},
   "outputs": [],
   "source": []
  },
  {
   "cell_type": "code",
   "execution_count": 12,
   "id": "d56ebe84",
   "metadata": {},
   "outputs": [
    {
     "name": "stdout",
     "output_type": "stream",
     "text": [
      "Jeff Williams\n",
      "Tim Cook\n",
      "Kate Adams\n",
      "Luca Maestri\n",
      "Deirdre O Brien\n"
     ]
    }
   ],
   "source": [
    "for i in range(0,5):\n",
    "    print(result_ticker[i]['name'])"
   ]
  },
  {
   "cell_type": "code",
   "execution_count": null,
   "id": "0e7a655b",
   "metadata": {},
   "outputs": [],
   "source": []
  },
  {
   "cell_type": "markdown",
   "id": "9261e77c",
   "metadata": {},
   "source": [
    "### Let's save the dictionary as a .txt file for later parsing\n",
    "https://www.geeksforgeeks.org/write-a-dictionary-to-a-file-in-python/\n",
    "\n",
    "https://stackoverflow.com/questions/4803999/how-to-convert-a-file-into-a-dictionary\n",
    "\n",
    "https://www.geeksforgeeks.org/how-to-read-dictionary-from-file-in-python/"
   ]
  },
  {
   "cell_type": "code",
   "execution_count": 13,
   "id": "b911f1c8",
   "metadata": {},
   "outputs": [],
   "source": [
    "import json"
   ]
  },
  {
   "cell_type": "code",
   "execution_count": 14,
   "id": "fef196ff",
   "metadata": {},
   "outputs": [],
   "source": [
    "#saving the dictionary as a text file\n",
    "with open('old_files/AAPL_SCTpay_2021.txt', 'w') as converted_file:\n",
    "    converted_file.write(json.dumps(result_ticker))"
   ]
  },
  {
   "cell_type": "markdown",
   "id": "df99f2c3",
   "metadata": {},
   "source": [
    "##### And now the inverse process, reading the file back"
   ]
  },
  {
   "cell_type": "code",
   "execution_count": 15,
   "id": "2d352694",
   "metadata": {},
   "outputs": [],
   "source": [
    "#reading the data from a file\n",
    "with open('old_files/AAPL_SCTpay_2021.txt') as f:\n",
    "    aapl_txt = f.read()\n",
    "    \n",
    "#converting the text string into a dictionary\n",
    "aapl_dict = json.loads(aapl_txt)"
   ]
  },
  {
   "cell_type": "code",
   "execution_count": 16,
   "id": "aa910b53",
   "metadata": {},
   "outputs": [
    {
     "name": "stdout",
     "output_type": "stream",
     "text": [
      "Jeff Williams\n",
      "Tim Cook\n",
      "Kate Adams\n",
      "Luca Maestri\n",
      "Deirdre O Brien\n"
     ]
    }
   ],
   "source": [
    "for i in range(0,5):\n",
    "    print(aapl_dict[i]['name'])"
   ]
  },
  {
   "cell_type": "code",
   "execution_count": 17,
   "id": "edee528e",
   "metadata": {},
   "outputs": [
    {
     "data": {
      "text/plain": [
       "Index(['id', 'cik', 'ticker', 'name', 'position', 'year', 'salary', 'bonus',\n",
       "       'stockAwards', 'optionAwards', 'nonEquityIncentiveCompensation',\n",
       "       'otherCompensation', 'total',\n",
       "       'changeInPensionValueAndDeferredEarnings'],\n",
       "      dtype='object')"
      ]
     },
     "execution_count": 17,
     "metadata": {},
     "output_type": "execute_result"
    }
   ],
   "source": [
    "pd.DataFrame(aapl_dict).columns"
   ]
  },
  {
   "cell_type": "code",
   "execution_count": null,
   "id": "caa37963",
   "metadata": {},
   "outputs": [],
   "source": []
  },
  {
   "cell_type": "code",
   "execution_count": null,
   "id": "65b9cc51",
   "metadata": {},
   "outputs": [],
   "source": []
  },
  {
   "cell_type": "code",
   "execution_count": 30,
   "id": "cf845012-9942-4c53-884b-b9e4dbe61975",
   "metadata": {},
   "outputs": [
    {
     "data": {
      "text/html": [
       "<div>\n",
       "<style scoped>\n",
       "    .dataframe tbody tr th:only-of-type {\n",
       "        vertical-align: middle;\n",
       "    }\n",
       "\n",
       "    .dataframe tbody tr th {\n",
       "        vertical-align: top;\n",
       "    }\n",
       "\n",
       "    .dataframe thead th {\n",
       "        text-align: right;\n",
       "    }\n",
       "</style>\n",
       "<table border=\"1\" class=\"dataframe\">\n",
       "  <thead>\n",
       "    <tr style=\"text-align: right;\">\n",
       "      <th></th>\n",
       "      <th>salary</th>\n",
       "      <th>nonEquityIncentiveCompensation</th>\n",
       "      <th>stockAwards</th>\n",
       "      <th>optionAwards</th>\n",
       "      <th>total</th>\n",
       "    </tr>\n",
       "  </thead>\n",
       "  <tbody>\n",
       "    <tr>\n",
       "      <th>1</th>\n",
       "      <td>3000000</td>\n",
       "      <td>12000000</td>\n",
       "      <td>82347835</td>\n",
       "      <td>0</td>\n",
       "      <td>98734394</td>\n",
       "    </tr>\n",
       "    <tr>\n",
       "      <th>6</th>\n",
       "      <td>3000000</td>\n",
       "      <td>10731000</td>\n",
       "      <td>0</td>\n",
       "      <td>0</td>\n",
       "      <td>14769259</td>\n",
       "    </tr>\n",
       "    <tr>\n",
       "      <th>12</th>\n",
       "      <td>3000000</td>\n",
       "      <td>7671000</td>\n",
       "      <td>0</td>\n",
       "      <td>0</td>\n",
       "      <td>11555466</td>\n",
       "    </tr>\n",
       "    <tr>\n",
       "      <th>16</th>\n",
       "      <td>3000000</td>\n",
       "      <td>12000000</td>\n",
       "      <td>0</td>\n",
       "      <td>0</td>\n",
       "      <td>15682219</td>\n",
       "    </tr>\n",
       "    <tr>\n",
       "      <th>24</th>\n",
       "      <td>3057692</td>\n",
       "      <td>9327000</td>\n",
       "      <td>0</td>\n",
       "      <td>0</td>\n",
       "      <td>12825066</td>\n",
       "    </tr>\n",
       "    <tr>\n",
       "      <th>32</th>\n",
       "      <td>3000000</td>\n",
       "      <td>5370000</td>\n",
       "      <td>0</td>\n",
       "      <td>0</td>\n",
       "      <td>8747719</td>\n",
       "    </tr>\n",
       "    <tr>\n",
       "      <th>36</th>\n",
       "      <td>2000000</td>\n",
       "      <td>8000000</td>\n",
       "      <td>0</td>\n",
       "      <td>0</td>\n",
       "      <td>10281327</td>\n",
       "    </tr>\n",
       "    <tr>\n",
       "      <th>39</th>\n",
       "      <td>1748462</td>\n",
       "      <td>6700000</td>\n",
       "      <td>0</td>\n",
       "      <td>0</td>\n",
       "      <td>9222638</td>\n",
       "    </tr>\n",
       "    <tr>\n",
       "      <th>51</th>\n",
       "      <td>1400006</td>\n",
       "      <td>2800000</td>\n",
       "      <td>0</td>\n",
       "      <td>0</td>\n",
       "      <td>4252727</td>\n",
       "    </tr>\n",
       "    <tr>\n",
       "      <th>63</th>\n",
       "      <td>1357718</td>\n",
       "      <td>2800000</td>\n",
       "      <td>0</td>\n",
       "      <td>0</td>\n",
       "      <td>4174992</td>\n",
       "    </tr>\n",
       "  </tbody>\n",
       "</table>\n",
       "</div>"
      ],
      "text/plain": [
       "     salary  nonEquityIncentiveCompensation  stockAwards  optionAwards  \\\n",
       "1   3000000                        12000000     82347835             0   \n",
       "6   3000000                        10731000            0             0   \n",
       "12  3000000                         7671000            0             0   \n",
       "16  3000000                        12000000            0             0   \n",
       "24  3057692                         9327000            0             0   \n",
       "32  3000000                         5370000            0             0   \n",
       "36  2000000                         8000000            0             0   \n",
       "39  1748462                         6700000            0             0   \n",
       "51  1400006                         2800000            0             0   \n",
       "63  1357718                         2800000            0             0   \n",
       "\n",
       "       total  \n",
       "1   98734394  \n",
       "6   14769259  \n",
       "12  11555466  \n",
       "16  15682219  \n",
       "24  12825066  \n",
       "32   8747719  \n",
       "36  10281327  \n",
       "39   9222638  \n",
       "51   4252727  \n",
       "63   4174992  "
      ]
     },
     "execution_count": 30,
     "metadata": {},
     "output_type": "execute_result"
    }
   ],
   "source": [
    "aapl_mainpay_df[aapl_mainpay_df['name']=='Tim Cook'][['salary','nonEquityIncentiveCompensation','stockAwards','optionAwards','total']]"
   ]
  },
  {
   "cell_type": "code",
   "execution_count": null,
   "id": "bec3c82d-4431-496e-b0b5-ff3dd0b1f37b",
   "metadata": {},
   "outputs": [],
   "source": []
  }
 ],
 "metadata": {
  "kernelspec": {
   "display_name": "Python 3 (ipykernel)",
   "language": "python",
   "name": "python3"
  },
  "language_info": {
   "codemirror_mode": {
    "name": "ipython",
    "version": 3
   },
   "file_extension": ".py",
   "mimetype": "text/x-python",
   "name": "python",
   "nbconvert_exporter": "python",
   "pygments_lexer": "ipython3",
   "version": "3.10.8"
  }
 },
 "nbformat": 4,
 "nbformat_minor": 5
}
