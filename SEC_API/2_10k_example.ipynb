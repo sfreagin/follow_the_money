{
 "cells": [
  {
   "cell_type": "markdown",
   "metadata": {},
   "source": [
    "## Pulling financial data from the 10-K\n",
    "\n",
    "Following along here: https://sec-api.io/docs/xbrl-to-json-converter-api/python-example\n",
    "\n",
    "I'm going to use the most recent AAPL 10-K, link pulled directly from SEC EDGAR. I think the SEC-API has the ability to pull the filing URL directly, but I'll explore that another time.\n",
    "https://www.sec.gov/ix?doc=/Archives/edgar/data/320193/000032019321000105/aapl-20210925.htm"
   ]
  },
  {
   "cell_type": "code",
   "execution_count": 1,
   "metadata": {},
   "outputs": [],
   "source": [
    "from sec_api import XbrlApi\n",
    "\n",
    "import pandas as pd\n",
    "import numpy as np\n",
    "\n",
    "import matplotlib.pyplot as plt\n",
    "import seaborn as sns"
   ]
  },
  {
   "cell_type": "code",
   "execution_count": 2,
   "metadata": {},
   "outputs": [],
   "source": [
    "xbrlApi = XbrlApi('324614ace318064f2aa8dcd8ca0f8c5e79647f3dd5b45be7afcadca465924e6a')"
   ]
  },
  {
   "cell_type": "markdown",
   "metadata": {},
   "source": [
    "#### Example using HTM file URL"
   ]
  },
  {
   "cell_type": "code",
   "execution_count": 3,
   "metadata": {},
   "outputs": [],
   "source": [
    "xbrl_json = xbrlApi.xbrl_to_json(htm_url='https://www.sec.gov/ix?doc=/Archives/edgar/data/320193/000032019321000105/aapl-20210925.htm')"
   ]
  },
  {
   "cell_type": "code",
   "execution_count": 6,
   "metadata": {},
   "outputs": [
    {
     "data": {
      "text/plain": [
       "dict"
      ]
     },
     "execution_count": 6,
     "metadata": {},
     "output_type": "execute_result"
    }
   ],
   "source": [
    "type(xbrl_json)"
   ]
  },
  {
   "cell_type": "code",
   "execution_count": 23,
   "metadata": {},
   "outputs": [
    {
     "data": {
      "text/plain": [
       "dict_keys(['CoverPage', 'StatementsOfIncome', 'StatementsOfComprehensiveIncome', 'BalanceSheets', 'BalanceSheetsParenthetical', 'StatementsOfShareholdersEquity', 'StatementsOfCashFlows', 'SummaryofSignificantAccountingPolicies', 'SummaryofSignificantAccountingPoliciesPolicies', 'SummaryofSignificantAccountingPoliciesTables', 'SummaryofSignificantAccountingPoliciesAdditionalInformationDetails', 'SummaryofSignificantAccountingPoliciesComputationofBasicandDilutedEarningsPerShareDetails', 'RevenueRecognition', 'RevenueRecognitionTables', 'RevenueRecognitionAdditionalInformationDetails', 'RevenueRecognitionDeferredRevenueExpectedTimingofRealizationDetails', 'RevenueRecognitionNetSalesDisaggregatedbySignificantProductsandServicesDetails', 'FinancialInstruments', 'FinancialInstrumentsTables', 'FinancialInstrumentsCashCashEquivalentsandMarketableSecuritiesDetails', 'FinancialInstrumentsNonCurrentMarketableDebtSecuritiesbyContractualMaturityDetails', 'FinancialInstrumentsAdditionalInformationDetails', 'FinancialInstrumentsNotionalAmountsofDerivativeInstrumentsDetails', 'FinancialInstrumentsDerivativeInstrumentsDesignatedasFairValueHedgesandRelatedHedgedItemsDetails', 'ConsolidatedFinancialStatementDetails', 'ConsolidatedFinancialStatementDetailsTables', 'ConsolidatedFinancialStatementDetailsPropertyPlantandEquipmentNetDetails', 'ConsolidatedFinancialStatementDetailsOtherNonCurrentLiabilitiesDetails', 'ConsolidatedFinancialStatementDetailsOtherIncomeExpenseNetDetails', 'IncomeTaxes', 'IncomeTaxesTables', 'IncomeTaxesProvisionforIncomeTaxesDetails', 'IncomeTaxesAdditionalInformationDetails', 'IncomeTaxesReconciliationoftheProvisionforIncomeTaxesDetails', 'IncomeTaxesSignificantComponentsofDeferredTaxAssetsandLiabilitiesDetails', 'IncomeTaxesAggregateChangesinGrossUnrecognizedTaxBenefitsDetails', 'Leases', 'LeasesTables', 'LeasesAdditionalInformationDetails', 'LeasesROUAssetsandLeaseLiabilitiesDetails', 'LeasesLeaseLiabilityMaturitiesDetails', 'Debt', 'DebtTables', 'DebtAdditionalInformationDetails', 'DebtSummaryofCashFlowsAssociatedwithCommercialPaperDetails', 'DebtSummaryofTermDebtDetails', 'DebtFuturePrincipalPaymentsforTermDebtDetails', 'ShareholdersEquity', 'ShareholdersEquityTables', 'ShareholdersEquityAdditionalInformationDetails', 'ShareholdersEquitySharesofCommonStockDetails', 'BenefitPlans', 'BenefitPlansTables', 'BenefitPlansAdditionalInformationDetails', 'BenefitPlansRestrictedStockUnitsActivityandRelatedInformationDetails', 'BenefitPlansSummaryofShareBasedCompensationExpenseandtheRelatedIncomeTaxBenefitDetails', 'CommitmentsandContingencies', 'CommitmentsandContingenciesTables', 'CommitmentsandContingenciesChangesinAccruedWarrantiesandRelatedCostsDetails', 'CommitmentsandContingenciesFuturePaymentsUnderUnconditionalPurchaseObligationsDetails', 'CommitmentsandContingenciesAdditionalInformationDetails', 'SegmentInformationandGeographicData', 'SegmentInformationandGeographicDataTables', 'SegmentInformationandGeographicDataInformationbyReportableSegmentDetails', 'SegmentInformationandGeographicDataReconciliationofSegmentOperatingIncometotheConsolidatedStatementsofOperationsDetails', 'SegmentInformationandGeographicDataNetSalesDetails', 'SegmentInformationandGeographicDataLongLivedAssetsDetails'])"
      ]
     },
     "execution_count": 23,
     "metadata": {},
     "output_type": "execute_result"
    }
   ],
   "source": [
    "#the full dictionary\n",
    "xbrl_json.keys()"
   ]
  },
  {
   "cell_type": "code",
   "execution_count": 24,
   "metadata": {},
   "outputs": [
    {
     "data": {
      "text/html": [
       "<div>\n",
       "<style scoped>\n",
       "    .dataframe tbody tr th:only-of-type {\n",
       "        vertical-align: middle;\n",
       "    }\n",
       "\n",
       "    .dataframe tbody tr th {\n",
       "        vertical-align: top;\n",
       "    }\n",
       "\n",
       "    .dataframe thead th {\n",
       "        text-align: right;\n",
       "    }\n",
       "</style>\n",
       "<table border=\"1\" class=\"dataframe\">\n",
       "  <thead>\n",
       "    <tr style=\"text-align: right;\">\n",
       "      <th></th>\n",
       "      <th>CoverPage</th>\n",
       "      <th>StatementsOfIncome</th>\n",
       "      <th>StatementsOfComprehensiveIncome</th>\n",
       "      <th>BalanceSheets</th>\n",
       "      <th>BalanceSheetsParenthetical</th>\n",
       "      <th>StatementsOfShareholdersEquity</th>\n",
       "      <th>StatementsOfCashFlows</th>\n",
       "      <th>SummaryofSignificantAccountingPolicies</th>\n",
       "      <th>SummaryofSignificantAccountingPoliciesPolicies</th>\n",
       "      <th>SummaryofSignificantAccountingPoliciesTables</th>\n",
       "      <th>...</th>\n",
       "      <th>CommitmentsandContingenciesTables</th>\n",
       "      <th>CommitmentsandContingenciesChangesinAccruedWarrantiesandRelatedCostsDetails</th>\n",
       "      <th>CommitmentsandContingenciesFuturePaymentsUnderUnconditionalPurchaseObligationsDetails</th>\n",
       "      <th>CommitmentsandContingenciesAdditionalInformationDetails</th>\n",
       "      <th>SegmentInformationandGeographicData</th>\n",
       "      <th>SegmentInformationandGeographicDataTables</th>\n",
       "      <th>SegmentInformationandGeographicDataInformationbyReportableSegmentDetails</th>\n",
       "      <th>SegmentInformationandGeographicDataReconciliationofSegmentOperatingIncometotheConsolidatedStatementsofOperationsDetails</th>\n",
       "      <th>SegmentInformationandGeographicDataNetSalesDetails</th>\n",
       "      <th>SegmentInformationandGeographicDataLongLivedAssetsDetails</th>\n",
       "    </tr>\n",
       "  </thead>\n",
       "  <tbody>\n",
       "    <tr>\n",
       "      <th>DocumentType</th>\n",
       "      <td>10-K</td>\n",
       "      <td>NaN</td>\n",
       "      <td>NaN</td>\n",
       "      <td>NaN</td>\n",
       "      <td>NaN</td>\n",
       "      <td>NaN</td>\n",
       "      <td>NaN</td>\n",
       "      <td>NaN</td>\n",
       "      <td>NaN</td>\n",
       "      <td>NaN</td>\n",
       "      <td>...</td>\n",
       "      <td>NaN</td>\n",
       "      <td>NaN</td>\n",
       "      <td>NaN</td>\n",
       "      <td>NaN</td>\n",
       "      <td>NaN</td>\n",
       "      <td>NaN</td>\n",
       "      <td>NaN</td>\n",
       "      <td>NaN</td>\n",
       "      <td>NaN</td>\n",
       "      <td>NaN</td>\n",
       "    </tr>\n",
       "    <tr>\n",
       "      <th>DocumentAnnualReport</th>\n",
       "      <td>true</td>\n",
       "      <td>NaN</td>\n",
       "      <td>NaN</td>\n",
       "      <td>NaN</td>\n",
       "      <td>NaN</td>\n",
       "      <td>NaN</td>\n",
       "      <td>NaN</td>\n",
       "      <td>NaN</td>\n",
       "      <td>NaN</td>\n",
       "      <td>NaN</td>\n",
       "      <td>...</td>\n",
       "      <td>NaN</td>\n",
       "      <td>NaN</td>\n",
       "      <td>NaN</td>\n",
       "      <td>NaN</td>\n",
       "      <td>NaN</td>\n",
       "      <td>NaN</td>\n",
       "      <td>NaN</td>\n",
       "      <td>NaN</td>\n",
       "      <td>NaN</td>\n",
       "      <td>NaN</td>\n",
       "    </tr>\n",
       "    <tr>\n",
       "      <th>CurrentFiscalYearEndDate</th>\n",
       "      <td>--09-25</td>\n",
       "      <td>NaN</td>\n",
       "      <td>NaN</td>\n",
       "      <td>NaN</td>\n",
       "      <td>NaN</td>\n",
       "      <td>NaN</td>\n",
       "      <td>NaN</td>\n",
       "      <td>NaN</td>\n",
       "      <td>NaN</td>\n",
       "      <td>NaN</td>\n",
       "      <td>...</td>\n",
       "      <td>NaN</td>\n",
       "      <td>NaN</td>\n",
       "      <td>NaN</td>\n",
       "      <td>NaN</td>\n",
       "      <td>NaN</td>\n",
       "      <td>NaN</td>\n",
       "      <td>NaN</td>\n",
       "      <td>NaN</td>\n",
       "      <td>NaN</td>\n",
       "      <td>NaN</td>\n",
       "    </tr>\n",
       "    <tr>\n",
       "      <th>DocumentPeriodEndDate</th>\n",
       "      <td>2021-09-25</td>\n",
       "      <td>NaN</td>\n",
       "      <td>NaN</td>\n",
       "      <td>NaN</td>\n",
       "      <td>NaN</td>\n",
       "      <td>NaN</td>\n",
       "      <td>NaN</td>\n",
       "      <td>NaN</td>\n",
       "      <td>NaN</td>\n",
       "      <td>NaN</td>\n",
       "      <td>...</td>\n",
       "      <td>NaN</td>\n",
       "      <td>NaN</td>\n",
       "      <td>NaN</td>\n",
       "      <td>NaN</td>\n",
       "      <td>NaN</td>\n",
       "      <td>NaN</td>\n",
       "      <td>NaN</td>\n",
       "      <td>NaN</td>\n",
       "      <td>NaN</td>\n",
       "      <td>NaN</td>\n",
       "    </tr>\n",
       "    <tr>\n",
       "      <th>DocumentTransitionReport</th>\n",
       "      <td>false</td>\n",
       "      <td>NaN</td>\n",
       "      <td>NaN</td>\n",
       "      <td>NaN</td>\n",
       "      <td>NaN</td>\n",
       "      <td>NaN</td>\n",
       "      <td>NaN</td>\n",
       "      <td>NaN</td>\n",
       "      <td>NaN</td>\n",
       "      <td>NaN</td>\n",
       "      <td>...</td>\n",
       "      <td>NaN</td>\n",
       "      <td>NaN</td>\n",
       "      <td>NaN</td>\n",
       "      <td>NaN</td>\n",
       "      <td>NaN</td>\n",
       "      <td>NaN</td>\n",
       "      <td>NaN</td>\n",
       "      <td>NaN</td>\n",
       "      <td>NaN</td>\n",
       "      <td>NaN</td>\n",
       "    </tr>\n",
       "    <tr>\n",
       "      <th>...</th>\n",
       "      <td>...</td>\n",
       "      <td>...</td>\n",
       "      <td>...</td>\n",
       "      <td>...</td>\n",
       "      <td>...</td>\n",
       "      <td>...</td>\n",
       "      <td>...</td>\n",
       "      <td>...</td>\n",
       "      <td>...</td>\n",
       "      <td>...</td>\n",
       "      <td>...</td>\n",
       "      <td>...</td>\n",
       "      <td>...</td>\n",
       "      <td>...</td>\n",
       "      <td>...</td>\n",
       "      <td>...</td>\n",
       "      <td>...</td>\n",
       "      <td>...</td>\n",
       "      <td>...</td>\n",
       "      <td>...</td>\n",
       "      <td>...</td>\n",
       "    </tr>\n",
       "    <tr>\n",
       "      <th>ScheduleOfSegmentReportingInformationBySegmentTextBlock</th>\n",
       "      <td>NaN</td>\n",
       "      <td>NaN</td>\n",
       "      <td>NaN</td>\n",
       "      <td>NaN</td>\n",
       "      <td>NaN</td>\n",
       "      <td>NaN</td>\n",
       "      <td>NaN</td>\n",
       "      <td>NaN</td>\n",
       "      <td>NaN</td>\n",
       "      <td>NaN</td>\n",
       "      <td>...</td>\n",
       "      <td>NaN</td>\n",
       "      <td>NaN</td>\n",
       "      <td>NaN</td>\n",
       "      <td>NaN</td>\n",
       "      <td>NaN</td>\n",
       "      <td>&lt;div style=\"margin-top:12pt;text-align:justify...</td>\n",
       "      <td>NaN</td>\n",
       "      <td>NaN</td>\n",
       "      <td>NaN</td>\n",
       "      <td>NaN</td>\n",
       "    </tr>\n",
       "    <tr>\n",
       "      <th>ReconciliationOfOperatingProfitLossFromSegmentsToConsolidatedTextBlock</th>\n",
       "      <td>NaN</td>\n",
       "      <td>NaN</td>\n",
       "      <td>NaN</td>\n",
       "      <td>NaN</td>\n",
       "      <td>NaN</td>\n",
       "      <td>NaN</td>\n",
       "      <td>NaN</td>\n",
       "      <td>NaN</td>\n",
       "      <td>NaN</td>\n",
       "      <td>NaN</td>\n",
       "      <td>...</td>\n",
       "      <td>NaN</td>\n",
       "      <td>NaN</td>\n",
       "      <td>NaN</td>\n",
       "      <td>NaN</td>\n",
       "      <td>NaN</td>\n",
       "      <td>&lt;div style=\"margin-top:12pt;text-align:justify...</td>\n",
       "      <td>NaN</td>\n",
       "      <td>NaN</td>\n",
       "      <td>NaN</td>\n",
       "      <td>NaN</td>\n",
       "    </tr>\n",
       "    <tr>\n",
       "      <th>ScheduleOfRevenuesFromExternalCustomersAndLongLivedAssetsByGeographicalAreasTableTextBlock</th>\n",
       "      <td>NaN</td>\n",
       "      <td>NaN</td>\n",
       "      <td>NaN</td>\n",
       "      <td>NaN</td>\n",
       "      <td>NaN</td>\n",
       "      <td>NaN</td>\n",
       "      <td>NaN</td>\n",
       "      <td>NaN</td>\n",
       "      <td>NaN</td>\n",
       "      <td>NaN</td>\n",
       "      <td>...</td>\n",
       "      <td>NaN</td>\n",
       "      <td>NaN</td>\n",
       "      <td>NaN</td>\n",
       "      <td>NaN</td>\n",
       "      <td>NaN</td>\n",
       "      <td>Net sales for 2021, 2020 and 2019 and long-liv...</td>\n",
       "      <td>NaN</td>\n",
       "      <td>NaN</td>\n",
       "      <td>NaN</td>\n",
       "      <td>NaN</td>\n",
       "    </tr>\n",
       "    <tr>\n",
       "      <th>OtherGeneralAndAdministrativeExpense</th>\n",
       "      <td>NaN</td>\n",
       "      <td>NaN</td>\n",
       "      <td>NaN</td>\n",
       "      <td>NaN</td>\n",
       "      <td>NaN</td>\n",
       "      <td>NaN</td>\n",
       "      <td>NaN</td>\n",
       "      <td>NaN</td>\n",
       "      <td>NaN</td>\n",
       "      <td>NaN</td>\n",
       "      <td>...</td>\n",
       "      <td>NaN</td>\n",
       "      <td>NaN</td>\n",
       "      <td>NaN</td>\n",
       "      <td>NaN</td>\n",
       "      <td>NaN</td>\n",
       "      <td>NaN</td>\n",
       "      <td>NaN</td>\n",
       "      <td>[{'decimals': '-6', 'unitRef': 'usd', 'period'...</td>\n",
       "      <td>NaN</td>\n",
       "      <td>NaN</td>\n",
       "    </tr>\n",
       "    <tr>\n",
       "      <th>NoncurrentAssets</th>\n",
       "      <td>NaN</td>\n",
       "      <td>NaN</td>\n",
       "      <td>NaN</td>\n",
       "      <td>NaN</td>\n",
       "      <td>NaN</td>\n",
       "      <td>NaN</td>\n",
       "      <td>NaN</td>\n",
       "      <td>NaN</td>\n",
       "      <td>NaN</td>\n",
       "      <td>NaN</td>\n",
       "      <td>...</td>\n",
       "      <td>NaN</td>\n",
       "      <td>NaN</td>\n",
       "      <td>NaN</td>\n",
       "      <td>NaN</td>\n",
       "      <td>NaN</td>\n",
       "      <td>NaN</td>\n",
       "      <td>NaN</td>\n",
       "      <td>NaN</td>\n",
       "      <td>NaN</td>\n",
       "      <td>[{'decimals': '-6', 'unitRef': 'usd', 'period'...</td>\n",
       "    </tr>\n",
       "  </tbody>\n",
       "</table>\n",
       "<p>397 rows × 67 columns</p>\n",
       "</div>"
      ],
      "text/plain": [
       "                                                     CoverPage  \\\n",
       "DocumentType                                              10-K   \n",
       "DocumentAnnualReport                                      true   \n",
       "CurrentFiscalYearEndDate                               --09-25   \n",
       "DocumentPeriodEndDate                               2021-09-25   \n",
       "DocumentTransitionReport                                 false   \n",
       "...                                                        ...   \n",
       "ScheduleOfSegmentReportingInformationBySegmentT...         NaN   \n",
       "ReconciliationOfOperatingProfitLossFromSegments...         NaN   \n",
       "ScheduleOfRevenuesFromExternalCustomersAndLongL...         NaN   \n",
       "OtherGeneralAndAdministrativeExpense                       NaN   \n",
       "NoncurrentAssets                                           NaN   \n",
       "\n",
       "                                                   StatementsOfIncome  \\\n",
       "DocumentType                                                      NaN   \n",
       "DocumentAnnualReport                                              NaN   \n",
       "CurrentFiscalYearEndDate                                          NaN   \n",
       "DocumentPeriodEndDate                                             NaN   \n",
       "DocumentTransitionReport                                          NaN   \n",
       "...                                                               ...   \n",
       "ScheduleOfSegmentReportingInformationBySegmentT...                NaN   \n",
       "ReconciliationOfOperatingProfitLossFromSegments...                NaN   \n",
       "ScheduleOfRevenuesFromExternalCustomersAndLongL...                NaN   \n",
       "OtherGeneralAndAdministrativeExpense                              NaN   \n",
       "NoncurrentAssets                                                  NaN   \n",
       "\n",
       "                                                   StatementsOfComprehensiveIncome  \\\n",
       "DocumentType                                                                   NaN   \n",
       "DocumentAnnualReport                                                           NaN   \n",
       "CurrentFiscalYearEndDate                                                       NaN   \n",
       "DocumentPeriodEndDate                                                          NaN   \n",
       "DocumentTransitionReport                                                       NaN   \n",
       "...                                                                            ...   \n",
       "ScheduleOfSegmentReportingInformationBySegmentT...                             NaN   \n",
       "ReconciliationOfOperatingProfitLossFromSegments...                             NaN   \n",
       "ScheduleOfRevenuesFromExternalCustomersAndLongL...                             NaN   \n",
       "OtherGeneralAndAdministrativeExpense                                           NaN   \n",
       "NoncurrentAssets                                                               NaN   \n",
       "\n",
       "                                                   BalanceSheets  \\\n",
       "DocumentType                                                 NaN   \n",
       "DocumentAnnualReport                                         NaN   \n",
       "CurrentFiscalYearEndDate                                     NaN   \n",
       "DocumentPeriodEndDate                                        NaN   \n",
       "DocumentTransitionReport                                     NaN   \n",
       "...                                                          ...   \n",
       "ScheduleOfSegmentReportingInformationBySegmentT...           NaN   \n",
       "ReconciliationOfOperatingProfitLossFromSegments...           NaN   \n",
       "ScheduleOfRevenuesFromExternalCustomersAndLongL...           NaN   \n",
       "OtherGeneralAndAdministrativeExpense                         NaN   \n",
       "NoncurrentAssets                                             NaN   \n",
       "\n",
       "                                                   BalanceSheetsParenthetical  \\\n",
       "DocumentType                                                              NaN   \n",
       "DocumentAnnualReport                                                      NaN   \n",
       "CurrentFiscalYearEndDate                                                  NaN   \n",
       "DocumentPeriodEndDate                                                     NaN   \n",
       "DocumentTransitionReport                                                  NaN   \n",
       "...                                                                       ...   \n",
       "ScheduleOfSegmentReportingInformationBySegmentT...                        NaN   \n",
       "ReconciliationOfOperatingProfitLossFromSegments...                        NaN   \n",
       "ScheduleOfRevenuesFromExternalCustomersAndLongL...                        NaN   \n",
       "OtherGeneralAndAdministrativeExpense                                      NaN   \n",
       "NoncurrentAssets                                                          NaN   \n",
       "\n",
       "                                                   StatementsOfShareholdersEquity  \\\n",
       "DocumentType                                                                  NaN   \n",
       "DocumentAnnualReport                                                          NaN   \n",
       "CurrentFiscalYearEndDate                                                      NaN   \n",
       "DocumentPeriodEndDate                                                         NaN   \n",
       "DocumentTransitionReport                                                      NaN   \n",
       "...                                                                           ...   \n",
       "ScheduleOfSegmentReportingInformationBySegmentT...                            NaN   \n",
       "ReconciliationOfOperatingProfitLossFromSegments...                            NaN   \n",
       "ScheduleOfRevenuesFromExternalCustomersAndLongL...                            NaN   \n",
       "OtherGeneralAndAdministrativeExpense                                          NaN   \n",
       "NoncurrentAssets                                                              NaN   \n",
       "\n",
       "                                                   StatementsOfCashFlows  \\\n",
       "DocumentType                                                         NaN   \n",
       "DocumentAnnualReport                                                 NaN   \n",
       "CurrentFiscalYearEndDate                                             NaN   \n",
       "DocumentPeriodEndDate                                                NaN   \n",
       "DocumentTransitionReport                                             NaN   \n",
       "...                                                                  ...   \n",
       "ScheduleOfSegmentReportingInformationBySegmentT...                   NaN   \n",
       "ReconciliationOfOperatingProfitLossFromSegments...                   NaN   \n",
       "ScheduleOfRevenuesFromExternalCustomersAndLongL...                   NaN   \n",
       "OtherGeneralAndAdministrativeExpense                                 NaN   \n",
       "NoncurrentAssets                                                     NaN   \n",
       "\n",
       "                                                   SummaryofSignificantAccountingPolicies  \\\n",
       "DocumentType                                                                          NaN   \n",
       "DocumentAnnualReport                                                                  NaN   \n",
       "CurrentFiscalYearEndDate                                                              NaN   \n",
       "DocumentPeriodEndDate                                                                 NaN   \n",
       "DocumentTransitionReport                                                              NaN   \n",
       "...                                                                                   ...   \n",
       "ScheduleOfSegmentReportingInformationBySegmentT...                                    NaN   \n",
       "ReconciliationOfOperatingProfitLossFromSegments...                                    NaN   \n",
       "ScheduleOfRevenuesFromExternalCustomersAndLongL...                                    NaN   \n",
       "OtherGeneralAndAdministrativeExpense                                                  NaN   \n",
       "NoncurrentAssets                                                                      NaN   \n",
       "\n",
       "                                                   SummaryofSignificantAccountingPoliciesPolicies  \\\n",
       "DocumentType                                                                                  NaN   \n",
       "DocumentAnnualReport                                                                          NaN   \n",
       "CurrentFiscalYearEndDate                                                                      NaN   \n",
       "DocumentPeriodEndDate                                                                         NaN   \n",
       "DocumentTransitionReport                                                                      NaN   \n",
       "...                                                                                           ...   \n",
       "ScheduleOfSegmentReportingInformationBySegmentT...                                            NaN   \n",
       "ReconciliationOfOperatingProfitLossFromSegments...                                            NaN   \n",
       "ScheduleOfRevenuesFromExternalCustomersAndLongL...                                            NaN   \n",
       "OtherGeneralAndAdministrativeExpense                                                          NaN   \n",
       "NoncurrentAssets                                                                              NaN   \n",
       "\n",
       "                                                   SummaryofSignificantAccountingPoliciesTables  \\\n",
       "DocumentType                                                                                NaN   \n",
       "DocumentAnnualReport                                                                        NaN   \n",
       "CurrentFiscalYearEndDate                                                                    NaN   \n",
       "DocumentPeriodEndDate                                                                       NaN   \n",
       "DocumentTransitionReport                                                                    NaN   \n",
       "...                                                                                         ...   \n",
       "ScheduleOfSegmentReportingInformationBySegmentT...                                          NaN   \n",
       "ReconciliationOfOperatingProfitLossFromSegments...                                          NaN   \n",
       "ScheduleOfRevenuesFromExternalCustomersAndLongL...                                          NaN   \n",
       "OtherGeneralAndAdministrativeExpense                                                        NaN   \n",
       "NoncurrentAssets                                                                            NaN   \n",
       "\n",
       "                                                    ...  \\\n",
       "DocumentType                                        ...   \n",
       "DocumentAnnualReport                                ...   \n",
       "CurrentFiscalYearEndDate                            ...   \n",
       "DocumentPeriodEndDate                               ...   \n",
       "DocumentTransitionReport                            ...   \n",
       "...                                                 ...   \n",
       "ScheduleOfSegmentReportingInformationBySegmentT...  ...   \n",
       "ReconciliationOfOperatingProfitLossFromSegments...  ...   \n",
       "ScheduleOfRevenuesFromExternalCustomersAndLongL...  ...   \n",
       "OtherGeneralAndAdministrativeExpense                ...   \n",
       "NoncurrentAssets                                    ...   \n",
       "\n",
       "                                                   CommitmentsandContingenciesTables  \\\n",
       "DocumentType                                                                     NaN   \n",
       "DocumentAnnualReport                                                             NaN   \n",
       "CurrentFiscalYearEndDate                                                         NaN   \n",
       "DocumentPeriodEndDate                                                            NaN   \n",
       "DocumentTransitionReport                                                         NaN   \n",
       "...                                                                              ...   \n",
       "ScheduleOfSegmentReportingInformationBySegmentT...                               NaN   \n",
       "ReconciliationOfOperatingProfitLossFromSegments...                               NaN   \n",
       "ScheduleOfRevenuesFromExternalCustomersAndLongL...                               NaN   \n",
       "OtherGeneralAndAdministrativeExpense                                             NaN   \n",
       "NoncurrentAssets                                                                 NaN   \n",
       "\n",
       "                                                   CommitmentsandContingenciesChangesinAccruedWarrantiesandRelatedCostsDetails  \\\n",
       "DocumentType                                                                                      NaN                            \n",
       "DocumentAnnualReport                                                                              NaN                            \n",
       "CurrentFiscalYearEndDate                                                                          NaN                            \n",
       "DocumentPeriodEndDate                                                                             NaN                            \n",
       "DocumentTransitionReport                                                                          NaN                            \n",
       "...                                                                                               ...                            \n",
       "ScheduleOfSegmentReportingInformationBySegmentT...                                                NaN                            \n",
       "ReconciliationOfOperatingProfitLossFromSegments...                                                NaN                            \n",
       "ScheduleOfRevenuesFromExternalCustomersAndLongL...                                                NaN                            \n",
       "OtherGeneralAndAdministrativeExpense                                                              NaN                            \n",
       "NoncurrentAssets                                                                                  NaN                            \n",
       "\n",
       "                                                   CommitmentsandContingenciesFuturePaymentsUnderUnconditionalPurchaseObligationsDetails  \\\n",
       "DocumentType                                                                                      NaN                                      \n",
       "DocumentAnnualReport                                                                              NaN                                      \n",
       "CurrentFiscalYearEndDate                                                                          NaN                                      \n",
       "DocumentPeriodEndDate                                                                             NaN                                      \n",
       "DocumentTransitionReport                                                                          NaN                                      \n",
       "...                                                                                               ...                                      \n",
       "ScheduleOfSegmentReportingInformationBySegmentT...                                                NaN                                      \n",
       "ReconciliationOfOperatingProfitLossFromSegments...                                                NaN                                      \n",
       "ScheduleOfRevenuesFromExternalCustomersAndLongL...                                                NaN                                      \n",
       "OtherGeneralAndAdministrativeExpense                                                              NaN                                      \n",
       "NoncurrentAssets                                                                                  NaN                                      \n",
       "\n",
       "                                                   CommitmentsandContingenciesAdditionalInformationDetails  \\\n",
       "DocumentType                                                                                      NaN        \n",
       "DocumentAnnualReport                                                                              NaN        \n",
       "CurrentFiscalYearEndDate                                                                          NaN        \n",
       "DocumentPeriodEndDate                                                                             NaN        \n",
       "DocumentTransitionReport                                                                          NaN        \n",
       "...                                                                                               ...        \n",
       "ScheduleOfSegmentReportingInformationBySegmentT...                                                NaN        \n",
       "ReconciliationOfOperatingProfitLossFromSegments...                                                NaN        \n",
       "ScheduleOfRevenuesFromExternalCustomersAndLongL...                                                NaN        \n",
       "OtherGeneralAndAdministrativeExpense                                                              NaN        \n",
       "NoncurrentAssets                                                                                  NaN        \n",
       "\n",
       "                                                   SegmentInformationandGeographicData  \\\n",
       "DocumentType                                                                       NaN   \n",
       "DocumentAnnualReport                                                               NaN   \n",
       "CurrentFiscalYearEndDate                                                           NaN   \n",
       "DocumentPeriodEndDate                                                              NaN   \n",
       "DocumentTransitionReport                                                           NaN   \n",
       "...                                                                                ...   \n",
       "ScheduleOfSegmentReportingInformationBySegmentT...                                 NaN   \n",
       "ReconciliationOfOperatingProfitLossFromSegments...                                 NaN   \n",
       "ScheduleOfRevenuesFromExternalCustomersAndLongL...                                 NaN   \n",
       "OtherGeneralAndAdministrativeExpense                                               NaN   \n",
       "NoncurrentAssets                                                                   NaN   \n",
       "\n",
       "                                                            SegmentInformationandGeographicDataTables  \\\n",
       "DocumentType                                                                                      NaN   \n",
       "DocumentAnnualReport                                                                              NaN   \n",
       "CurrentFiscalYearEndDate                                                                          NaN   \n",
       "DocumentPeriodEndDate                                                                             NaN   \n",
       "DocumentTransitionReport                                                                          NaN   \n",
       "...                                                                                               ...   \n",
       "ScheduleOfSegmentReportingInformationBySegmentT...  <div style=\"margin-top:12pt;text-align:justify...   \n",
       "ReconciliationOfOperatingProfitLossFromSegments...  <div style=\"margin-top:12pt;text-align:justify...   \n",
       "ScheduleOfRevenuesFromExternalCustomersAndLongL...  Net sales for 2021, 2020 and 2019 and long-liv...   \n",
       "OtherGeneralAndAdministrativeExpense                                                              NaN   \n",
       "NoncurrentAssets                                                                                  NaN   \n",
       "\n",
       "                                                   SegmentInformationandGeographicDataInformationbyReportableSegmentDetails  \\\n",
       "DocumentType                                                                                      NaN                         \n",
       "DocumentAnnualReport                                                                              NaN                         \n",
       "CurrentFiscalYearEndDate                                                                          NaN                         \n",
       "DocumentPeriodEndDate                                                                             NaN                         \n",
       "DocumentTransitionReport                                                                          NaN                         \n",
       "...                                                                                               ...                         \n",
       "ScheduleOfSegmentReportingInformationBySegmentT...                                                NaN                         \n",
       "ReconciliationOfOperatingProfitLossFromSegments...                                                NaN                         \n",
       "ScheduleOfRevenuesFromExternalCustomersAndLongL...                                                NaN                         \n",
       "OtherGeneralAndAdministrativeExpense                                                              NaN                         \n",
       "NoncurrentAssets                                                                                  NaN                         \n",
       "\n",
       "                                                   SegmentInformationandGeographicDataReconciliationofSegmentOperatingIncometotheConsolidatedStatementsofOperationsDetails  \\\n",
       "DocumentType                                                                                      NaN                                                                        \n",
       "DocumentAnnualReport                                                                              NaN                                                                        \n",
       "CurrentFiscalYearEndDate                                                                          NaN                                                                        \n",
       "DocumentPeriodEndDate                                                                             NaN                                                                        \n",
       "DocumentTransitionReport                                                                          NaN                                                                        \n",
       "...                                                                                               ...                                                                        \n",
       "ScheduleOfSegmentReportingInformationBySegmentT...                                                NaN                                                                        \n",
       "ReconciliationOfOperatingProfitLossFromSegments...                                                NaN                                                                        \n",
       "ScheduleOfRevenuesFromExternalCustomersAndLongL...                                                NaN                                                                        \n",
       "OtherGeneralAndAdministrativeExpense                [{'decimals': '-6', 'unitRef': 'usd', 'period'...                                                                        \n",
       "NoncurrentAssets                                                                                  NaN                                                                        \n",
       "\n",
       "                                                   SegmentInformationandGeographicDataNetSalesDetails  \\\n",
       "DocumentType                                                                                      NaN   \n",
       "DocumentAnnualReport                                                                              NaN   \n",
       "CurrentFiscalYearEndDate                                                                          NaN   \n",
       "DocumentPeriodEndDate                                                                             NaN   \n",
       "DocumentTransitionReport                                                                          NaN   \n",
       "...                                                                                               ...   \n",
       "ScheduleOfSegmentReportingInformationBySegmentT...                                                NaN   \n",
       "ReconciliationOfOperatingProfitLossFromSegments...                                                NaN   \n",
       "ScheduleOfRevenuesFromExternalCustomersAndLongL...                                                NaN   \n",
       "OtherGeneralAndAdministrativeExpense                                                              NaN   \n",
       "NoncurrentAssets                                                                                  NaN   \n",
       "\n",
       "                                                   SegmentInformationandGeographicDataLongLivedAssetsDetails  \n",
       "DocumentType                                                                                      NaN         \n",
       "DocumentAnnualReport                                                                              NaN         \n",
       "CurrentFiscalYearEndDate                                                                          NaN         \n",
       "DocumentPeriodEndDate                                                                             NaN         \n",
       "DocumentTransitionReport                                                                          NaN         \n",
       "...                                                                                               ...         \n",
       "ScheduleOfSegmentReportingInformationBySegmentT...                                                NaN         \n",
       "ReconciliationOfOperatingProfitLossFromSegments...                                                NaN         \n",
       "ScheduleOfRevenuesFromExternalCustomersAndLongL...                                                NaN         \n",
       "OtherGeneralAndAdministrativeExpense                                                              NaN         \n",
       "NoncurrentAssets                                    [{'decimals': '-6', 'unitRef': 'usd', 'period'...         \n",
       "\n",
       "[397 rows x 67 columns]"
      ]
     },
     "execution_count": 24,
     "metadata": {},
     "output_type": "execute_result"
    }
   ],
   "source": [
    "pd.DataFrame(xbrl_json)"
   ]
  },
  {
   "cell_type": "code",
   "execution_count": 18,
   "metadata": {},
   "outputs": [
    {
     "data": {
      "text/plain": [
       "dict_keys(['RevenueFromContractWithCustomerExcludingAssessedTax', 'CostOfGoodsAndServicesSold', 'GrossProfit', 'ResearchAndDevelopmentExpense', 'SellingGeneralAndAdministrativeExpense', 'OperatingExpenses', 'OperatingIncomeLoss', 'NonoperatingIncomeExpense', 'IncomeLossFromContinuingOperationsBeforeIncomeTaxesExtraordinaryItemsNoncontrollingInterest', 'IncomeTaxExpenseBenefit', 'NetIncomeLoss', 'EarningsPerShareBasic', 'EarningsPerShareDiluted', 'WeightedAverageNumberOfSharesOutstandingBasic', 'WeightedAverageNumberOfDilutedSharesOutstanding'])"
      ]
     },
     "execution_count": 18,
     "metadata": {},
     "output_type": "execute_result"
    }
   ],
   "source": [
    "#statement of income\n",
    "xbrl_json['StatementsOfIncome'].keys()"
   ]
  },
  {
   "cell_type": "code",
   "execution_count": 19,
   "metadata": {},
   "outputs": [
    {
     "data": {
      "text/plain": [
       "dict_keys(['CashAndCashEquivalentsAtCarryingValue', 'MarketableSecuritiesCurrent', 'AccountsReceivableNetCurrent', 'InventoryNet', 'NontradeReceivablesCurrent', 'OtherAssetsCurrent', 'AssetsCurrent', 'MarketableSecuritiesNoncurrent', 'PropertyPlantAndEquipmentNet', 'OtherAssetsNoncurrent', 'AssetsNoncurrent', 'Assets', 'AccountsPayableCurrent', 'OtherLiabilitiesCurrent', 'ContractWithCustomerLiabilityCurrent', 'CommercialPaper', 'LongTermDebtCurrent', 'LiabilitiesCurrent', 'LongTermDebtNoncurrent', 'OtherLiabilitiesNoncurrent', 'LiabilitiesNoncurrent', 'Liabilities', 'CommitmentsAndContingencies', 'CommonStocksIncludingAdditionalPaidInCapital', 'RetainedEarningsAccumulatedDeficit', 'AccumulatedOtherComprehensiveIncomeLossNetOfTax', 'StockholdersEquity', 'LiabilitiesAndStockholdersEquity'])"
      ]
     },
     "execution_count": 19,
     "metadata": {},
     "output_type": "execute_result"
    }
   ],
   "source": [
    "#balance sheet\n",
    "xbrl_json['BalanceSheets'].keys()"
   ]
  },
  {
   "cell_type": "code",
   "execution_count": 20,
   "metadata": {},
   "outputs": [
    {
     "data": {
      "text/plain": [
       "dict_keys(['CashCashEquivalentsRestrictedCashAndRestrictedCashEquivalents', 'NetIncomeLoss', 'DepreciationDepletionAndAmortization', 'ShareBasedCompensation', 'DeferredIncomeTaxExpenseBenefit', 'OtherNoncashIncomeExpense', 'IncreaseDecreaseInAccountsReceivable', 'IncreaseDecreaseInInventories', 'IncreaseDecreaseInOtherReceivables', 'IncreaseDecreaseInOtherOperatingAssets', 'IncreaseDecreaseInAccountsPayable', 'IncreaseDecreaseInContractWithCustomerLiability', 'IncreaseDecreaseInOtherOperatingLiabilities', 'NetCashProvidedByUsedInOperatingActivities', 'PaymentsToAcquireAvailableForSaleSecuritiesDebt', 'ProceedsFromMaturitiesPrepaymentsAndCallsOfAvailableForSaleSecurities', 'ProceedsFromSaleOfAvailableForSaleSecuritiesDebt', 'PaymentsToAcquirePropertyPlantAndEquipment', 'PaymentsToAcquireBusinessesNetOfCashAcquired', 'PaymentsToAcquireOtherInvestments', 'ProceedsFromSaleAndMaturityOfOtherInvestments', 'PaymentsForProceedsFromOtherInvestingActivities', 'NetCashProvidedByUsedInInvestingActivities', 'ProceedsFromIssuanceOfCommonStock', 'PaymentsRelatedToTaxWithholdingForShareBasedCompensation', 'PaymentsOfDividends', 'PaymentsForRepurchaseOfCommonStock', 'ProceedsFromIssuanceOfLongTermDebt', 'RepaymentsOfLongTermDebt', 'ProceedsFromRepaymentsOfCommercialPaper', 'ProceedsFromPaymentsForOtherFinancingActivities', 'NetCashProvidedByUsedInFinancingActivities', 'CashCashEquivalentsRestrictedCashAndRestrictedCashEquivalentsPeriodIncreaseDecreaseIncludingExchangeRateEffect', 'IncomeTaxesPaidNet', 'InterestPaidNet'])"
      ]
     },
     "execution_count": 20,
     "metadata": {},
     "output_type": "execute_result"
    }
   ],
   "source": [
    "xbrl_json['StatementsOfCashFlows'].keys()"
   ]
  },
  {
   "cell_type": "markdown",
   "metadata": {},
   "source": [
    "#### Example using XBRL file URL\n",
    "\n",
    "I'm not entirely sure how to locate the xbrl URL (come back to this another time)"
   ]
  },
  {
   "cell_type": "markdown",
   "metadata": {},
   "source": [
    "### Let's save the dictionary as a .txt file for later parsing\n",
    "https://www.geeksforgeeks.org/write-a-dictionary-to-a-file-in-python/\n",
    "\n",
    "https://stackoverflow.com/questions/4803999/how-to-convert-a-file-into-a-dictionary\n",
    "\n",
    "https://www.geeksforgeeks.org/how-to-read-dictionary-from-file-in-python/"
   ]
  },
  {
   "cell_type": "code",
   "execution_count": 2,
   "metadata": {},
   "outputs": [],
   "source": [
    "import json"
   ]
  },
  {
   "cell_type": "code",
   "execution_count": 30,
   "metadata": {},
   "outputs": [],
   "source": [
    "#saving the dictionary as a text file\n",
    "with open('AAPL_10K_2021.txt', 'w') as converted_file:\n",
    "    converted_file.write(json.dumps(xbrl_json))"
   ]
  },
  {
   "cell_type": "markdown",
   "metadata": {},
   "source": [
    "##### And now the inverse process, reading the file back"
   ]
  },
  {
   "cell_type": "code",
   "execution_count": 3,
   "metadata": {},
   "outputs": [],
   "source": [
    "#reading the data from a file\n",
    "with open('AAPL_10K_2021.txt') as f:\n",
    "    aapl_txt = f.read()\n",
    "    \n",
    "#converting the text string into a dictionary\n",
    "aapl_dict = json.loads(aapl_txt)"
   ]
  },
  {
   "cell_type": "markdown",
   "metadata": {},
   "source": [
    "### Extracting values from the Income Statement"
   ]
  },
  {
   "cell_type": "code",
   "execution_count": 18,
   "metadata": {},
   "outputs": [
    {
     "data": {
      "text/plain": [
       "dict_keys(['RevenueFromContractWithCustomerExcludingAssessedTax', 'CostOfGoodsAndServicesSold', 'GrossProfit', 'ResearchAndDevelopmentExpense', 'SellingGeneralAndAdministrativeExpense', 'OperatingExpenses', 'OperatingIncomeLoss', 'NonoperatingIncomeExpense', 'IncomeLossFromContinuingOperationsBeforeIncomeTaxesExtraordinaryItemsNoncontrollingInterest', 'IncomeTaxExpenseBenefit', 'NetIncomeLoss', 'EarningsPerShareBasic', 'EarningsPerShareDiluted', 'WeightedAverageNumberOfSharesOutstandingBasic', 'WeightedAverageNumberOfDilutedSharesOutstanding'])"
      ]
     },
     "execution_count": 18,
     "metadata": {},
     "output_type": "execute_result"
    }
   ],
   "source": [
    "aapl_dict['StatementsOfIncome'].keys()"
   ]
  },
  {
   "cell_type": "markdown",
   "metadata": {},
   "source": [
    "Note the the *Statement of Income* is published in triplicate, one for each of the last three years. \n",
    "\n",
    "For AAPL, the Revenue seems to be broken down by product rather than a sum total. But notice that the third dictionary in the list does NOT include a \"segment\" key, and it gives the full total Revenue under \"value\" so I have to systematically extract this somehow."
   ]
  },
  {
   "cell_type": "code",
   "execution_count": null,
   "metadata": {},
   "outputs": [
    {
     "name": "stdout",
     "output_type": "stream",
     "text": [
      "{'decimals': '-6', 'unitRef': 'usd', 'period': {'startDate': '2020-09-27', 'endDate': '2021-09-25'}, 'segment': {'dimension': 'srt:ProductOrServiceAxis', 'value': 'us-gaap:ProductMember'}, 'value': '297392000000'}\n",
      "{'decimals': '-6', 'unitRef': 'usd', 'period': {'startDate': '2020-09-27', 'endDate': '2021-09-25'}, 'segment': {'dimension': 'srt:ProductOrServiceAxis', 'value': 'us-gaap:ServiceMember'}, 'value': '68425000000'}\n",
      "{'decimals': '-6', 'unitRef': 'usd', 'period': {'startDate': '2020-09-27', 'endDate': '2021-09-25'}, 'value': '365817000000'}\n",
      "{'decimals': '-6', 'unitRef': 'usd', 'period': {'startDate': '2020-09-27', 'endDate': '2021-09-25'}, 'segment': {'dimension': 'srt:ProductOrServiceAxis', 'value': 'aapl:IPhoneMember'}, 'value': '191973000000'}\n",
      "{'decimals': '-6', 'unitRef': 'usd', 'period': {'startDate': '2020-09-27', 'endDate': '2021-09-25'}, 'segment': {'dimension': 'srt:ProductOrServiceAxis', 'value': 'aapl:MacMember'}, 'value': '35190000000'}\n",
      "{'decimals': '-6', 'unitRef': 'usd', 'period': {'startDate': '2020-09-27', 'endDate': '2021-09-25'}, 'segment': {'dimension': 'srt:ProductOrServiceAxis', 'value': 'aapl:IPadMember'}, 'value': '31862000000'}\n",
      "{'decimals': '-6', 'unitRef': 'usd', 'period': {'startDate': '2020-09-27', 'endDate': '2021-09-25'}, 'segment': {'dimension': 'srt:ProductOrServiceAxis', 'value': 'aapl:WearablesHomeandAccessoriesMember'}, 'value': '38367000000'}\n",
      "{'decimals': '-6', 'unitRef': 'usd', 'period': {'startDate': '2020-09-27', 'endDate': '2021-09-25'}, 'segment': {'dimension': 'us-gaap:StatementBusinessSegmentsAxis', 'value': 'aapl:AmericasSegmentMember'}, 'value': '153306000000'}\n",
      "{'decimals': '-6', 'unitRef': 'usd', 'period': {'startDate': '2020-09-27', 'endDate': '2021-09-25'}, 'segment': {'dimension': 'us-gaap:StatementBusinessSegmentsAxis', 'value': 'aapl:EuropeSegmentMember'}, 'value': '89307000000'}\n",
      "{'decimals': '-6', 'unitRef': 'usd', 'period': {'startDate': '2020-09-27', 'endDate': '2021-09-25'}, 'segment': {'dimension': 'us-gaap:StatementBusinessSegmentsAxis', 'value': 'aapl:GreaterChinaSegmentMember'}, 'value': '68366000000'}\n",
      "{'decimals': '-6', 'unitRef': 'usd', 'period': {'startDate': '2020-09-27', 'endDate': '2021-09-25'}, 'segment': {'dimension': 'us-gaap:StatementBusinessSegmentsAxis', 'value': 'aapl:JapanSegmentMember'}, 'value': '28482000000'}\n",
      "{'decimals': '-6', 'unitRef': 'usd', 'period': {'startDate': '2020-09-27', 'endDate': '2021-09-25'}, 'segment': {'dimension': 'us-gaap:StatementBusinessSegmentsAxis', 'value': 'aapl:RestOfAsiaPacificSegmentMember'}, 'value': '26356000000'}\n",
      "{'decimals': '-6', 'unitRef': 'usd', 'period': {'startDate': '2020-09-27', 'endDate': '2021-09-25'}, 'segment': {'dimension': 'srt:StatementGeographicalAxis', 'value': 'country:US'}, 'value': '133803000000'}\n",
      "{'decimals': '-6', 'unitRef': 'usd', 'period': {'startDate': '2020-09-27', 'endDate': '2021-09-25'}, 'segment': {'dimension': 'srt:StatementGeographicalAxis', 'value': 'country:CN'}, 'value': '68366000000'}\n",
      "{'decimals': '-6', 'unitRef': 'usd', 'period': {'startDate': '2020-09-27', 'endDate': '2021-09-25'}, 'segment': {'dimension': 'srt:StatementGeographicalAxis', 'value': 'aapl:OtherCountriesMember'}, 'value': '163648000000'}\n",
      "\n",
      "Final Revenue value is: 365817000000\n"
     ]
    }
   ],
   "source": [
    "#aapl_dict['StatementsOfIncome']['RevenueFromContractWithCustomerExcludingAssessedTax'][0]\n",
    "\n",
    "rev_sum = 0\n",
    "for i in range(len(aapl_dict['StatementsOfIncome']['RevenueFromContractWithCustomerExcludingAssessedTax'])):\n",
    "    if i % 3 == 0:\n",
    "        print(aapl_dict['StatementsOfIncome']['RevenueFromContractWithCustomerExcludingAssessedTax'][i])\n",
    "\n",
    "print(f\"\\nFinal Revenue value is: {aapl_dict['StatementsOfIncome']['RevenueFromContractWithCustomerExcludingAssessedTax'][6]['value']}\")"
   ]
  },
  {
   "cell_type": "markdown",
   "metadata": {},
   "source": [
    "### Extracting value from the Balance Sheet"
   ]
  },
  {
   "cell_type": "code",
   "execution_count": 104,
   "metadata": {},
   "outputs": [
    {
     "data": {
      "text/plain": [
       "dict_keys(['CashAndCashEquivalentsAtCarryingValue', 'MarketableSecuritiesCurrent', 'AccountsReceivableNetCurrent', 'InventoryNet', 'NontradeReceivablesCurrent', 'OtherAssetsCurrent', 'AssetsCurrent', 'MarketableSecuritiesNoncurrent', 'PropertyPlantAndEquipmentNet', 'OtherAssetsNoncurrent', 'AssetsNoncurrent', 'Assets', 'AccountsPayableCurrent', 'OtherLiabilitiesCurrent', 'ContractWithCustomerLiabilityCurrent', 'CommercialPaper', 'LongTermDebtCurrent', 'LiabilitiesCurrent', 'LongTermDebtNoncurrent', 'OtherLiabilitiesNoncurrent', 'LiabilitiesNoncurrent', 'Liabilities', 'CommitmentsAndContingencies', 'CommonStocksIncludingAdditionalPaidInCapital', 'RetainedEarningsAccumulatedDeficit', 'AccumulatedOtherComprehensiveIncomeLossNetOfTax', 'StockholdersEquity', 'LiabilitiesAndStockholdersEquity'])"
      ]
     },
     "execution_count": 104,
     "metadata": {},
     "output_type": "execute_result"
    }
   ],
   "source": [
    "aapl_dict['BalanceSheets'].keys()"
   ]
  },
  {
   "cell_type": "code",
   "execution_count": null,
   "metadata": {},
   "outputs": [],
   "source": []
  },
  {
   "cell_type": "code",
   "execution_count": null,
   "metadata": {},
   "outputs": [],
   "source": []
  },
  {
   "cell_type": "code",
   "execution_count": null,
   "metadata": {},
   "outputs": [],
   "source": []
  },
  {
   "cell_type": "code",
   "execution_count": null,
   "metadata": {},
   "outputs": [],
   "source": []
  },
  {
   "cell_type": "code",
   "execution_count": null,
   "metadata": {},
   "outputs": [],
   "source": []
  },
  {
   "cell_type": "code",
   "execution_count": null,
   "metadata": {},
   "outputs": [],
   "source": []
  },
  {
   "cell_type": "code",
   "execution_count": null,
   "metadata": {},
   "outputs": [],
   "source": [
    "#https://www.sec.gov/ix?doc=/Archives/edgar/data/0000050863/000005086322000007/intc-20211225.htm"
   ]
  },
  {
   "cell_type": "markdown",
   "metadata": {},
   "source": [
    "##### And now the inverse process, reading the file back"
   ]
  },
  {
   "cell_type": "code",
   "execution_count": null,
   "metadata": {},
   "outputs": [],
   "source": [
    "#reading the data from a file\n",
    "with open('INTC_10K_2021.txt') as f:\n",
    "    intc_txt = f.read()\n",
    "    \n",
    "#converting the text string into a dictionary\n",
    "intc_dict = json.loads(intc_txt)"
   ]
  },
  {
   "cell_type": "code",
   "execution_count": null,
   "metadata": {},
   "outputs": [],
   "source": []
  },
  {
   "cell_type": "markdown",
   "metadata": {},
   "source": [
    "AAPL and INTC Income Statments have 15 fields in common. INTC has two fields that AAPL doesn't have:\n",
    "* GainLossOnInvestments\n",
    "* RestructuringSettlementAndImpairmentProvisions"
   ]
  },
  {
   "cell_type": "code",
   "execution_count": 15,
   "metadata": {},
   "outputs": [],
   "source": [
    "keys_intc_is = intc_dict['StatementsOfIncome'].keys()\n",
    "keys_aapl_is = aapl_dict['StatementsOfIncome'].keys()"
   ]
  },
  {
   "cell_type": "code",
   "execution_count": 16,
   "metadata": {},
   "outputs": [
    {
     "data": {
      "text/plain": [
       "{'CostOfGoodsAndServicesSold',\n",
       " 'EarningsPerShareBasic',\n",
       " 'EarningsPerShareDiluted',\n",
       " 'GainLossOnInvestments',\n",
       " 'GrossProfit',\n",
       " 'IncomeLossFromContinuingOperationsBeforeIncomeTaxesExtraordinaryItemsNoncontrollingInterest',\n",
       " 'IncomeTaxExpenseBenefit',\n",
       " 'NetIncomeLoss',\n",
       " 'NonoperatingIncomeExpense',\n",
       " 'OperatingExpenses',\n",
       " 'OperatingIncomeLoss',\n",
       " 'ResearchAndDevelopmentExpense',\n",
       " 'RestructuringSettlementAndImpairmentProvisions',\n",
       " 'RevenueFromContractWithCustomerExcludingAssessedTax',\n",
       " 'SellingGeneralAndAdministrativeExpense',\n",
       " 'WeightedAverageNumberOfDilutedSharesOutstanding',\n",
       " 'WeightedAverageNumberOfSharesOutstandingBasic'}"
      ]
     },
     "execution_count": 16,
     "metadata": {},
     "output_type": "execute_result"
    }
   ],
   "source": [
    "set(keys_aapl_is & keys_intc_is)"
   ]
  },
  {
   "cell_type": "code",
   "execution_count": 17,
   "metadata": {},
   "outputs": [
    {
     "name": "stdout",
     "output_type": "stream",
     "text": [
      "set()\n",
      "set()\n"
     ]
    }
   ],
   "source": [
    "print(set(keys_aapl_is - keys_intc_is))\n",
    "print(set(keys_intc_is - keys_aapl_is))"
   ]
  },
  {
   "cell_type": "code",
   "execution_count": null,
   "metadata": {},
   "outputs": [],
   "source": []
  },
  {
   "cell_type": "markdown",
   "metadata": {},
   "source": [
    "##### Microsoft"
   ]
  },
  {
   "cell_type": "code",
   "execution_count": 18,
   "metadata": {},
   "outputs": [],
   "source": [
    "#https://www.sec.gov/ix?doc=/Archives/edgar/data/789019/000156459022026876/msft-10k_20220630.htm"
   ]
  },
  {
   "cell_type": "code",
   "execution_count": 19,
   "metadata": {},
   "outputs": [],
   "source": [
    "xbrl_json = xbrlApi.xbrl_to_json(htm_url='https://www.sec.gov/ix?doc=/Archives/edgar/data/789019/000156459022026876/msft-10k_20220630.htm')"
   ]
  },
  {
   "cell_type": "code",
   "execution_count": 21,
   "metadata": {},
   "outputs": [],
   "source": [
    "#saving the dictionary as a text file\n",
    "with open('10K_datasets/MSFT_10K_2022.txt', 'w') as converted_file:\n",
    "    converted_file.write(json.dumps(xbrl_json))"
   ]
  },
  {
   "cell_type": "markdown",
   "metadata": {},
   "source": [
    "##### And now the inverse process, reading the file back"
   ]
  },
  {
   "cell_type": "code",
   "execution_count": 22,
   "metadata": {},
   "outputs": [],
   "source": [
    "#reading the data from a file\n",
    "with open('10K_datasets/MSFT_10K_2022.txt') as f:\n",
    "    msft_txt = f.read()\n",
    "    \n",
    "#converting the text string into a dictionary\n",
    "msft_dict = json.loads(msft_txt)"
   ]
  },
  {
   "cell_type": "code",
   "execution_count": null,
   "metadata": {},
   "outputs": [],
   "source": []
  }
 ],
 "metadata": {
  "kernelspec": {
   "display_name": "Python 3",
   "language": "python",
   "name": "python3"
  },
  "language_info": {
   "codemirror_mode": {
    "name": "ipython",
    "version": 3
   },
   "file_extension": ".py",
   "mimetype": "text/x-python",
   "name": "python",
   "nbconvert_exporter": "python",
   "pygments_lexer": "ipython3",
   "version": "3.8.5"
  }
 },
 "nbformat": 4,
 "nbformat_minor": 5
}
