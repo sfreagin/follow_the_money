{
 "cells": [
  {
   "cell_type": "markdown",
   "id": "3177690a-849e-4233-9db4-793bbf19a2bc",
   "metadata": {},
   "source": [
    "## Pulling financial data from the 10-K\n",
    "\n",
    "Following along here: https://sec-api.io/docs/xbrl-to-json-converter-api/python-example\n",
    "\n",
    "I'm going to use the most recent AAPL 10-K, link pulled directly from SEC EDGAR. I think the SEC-API has the ability to pull the filing URL directly, but I'll explore that another time.\n",
    "https://www.sec.gov/ix?doc=/Archives/edgar/data/320193/000032019321000105/aapl-20210925.htm"
   ]
  },
  {
   "cell_type": "code",
   "execution_count": 1,
   "id": "8ea1fde6-bfea-488b-a17c-99e70df064f6",
   "metadata": {},
   "outputs": [],
   "source": [
    "from sec_api import XbrlApi\n",
    "\n",
    "import pandas as pd\n",
    "import numpy as np\n",
    "\n",
    "import matplotlib.pyplot as plt\n",
    "import seaborn as sns"
   ]
  },
  {
   "cell_type": "code",
   "execution_count": 2,
   "id": "b95553ca-f4dd-4ef4-a4c4-773a9a1a75ff",
   "metadata": {},
   "outputs": [],
   "source": [
    "xbrlApi = XbrlApi('324614ace318064f2aa8dcd8ca0f8c5e79647f3dd5b45be7afcadca465924e6a')"
   ]
  },
  {
   "cell_type": "markdown",
   "id": "68611908-e344-45d9-94c2-a841fb31a0f1",
   "metadata": {},
   "source": [
    "#### Example using HTM file URL"
   ]
  },
  {
   "cell_type": "code",
   "execution_count": 3,
   "id": "06003c9c-c6af-476a-9f0c-8d2efd045a17",
   "metadata": {},
   "outputs": [],
   "source": [
    "xbrl_json = xbrlApi.xbrl_to_json(htm_url='https://www.sec.gov/ix?doc=/Archives/edgar/data/320193/000032019321000105/aapl-20210925.htm')"
   ]
  },
  {
   "cell_type": "code",
   "execution_count": 6,
   "id": "d8e95436-2d8a-401e-85e7-fd88a0abf80a",
   "metadata": {},
   "outputs": [
    {
     "data": {
      "text/plain": [
       "dict"
      ]
     },
     "execution_count": 6,
     "metadata": {},
     "output_type": "execute_result"
    }
   ],
   "source": [
    "type(xbrl_json)"
   ]
  },
  {
   "cell_type": "code",
   "execution_count": 23,
   "id": "7ed58ef9-b723-4b5f-b6db-e25a4d749d2b",
   "metadata": {},
   "outputs": [
    {
     "data": {
      "text/plain": [
       "dict_keys(['CoverPage', 'StatementsOfIncome', 'StatementsOfComprehensiveIncome', 'BalanceSheets', 'BalanceSheetsParenthetical', 'StatementsOfShareholdersEquity', 'StatementsOfCashFlows', 'SummaryofSignificantAccountingPolicies', 'SummaryofSignificantAccountingPoliciesPolicies', 'SummaryofSignificantAccountingPoliciesTables', 'SummaryofSignificantAccountingPoliciesAdditionalInformationDetails', 'SummaryofSignificantAccountingPoliciesComputationofBasicandDilutedEarningsPerShareDetails', 'RevenueRecognition', 'RevenueRecognitionTables', 'RevenueRecognitionAdditionalInformationDetails', 'RevenueRecognitionDeferredRevenueExpectedTimingofRealizationDetails', 'RevenueRecognitionNetSalesDisaggregatedbySignificantProductsandServicesDetails', 'FinancialInstruments', 'FinancialInstrumentsTables', 'FinancialInstrumentsCashCashEquivalentsandMarketableSecuritiesDetails', 'FinancialInstrumentsNonCurrentMarketableDebtSecuritiesbyContractualMaturityDetails', 'FinancialInstrumentsAdditionalInformationDetails', 'FinancialInstrumentsNotionalAmountsofDerivativeInstrumentsDetails', 'FinancialInstrumentsDerivativeInstrumentsDesignatedasFairValueHedgesandRelatedHedgedItemsDetails', 'ConsolidatedFinancialStatementDetails', 'ConsolidatedFinancialStatementDetailsTables', 'ConsolidatedFinancialStatementDetailsPropertyPlantandEquipmentNetDetails', 'ConsolidatedFinancialStatementDetailsOtherNonCurrentLiabilitiesDetails', 'ConsolidatedFinancialStatementDetailsOtherIncomeExpenseNetDetails', 'IncomeTaxes', 'IncomeTaxesTables', 'IncomeTaxesProvisionforIncomeTaxesDetails', 'IncomeTaxesAdditionalInformationDetails', 'IncomeTaxesReconciliationoftheProvisionforIncomeTaxesDetails', 'IncomeTaxesSignificantComponentsofDeferredTaxAssetsandLiabilitiesDetails', 'IncomeTaxesAggregateChangesinGrossUnrecognizedTaxBenefitsDetails', 'Leases', 'LeasesTables', 'LeasesAdditionalInformationDetails', 'LeasesROUAssetsandLeaseLiabilitiesDetails', 'LeasesLeaseLiabilityMaturitiesDetails', 'Debt', 'DebtTables', 'DebtAdditionalInformationDetails', 'DebtSummaryofCashFlowsAssociatedwithCommercialPaperDetails', 'DebtSummaryofTermDebtDetails', 'DebtFuturePrincipalPaymentsforTermDebtDetails', 'ShareholdersEquity', 'ShareholdersEquityTables', 'ShareholdersEquityAdditionalInformationDetails', 'ShareholdersEquitySharesofCommonStockDetails', 'BenefitPlans', 'BenefitPlansTables', 'BenefitPlansAdditionalInformationDetails', 'BenefitPlansRestrictedStockUnitsActivityandRelatedInformationDetails', 'BenefitPlansSummaryofShareBasedCompensationExpenseandtheRelatedIncomeTaxBenefitDetails', 'CommitmentsandContingencies', 'CommitmentsandContingenciesTables', 'CommitmentsandContingenciesChangesinAccruedWarrantiesandRelatedCostsDetails', 'CommitmentsandContingenciesFuturePaymentsUnderUnconditionalPurchaseObligationsDetails', 'CommitmentsandContingenciesAdditionalInformationDetails', 'SegmentInformationandGeographicData', 'SegmentInformationandGeographicDataTables', 'SegmentInformationandGeographicDataInformationbyReportableSegmentDetails', 'SegmentInformationandGeographicDataReconciliationofSegmentOperatingIncometotheConsolidatedStatementsofOperationsDetails', 'SegmentInformationandGeographicDataNetSalesDetails', 'SegmentInformationandGeographicDataLongLivedAssetsDetails'])"
      ]
     },
     "execution_count": 23,
     "metadata": {},
     "output_type": "execute_result"
    }
   ],
   "source": [
    "#the full dictionary\n",
    "xbrl_json.keys()"
   ]
  },
  {
   "cell_type": "code",
   "execution_count": 24,
   "id": "2ddfa526-dd54-48a0-ae65-6e26f722736e",
   "metadata": {},
   "outputs": [
    {
     "data": {
      "text/html": [
       "<div>\n",
       "<style scoped>\n",
       "    .dataframe tbody tr th:only-of-type {\n",
       "        vertical-align: middle;\n",
       "    }\n",
       "\n",
       "    .dataframe tbody tr th {\n",
       "        vertical-align: top;\n",
       "    }\n",
       "\n",
       "    .dataframe thead th {\n",
       "        text-align: right;\n",
       "    }\n",
       "</style>\n",
       "<table border=\"1\" class=\"dataframe\">\n",
       "  <thead>\n",
       "    <tr style=\"text-align: right;\">\n",
       "      <th></th>\n",
       "      <th>CoverPage</th>\n",
       "      <th>StatementsOfIncome</th>\n",
       "      <th>StatementsOfComprehensiveIncome</th>\n",
       "      <th>BalanceSheets</th>\n",
       "      <th>BalanceSheetsParenthetical</th>\n",
       "      <th>StatementsOfShareholdersEquity</th>\n",
       "      <th>StatementsOfCashFlows</th>\n",
       "      <th>SummaryofSignificantAccountingPolicies</th>\n",
       "      <th>SummaryofSignificantAccountingPoliciesPolicies</th>\n",
       "      <th>SummaryofSignificantAccountingPoliciesTables</th>\n",
       "      <th>...</th>\n",
       "      <th>CommitmentsandContingenciesTables</th>\n",
       "      <th>CommitmentsandContingenciesChangesinAccruedWarrantiesandRelatedCostsDetails</th>\n",
       "      <th>CommitmentsandContingenciesFuturePaymentsUnderUnconditionalPurchaseObligationsDetails</th>\n",
       "      <th>CommitmentsandContingenciesAdditionalInformationDetails</th>\n",
       "      <th>SegmentInformationandGeographicData</th>\n",
       "      <th>SegmentInformationandGeographicDataTables</th>\n",
       "      <th>SegmentInformationandGeographicDataInformationbyReportableSegmentDetails</th>\n",
       "      <th>SegmentInformationandGeographicDataReconciliationofSegmentOperatingIncometotheConsolidatedStatementsofOperationsDetails</th>\n",
       "      <th>SegmentInformationandGeographicDataNetSalesDetails</th>\n",
       "      <th>SegmentInformationandGeographicDataLongLivedAssetsDetails</th>\n",
       "    </tr>\n",
       "  </thead>\n",
       "  <tbody>\n",
       "    <tr>\n",
       "      <th>DocumentType</th>\n",
       "      <td>10-K</td>\n",
       "      <td>NaN</td>\n",
       "      <td>NaN</td>\n",
       "      <td>NaN</td>\n",
       "      <td>NaN</td>\n",
       "      <td>NaN</td>\n",
       "      <td>NaN</td>\n",
       "      <td>NaN</td>\n",
       "      <td>NaN</td>\n",
       "      <td>NaN</td>\n",
       "      <td>...</td>\n",
       "      <td>NaN</td>\n",
       "      <td>NaN</td>\n",
       "      <td>NaN</td>\n",
       "      <td>NaN</td>\n",
       "      <td>NaN</td>\n",
       "      <td>NaN</td>\n",
       "      <td>NaN</td>\n",
       "      <td>NaN</td>\n",
       "      <td>NaN</td>\n",
       "      <td>NaN</td>\n",
       "    </tr>\n",
       "    <tr>\n",
       "      <th>DocumentAnnualReport</th>\n",
       "      <td>true</td>\n",
       "      <td>NaN</td>\n",
       "      <td>NaN</td>\n",
       "      <td>NaN</td>\n",
       "      <td>NaN</td>\n",
       "      <td>NaN</td>\n",
       "      <td>NaN</td>\n",
       "      <td>NaN</td>\n",
       "      <td>NaN</td>\n",
       "      <td>NaN</td>\n",
       "      <td>...</td>\n",
       "      <td>NaN</td>\n",
       "      <td>NaN</td>\n",
       "      <td>NaN</td>\n",
       "      <td>NaN</td>\n",
       "      <td>NaN</td>\n",
       "      <td>NaN</td>\n",
       "      <td>NaN</td>\n",
       "      <td>NaN</td>\n",
       "      <td>NaN</td>\n",
       "      <td>NaN</td>\n",
       "    </tr>\n",
       "    <tr>\n",
       "      <th>CurrentFiscalYearEndDate</th>\n",
       "      <td>--09-25</td>\n",
       "      <td>NaN</td>\n",
       "      <td>NaN</td>\n",
       "      <td>NaN</td>\n",
       "      <td>NaN</td>\n",
       "      <td>NaN</td>\n",
       "      <td>NaN</td>\n",
       "      <td>NaN</td>\n",
       "      <td>NaN</td>\n",
       "      <td>NaN</td>\n",
       "      <td>...</td>\n",
       "      <td>NaN</td>\n",
       "      <td>NaN</td>\n",
       "      <td>NaN</td>\n",
       "      <td>NaN</td>\n",
       "      <td>NaN</td>\n",
       "      <td>NaN</td>\n",
       "      <td>NaN</td>\n",
       "      <td>NaN</td>\n",
       "      <td>NaN</td>\n",
       "      <td>NaN</td>\n",
       "    </tr>\n",
       "    <tr>\n",
       "      <th>DocumentPeriodEndDate</th>\n",
       "      <td>2021-09-25</td>\n",
       "      <td>NaN</td>\n",
       "      <td>NaN</td>\n",
       "      <td>NaN</td>\n",
       "      <td>NaN</td>\n",
       "      <td>NaN</td>\n",
       "      <td>NaN</td>\n",
       "      <td>NaN</td>\n",
       "      <td>NaN</td>\n",
       "      <td>NaN</td>\n",
       "      <td>...</td>\n",
       "      <td>NaN</td>\n",
       "      <td>NaN</td>\n",
       "      <td>NaN</td>\n",
       "      <td>NaN</td>\n",
       "      <td>NaN</td>\n",
       "      <td>NaN</td>\n",
       "      <td>NaN</td>\n",
       "      <td>NaN</td>\n",
       "      <td>NaN</td>\n",
       "      <td>NaN</td>\n",
       "    </tr>\n",
       "    <tr>\n",
       "      <th>DocumentTransitionReport</th>\n",
       "      <td>false</td>\n",
       "      <td>NaN</td>\n",
       "      <td>NaN</td>\n",
       "      <td>NaN</td>\n",
       "      <td>NaN</td>\n",
       "      <td>NaN</td>\n",
       "      <td>NaN</td>\n",
       "      <td>NaN</td>\n",
       "      <td>NaN</td>\n",
       "      <td>NaN</td>\n",
       "      <td>...</td>\n",
       "      <td>NaN</td>\n",
       "      <td>NaN</td>\n",
       "      <td>NaN</td>\n",
       "      <td>NaN</td>\n",
       "      <td>NaN</td>\n",
       "      <td>NaN</td>\n",
       "      <td>NaN</td>\n",
       "      <td>NaN</td>\n",
       "      <td>NaN</td>\n",
       "      <td>NaN</td>\n",
       "    </tr>\n",
       "    <tr>\n",
       "      <th>...</th>\n",
       "      <td>...</td>\n",
       "      <td>...</td>\n",
       "      <td>...</td>\n",
       "      <td>...</td>\n",
       "      <td>...</td>\n",
       "      <td>...</td>\n",
       "      <td>...</td>\n",
       "      <td>...</td>\n",
       "      <td>...</td>\n",
       "      <td>...</td>\n",
       "      <td>...</td>\n",
       "      <td>...</td>\n",
       "      <td>...</td>\n",
       "      <td>...</td>\n",
       "      <td>...</td>\n",
       "      <td>...</td>\n",
       "      <td>...</td>\n",
       "      <td>...</td>\n",
       "      <td>...</td>\n",
       "      <td>...</td>\n",
       "      <td>...</td>\n",
       "    </tr>\n",
       "    <tr>\n",
       "      <th>ScheduleOfSegmentReportingInformationBySegmentTextBlock</th>\n",
       "      <td>NaN</td>\n",
       "      <td>NaN</td>\n",
       "      <td>NaN</td>\n",
       "      <td>NaN</td>\n",
       "      <td>NaN</td>\n",
       "      <td>NaN</td>\n",
       "      <td>NaN</td>\n",
       "      <td>NaN</td>\n",
       "      <td>NaN</td>\n",
       "      <td>NaN</td>\n",
       "      <td>...</td>\n",
       "      <td>NaN</td>\n",
       "      <td>NaN</td>\n",
       "      <td>NaN</td>\n",
       "      <td>NaN</td>\n",
       "      <td>NaN</td>\n",
       "      <td>&lt;div style=\"margin-top:12pt;text-align:justify...</td>\n",
       "      <td>NaN</td>\n",
       "      <td>NaN</td>\n",
       "      <td>NaN</td>\n",
       "      <td>NaN</td>\n",
       "    </tr>\n",
       "    <tr>\n",
       "      <th>ReconciliationOfOperatingProfitLossFromSegmentsToConsolidatedTextBlock</th>\n",
       "      <td>NaN</td>\n",
       "      <td>NaN</td>\n",
       "      <td>NaN</td>\n",
       "      <td>NaN</td>\n",
       "      <td>NaN</td>\n",
       "      <td>NaN</td>\n",
       "      <td>NaN</td>\n",
       "      <td>NaN</td>\n",
       "      <td>NaN</td>\n",
       "      <td>NaN</td>\n",
       "      <td>...</td>\n",
       "      <td>NaN</td>\n",
       "      <td>NaN</td>\n",
       "      <td>NaN</td>\n",
       "      <td>NaN</td>\n",
       "      <td>NaN</td>\n",
       "      <td>&lt;div style=\"margin-top:12pt;text-align:justify...</td>\n",
       "      <td>NaN</td>\n",
       "      <td>NaN</td>\n",
       "      <td>NaN</td>\n",
       "      <td>NaN</td>\n",
       "    </tr>\n",
       "    <tr>\n",
       "      <th>ScheduleOfRevenuesFromExternalCustomersAndLongLivedAssetsByGeographicalAreasTableTextBlock</th>\n",
       "      <td>NaN</td>\n",
       "      <td>NaN</td>\n",
       "      <td>NaN</td>\n",
       "      <td>NaN</td>\n",
       "      <td>NaN</td>\n",
       "      <td>NaN</td>\n",
       "      <td>NaN</td>\n",
       "      <td>NaN</td>\n",
       "      <td>NaN</td>\n",
       "      <td>NaN</td>\n",
       "      <td>...</td>\n",
       "      <td>NaN</td>\n",
       "      <td>NaN</td>\n",
       "      <td>NaN</td>\n",
       "      <td>NaN</td>\n",
       "      <td>NaN</td>\n",
       "      <td>Net sales for 2021, 2020 and 2019 and long-liv...</td>\n",
       "      <td>NaN</td>\n",
       "      <td>NaN</td>\n",
       "      <td>NaN</td>\n",
       "      <td>NaN</td>\n",
       "    </tr>\n",
       "    <tr>\n",
       "      <th>OtherGeneralAndAdministrativeExpense</th>\n",
       "      <td>NaN</td>\n",
       "      <td>NaN</td>\n",
       "      <td>NaN</td>\n",
       "      <td>NaN</td>\n",
       "      <td>NaN</td>\n",
       "      <td>NaN</td>\n",
       "      <td>NaN</td>\n",
       "      <td>NaN</td>\n",
       "      <td>NaN</td>\n",
       "      <td>NaN</td>\n",
       "      <td>...</td>\n",
       "      <td>NaN</td>\n",
       "      <td>NaN</td>\n",
       "      <td>NaN</td>\n",
       "      <td>NaN</td>\n",
       "      <td>NaN</td>\n",
       "      <td>NaN</td>\n",
       "      <td>NaN</td>\n",
       "      <td>[{'decimals': '-6', 'unitRef': 'usd', 'period'...</td>\n",
       "      <td>NaN</td>\n",
       "      <td>NaN</td>\n",
       "    </tr>\n",
       "    <tr>\n",
       "      <th>NoncurrentAssets</th>\n",
       "      <td>NaN</td>\n",
       "      <td>NaN</td>\n",
       "      <td>NaN</td>\n",
       "      <td>NaN</td>\n",
       "      <td>NaN</td>\n",
       "      <td>NaN</td>\n",
       "      <td>NaN</td>\n",
       "      <td>NaN</td>\n",
       "      <td>NaN</td>\n",
       "      <td>NaN</td>\n",
       "      <td>...</td>\n",
       "      <td>NaN</td>\n",
       "      <td>NaN</td>\n",
       "      <td>NaN</td>\n",
       "      <td>NaN</td>\n",
       "      <td>NaN</td>\n",
       "      <td>NaN</td>\n",
       "      <td>NaN</td>\n",
       "      <td>NaN</td>\n",
       "      <td>NaN</td>\n",
       "      <td>[{'decimals': '-6', 'unitRef': 'usd', 'period'...</td>\n",
       "    </tr>\n",
       "  </tbody>\n",
       "</table>\n",
       "<p>397 rows × 67 columns</p>\n",
       "</div>"
      ],
      "text/plain": [
       "                                                     CoverPage  \\\n",
       "DocumentType                                              10-K   \n",
       "DocumentAnnualReport                                      true   \n",
       "CurrentFiscalYearEndDate                               --09-25   \n",
       "DocumentPeriodEndDate                               2021-09-25   \n",
       "DocumentTransitionReport                                 false   \n",
       "...                                                        ...   \n",
       "ScheduleOfSegmentReportingInformationBySegmentT...         NaN   \n",
       "ReconciliationOfOperatingProfitLossFromSegments...         NaN   \n",
       "ScheduleOfRevenuesFromExternalCustomersAndLongL...         NaN   \n",
       "OtherGeneralAndAdministrativeExpense                       NaN   \n",
       "NoncurrentAssets                                           NaN   \n",
       "\n",
       "                                                   StatementsOfIncome  \\\n",
       "DocumentType                                                      NaN   \n",
       "DocumentAnnualReport                                              NaN   \n",
       "CurrentFiscalYearEndDate                                          NaN   \n",
       "DocumentPeriodEndDate                                             NaN   \n",
       "DocumentTransitionReport                                          NaN   \n",
       "...                                                               ...   \n",
       "ScheduleOfSegmentReportingInformationBySegmentT...                NaN   \n",
       "ReconciliationOfOperatingProfitLossFromSegments...                NaN   \n",
       "ScheduleOfRevenuesFromExternalCustomersAndLongL...                NaN   \n",
       "OtherGeneralAndAdministrativeExpense                              NaN   \n",
       "NoncurrentAssets                                                  NaN   \n",
       "\n",
       "                                                   StatementsOfComprehensiveIncome  \\\n",
       "DocumentType                                                                   NaN   \n",
       "DocumentAnnualReport                                                           NaN   \n",
       "CurrentFiscalYearEndDate                                                       NaN   \n",
       "DocumentPeriodEndDate                                                          NaN   \n",
       "DocumentTransitionReport                                                       NaN   \n",
       "...                                                                            ...   \n",
       "ScheduleOfSegmentReportingInformationBySegmentT...                             NaN   \n",
       "ReconciliationOfOperatingProfitLossFromSegments...                             NaN   \n",
       "ScheduleOfRevenuesFromExternalCustomersAndLongL...                             NaN   \n",
       "OtherGeneralAndAdministrativeExpense                                           NaN   \n",
       "NoncurrentAssets                                                               NaN   \n",
       "\n",
       "                                                   BalanceSheets  \\\n",
       "DocumentType                                                 NaN   \n",
       "DocumentAnnualReport                                         NaN   \n",
       "CurrentFiscalYearEndDate                                     NaN   \n",
       "DocumentPeriodEndDate                                        NaN   \n",
       "DocumentTransitionReport                                     NaN   \n",
       "...                                                          ...   \n",
       "ScheduleOfSegmentReportingInformationBySegmentT...           NaN   \n",
       "ReconciliationOfOperatingProfitLossFromSegments...           NaN   \n",
       "ScheduleOfRevenuesFromExternalCustomersAndLongL...           NaN   \n",
       "OtherGeneralAndAdministrativeExpense                         NaN   \n",
       "NoncurrentAssets                                             NaN   \n",
       "\n",
       "                                                   BalanceSheetsParenthetical  \\\n",
       "DocumentType                                                              NaN   \n",
       "DocumentAnnualReport                                                      NaN   \n",
       "CurrentFiscalYearEndDate                                                  NaN   \n",
       "DocumentPeriodEndDate                                                     NaN   \n",
       "DocumentTransitionReport                                                  NaN   \n",
       "...                                                                       ...   \n",
       "ScheduleOfSegmentReportingInformationBySegmentT...                        NaN   \n",
       "ReconciliationOfOperatingProfitLossFromSegments...                        NaN   \n",
       "ScheduleOfRevenuesFromExternalCustomersAndLongL...                        NaN   \n",
       "OtherGeneralAndAdministrativeExpense                                      NaN   \n",
       "NoncurrentAssets                                                          NaN   \n",
       "\n",
       "                                                   StatementsOfShareholdersEquity  \\\n",
       "DocumentType                                                                  NaN   \n",
       "DocumentAnnualReport                                                          NaN   \n",
       "CurrentFiscalYearEndDate                                                      NaN   \n",
       "DocumentPeriodEndDate                                                         NaN   \n",
       "DocumentTransitionReport                                                      NaN   \n",
       "...                                                                           ...   \n",
       "ScheduleOfSegmentReportingInformationBySegmentT...                            NaN   \n",
       "ReconciliationOfOperatingProfitLossFromSegments...                            NaN   \n",
       "ScheduleOfRevenuesFromExternalCustomersAndLongL...                            NaN   \n",
       "OtherGeneralAndAdministrativeExpense                                          NaN   \n",
       "NoncurrentAssets                                                              NaN   \n",
       "\n",
       "                                                   StatementsOfCashFlows  \\\n",
       "DocumentType                                                         NaN   \n",
       "DocumentAnnualReport                                                 NaN   \n",
       "CurrentFiscalYearEndDate                                             NaN   \n",
       "DocumentPeriodEndDate                                                NaN   \n",
       "DocumentTransitionReport                                             NaN   \n",
       "...                                                                  ...   \n",
       "ScheduleOfSegmentReportingInformationBySegmentT...                   NaN   \n",
       "ReconciliationOfOperatingProfitLossFromSegments...                   NaN   \n",
       "ScheduleOfRevenuesFromExternalCustomersAndLongL...                   NaN   \n",
       "OtherGeneralAndAdministrativeExpense                                 NaN   \n",
       "NoncurrentAssets                                                     NaN   \n",
       "\n",
       "                                                   SummaryofSignificantAccountingPolicies  \\\n",
       "DocumentType                                                                          NaN   \n",
       "DocumentAnnualReport                                                                  NaN   \n",
       "CurrentFiscalYearEndDate                                                              NaN   \n",
       "DocumentPeriodEndDate                                                                 NaN   \n",
       "DocumentTransitionReport                                                              NaN   \n",
       "...                                                                                   ...   \n",
       "ScheduleOfSegmentReportingInformationBySegmentT...                                    NaN   \n",
       "ReconciliationOfOperatingProfitLossFromSegments...                                    NaN   \n",
       "ScheduleOfRevenuesFromExternalCustomersAndLongL...                                    NaN   \n",
       "OtherGeneralAndAdministrativeExpense                                                  NaN   \n",
       "NoncurrentAssets                                                                      NaN   \n",
       "\n",
       "                                                   SummaryofSignificantAccountingPoliciesPolicies  \\\n",
       "DocumentType                                                                                  NaN   \n",
       "DocumentAnnualReport                                                                          NaN   \n",
       "CurrentFiscalYearEndDate                                                                      NaN   \n",
       "DocumentPeriodEndDate                                                                         NaN   \n",
       "DocumentTransitionReport                                                                      NaN   \n",
       "...                                                                                           ...   \n",
       "ScheduleOfSegmentReportingInformationBySegmentT...                                            NaN   \n",
       "ReconciliationOfOperatingProfitLossFromSegments...                                            NaN   \n",
       "ScheduleOfRevenuesFromExternalCustomersAndLongL...                                            NaN   \n",
       "OtherGeneralAndAdministrativeExpense                                                          NaN   \n",
       "NoncurrentAssets                                                                              NaN   \n",
       "\n",
       "                                                   SummaryofSignificantAccountingPoliciesTables  \\\n",
       "DocumentType                                                                                NaN   \n",
       "DocumentAnnualReport                                                                        NaN   \n",
       "CurrentFiscalYearEndDate                                                                    NaN   \n",
       "DocumentPeriodEndDate                                                                       NaN   \n",
       "DocumentTransitionReport                                                                    NaN   \n",
       "...                                                                                         ...   \n",
       "ScheduleOfSegmentReportingInformationBySegmentT...                                          NaN   \n",
       "ReconciliationOfOperatingProfitLossFromSegments...                                          NaN   \n",
       "ScheduleOfRevenuesFromExternalCustomersAndLongL...                                          NaN   \n",
       "OtherGeneralAndAdministrativeExpense                                                        NaN   \n",
       "NoncurrentAssets                                                                            NaN   \n",
       "\n",
       "                                                    ...  \\\n",
       "DocumentType                                        ...   \n",
       "DocumentAnnualReport                                ...   \n",
       "CurrentFiscalYearEndDate                            ...   \n",
       "DocumentPeriodEndDate                               ...   \n",
       "DocumentTransitionReport                            ...   \n",
       "...                                                 ...   \n",
       "ScheduleOfSegmentReportingInformationBySegmentT...  ...   \n",
       "ReconciliationOfOperatingProfitLossFromSegments...  ...   \n",
       "ScheduleOfRevenuesFromExternalCustomersAndLongL...  ...   \n",
       "OtherGeneralAndAdministrativeExpense                ...   \n",
       "NoncurrentAssets                                    ...   \n",
       "\n",
       "                                                   CommitmentsandContingenciesTables  \\\n",
       "DocumentType                                                                     NaN   \n",
       "DocumentAnnualReport                                                             NaN   \n",
       "CurrentFiscalYearEndDate                                                         NaN   \n",
       "DocumentPeriodEndDate                                                            NaN   \n",
       "DocumentTransitionReport                                                         NaN   \n",
       "...                                                                              ...   \n",
       "ScheduleOfSegmentReportingInformationBySegmentT...                               NaN   \n",
       "ReconciliationOfOperatingProfitLossFromSegments...                               NaN   \n",
       "ScheduleOfRevenuesFromExternalCustomersAndLongL...                               NaN   \n",
       "OtherGeneralAndAdministrativeExpense                                             NaN   \n",
       "NoncurrentAssets                                                                 NaN   \n",
       "\n",
       "                                                   CommitmentsandContingenciesChangesinAccruedWarrantiesandRelatedCostsDetails  \\\n",
       "DocumentType                                                                                      NaN                            \n",
       "DocumentAnnualReport                                                                              NaN                            \n",
       "CurrentFiscalYearEndDate                                                                          NaN                            \n",
       "DocumentPeriodEndDate                                                                             NaN                            \n",
       "DocumentTransitionReport                                                                          NaN                            \n",
       "...                                                                                               ...                            \n",
       "ScheduleOfSegmentReportingInformationBySegmentT...                                                NaN                            \n",
       "ReconciliationOfOperatingProfitLossFromSegments...                                                NaN                            \n",
       "ScheduleOfRevenuesFromExternalCustomersAndLongL...                                                NaN                            \n",
       "OtherGeneralAndAdministrativeExpense                                                              NaN                            \n",
       "NoncurrentAssets                                                                                  NaN                            \n",
       "\n",
       "                                                   CommitmentsandContingenciesFuturePaymentsUnderUnconditionalPurchaseObligationsDetails  \\\n",
       "DocumentType                                                                                      NaN                                      \n",
       "DocumentAnnualReport                                                                              NaN                                      \n",
       "CurrentFiscalYearEndDate                                                                          NaN                                      \n",
       "DocumentPeriodEndDate                                                                             NaN                                      \n",
       "DocumentTransitionReport                                                                          NaN                                      \n",
       "...                                                                                               ...                                      \n",
       "ScheduleOfSegmentReportingInformationBySegmentT...                                                NaN                                      \n",
       "ReconciliationOfOperatingProfitLossFromSegments...                                                NaN                                      \n",
       "ScheduleOfRevenuesFromExternalCustomersAndLongL...                                                NaN                                      \n",
       "OtherGeneralAndAdministrativeExpense                                                              NaN                                      \n",
       "NoncurrentAssets                                                                                  NaN                                      \n",
       "\n",
       "                                                   CommitmentsandContingenciesAdditionalInformationDetails  \\\n",
       "DocumentType                                                                                      NaN        \n",
       "DocumentAnnualReport                                                                              NaN        \n",
       "CurrentFiscalYearEndDate                                                                          NaN        \n",
       "DocumentPeriodEndDate                                                                             NaN        \n",
       "DocumentTransitionReport                                                                          NaN        \n",
       "...                                                                                               ...        \n",
       "ScheduleOfSegmentReportingInformationBySegmentT...                                                NaN        \n",
       "ReconciliationOfOperatingProfitLossFromSegments...                                                NaN        \n",
       "ScheduleOfRevenuesFromExternalCustomersAndLongL...                                                NaN        \n",
       "OtherGeneralAndAdministrativeExpense                                                              NaN        \n",
       "NoncurrentAssets                                                                                  NaN        \n",
       "\n",
       "                                                   SegmentInformationandGeographicData  \\\n",
       "DocumentType                                                                       NaN   \n",
       "DocumentAnnualReport                                                               NaN   \n",
       "CurrentFiscalYearEndDate                                                           NaN   \n",
       "DocumentPeriodEndDate                                                              NaN   \n",
       "DocumentTransitionReport                                                           NaN   \n",
       "...                                                                                ...   \n",
       "ScheduleOfSegmentReportingInformationBySegmentT...                                 NaN   \n",
       "ReconciliationOfOperatingProfitLossFromSegments...                                 NaN   \n",
       "ScheduleOfRevenuesFromExternalCustomersAndLongL...                                 NaN   \n",
       "OtherGeneralAndAdministrativeExpense                                               NaN   \n",
       "NoncurrentAssets                                                                   NaN   \n",
       "\n",
       "                                                            SegmentInformationandGeographicDataTables  \\\n",
       "DocumentType                                                                                      NaN   \n",
       "DocumentAnnualReport                                                                              NaN   \n",
       "CurrentFiscalYearEndDate                                                                          NaN   \n",
       "DocumentPeriodEndDate                                                                             NaN   \n",
       "DocumentTransitionReport                                                                          NaN   \n",
       "...                                                                                               ...   \n",
       "ScheduleOfSegmentReportingInformationBySegmentT...  <div style=\"margin-top:12pt;text-align:justify...   \n",
       "ReconciliationOfOperatingProfitLossFromSegments...  <div style=\"margin-top:12pt;text-align:justify...   \n",
       "ScheduleOfRevenuesFromExternalCustomersAndLongL...  Net sales for 2021, 2020 and 2019 and long-liv...   \n",
       "OtherGeneralAndAdministrativeExpense                                                              NaN   \n",
       "NoncurrentAssets                                                                                  NaN   \n",
       "\n",
       "                                                   SegmentInformationandGeographicDataInformationbyReportableSegmentDetails  \\\n",
       "DocumentType                                                                                      NaN                         \n",
       "DocumentAnnualReport                                                                              NaN                         \n",
       "CurrentFiscalYearEndDate                                                                          NaN                         \n",
       "DocumentPeriodEndDate                                                                             NaN                         \n",
       "DocumentTransitionReport                                                                          NaN                         \n",
       "...                                                                                               ...                         \n",
       "ScheduleOfSegmentReportingInformationBySegmentT...                                                NaN                         \n",
       "ReconciliationOfOperatingProfitLossFromSegments...                                                NaN                         \n",
       "ScheduleOfRevenuesFromExternalCustomersAndLongL...                                                NaN                         \n",
       "OtherGeneralAndAdministrativeExpense                                                              NaN                         \n",
       "NoncurrentAssets                                                                                  NaN                         \n",
       "\n",
       "                                                   SegmentInformationandGeographicDataReconciliationofSegmentOperatingIncometotheConsolidatedStatementsofOperationsDetails  \\\n",
       "DocumentType                                                                                      NaN                                                                        \n",
       "DocumentAnnualReport                                                                              NaN                                                                        \n",
       "CurrentFiscalYearEndDate                                                                          NaN                                                                        \n",
       "DocumentPeriodEndDate                                                                             NaN                                                                        \n",
       "DocumentTransitionReport                                                                          NaN                                                                        \n",
       "...                                                                                               ...                                                                        \n",
       "ScheduleOfSegmentReportingInformationBySegmentT...                                                NaN                                                                        \n",
       "ReconciliationOfOperatingProfitLossFromSegments...                                                NaN                                                                        \n",
       "ScheduleOfRevenuesFromExternalCustomersAndLongL...                                                NaN                                                                        \n",
       "OtherGeneralAndAdministrativeExpense                [{'decimals': '-6', 'unitRef': 'usd', 'period'...                                                                        \n",
       "NoncurrentAssets                                                                                  NaN                                                                        \n",
       "\n",
       "                                                   SegmentInformationandGeographicDataNetSalesDetails  \\\n",
       "DocumentType                                                                                      NaN   \n",
       "DocumentAnnualReport                                                                              NaN   \n",
       "CurrentFiscalYearEndDate                                                                          NaN   \n",
       "DocumentPeriodEndDate                                                                             NaN   \n",
       "DocumentTransitionReport                                                                          NaN   \n",
       "...                                                                                               ...   \n",
       "ScheduleOfSegmentReportingInformationBySegmentT...                                                NaN   \n",
       "ReconciliationOfOperatingProfitLossFromSegments...                                                NaN   \n",
       "ScheduleOfRevenuesFromExternalCustomersAndLongL...                                                NaN   \n",
       "OtherGeneralAndAdministrativeExpense                                                              NaN   \n",
       "NoncurrentAssets                                                                                  NaN   \n",
       "\n",
       "                                                   SegmentInformationandGeographicDataLongLivedAssetsDetails  \n",
       "DocumentType                                                                                      NaN         \n",
       "DocumentAnnualReport                                                                              NaN         \n",
       "CurrentFiscalYearEndDate                                                                          NaN         \n",
       "DocumentPeriodEndDate                                                                             NaN         \n",
       "DocumentTransitionReport                                                                          NaN         \n",
       "...                                                                                               ...         \n",
       "ScheduleOfSegmentReportingInformationBySegmentT...                                                NaN         \n",
       "ReconciliationOfOperatingProfitLossFromSegments...                                                NaN         \n",
       "ScheduleOfRevenuesFromExternalCustomersAndLongL...                                                NaN         \n",
       "OtherGeneralAndAdministrativeExpense                                                              NaN         \n",
       "NoncurrentAssets                                    [{'decimals': '-6', 'unitRef': 'usd', 'period'...         \n",
       "\n",
       "[397 rows x 67 columns]"
      ]
     },
     "execution_count": 24,
     "metadata": {},
     "output_type": "execute_result"
    }
   ],
   "source": [
    "pd.DataFrame(xbrl_json)"
   ]
  },
  {
   "cell_type": "code",
   "execution_count": 18,
   "id": "084aa10b-760d-4e94-9e03-191bdc49cfc3",
   "metadata": {},
   "outputs": [
    {
     "data": {
      "text/plain": [
       "dict_keys(['RevenueFromContractWithCustomerExcludingAssessedTax', 'CostOfGoodsAndServicesSold', 'GrossProfit', 'ResearchAndDevelopmentExpense', 'SellingGeneralAndAdministrativeExpense', 'OperatingExpenses', 'OperatingIncomeLoss', 'NonoperatingIncomeExpense', 'IncomeLossFromContinuingOperationsBeforeIncomeTaxesExtraordinaryItemsNoncontrollingInterest', 'IncomeTaxExpenseBenefit', 'NetIncomeLoss', 'EarningsPerShareBasic', 'EarningsPerShareDiluted', 'WeightedAverageNumberOfSharesOutstandingBasic', 'WeightedAverageNumberOfDilutedSharesOutstanding'])"
      ]
     },
     "execution_count": 18,
     "metadata": {},
     "output_type": "execute_result"
    }
   ],
   "source": [
    "#statement of income\n",
    "xbrl_json['StatementsOfIncome'].keys()"
   ]
  },
  {
   "cell_type": "code",
   "execution_count": 19,
   "id": "e7e0f8b2-5de4-4486-aaf6-a485c6eb31aa",
   "metadata": {},
   "outputs": [
    {
     "data": {
      "text/plain": [
       "dict_keys(['CashAndCashEquivalentsAtCarryingValue', 'MarketableSecuritiesCurrent', 'AccountsReceivableNetCurrent', 'InventoryNet', 'NontradeReceivablesCurrent', 'OtherAssetsCurrent', 'AssetsCurrent', 'MarketableSecuritiesNoncurrent', 'PropertyPlantAndEquipmentNet', 'OtherAssetsNoncurrent', 'AssetsNoncurrent', 'Assets', 'AccountsPayableCurrent', 'OtherLiabilitiesCurrent', 'ContractWithCustomerLiabilityCurrent', 'CommercialPaper', 'LongTermDebtCurrent', 'LiabilitiesCurrent', 'LongTermDebtNoncurrent', 'OtherLiabilitiesNoncurrent', 'LiabilitiesNoncurrent', 'Liabilities', 'CommitmentsAndContingencies', 'CommonStocksIncludingAdditionalPaidInCapital', 'RetainedEarningsAccumulatedDeficit', 'AccumulatedOtherComprehensiveIncomeLossNetOfTax', 'StockholdersEquity', 'LiabilitiesAndStockholdersEquity'])"
      ]
     },
     "execution_count": 19,
     "metadata": {},
     "output_type": "execute_result"
    }
   ],
   "source": [
    "#balance sheet\n",
    "xbrl_json['BalanceSheets'].keys()"
   ]
  },
  {
   "cell_type": "code",
   "execution_count": 20,
   "id": "4c12a4e8-93a8-4796-b44a-0befd27c911e",
   "metadata": {},
   "outputs": [
    {
     "data": {
      "text/plain": [
       "dict_keys(['CashCashEquivalentsRestrictedCashAndRestrictedCashEquivalents', 'NetIncomeLoss', 'DepreciationDepletionAndAmortization', 'ShareBasedCompensation', 'DeferredIncomeTaxExpenseBenefit', 'OtherNoncashIncomeExpense', 'IncreaseDecreaseInAccountsReceivable', 'IncreaseDecreaseInInventories', 'IncreaseDecreaseInOtherReceivables', 'IncreaseDecreaseInOtherOperatingAssets', 'IncreaseDecreaseInAccountsPayable', 'IncreaseDecreaseInContractWithCustomerLiability', 'IncreaseDecreaseInOtherOperatingLiabilities', 'NetCashProvidedByUsedInOperatingActivities', 'PaymentsToAcquireAvailableForSaleSecuritiesDebt', 'ProceedsFromMaturitiesPrepaymentsAndCallsOfAvailableForSaleSecurities', 'ProceedsFromSaleOfAvailableForSaleSecuritiesDebt', 'PaymentsToAcquirePropertyPlantAndEquipment', 'PaymentsToAcquireBusinessesNetOfCashAcquired', 'PaymentsToAcquireOtherInvestments', 'ProceedsFromSaleAndMaturityOfOtherInvestments', 'PaymentsForProceedsFromOtherInvestingActivities', 'NetCashProvidedByUsedInInvestingActivities', 'ProceedsFromIssuanceOfCommonStock', 'PaymentsRelatedToTaxWithholdingForShareBasedCompensation', 'PaymentsOfDividends', 'PaymentsForRepurchaseOfCommonStock', 'ProceedsFromIssuanceOfLongTermDebt', 'RepaymentsOfLongTermDebt', 'ProceedsFromRepaymentsOfCommercialPaper', 'ProceedsFromPaymentsForOtherFinancingActivities', 'NetCashProvidedByUsedInFinancingActivities', 'CashCashEquivalentsRestrictedCashAndRestrictedCashEquivalentsPeriodIncreaseDecreaseIncludingExchangeRateEffect', 'IncomeTaxesPaidNet', 'InterestPaidNet'])"
      ]
     },
     "execution_count": 20,
     "metadata": {},
     "output_type": "execute_result"
    }
   ],
   "source": [
    "xbrl_json['StatementsOfCashFlows'].keys()"
   ]
  },
  {
   "cell_type": "markdown",
   "id": "79cfb2b4-70bb-4bef-8967-96bd5006cf3d",
   "metadata": {},
   "source": [
    "#### Example using XBRL file URL\n",
    "\n",
    "I'm not entirely sure how to locate the xbrl URL (come back to this another time)"
   ]
  },
  {
   "cell_type": "markdown",
   "id": "57d0138e-3789-4d1a-9c4e-19a3f19d3320",
   "metadata": {},
   "source": [
    "### Let's save the dictionary as a .txt file for later parsing\n",
    "https://www.geeksforgeeks.org/write-a-dictionary-to-a-file-in-python/\n",
    "\n",
    "https://stackoverflow.com/questions/4803999/how-to-convert-a-file-into-a-dictionary\n",
    "\n",
    "https://www.geeksforgeeks.org/how-to-read-dictionary-from-file-in-python/"
   ]
  },
  {
   "cell_type": "code",
   "execution_count": 2,
   "id": "a55e4c02-3ea1-4436-bcb7-a3757a85947e",
   "metadata": {},
   "outputs": [],
   "source": [
    "import json"
   ]
  },
  {
   "cell_type": "code",
   "execution_count": 30,
   "id": "845d4031-fe05-4722-870d-74f1b282bfa0",
   "metadata": {},
   "outputs": [],
   "source": [
    "#saving the dictionary as a text file\n",
    "with open('AAPL_10K_2021.txt', 'w') as converted_file:\n",
    "    converted_file.write(json.dumps(xbrl_json))"
   ]
  },
  {
   "cell_type": "markdown",
   "id": "90c53cb1-e7ee-4801-a2c8-1af9b3166141",
   "metadata": {},
   "source": [
    "##### And now the inverse process, reading the file back"
   ]
  },
  {
   "cell_type": "code",
   "execution_count": 3,
   "id": "cb3c0b58-f3db-4058-a617-9311c66fe954",
   "metadata": {},
   "outputs": [],
   "source": [
    "#reading the data from a file\n",
    "with open('AAPL_10K_2021.txt') as f:\n",
    "    aapl_txt = f.read()\n",
    "    \n",
    "#converting the text string into a dictionary\n",
    "aapl_dict = json.loads(aapl_txt)"
   ]
  },
  {
   "cell_type": "markdown",
   "id": "28a244cf-c950-4457-883f-ed238ed7c6a8",
   "metadata": {},
   "source": [
    "### Extracting values from the Income Statement"
   ]
  },
  {
   "cell_type": "code",
   "execution_count": 18,
   "id": "45f5f10b-2d57-4a6f-92a0-2bc71325eb3d",
   "metadata": {},
   "outputs": [
    {
     "data": {
      "text/plain": [
       "dict_keys(['RevenueFromContractWithCustomerExcludingAssessedTax', 'CostOfGoodsAndServicesSold', 'GrossProfit', 'ResearchAndDevelopmentExpense', 'SellingGeneralAndAdministrativeExpense', 'OperatingExpenses', 'OperatingIncomeLoss', 'NonoperatingIncomeExpense', 'IncomeLossFromContinuingOperationsBeforeIncomeTaxesExtraordinaryItemsNoncontrollingInterest', 'IncomeTaxExpenseBenefit', 'NetIncomeLoss', 'EarningsPerShareBasic', 'EarningsPerShareDiluted', 'WeightedAverageNumberOfSharesOutstandingBasic', 'WeightedAverageNumberOfDilutedSharesOutstanding'])"
      ]
     },
     "execution_count": 18,
     "metadata": {},
     "output_type": "execute_result"
    }
   ],
   "source": [
    "aapl_dict['StatementsOfIncome'].keys()"
   ]
  },
  {
   "cell_type": "markdown",
   "id": "e57606b7-7818-4478-b58e-d962633afd16",
   "metadata": {},
   "source": [
    "Note the the *Statement of Income* is published in triplicate, one for each of the last three years. \n",
    "\n",
    "For AAPL, the Revenue seems to be broken down by product rather than a sum total. But notice that the third dictionary in the list does NOT include a \"segment\" key, and it gives the full total Revenue under \"value\" so I have to systematically extract this somehow."
   ]
  },
  {
   "cell_type": "code",
   "execution_count": 53,
   "id": "cde3599e-b1ea-47b6-8298-1cf7818fe57b",
   "metadata": {},
   "outputs": [
    {
     "name": "stdout",
     "output_type": "stream",
     "text": [
      "{'decimals': '-6', 'unitRef': 'usd', 'period': {'startDate': '2020-09-27', 'endDate': '2021-09-25'}, 'segment': {'dimension': 'srt:ProductOrServiceAxis', 'value': 'us-gaap:ProductMember'}, 'value': '297392000000'}\n",
      "{'decimals': '-6', 'unitRef': 'usd', 'period': {'startDate': '2020-09-27', 'endDate': '2021-09-25'}, 'segment': {'dimension': 'srt:ProductOrServiceAxis', 'value': 'us-gaap:ServiceMember'}, 'value': '68425000000'}\n",
      "{'decimals': '-6', 'unitRef': 'usd', 'period': {'startDate': '2020-09-27', 'endDate': '2021-09-25'}, 'value': '365817000000'}\n",
      "{'decimals': '-6', 'unitRef': 'usd', 'period': {'startDate': '2020-09-27', 'endDate': '2021-09-25'}, 'segment': {'dimension': 'srt:ProductOrServiceAxis', 'value': 'aapl:IPhoneMember'}, 'value': '191973000000'}\n",
      "{'decimals': '-6', 'unitRef': 'usd', 'period': {'startDate': '2020-09-27', 'endDate': '2021-09-25'}, 'segment': {'dimension': 'srt:ProductOrServiceAxis', 'value': 'aapl:MacMember'}, 'value': '35190000000'}\n",
      "{'decimals': '-6', 'unitRef': 'usd', 'period': {'startDate': '2020-09-27', 'endDate': '2021-09-25'}, 'segment': {'dimension': 'srt:ProductOrServiceAxis', 'value': 'aapl:IPadMember'}, 'value': '31862000000'}\n",
      "{'decimals': '-6', 'unitRef': 'usd', 'period': {'startDate': '2020-09-27', 'endDate': '2021-09-25'}, 'segment': {'dimension': 'srt:ProductOrServiceAxis', 'value': 'aapl:WearablesHomeandAccessoriesMember'}, 'value': '38367000000'}\n",
      "{'decimals': '-6', 'unitRef': 'usd', 'period': {'startDate': '2020-09-27', 'endDate': '2021-09-25'}, 'segment': {'dimension': 'us-gaap:StatementBusinessSegmentsAxis', 'value': 'aapl:AmericasSegmentMember'}, 'value': '153306000000'}\n",
      "{'decimals': '-6', 'unitRef': 'usd', 'period': {'startDate': '2020-09-27', 'endDate': '2021-09-25'}, 'segment': {'dimension': 'us-gaap:StatementBusinessSegmentsAxis', 'value': 'aapl:EuropeSegmentMember'}, 'value': '89307000000'}\n",
      "{'decimals': '-6', 'unitRef': 'usd', 'period': {'startDate': '2020-09-27', 'endDate': '2021-09-25'}, 'segment': {'dimension': 'us-gaap:StatementBusinessSegmentsAxis', 'value': 'aapl:GreaterChinaSegmentMember'}, 'value': '68366000000'}\n",
      "{'decimals': '-6', 'unitRef': 'usd', 'period': {'startDate': '2020-09-27', 'endDate': '2021-09-25'}, 'segment': {'dimension': 'us-gaap:StatementBusinessSegmentsAxis', 'value': 'aapl:JapanSegmentMember'}, 'value': '28482000000'}\n",
      "{'decimals': '-6', 'unitRef': 'usd', 'period': {'startDate': '2020-09-27', 'endDate': '2021-09-25'}, 'segment': {'dimension': 'us-gaap:StatementBusinessSegmentsAxis', 'value': 'aapl:RestOfAsiaPacificSegmentMember'}, 'value': '26356000000'}\n",
      "{'decimals': '-6', 'unitRef': 'usd', 'period': {'startDate': '2020-09-27', 'endDate': '2021-09-25'}, 'segment': {'dimension': 'srt:StatementGeographicalAxis', 'value': 'country:US'}, 'value': '133803000000'}\n",
      "{'decimals': '-6', 'unitRef': 'usd', 'period': {'startDate': '2020-09-27', 'endDate': '2021-09-25'}, 'segment': {'dimension': 'srt:StatementGeographicalAxis', 'value': 'country:CN'}, 'value': '68366000000'}\n",
      "{'decimals': '-6', 'unitRef': 'usd', 'period': {'startDate': '2020-09-27', 'endDate': '2021-09-25'}, 'segment': {'dimension': 'srt:StatementGeographicalAxis', 'value': 'aapl:OtherCountriesMember'}, 'value': '163648000000'}\n",
      "\n",
      "Final Revenue value is: 365817000000\n"
     ]
    }
   ],
   "source": [
    "#aapl_dict['StatementsOfIncome']['RevenueFromContractWithCustomerExcludingAssessedTax'][0]\n",
    "\n",
    "rev_sum = 0\n",
    "for i in range(len(aapl_dict['StatementsOfIncome']['RevenueFromContractWithCustomerExcludingAssessedTax'])):\n",
    "    if i % 3 == 0:\n",
    "        print(aapl_dict['StatementsOfIncome']['RevenueFromContractWithCustomerExcludingAssessedTax'][i])\n",
    "\n",
    "print(f\"\\nFinal Revenue value is: {aapl_dict['StatementsOfIncome']['RevenueFromContractWithCustomerExcludingAssessedTax'][6]['value']}\")"
   ]
  },
  {
   "cell_type": "markdown",
   "id": "c503d3dd-f0a3-459a-95e0-60d53bfe318c",
   "metadata": {},
   "source": [
    "COGS similarly follows the rule of three, and is broken down into Product and Service COGS before finally being summed"
   ]
  },
  {
   "cell_type": "code",
   "execution_count": 49,
   "id": "f8aaa9a3-7039-44c8-8a47-90e6e07c3486",
   "metadata": {},
   "outputs": [
    {
     "name": "stdout",
     "output_type": "stream",
     "text": [
      "{'decimals': '-6', 'unitRef': 'usd', 'period': {'startDate': '2020-09-27', 'endDate': '2021-09-25'}, 'segment': {'dimension': 'srt:ProductOrServiceAxis', 'value': 'us-gaap:ProductMember'}, 'value': '192266000000'}\n",
      "{'decimals': '-6', 'unitRef': 'usd', 'period': {'startDate': '2020-09-27', 'endDate': '2021-09-25'}, 'segment': {'dimension': 'srt:ProductOrServiceAxis', 'value': 'us-gaap:ServiceMember'}, 'value': '20715000000'}\n",
      "{'decimals': '-6', 'unitRef': 'usd', 'period': {'startDate': '2020-09-27', 'endDate': '2021-09-25'}, 'value': '212981000000'}\n",
      "\n",
      "Final COGS value is: 212981000000\n"
     ]
    }
   ],
   "source": [
    "for i in range(len(aapl_dict['StatementsOfIncome']['CostOfGoodsAndServicesSold'])):\n",
    "    if i % 3 == 0:\n",
    "        print(aapl_dict['StatementsOfIncome']['CostOfGoodsAndServicesSold'][i])\n",
    "        \n",
    "print(f\"\\nFinal COGS value is: {aapl_dict['StatementsOfIncome']['CostOfGoodsAndServicesSold'][6]['value']}\")\n"
   ]
  },
  {
   "cell_type": "markdown",
   "id": "c43a78f6-6e48-451a-a054-832f6618f440",
   "metadata": {},
   "source": [
    "Gross Profit is easy enough to extract the value"
   ]
  },
  {
   "cell_type": "code",
   "execution_count": 31,
   "id": "5c838c38-dc2b-4dfb-9a2d-b2f5e674f273",
   "metadata": {},
   "outputs": [
    {
     "data": {
      "text/plain": [
       "'152836000000'"
      ]
     },
     "execution_count": 31,
     "metadata": {},
     "output_type": "execute_result"
    }
   ],
   "source": [
    "aapl_dict['StatementsOfIncome']['GrossProfit'][0]['value']"
   ]
  },
  {
   "cell_type": "markdown",
   "id": "6d542111-fb85-4fdc-bf58-ea671e410f69",
   "metadata": {},
   "source": [
    "R&D is easy too"
   ]
  },
  {
   "cell_type": "code",
   "execution_count": 56,
   "id": "8d27a73a-25b4-4684-9051-d7671ff65b57",
   "metadata": {},
   "outputs": [
    {
     "data": {
      "text/plain": [
       "'21914000000'"
      ]
     },
     "execution_count": 56,
     "metadata": {},
     "output_type": "execute_result"
    }
   ],
   "source": [
    "aapl_dict['StatementsOfIncome']['ResearchAndDevelopmentExpense'][0]['value']"
   ]
  },
  {
   "cell_type": "markdown",
   "id": "5bfb3a7d-41e7-4865-9c29-4d9d4c5814fd",
   "metadata": {},
   "source": [
    "Same for SG&A"
   ]
  },
  {
   "cell_type": "code",
   "execution_count": 59,
   "id": "7fc20340-d9b1-4d4c-9bda-15446fd75b21",
   "metadata": {},
   "outputs": [
    {
     "data": {
      "text/plain": [
       "'21973000000'"
      ]
     },
     "execution_count": 59,
     "metadata": {},
     "output_type": "execute_result"
    }
   ],
   "source": [
    "aapl_dict['StatementsOfIncome']['SellingGeneralAndAdministrativeExpense'][0]['value']"
   ]
  },
  {
   "cell_type": "markdown",
   "id": "e59180fe-36c1-4e77-92d8-d39aafa6169e",
   "metadata": {},
   "source": [
    "And OpEx"
   ]
  },
  {
   "cell_type": "code",
   "execution_count": 62,
   "id": "f3099a4e-9e92-459c-a003-a5895ba61e00",
   "metadata": {},
   "outputs": [
    {
     "data": {
      "text/plain": [
       "'43887000000'"
      ]
     },
     "execution_count": 62,
     "metadata": {},
     "output_type": "execute_result"
    }
   ],
   "source": [
    "aapl_dict['StatementsOfIncome']['OperatingExpenses'][0]['value']"
   ]
  },
  {
   "cell_type": "markdown",
   "id": "5e24da8d-7cbb-4416-9c93-28a8def483c0",
   "metadata": {},
   "source": [
    "Operating Income Loss"
   ]
  },
  {
   "cell_type": "code",
   "execution_count": 69,
   "id": "b2779bde-605d-4427-a631-4ddabaeb914c",
   "metadata": {},
   "outputs": [
    {
     "name": "stdout",
     "output_type": "stream",
     "text": [
      "{'decimals': '-6', 'unitRef': 'usd', 'period': {'startDate': '2020-09-27', 'endDate': '2021-09-25'}, 'value': '108949000000'}\n",
      "{'decimals': '-6', 'unitRef': 'usd', 'period': {'startDate': '2020-09-27', 'endDate': '2021-09-25'}, 'segment': {'dimension': 'us-gaap:StatementBusinessSegmentsAxis', 'value': 'aapl:AmericasSegmentMember'}, 'value': '53382000000'}\n",
      "{'decimals': '-6', 'unitRef': 'usd', 'period': {'startDate': '2020-09-27', 'endDate': '2021-09-25'}, 'segment': {'dimension': 'us-gaap:StatementBusinessSegmentsAxis', 'value': 'aapl:EuropeSegmentMember'}, 'value': '32505000000'}\n",
      "{'decimals': '-6', 'unitRef': 'usd', 'period': {'startDate': '2020-09-27', 'endDate': '2021-09-25'}, 'segment': {'dimension': 'us-gaap:StatementBusinessSegmentsAxis', 'value': 'aapl:GreaterChinaSegmentMember'}, 'value': '28504000000'}\n",
      "{'decimals': '-6', 'unitRef': 'usd', 'period': {'startDate': '2020-09-27', 'endDate': '2021-09-25'}, 'segment': {'dimension': 'us-gaap:StatementBusinessSegmentsAxis', 'value': 'aapl:JapanSegmentMember'}, 'value': '12798000000'}\n",
      "{'decimals': '-6', 'unitRef': 'usd', 'period': {'startDate': '2020-09-27', 'endDate': '2021-09-25'}, 'segment': {'dimension': 'us-gaap:StatementBusinessSegmentsAxis', 'value': 'aapl:RestOfAsiaPacificSegmentMember'}, 'value': '9817000000'}\n",
      "{'decimals': '-6', 'unitRef': 'usd', 'period': {'startDate': '2020-09-27', 'endDate': '2021-09-25'}, 'segment': {'dimension': 'srt:ConsolidationItemsAxis', 'value': 'us-gaap:OperatingSegmentsMember'}, 'value': '137006000000'}\n",
      "\n",
      "Operating Income Loss: 108949000000\n"
     ]
    }
   ],
   "source": [
    "for i in range(len(aapl_dict['StatementsOfIncome']['OperatingIncomeLoss'])):\n",
    "    if i % 3 == 0:\n",
    "        print(aapl_dict['StatementsOfIncome']['OperatingIncomeLoss'][i])\n",
    "        \n",
    "print(f\"\\nOperating Income Loss: {aapl_dict['StatementsOfIncome']['OperatingIncomeLoss'][0]['value']}\")"
   ]
  },
  {
   "cell_type": "markdown",
   "id": "55ee314d-e863-446e-b0a7-5f4575024dda",
   "metadata": {},
   "source": [
    "Nonoperating Income Expense"
   ]
  },
  {
   "cell_type": "code",
   "execution_count": 75,
   "id": "00b4ad30-2e14-4584-8062-ce2b75f24bd2",
   "metadata": {},
   "outputs": [
    {
     "data": {
      "text/plain": [
       "'258000000'"
      ]
     },
     "execution_count": 75,
     "metadata": {},
     "output_type": "execute_result"
    }
   ],
   "source": [
    "aapl_dict['StatementsOfIncome']['NonoperatingIncomeExpense'][0]['value']"
   ]
  },
  {
   "cell_type": "markdown",
   "id": "fd952dfc-e15c-47a0-891f-e3afadd4947b",
   "metadata": {},
   "source": [
    "Income before provision for income taxes (EBIT)"
   ]
  },
  {
   "cell_type": "code",
   "execution_count": 78,
   "id": "d389a87c-cbf8-4d42-8c90-a8e215528b1f",
   "metadata": {},
   "outputs": [
    {
     "data": {
      "text/plain": [
       "'109207000000'"
      ]
     },
     "execution_count": 78,
     "metadata": {},
     "output_type": "execute_result"
    }
   ],
   "source": [
    "aapl_dict['StatementsOfIncome']['IncomeLossFromContinuingOperationsBeforeIncomeTaxesExtraordinaryItemsNoncontrollingInterest'][0]['value']"
   ]
  },
  {
   "cell_type": "markdown",
   "id": "0c4a835b-1a13-4c60-92ce-699cdd10cd4d",
   "metadata": {},
   "source": [
    "Provision for income tax expense (benefit)"
   ]
  },
  {
   "cell_type": "code",
   "execution_count": 82,
   "id": "e6baee1e-de1c-496e-a8a9-d50a25ed2b0e",
   "metadata": {},
   "outputs": [
    {
     "data": {
      "text/plain": [
       "'14527000000'"
      ]
     },
     "execution_count": 82,
     "metadata": {},
     "output_type": "execute_result"
    }
   ],
   "source": [
    "aapl_dict['StatementsOfIncome']['IncomeTaxExpenseBenefit'][0]['value']"
   ]
  },
  {
   "cell_type": "markdown",
   "id": "62e3c444-2885-4881-8bed-0fd6e585dcda",
   "metadata": {},
   "source": [
    "Net Income also includes *retained earnings* but in this case they seem to be the same?"
   ]
  },
  {
   "cell_type": "code",
   "execution_count": 91,
   "id": "dd7e81a7-65a9-4a3b-9121-ffd611f60c9b",
   "metadata": {},
   "outputs": [
    {
     "name": "stdout",
     "output_type": "stream",
     "text": [
      "{'decimals': '-6', 'unitRef': 'usd', 'period': {'startDate': '2020-09-27', 'endDate': '2021-09-25'}, 'value': '94680000000'}\n",
      "{'decimals': '-6', 'unitRef': 'usd', 'period': {'startDate': '2020-09-27', 'endDate': '2021-09-25'}, 'segment': {'dimension': 'us-gaap:StatementEquityComponentsAxis', 'value': 'us-gaap:RetainedEarningsMember'}, 'value': '94680000000'}\n",
      "\n",
      "Net Income: 94680000000\n"
     ]
    }
   ],
   "source": [
    "for i in range(len(aapl_dict['StatementsOfIncome']['NetIncomeLoss'])):\n",
    "    if i % 3 == 0:\n",
    "        print(aapl_dict['StatementsOfIncome']['NetIncomeLoss'][i])\n",
    "        \n",
    "print(f\"\\nNet Income: {aapl_dict['StatementsOfIncome']['NetIncomeLoss'][0]['value']}\")"
   ]
  },
  {
   "cell_type": "markdown",
   "id": "5206519b-4773-4f6b-aee1-0ebebafc4ec0",
   "metadata": {},
   "source": [
    "Basic EPS"
   ]
  },
  {
   "cell_type": "code",
   "execution_count": 95,
   "id": "e5d242ed-2af2-4a95-91b0-25649d827891",
   "metadata": {},
   "outputs": [
    {
     "data": {
      "text/plain": [
       "'5.67'"
      ]
     },
     "execution_count": 95,
     "metadata": {},
     "output_type": "execute_result"
    }
   ],
   "source": [
    "aapl_dict['StatementsOfIncome']['EarningsPerShareBasic'][0]['value']"
   ]
  },
  {
   "cell_type": "markdown",
   "id": "7947f3a9-96db-47db-9cb7-017210fda57f",
   "metadata": {},
   "source": [
    "Diluted EPS"
   ]
  },
  {
   "cell_type": "code",
   "execution_count": 96,
   "id": "d5173341-079d-485d-af08-7a82490dc741",
   "metadata": {},
   "outputs": [
    {
     "data": {
      "text/plain": [
       "'5.61'"
      ]
     },
     "execution_count": 96,
     "metadata": {},
     "output_type": "execute_result"
    }
   ],
   "source": [
    "aapl_dict['StatementsOfIncome']['EarningsPerShareDiluted'][0]['value']"
   ]
  },
  {
   "cell_type": "markdown",
   "id": "5db13ff7-2109-42fe-a692-d43662374384",
   "metadata": {},
   "source": [
    "Basic Shares Outstanding"
   ]
  },
  {
   "cell_type": "code",
   "execution_count": 99,
   "id": "28194efa-1728-4a1e-9dfe-dbec448bc7da",
   "metadata": {},
   "outputs": [
    {
     "data": {
      "text/plain": [
       "'16701272000'"
      ]
     },
     "execution_count": 99,
     "metadata": {},
     "output_type": "execute_result"
    }
   ],
   "source": [
    "aapl_dict['StatementsOfIncome']['WeightedAverageNumberOfSharesOutstandingBasic'][0]['value']"
   ]
  },
  {
   "cell_type": "markdown",
   "id": "b2a19822-cd05-4f46-8d41-8958c2e417f0",
   "metadata": {},
   "source": [
    "Diluted Shares Outstanding"
   ]
  },
  {
   "cell_type": "code",
   "execution_count": 102,
   "id": "8e0d2eaa-c4ca-42a8-9363-43b3681be855",
   "metadata": {},
   "outputs": [
    {
     "data": {
      "text/plain": [
       "'16864919000'"
      ]
     },
     "execution_count": 102,
     "metadata": {},
     "output_type": "execute_result"
    }
   ],
   "source": [
    "aapl_dict['StatementsOfIncome']['WeightedAverageNumberOfDilutedSharesOutstanding'][0]['value']"
   ]
  },
  {
   "cell_type": "markdown",
   "id": "ef1bd52f-d092-4e04-a169-44353ecec0f0",
   "metadata": {},
   "source": [
    "### Extracting value from the Balance Sheet"
   ]
  },
  {
   "cell_type": "code",
   "execution_count": 104,
   "id": "23fb6daf-0225-4df2-bb11-1d16ab102f18",
   "metadata": {},
   "outputs": [
    {
     "data": {
      "text/plain": [
       "dict_keys(['CashAndCashEquivalentsAtCarryingValue', 'MarketableSecuritiesCurrent', 'AccountsReceivableNetCurrent', 'InventoryNet', 'NontradeReceivablesCurrent', 'OtherAssetsCurrent', 'AssetsCurrent', 'MarketableSecuritiesNoncurrent', 'PropertyPlantAndEquipmentNet', 'OtherAssetsNoncurrent', 'AssetsNoncurrent', 'Assets', 'AccountsPayableCurrent', 'OtherLiabilitiesCurrent', 'ContractWithCustomerLiabilityCurrent', 'CommercialPaper', 'LongTermDebtCurrent', 'LiabilitiesCurrent', 'LongTermDebtNoncurrent', 'OtherLiabilitiesNoncurrent', 'LiabilitiesNoncurrent', 'Liabilities', 'CommitmentsAndContingencies', 'CommonStocksIncludingAdditionalPaidInCapital', 'RetainedEarningsAccumulatedDeficit', 'AccumulatedOtherComprehensiveIncomeLossNetOfTax', 'StockholdersEquity', 'LiabilitiesAndStockholdersEquity'])"
      ]
     },
     "execution_count": 104,
     "metadata": {},
     "output_type": "execute_result"
    }
   ],
   "source": [
    "aapl_dict['BalanceSheets'].keys()"
   ]
  },
  {
   "cell_type": "code",
   "execution_count": null,
   "id": "49b9d471-b4f2-4ea6-b776-8d2d48521272",
   "metadata": {},
   "outputs": [],
   "source": []
  }
 ],
 "metadata": {
  "kernelspec": {
   "display_name": "Python 3 (ipykernel)",
   "language": "python",
   "name": "python3"
  },
  "language_info": {
   "codemirror_mode": {
    "name": "ipython",
    "version": 3
   },
   "file_extension": ".py",
   "mimetype": "text/x-python",
   "name": "python",
   "nbconvert_exporter": "python",
   "pygments_lexer": "ipython3",
   "version": "3.10.5"
  }
 },
 "nbformat": 4,
 "nbformat_minor": 5
}
