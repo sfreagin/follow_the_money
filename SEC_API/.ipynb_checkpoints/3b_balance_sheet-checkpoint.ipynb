{
 "cells": [
  {
   "cell_type": "code",
   "execution_count": 1,
   "id": "7b97369e-d24d-4852-9830-26fe13957837",
   "metadata": {},
   "outputs": [],
   "source": [
    "import json\n",
    "\n",
    "import pandas as pd\n",
    "import numpy as np\n",
    "\n",
    "import matplotlib.pyplot as plt\n",
    "import seaborn as sns"
   ]
  },
  {
   "cell_type": "code",
   "execution_count": 2,
   "id": "a6544e97-20e3-47ec-98de-b251c2e0a3c8",
   "metadata": {},
   "outputs": [],
   "source": [
    "#reading the data from a file\n",
    "with open('AAPL_10K_2021.txt') as f:\n",
    "    aapl_txt = f.read()\n",
    "    \n",
    "#converting the text string into a dictionary\n",
    "aapl_dict = json.loads(aapl_txt)"
   ]
  },
  {
   "cell_type": "markdown",
   "id": "7c7050eb-fe4a-43f4-97da-443ccc548e09",
   "metadata": {},
   "source": [
    "### Extracting value from the Balance Sheet"
   ]
  },
  {
   "cell_type": "code",
   "execution_count": 5,
   "id": "8484063b-0cbd-4950-880f-27e1aef79a17",
   "metadata": {},
   "outputs": [
    {
     "data": {
      "text/plain": [
       "dict_keys(['CashAndCashEquivalentsAtCarryingValue', 'MarketableSecuritiesCurrent', 'AccountsReceivableNetCurrent', 'InventoryNet', 'NontradeReceivablesCurrent', 'OtherAssetsCurrent', 'AssetsCurrent', 'MarketableSecuritiesNoncurrent', 'PropertyPlantAndEquipmentNet', 'OtherAssetsNoncurrent', 'AssetsNoncurrent', 'Assets', 'AccountsPayableCurrent', 'OtherLiabilitiesCurrent', 'ContractWithCustomerLiabilityCurrent', 'CommercialPaper', 'LongTermDebtCurrent', 'LiabilitiesCurrent', 'LongTermDebtNoncurrent', 'OtherLiabilitiesNoncurrent', 'LiabilitiesNoncurrent', 'Liabilities', 'CommitmentsAndContingencies', 'CommonStocksIncludingAdditionalPaidInCapital', 'RetainedEarningsAccumulatedDeficit', 'AccumulatedOtherComprehensiveIncomeLossNetOfTax', 'StockholdersEquity', 'LiabilitiesAndStockholdersEquity'])"
      ]
     },
     "execution_count": 5,
     "metadata": {},
     "output_type": "execute_result"
    }
   ],
   "source": [
    "aapl_dict['BalanceSheets'].keys()"
   ]
  },
  {
   "cell_type": "markdown",
   "id": "8d40e1d6-6653-41f0-b9ad-aea68076672c",
   "metadata": {},
   "source": [
    "#### Cash and Cash Equivalents"
   ]
  },
  {
   "cell_type": "code",
   "execution_count": 9,
   "id": "836b0edc-7863-4778-aa35-c34fc013a83d",
   "metadata": {},
   "outputs": [
    {
     "data": {
      "text/plain": [
       "34940000000"
      ]
     },
     "execution_count": 9,
     "metadata": {},
     "output_type": "execute_result"
    }
   ],
   "source": [
    "int(aapl_dict['BalanceSheets']['CashAndCashEquivalentsAtCarryingValue'][0]['value'])"
   ]
  },
  {
   "cell_type": "markdown",
   "id": "c585241d-446d-416c-b189-60bc67a737a8",
   "metadata": {},
   "source": [
    "#### Marketable Securities"
   ]
  },
  {
   "cell_type": "code",
   "execution_count": 15,
   "id": "39e02df8-3346-41ff-9d80-ee60f24727bd",
   "metadata": {},
   "outputs": [
    {
     "data": {
      "text/plain": [
       "27699000000"
      ]
     },
     "execution_count": 15,
     "metadata": {},
     "output_type": "execute_result"
    }
   ],
   "source": [
    "int(aapl_dict['BalanceSheets']['MarketableSecuritiesCurrent'][0]['value'])"
   ]
  },
  {
   "cell_type": "markdown",
   "id": "f10c22c0-c9ae-46e2-96a4-42a4d1d16117",
   "metadata": {},
   "source": [
    "#### Accounts Receivable, net"
   ]
  },
  {
   "cell_type": "code",
   "execution_count": 18,
   "id": "685ee465-8087-4f0a-97a9-c3f3cc9bac49",
   "metadata": {},
   "outputs": [
    {
     "data": {
      "text/plain": [
       "26278000000"
      ]
     },
     "execution_count": 18,
     "metadata": {},
     "output_type": "execute_result"
    }
   ],
   "source": [
    "int(aapl_dict['BalanceSheets']['AccountsReceivableNetCurrent'][0]['value'])"
   ]
  },
  {
   "cell_type": "markdown",
   "id": "fa88f6f0-e7bc-4c2c-8087-2d8684ba93e7",
   "metadata": {},
   "source": [
    "#### Net Inventory"
   ]
  },
  {
   "cell_type": "code",
   "execution_count": 19,
   "id": "c4632c87-57bb-4a64-a67d-189a449ea793",
   "metadata": {},
   "outputs": [
    {
     "data": {
      "text/plain": [
       "6580000000"
      ]
     },
     "execution_count": 19,
     "metadata": {},
     "output_type": "execute_result"
    }
   ],
   "source": [
    "int(aapl_dict['BalanceSheets']['InventoryNet'][0]['value'])"
   ]
  },
  {
   "cell_type": "markdown",
   "id": "061fb7e8-d5d0-4e79-bec3-802867e98b99",
   "metadata": {},
   "source": [
    "#### Vendor Non-trade Receivables"
   ]
  },
  {
   "cell_type": "code",
   "execution_count": 22,
   "id": "5d4de412-dec9-4bf7-8f58-bfd430106da0",
   "metadata": {},
   "outputs": [
    {
     "data": {
      "text/plain": [
       "25228000000"
      ]
     },
     "execution_count": 22,
     "metadata": {},
     "output_type": "execute_result"
    }
   ],
   "source": [
    "int(aapl_dict['BalanceSheets']['NontradeReceivablesCurrent'][0]['value'])"
   ]
  },
  {
   "cell_type": "markdown",
   "id": "8d6360d1-2d63-48c5-93c5-e800081f57ab",
   "metadata": {},
   "source": [
    "#### Other Current Assets"
   ]
  },
  {
   "cell_type": "code",
   "execution_count": 26,
   "id": "f73a1c49-27f4-49f3-a901-a10f1b4f50a1",
   "metadata": {},
   "outputs": [
    {
     "data": {
      "text/plain": [
       "14111000000"
      ]
     },
     "execution_count": 26,
     "metadata": {},
     "output_type": "execute_result"
    }
   ],
   "source": [
    "int(aapl_dict['BalanceSheets']['OtherAssetsCurrent'][0]['value'])"
   ]
  },
  {
   "cell_type": "markdown",
   "id": "57f997c9-b763-414f-a628-4a7f1414a04f",
   "metadata": {},
   "source": [
    "#### Total Current Assets"
   ]
  },
  {
   "cell_type": "code",
   "execution_count": 28,
   "id": "f2570a7a-6027-449e-9861-d39525c24041",
   "metadata": {},
   "outputs": [
    {
     "data": {
      "text/plain": [
       "134836000000"
      ]
     },
     "execution_count": 28,
     "metadata": {},
     "output_type": "execute_result"
    }
   ],
   "source": [
    "int(aapl_dict['BalanceSheets']['AssetsCurrent'][0]['value'])"
   ]
  },
  {
   "cell_type": "markdown",
   "id": "aaf38ac2-bbb5-4876-a65a-d7d8cd1b7ac7",
   "metadata": {},
   "source": [
    "#### Non-Current Marketable Securities"
   ]
  },
  {
   "cell_type": "code",
   "execution_count": 33,
   "id": "5c457539-60a5-420c-9c43-7ebe198e91b6",
   "metadata": {},
   "outputs": [
    {
     "data": {
      "text/plain": [
       "127877000000"
      ]
     },
     "execution_count": 33,
     "metadata": {},
     "output_type": "execute_result"
    }
   ],
   "source": [
    "int(aapl_dict['BalanceSheets']['MarketableSecuritiesNoncurrent'][0]['value'])"
   ]
  },
  {
   "cell_type": "markdown",
   "id": "9eaa8981-d269-41af-bea5-c8b434501468",
   "metadata": {},
   "source": [
    "#### Property and Plant Equipment"
   ]
  },
  {
   "cell_type": "code",
   "execution_count": 36,
   "id": "489ef910-e510-4709-9e31-1c8c6a97ef96",
   "metadata": {},
   "outputs": [
    {
     "data": {
      "text/plain": [
       "'39440000000'"
      ]
     },
     "execution_count": 36,
     "metadata": {},
     "output_type": "execute_result"
    }
   ],
   "source": [
    "aapl_dict['BalanceSheets']['PropertyPlantAndEquipmentNet'][0]['value']"
   ]
  },
  {
   "cell_type": "markdown",
   "id": "bf11c0c1-9e07-4450-b288-b7af5584f447",
   "metadata": {},
   "source": [
    "#### Other Non-Current Assets"
   ]
  },
  {
   "cell_type": "code",
   "execution_count": 40,
   "id": "612b2556-14e9-429a-b414-79af8f28c5bb",
   "metadata": {},
   "outputs": [
    {
     "data": {
      "text/plain": [
       "48849000000"
      ]
     },
     "execution_count": 40,
     "metadata": {},
     "output_type": "execute_result"
    }
   ],
   "source": [
    "int(aapl_dict['BalanceSheets']['OtherAssetsNoncurrent'][0]['value'])"
   ]
  },
  {
   "cell_type": "markdown",
   "id": "ef45fd07-6d81-4725-847e-160657dd6750",
   "metadata": {},
   "source": [
    "#### Total Non-Current Assets"
   ]
  },
  {
   "cell_type": "code",
   "execution_count": 44,
   "id": "e33bb757-daf8-45af-9b80-58b34cc8bb31",
   "metadata": {},
   "outputs": [
    {
     "data": {
      "text/plain": [
       "216166000000"
      ]
     },
     "execution_count": 44,
     "metadata": {},
     "output_type": "execute_result"
    }
   ],
   "source": [
    "int(aapl_dict['BalanceSheets']['AssetsNoncurrent'][0]['value'])"
   ]
  },
  {
   "cell_type": "markdown",
   "id": "f277f183-94e2-4315-a1b9-23e0428182d1",
   "metadata": {},
   "source": [
    "#### Total Assets\n",
    "Funny enough there's only *one* time period for Total Assets"
   ]
  },
  {
   "cell_type": "code",
   "execution_count": 47,
   "id": "6d0cd739-e45f-49b8-977a-e9ac4cf25cce",
   "metadata": {},
   "outputs": [
    {
     "data": {
      "text/plain": [
       "351002000000"
      ]
     },
     "execution_count": 47,
     "metadata": {},
     "output_type": "execute_result"
    }
   ],
   "source": [
    "int(aapl_dict['BalanceSheets']['Assets'][0]['value'])"
   ]
  },
  {
   "cell_type": "markdown",
   "id": "c01bcf08-a314-4592-b41b-42f18b6ed50a",
   "metadata": {},
   "source": [
    "#### Current Accounts Payable"
   ]
  },
  {
   "cell_type": "code",
   "execution_count": 51,
   "id": "15d5763a-d78a-4354-8add-6bbaff9d24ec",
   "metadata": {},
   "outputs": [
    {
     "data": {
      "text/plain": [
       "54763000000"
      ]
     },
     "execution_count": 51,
     "metadata": {},
     "output_type": "execute_result"
    }
   ],
   "source": [
    "int(aapl_dict['BalanceSheets']['AccountsPayableCurrent'][0]['value'])"
   ]
  },
  {
   "cell_type": "markdown",
   "id": "32e2d03c-c520-4bac-9382-284ae17ee2f8",
   "metadata": {},
   "source": [
    "#### Other Current Liabilities"
   ]
  },
  {
   "cell_type": "code",
   "execution_count": 55,
   "id": "d0a2b700-5cdb-4683-93ed-0b3278f85b9d",
   "metadata": {},
   "outputs": [
    {
     "data": {
      "text/plain": [
       "47493000000"
      ]
     },
     "execution_count": 55,
     "metadata": {},
     "output_type": "execute_result"
    }
   ],
   "source": [
    "int(aapl_dict['BalanceSheets']['OtherLiabilitiesCurrent'][0]['value'])"
   ]
  },
  {
   "cell_type": "markdown",
   "id": "2639cf7f-3170-4c23-84f9-0b7060985556",
   "metadata": {},
   "source": [
    "#### Deferred Revenue\n",
    "Labeled here as \"Current Contract with Customer Liability\""
   ]
  },
  {
   "cell_type": "code",
   "execution_count": 59,
   "id": "d8bb7b49-101e-463a-b401-b0ae3f120ba5",
   "metadata": {},
   "outputs": [
    {
     "data": {
      "text/plain": [
       "7612000000"
      ]
     },
     "execution_count": 59,
     "metadata": {},
     "output_type": "execute_result"
    }
   ],
   "source": [
    "int(aapl_dict['BalanceSheets']['ContractWithCustomerLiabilityCurrent'][0]['value'])"
   ]
  },
  {
   "cell_type": "markdown",
   "id": "4807fef3-4079-4ff7-94f9-83912ec9422b",
   "metadata": {},
   "source": [
    "#### Commercial Paper\n",
    "There is an additional segment for ShortTermDebtTypeAxis"
   ]
  },
  {
   "cell_type": "code",
   "execution_count": 63,
   "id": "b72d5dce-58fe-40ae-8b57-a9d1c3bbf7bd",
   "metadata": {},
   "outputs": [
    {
     "data": {
      "text/plain": [
       "6000000000"
      ]
     },
     "execution_count": 63,
     "metadata": {},
     "output_type": "execute_result"
    }
   ],
   "source": [
    "int(aapl_dict['BalanceSheets']['CommercialPaper'][0]['value'])"
   ]
  },
  {
   "cell_type": "markdown",
   "id": "1a29b33b-257d-4db8-bad9-1fd1f7791429",
   "metadata": {},
   "source": [
    "#### Term Debt\n",
    "Current long term debt? What does it mean for long-term debt to be current?"
   ]
  },
  {
   "cell_type": "code",
   "execution_count": 65,
   "id": "293d5f03-52f5-4848-ad0c-702bc0ab2c8d",
   "metadata": {},
   "outputs": [
    {
     "data": {
      "text/plain": [
       "9613000000"
      ]
     },
     "execution_count": 65,
     "metadata": {},
     "output_type": "execute_result"
    }
   ],
   "source": [
    "int(aapl_dict['BalanceSheets']['LongTermDebtCurrent'][0]['value'])"
   ]
  },
  {
   "cell_type": "markdown",
   "id": "4a43b62f-9e02-4069-99d5-12a4eda4410f",
   "metadata": {},
   "source": [
    "#### Total Current Liabilities"
   ]
  },
  {
   "cell_type": "code",
   "execution_count": 68,
   "id": "790a29b1-7c5e-4ee5-bcb2-236308a1dd29",
   "metadata": {},
   "outputs": [
    {
     "data": {
      "text/plain": [
       "125481000000"
      ]
     },
     "execution_count": 68,
     "metadata": {},
     "output_type": "execute_result"
    }
   ],
   "source": [
    "int(aapl_dict['BalanceSheets']['LiabilitiesCurrent'][0]['value'])"
   ]
  },
  {
   "cell_type": "markdown",
   "id": "09ff2429-a1af-4750-9fc9-94071229abb3",
   "metadata": {},
   "source": [
    "#### Non-Current Long Term Debt\n",
    "Only one time period"
   ]
  },
  {
   "cell_type": "code",
   "execution_count": 70,
   "id": "79c53002-31a0-453c-8938-0e0ec244d295",
   "metadata": {},
   "outputs": [
    {
     "data": {
      "text/plain": [
       "109106000000"
      ]
     },
     "execution_count": 70,
     "metadata": {},
     "output_type": "execute_result"
    }
   ],
   "source": [
    "int(aapl_dict['BalanceSheets']['LongTermDebtNoncurrent'][0]['value'])"
   ]
  },
  {
   "cell_type": "markdown",
   "id": "e22130fe-1948-435a-9e9d-912c7ba9d096",
   "metadata": {},
   "source": [
    "#### Other Non-Current Liabilities"
   ]
  },
  {
   "cell_type": "code",
   "execution_count": 73,
   "id": "f0cd7bb8-d5b5-422e-9e5c-86dc4dba656a",
   "metadata": {},
   "outputs": [
    {
     "data": {
      "text/plain": [
       "53325000000"
      ]
     },
     "execution_count": 73,
     "metadata": {},
     "output_type": "execute_result"
    }
   ],
   "source": [
    "int(aapl_dict['BalanceSheets']['OtherLiabilitiesNoncurrent'][0]['value'])"
   ]
  },
  {
   "cell_type": "markdown",
   "id": "9b9ca24a-8724-41d9-a7c2-3b85b3bd5f49",
   "metadata": {},
   "source": [
    "#### Total Non-Current Liabilities"
   ]
  },
  {
   "cell_type": "code",
   "execution_count": 75,
   "id": "a1119d42-c651-4e1f-989b-f4e33a52c08f",
   "metadata": {},
   "outputs": [
    {
     "data": {
      "text/plain": [
       "162431000000"
      ]
     },
     "execution_count": 75,
     "metadata": {},
     "output_type": "execute_result"
    }
   ],
   "source": [
    "int(aapl_dict['BalanceSheets']['LiabilitiesNoncurrent'][0]['value'])"
   ]
  },
  {
   "cell_type": "markdown",
   "id": "e2f194d5-3a6c-482d-a48e-d6b023dd2da3",
   "metadata": {},
   "source": [
    "#### Total Liabilities"
   ]
  },
  {
   "cell_type": "code",
   "execution_count": 78,
   "id": "0376d8e0-4e8d-4e54-9cb8-bf43e4dd464b",
   "metadata": {},
   "outputs": [
    {
     "data": {
      "text/plain": [
       "287912000000"
      ]
     },
     "execution_count": 78,
     "metadata": {},
     "output_type": "execute_result"
    }
   ],
   "source": [
    "int(aapl_dict['BalanceSheets']['Liabilities'][0]['value'])"
   ]
  },
  {
   "cell_type": "markdown",
   "id": "8f48a4bf-b1bd-4968-a46f-efdc573c49b1",
   "metadata": {},
   "source": [
    "#### Commitments and Contingencies\n",
    "This is a blank field on the annual report. Is this a section separator?"
   ]
  },
  {
   "cell_type": "code",
   "execution_count": 79,
   "id": "e63596dc-10d6-4696-b217-a8759d7c6775",
   "metadata": {},
   "outputs": [
    {
     "data": {
      "text/plain": [
       "[{'unitRef': 'usd', 'xsi:nil': 'true', 'period': {'instant': '2021-09-25'}},\n",
       " {'unitRef': 'usd', 'xsi:nil': 'true', 'period': {'instant': '2020-09-26'}}]"
      ]
     },
     "execution_count": 79,
     "metadata": {},
     "output_type": "execute_result"
    }
   ],
   "source": [
    "aapl_dict['BalanceSheets']['CommitmentsAndContingencies']"
   ]
  },
  {
   "cell_type": "markdown",
   "id": "ccaef527-bb46-4a2e-bb41-9b2891dbb2b8",
   "metadata": {},
   "source": [
    "#### Common Stock and Additional Paid-In Capital"
   ]
  },
  {
   "cell_type": "code",
   "execution_count": 83,
   "id": "4157292e-8b11-4283-b33e-77afa4ae15e9",
   "metadata": {},
   "outputs": [
    {
     "data": {
      "text/plain": [
       "57365000000"
      ]
     },
     "execution_count": 83,
     "metadata": {},
     "output_type": "execute_result"
    }
   ],
   "source": [
    "int(aapl_dict['BalanceSheets']['CommonStocksIncludingAdditionalPaidInCapital'][0]['value'])"
   ]
  },
  {
   "cell_type": "markdown",
   "id": "6e8322f6-b318-4c21-afc4-a77f218e412f",
   "metadata": {},
   "source": [
    "#### Retained Earnings"
   ]
  },
  {
   "cell_type": "code",
   "execution_count": 86,
   "id": "5577d751-a0ae-4806-8ab1-1a12f1b381ad",
   "metadata": {},
   "outputs": [
    {
     "data": {
      "text/plain": [
       "5562000000"
      ]
     },
     "execution_count": 86,
     "metadata": {},
     "output_type": "execute_result"
    }
   ],
   "source": [
    "int(aapl_dict['BalanceSheets']['RetainedEarningsAccumulatedDeficit'][0]['value'])"
   ]
  },
  {
   "cell_type": "markdown",
   "id": "64471fbd-c461-4fec-bd56-3b5ff54ff50e",
   "metadata": {},
   "source": [
    "#### Accumulated Other Comprehensive Income/(loss)"
   ]
  },
  {
   "cell_type": "code",
   "execution_count": 88,
   "id": "578a2ce4-2e4d-4408-9b5b-99e9bdda20f9",
   "metadata": {},
   "outputs": [
    {
     "data": {
      "text/plain": [
       "163000000"
      ]
     },
     "execution_count": 88,
     "metadata": {},
     "output_type": "execute_result"
    }
   ],
   "source": [
    "int(aapl_dict['BalanceSheets']['AccumulatedOtherComprehensiveIncomeLossNetOfTax'][0]['value'])"
   ]
  },
  {
   "cell_type": "markdown",
   "id": "09a93e5e-04ee-4b7a-b4b5-ae4b83c706e0",
   "metadata": {},
   "source": [
    "#### Total Shareholders' Equity\n",
    "Lots of segments here, and 4 years' worth of data"
   ]
  },
  {
   "cell_type": "code",
   "execution_count": 92,
   "id": "37258931-3cc4-4ff3-8757-8636f3712552",
   "metadata": {},
   "outputs": [
    {
     "data": {
      "text/plain": [
       "63090000000"
      ]
     },
     "execution_count": 92,
     "metadata": {},
     "output_type": "execute_result"
    }
   ],
   "source": [
    "int(aapl_dict['BalanceSheets']['StockholdersEquity'][0]['value'])"
   ]
  },
  {
   "cell_type": "markdown",
   "id": "3d342273-799c-49e9-bfc1-0b0d18ede357",
   "metadata": {},
   "source": [
    "#### Total Liabilities and Shareholders' Equity"
   ]
  },
  {
   "cell_type": "code",
   "execution_count": 94,
   "id": "2296214b-ca5e-4357-a5aa-14f2ba345a38",
   "metadata": {},
   "outputs": [
    {
     "data": {
      "text/plain": [
       "351002000000"
      ]
     },
     "execution_count": 94,
     "metadata": {},
     "output_type": "execute_result"
    }
   ],
   "source": [
    "int(aapl_dict['BalanceSheets']['LiabilitiesAndStockholdersEquity'][0]['value'])"
   ]
  },
  {
   "cell_type": "code",
   "execution_count": null,
   "id": "b907f8a1-937b-414a-808b-3fbac3743fbc",
   "metadata": {},
   "outputs": [],
   "source": []
  }
 ],
 "metadata": {
  "kernelspec": {
   "display_name": "Python 3 (ipykernel)",
   "language": "python",
   "name": "python3"
  },
  "language_info": {
   "codemirror_mode": {
    "name": "ipython",
    "version": 3
   },
   "file_extension": ".py",
   "mimetype": "text/x-python",
   "name": "python",
   "nbconvert_exporter": "python",
   "pygments_lexer": "ipython3",
   "version": "3.10.5"
  }
 },
 "nbformat": 4,
 "nbformat_minor": 5
}
