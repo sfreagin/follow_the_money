{
 "cells": [
  {
   "cell_type": "code",
   "execution_count": null,
   "metadata": {},
   "outputs": [],
   "source": []
  },
  {
   "cell_type": "markdown",
   "metadata": {},
   "source": [
    "### Taking the SCT text files and combining them into a single DataFrame"
   ]
  },
  {
   "cell_type": "code",
   "execution_count": 76,
   "metadata": {},
   "outputs": [],
   "source": [
    "#from collections import defaultdict\n",
    "#from pathlib import Path\n",
    "import json\n",
    "\n",
    "import os \n",
    "import time \n",
    "\n",
    "import pandas as pd\n",
    "import numpy as np\n",
    "\n",
    "import matplotlib.pyplot as plt\n",
    "import seaborn as sns"
   ]
  },
  {
   "cell_type": "code",
   "execution_count": 130,
   "metadata": {},
   "outputs": [],
   "source": [
    "russell_df = pd.read_csv('russell_3000_index.csv')\n",
    "\n",
    "ticker_list = russell_df['Ticker']"
   ]
  },
  {
   "cell_type": "code",
   "execution_count": 175,
   "metadata": {},
   "outputs": [],
   "source": [
    "#this cell is run out of order\n",
    "#mistakes_df = starter_df.iloc[highest_salary_index].copy()"
   ]
  },
  {
   "cell_type": "code",
   "execution_count": 164,
   "metadata": {},
   "outputs": [],
   "source": [
    "#seeding the DataFrame\n",
    "#reading the data from a file\n",
    "with open('SCT_datasets/A_SCTpay_20220906.txt') as f:\n",
    "    a_txt = f.read()\n",
    "    \n",
    "#converting the text string into a dictionary\n",
    "a_dict = json.loads(a_txt)\n",
    "\n",
    "starter_df = pd.DataFrame(a_dict)"
   ]
  },
  {
   "cell_type": "code",
   "execution_count": 165,
   "metadata": {},
   "outputs": [
    {
     "name": "stdout",
     "output_type": "stream",
     "text": [
      "Ticker XTSLA threw an error\n",
      "Ticker USD threw an error\n",
      "Ticker MANH threw an error\n",
      "Ticker MPW threw an error\n",
      "Ticker AFG threw an error\n",
      "Ticker GLOB threw an error\n",
      "Ticker RRC threw an error\n",
      "Ticker UGI threw an error\n",
      "Ticker MSFUT threw an error\n",
      "Ticker ESU2 threw an error\n",
      "Ticker RTYU2 threw an error\n",
      "This code took 60.04817819595337 seconds\n"
     ]
    }
   ],
   "source": [
    "start_time = time.time()\n",
    "\n",
    "for ticker in ticker_list:\n",
    "    try:\n",
    "        with open(f'SCT_datasets/{ticker}_SCTpay_20220906.txt') as f:\n",
    "            ticker_txt = f.read()\n",
    "        ticker_dict = json.loads(ticker_txt)    \n",
    "        #ticker_df = pd.DataFrame(ticker_dict)\n",
    "        starter_df = pd.concat([starter_df,pd.DataFrame(ticker_dict)])\n",
    "    except:\n",
    "        print(f'Ticker {ticker} threw an error')\n",
    "    \n",
    "        \n",
    "        \n",
    "print(f\"This code took {time.time() - start_time} seconds\")"
   ]
  },
  {
   "cell_type": "code",
   "execution_count": 166,
   "metadata": {},
   "outputs": [],
   "source": [
    "starter_df.reset_index(inplace=True,drop=True)"
   ]
  },
  {
   "cell_type": "code",
   "execution_count": 167,
   "metadata": {},
   "outputs": [
    {
     "data": {
      "text/html": [
       "<div>\n",
       "<style scoped>\n",
       "    .dataframe tbody tr th:only-of-type {\n",
       "        vertical-align: middle;\n",
       "    }\n",
       "\n",
       "    .dataframe tbody tr th {\n",
       "        vertical-align: top;\n",
       "    }\n",
       "\n",
       "    .dataframe thead th {\n",
       "        text-align: right;\n",
       "    }\n",
       "</style>\n",
       "<table border=\"1\" class=\"dataframe\">\n",
       "  <thead>\n",
       "    <tr style=\"text-align: right;\">\n",
       "      <th></th>\n",
       "      <th>id</th>\n",
       "      <th>cik</th>\n",
       "      <th>ticker</th>\n",
       "      <th>name</th>\n",
       "      <th>position</th>\n",
       "      <th>year</th>\n",
       "      <th>salary</th>\n",
       "      <th>bonus</th>\n",
       "      <th>stockAwards</th>\n",
       "      <th>optionAwards</th>\n",
       "      <th>nonEquityIncentiveCompensation</th>\n",
       "      <th>otherCompensation</th>\n",
       "      <th>total</th>\n",
       "      <th>changeInPensionValueAndDeferredEarnings</th>\n",
       "    </tr>\n",
       "  </thead>\n",
       "  <tbody>\n",
       "    <tr>\n",
       "      <th>0</th>\n",
       "      <td>73b3a60ba203743c008330c96b7d8b66</td>\n",
       "      <td>1090872</td>\n",
       "      <td>A</td>\n",
       "      <td>Sam Raha</td>\n",
       "      <td>Senior Vice President, President Diagnostics a...</td>\n",
       "      <td>2021</td>\n",
       "      <td>563500</td>\n",
       "      <td>0</td>\n",
       "      <td>1541332</td>\n",
       "      <td>0</td>\n",
       "      <td>738536</td>\n",
       "      <td>33534</td>\n",
       "      <td>3262887</td>\n",
       "      <td>NaN</td>\n",
       "    </tr>\n",
       "    <tr>\n",
       "      <th>1</th>\n",
       "      <td>97393f60cd9f321650e472673daaa70c</td>\n",
       "      <td>1090872</td>\n",
       "      <td>A</td>\n",
       "      <td>Michael R. McMullen</td>\n",
       "      <td>Chief Executive Officer</td>\n",
       "      <td>2021</td>\n",
       "      <td>1280000</td>\n",
       "      <td>0</td>\n",
       "      <td>9165390</td>\n",
       "      <td>0</td>\n",
       "      <td>3149714</td>\n",
       "      <td>77512</td>\n",
       "      <td>15967631</td>\n",
       "      <td>NaN</td>\n",
       "    </tr>\n",
       "    <tr>\n",
       "      <th>2</th>\n",
       "      <td>83b9cc2bca477fe8ce23e0ab56e70c66</td>\n",
       "      <td>1090872</td>\n",
       "      <td>A</td>\n",
       "      <td>Jacob Thaysen</td>\n",
       "      <td>Senior Vice President, President Life Sciences...</td>\n",
       "      <td>2021</td>\n",
       "      <td>625000</td>\n",
       "      <td>0</td>\n",
       "      <td>1812285</td>\n",
       "      <td>0</td>\n",
       "      <td>897589</td>\n",
       "      <td>13684</td>\n",
       "      <td>3802349</td>\n",
       "      <td>NaN</td>\n",
       "    </tr>\n",
       "    <tr>\n",
       "      <th>3</th>\n",
       "      <td>7c60bb804071675ae15ec930f6dea190</td>\n",
       "      <td>1090872</td>\n",
       "      <td>A</td>\n",
       "      <td>Robert McMahon</td>\n",
       "      <td>Senior Vice President, Chief Financial Officer</td>\n",
       "      <td>2021</td>\n",
       "      <td>663500</td>\n",
       "      <td>0</td>\n",
       "      <td>2291271</td>\n",
       "      <td>0</td>\n",
       "      <td>1007000</td>\n",
       "      <td>176196</td>\n",
       "      <td>4711733</td>\n",
       "      <td>NaN</td>\n",
       "    </tr>\n",
       "    <tr>\n",
       "      <th>4</th>\n",
       "      <td>259b710a8befe67c61a2c3dec14f344a</td>\n",
       "      <td>1090872</td>\n",
       "      <td>A</td>\n",
       "      <td>Padraig McDonnell</td>\n",
       "      <td>Senior Vice President, President Cross-Lab Group</td>\n",
       "      <td>2021</td>\n",
       "      <td>495000</td>\n",
       "      <td>0</td>\n",
       "      <td>1249771</td>\n",
       "      <td>0</td>\n",
       "      <td>686716</td>\n",
       "      <td>499472</td>\n",
       "      <td>3243927</td>\n",
       "      <td>NaN</td>\n",
       "    </tr>\n",
       "  </tbody>\n",
       "</table>\n",
       "</div>"
      ],
      "text/plain": [
       "                                 id      cik ticker                 name  \\\n",
       "0  73b3a60ba203743c008330c96b7d8b66  1090872      A             Sam Raha   \n",
       "1  97393f60cd9f321650e472673daaa70c  1090872      A  Michael R. McMullen   \n",
       "2  83b9cc2bca477fe8ce23e0ab56e70c66  1090872      A        Jacob Thaysen   \n",
       "3  7c60bb804071675ae15ec930f6dea190  1090872      A       Robert McMahon   \n",
       "4  259b710a8befe67c61a2c3dec14f344a  1090872      A    Padraig McDonnell   \n",
       "\n",
       "                                            position  year   salary  bonus  \\\n",
       "0  Senior Vice President, President Diagnostics a...  2021   563500      0   \n",
       "1                            Chief Executive Officer  2021  1280000      0   \n",
       "2  Senior Vice President, President Life Sciences...  2021   625000      0   \n",
       "3     Senior Vice President, Chief Financial Officer  2021   663500      0   \n",
       "4   Senior Vice President, President Cross-Lab Group  2021   495000      0   \n",
       "\n",
       "   stockAwards  optionAwards  nonEquityIncentiveCompensation  \\\n",
       "0      1541332             0                          738536   \n",
       "1      9165390             0                         3149714   \n",
       "2      1812285             0                          897589   \n",
       "3      2291271             0                         1007000   \n",
       "4      1249771             0                          686716   \n",
       "\n",
       "   otherCompensation     total  changeInPensionValueAndDeferredEarnings  \n",
       "0              33534   3262887                                      NaN  \n",
       "1              77512  15967631                                      NaN  \n",
       "2              13684   3802349                                      NaN  \n",
       "3             176196   4711733                                      NaN  \n",
       "4             499472   3243927                                      NaN  "
      ]
     },
     "execution_count": 167,
     "metadata": {},
     "output_type": "execute_result"
    }
   ],
   "source": [
    "starter_df.head()"
   ]
  },
  {
   "cell_type": "code",
   "execution_count": 205,
   "metadata": {},
   "outputs": [
    {
     "data": {
      "text/plain": [
       "<AxesSubplot:xlabel='total', ylabel='salary'>"
      ]
     },
     "execution_count": 205,
     "metadata": {},
     "output_type": "execute_result"
    },
    {
     "data": {
      "image/png": "[encoded data removed]",
      "text/plain": [
       "<Figure size 432x288 with 1 Axes>"
      ]
     },
     "metadata": {
      "needs_background": "light"
     },
     "output_type": "display_data"
    }
   ],
   "source": [
    "sns.scatterplot(data=starter_df, x='total',y='salary')"
   ]
  },
  {
   "cell_type": "code",
   "execution_count": 206,
   "metadata": {},
   "outputs": [
    {
     "data": {
      "text/plain": [
       "<AxesSubplot:xlabel='salary'>"
      ]
     },
     "execution_count": 206,
     "metadata": {},
     "output_type": "execute_result"
    },
    {
     "data": {
      "image/png": "[encoded data removed]",
      "text/plain": [
       "<Figure size 432x288 with 1 Axes>"
      ]
     },
     "metadata": {
      "needs_background": "light"
     },
     "output_type": "display_data"
    }
   ],
   "source": [
    "sns.rugplot(x=starter_df['salary'])"
   ]
  },
  {
   "cell_type": "code",
   "execution_count": 207,
   "metadata": {},
   "outputs": [
    {
     "data": {
      "text/plain": [
       "<AxesSubplot:xlabel='salary'>"
      ]
     },
     "execution_count": 207,
     "metadata": {},
     "output_type": "execute_result"
    },
    {
     "data": {
      "image/png": "[encoded data removed]",
      "text/plain": [
       "<Figure size 432x288 with 1 Axes>"
      ]
     },
     "metadata": {
      "needs_background": "light"
     },
     "output_type": "display_data"
    }
   ],
   "source": [
    "sns.boxplot(x=starter_df['salary'])"
   ]
  },
  {
   "cell_type": "code",
   "execution_count": 469,
   "metadata": {},
   "outputs": [
    {
     "data": {
      "text/plain": [
       "18794746"
      ]
     },
     "execution_count": 469,
     "metadata": {},
     "output_type": "execute_result"
    }
   ],
   "source": [
    "starter_df['salary'].max()"
   ]
  },
  {
   "cell_type": "code",
   "execution_count": 470,
   "metadata": {},
   "outputs": [],
   "source": [
    "#find the index of the highest salary\n",
    "highest_salary_index = starter_df[['salary']].idxmax()"
   ]
  },
  {
   "cell_type": "code",
   "execution_count": 471,
   "metadata": {},
   "outputs": [
    {
     "data": {
      "text/html": [
       "<div>\n",
       "<style scoped>\n",
       "    .dataframe tbody tr th:only-of-type {\n",
       "        vertical-align: middle;\n",
       "    }\n",
       "\n",
       "    .dataframe tbody tr th {\n",
       "        vertical-align: top;\n",
       "    }\n",
       "\n",
       "    .dataframe thead th {\n",
       "        text-align: right;\n",
       "    }\n",
       "</style>\n",
       "<table border=\"1\" class=\"dataframe\">\n",
       "  <thead>\n",
       "    <tr style=\"text-align: right;\">\n",
       "      <th></th>\n",
       "      <th>id</th>\n",
       "      <th>cik</th>\n",
       "      <th>ticker</th>\n",
       "      <th>name</th>\n",
       "      <th>position</th>\n",
       "      <th>year</th>\n",
       "      <th>salary</th>\n",
       "      <th>bonus</th>\n",
       "      <th>stockAwards</th>\n",
       "      <th>optionAwards</th>\n",
       "      <th>nonEquityIncentiveCompensation</th>\n",
       "      <th>otherCompensation</th>\n",
       "      <th>total</th>\n",
       "      <th>changeInPensionValueAndDeferredEarnings</th>\n",
       "    </tr>\n",
       "  </thead>\n",
       "  <tbody>\n",
       "    <tr>\n",
       "      <th>152776</th>\n",
       "      <td>364bb82f304f4428e7709c2667ba4930</td>\n",
       "      <td>947559</td>\n",
       "      <td>FBMS</td>\n",
       "      <td>David E. Johnson</td>\n",
       "      <td>Chairman of the Board</td>\n",
       "      <td>2009</td>\n",
       "      <td>18794746</td>\n",
       "      <td>0</td>\n",
       "      <td>0</td>\n",
       "      <td>0</td>\n",
       "      <td>0</td>\n",
       "      <td>1579032</td>\n",
       "      <td>20373778</td>\n",
       "      <td>NaN</td>\n",
       "    </tr>\n",
       "  </tbody>\n",
       "</table>\n",
       "</div>"
      ],
      "text/plain": [
       "                                      id     cik ticker              name  \\\n",
       "152776  364bb82f304f4428e7709c2667ba4930  947559   FBMS  David E. Johnson   \n",
       "\n",
       "                     position  year    salary  bonus  stockAwards  \\\n",
       "152776  Chairman of the Board  2009  18794746      0            0   \n",
       "\n",
       "        optionAwards  nonEquityIncentiveCompensation  otherCompensation  \\\n",
       "152776             0                               0            1579032   \n",
       "\n",
       "           total  changeInPensionValueAndDeferredEarnings  \n",
       "152776  20373778                                      NaN  "
      ]
     },
     "execution_count": 471,
     "metadata": {},
     "output_type": "execute_result"
    }
   ],
   "source": [
    "#look at this highest salary, which is clearly incorrect\n",
    "starter_df.iloc[highest_salary_index]"
   ]
  },
  {
   "cell_type": "code",
   "execution_count": 472,
   "metadata": {},
   "outputs": [],
   "source": [
    "mistakes_df = pd.concat([mistakes_df,starter_df.iloc[highest_salary_index]])"
   ]
  },
  {
   "cell_type": "code",
   "execution_count": 473,
   "metadata": {},
   "outputs": [],
   "source": [
    "#dropping the highest salary row\n",
    "starter_df.drop(labels=[highest_salary_index[0]],axis=0,inplace=True)\n",
    "starter_df.reset_index(inplace=True, drop=True)"
   ]
  },
  {
   "cell_type": "code",
   "execution_count": 475,
   "metadata": {},
   "outputs": [],
   "source": [
    "mistakes_df.to_csv('mistakes.csv')#,index = False)"
   ]
  },
  {
   "cell_type": "code",
   "execution_count": null,
   "metadata": {},
   "outputs": [],
   "source": []
  }
 ],
 "metadata": {
  "kernelspec": {
   "display_name": "Python 3",
   "language": "python",
   "name": "python3"
  },
  "language_info": {
   "codemirror_mode": {
    "name": "ipython",
    "version": 3
   },
   "file_extension": ".py",
   "mimetype": "text/x-python",
   "name": "python",
   "nbconvert_exporter": "python",
   "pygments_lexer": "ipython3",
   "version": "3.8.5"
  }
 },
 "nbformat": 4,
 "nbformat_minor": 4
}
