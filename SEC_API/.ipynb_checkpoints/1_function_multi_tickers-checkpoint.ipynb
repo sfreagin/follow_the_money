{
 "cells": [
  {
   "cell_type": "markdown",
   "metadata": {},
   "source": [
    "### Creating a loop to iterate through multiple tickers and writing a function for pulling data and generating CSV files\n",
    "#### (note to self: look into generating JSON files for better performance at scale)\n",
    "\n",
    "This is all based on Summary Compensation Table (SCT) pay data, and currently does NOT include:\n",
    "* Grants of Plan Based Awards\n",
    "* Options Exercised and Stock Vested\n",
    "* Outstanding Equity Awards"
   ]
  },
  {
   "cell_type": "code",
   "execution_count": 1,
   "metadata": {},
   "outputs": [],
   "source": [
    "from sec_api import ExecCompApi\n",
    "import config"
   ]
  },
  {
   "cell_type": "code",
   "execution_count": 2,
   "metadata": {},
   "outputs": [],
   "source": [
    "import pandas as pd\n",
    "import numpy as np\n",
    "\n",
    "import matplotlib.pyplot as plt\n",
    "import seaborn as sns"
   ]
  },
  {
   "cell_type": "code",
   "execution_count": 3,
   "metadata": {},
   "outputs": [],
   "source": [
    "api_key = config.sec_api_key"
   ]
  },
  {
   "cell_type": "code",
   "execution_count": 4,
   "metadata": {},
   "outputs": [],
   "source": [
    "def SCTpay_csv_generator(api_key,ticker):\n",
    "    #instantiate the API\n",
    "    execCompApi = ExecCompApi(api_key)\n",
    "    \n",
    "    #pull data for the ticker\n",
    "    result_ticker = execCompApi.get_data(ticker)\n",
    "    \n",
    "    #turn query results into DataFrame\n",
    "    SCTpay_df = pd.DataFrame(result_ticker)\n",
    "    #SCTpay_df['ticker'] = ticker\n",
    "    \n",
    "    #output DataFrame to a CSV file\n",
    "    SCTpay_df.to_csv(f'old_files/{ticker}_SCTpay.csv',index=False)"
   ]
  },
  {
   "cell_type": "code",
   "execution_count": 5,
   "metadata": {},
   "outputs": [],
   "source": [
    "#testing this on a list of tickers\n",
    "ticker_list = ['INTC','KMI','GOOGL','KDP','SWKS','JNJ','F','VMW']"
   ]
  },
  {
   "cell_type": "code",
   "execution_count": 6,
   "metadata": {},
   "outputs": [],
   "source": [
    "for tick in ticker_list:\n",
    "    try:\n",
    "        SCTpay_csv_generator(api_key, tick)\n",
    "    except:\n",
    "        print(f\"Ticker {ticker} throws an error\")"
   ]
  },
  {
   "cell_type": "code",
   "execution_count": null,
   "metadata": {},
   "outputs": [],
   "source": []
  }
 ],
 "metadata": {
  "kernelspec": {
   "display_name": "Python 3",
   "language": "python",
   "name": "python3"
  },
  "language_info": {
   "codemirror_mode": {
    "name": "ipython",
    "version": 3
   },
   "file_extension": ".py",
   "mimetype": "text/x-python",
   "name": "python",
   "nbconvert_exporter": "python",
   "pygments_lexer": "ipython3",
   "version": "3.8.5"
  }
 },
 "nbformat": 4,
 "nbformat_minor": 5
}
