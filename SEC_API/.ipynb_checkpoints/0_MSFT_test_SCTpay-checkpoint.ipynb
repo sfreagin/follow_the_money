{
 "cells": [
  {
   "cell_type": "markdown",
   "metadata": {},
   "source": [
    "## Summary Compensation Table pay\n",
    "#### Microsoft (MSFT)\n",
    "Following along this tutorial: https://sec-api.io/docs/executive-compensation-api/python-example"
   ]
  },
  {
   "cell_type": "code",
   "execution_count": 1,
   "metadata": {},
   "outputs": [],
   "source": [
    "from sec_api import ExecCompApi\n",
    "import config"
   ]
  },
  {
   "cell_type": "code",
   "execution_count": 2,
   "metadata": {},
   "outputs": [],
   "source": [
    "import pandas as pd\n",
    "import numpy as np\n",
    "\n",
    "import matplotlib.pyplot as plt\n",
    "import seaborn as sns"
   ]
  },
  {
   "cell_type": "code",
   "execution_count": 3,
   "metadata": {},
   "outputs": [],
   "source": [
    "execCompApi = ExecCompApi(config.sec_api_key)"
   ]
  },
  {
   "cell_type": "code",
   "execution_count": 4,
   "metadata": {},
   "outputs": [],
   "source": [
    "result_ticker = execCompApi.get_data('MSFT')"
   ]
  },
  {
   "cell_type": "code",
   "execution_count": 5,
   "metadata": {},
   "outputs": [
    {
     "data": {
      "text/plain": [
       "81"
      ]
     },
     "execution_count": 5,
     "metadata": {},
     "output_type": "execute_result"
    }
   ],
   "source": [
    "len(result_ticker)"
   ]
  },
  {
   "cell_type": "code",
   "execution_count": 6,
   "metadata": {},
   "outputs": [
    {
     "data": {
      "text/plain": [
       "dict_keys(['id', 'cik', 'ticker', 'name', 'position', 'year', 'salary', 'bonus', 'stockAwards', 'optionAwards', 'nonEquityIncentiveCompensation', 'otherCompensation', 'total'])"
      ]
     },
     "execution_count": 6,
     "metadata": {},
     "output_type": "execute_result"
    }
   ],
   "source": [
    "result_ticker[0].keys()"
   ]
  },
  {
   "cell_type": "code",
   "execution_count": 7,
   "metadata": {},
   "outputs": [
    {
     "data": {
      "text/plain": [
       "dict_values(['ce5ce03d1e83d40b77dc1d78c4430a11', '789019', 'MSFT', 'Jean Philippe Courtois', 'Executive Vice President, President, Global Sales, Marketing and Operations', 2021, 932167, 0, 12141344, 0, 3670406, 65948, 16809865])"
      ]
     },
     "execution_count": 7,
     "metadata": {},
     "output_type": "execute_result"
    }
   ],
   "source": [
    "result_ticker[0].values()"
   ]
  },
  {
   "cell_type": "code",
   "execution_count": 8,
   "metadata": {},
   "outputs": [
    {
     "name": "stdout",
     "output_type": "stream",
     "text": [
      "id ce5ce03d1e83d40b77dc1d78c4430a11\n",
      "cik 789019\n",
      "ticker MSFT\n",
      "name Jean Philippe Courtois\n",
      "position Executive Vice President, President, Global Sales, Marketing and Operations\n",
      "year 2021\n",
      "salary 932167\n",
      "bonus 0\n",
      "stockAwards 12141344\n",
      "optionAwards 0\n",
      "nonEquityIncentiveCompensation 3670406\n",
      "otherCompensation 65948\n",
      "total 16809865\n"
     ]
    }
   ],
   "source": [
    "for key in result_ticker[0].keys():\n",
    "    print(key, result_ticker[0][key])"
   ]
  },
  {
   "cell_type": "code",
   "execution_count": 9,
   "metadata": {},
   "outputs": [],
   "source": [
    "msft_mainpay_df = pd.DataFrame(result_ticker)"
   ]
  },
  {
   "cell_type": "code",
   "execution_count": 10,
   "metadata": {},
   "outputs": [
    {
     "data": {
      "text/plain": [
       "array([2021, 2020, 2019, 2018, 2017, 2016, 2015, 2014, 2013, 2012, 2011,\n",
       "       2010, 2009, 2008, 2007], dtype=int64)"
      ]
     },
     "execution_count": 10,
     "metadata": {},
     "output_type": "execute_result"
    }
   ],
   "source": [
    "msft_mainpay_df['year'].unique()"
   ]
  },
  {
   "cell_type": "code",
   "execution_count": 11,
   "metadata": {},
   "outputs": [],
   "source": [
    "msft_mainpay_df.to_csv('old_files/MSFT_SCTpay.csv',index=False)"
   ]
  },
  {
   "cell_type": "code",
   "execution_count": null,
   "metadata": {},
   "outputs": [],
   "source": []
  },
  {
   "cell_type": "code",
   "execution_count": 12,
   "metadata": {},
   "outputs": [
    {
     "name": "stdout",
     "output_type": "stream",
     "text": [
      "Jean Philippe Courtois\n",
      "Christopher D. Young\n",
      "Amy E. Hood\n",
      "Satya Nadella\n",
      "Bradford L. Smith\n"
     ]
    }
   ],
   "source": [
    "for i in range(0,5):\n",
    "    print(result_ticker[i]['name'])"
   ]
  },
  {
   "cell_type": "code",
   "execution_count": null,
   "metadata": {},
   "outputs": [],
   "source": []
  },
  {
   "cell_type": "code",
   "execution_count": null,
   "metadata": {},
   "outputs": [],
   "source": []
  },
  {
   "cell_type": "markdown",
   "metadata": {},
   "source": [
    "### Let's save the dictionary as a .txt file for later parsing\n",
    "https://www.geeksforgeeks.org/write-a-dictionary-to-a-file-in-python/\n",
    "\n",
    "https://stackoverflow.com/questions/4803999/how-to-convert-a-file-into-a-dictionary\n",
    "\n",
    "https://www.geeksforgeeks.org/how-to-read-dictionary-from-file-in-python/"
   ]
  },
  {
   "cell_type": "code",
   "execution_count": 13,
   "metadata": {},
   "outputs": [],
   "source": [
    "import json"
   ]
  },
  {
   "cell_type": "code",
   "execution_count": 14,
   "metadata": {},
   "outputs": [],
   "source": [
    "#saving the dictionary as a text file\n",
    "with open('old_files/MSFT_SCTpay_2021.txt', 'w') as converted_file:\n",
    "    converted_file.write(json.dumps(result_ticker))"
   ]
  },
  {
   "cell_type": "markdown",
   "metadata": {},
   "source": [
    "##### And now the inverse process, reading the file back"
   ]
  },
  {
   "cell_type": "code",
   "execution_count": 15,
   "metadata": {},
   "outputs": [],
   "source": [
    "#reading the data from a file\n",
    "with open('old_files/MSFT_SCTpay_2021.txt') as f:\n",
    "    msft_txt = f.read()\n",
    "    \n",
    "#converting the text string into a dictionary\n",
    "msft_dict = json.loads(msft_txt)"
   ]
  },
  {
   "cell_type": "code",
   "execution_count": 16,
   "metadata": {},
   "outputs": [
    {
     "name": "stdout",
     "output_type": "stream",
     "text": [
      "Jean Philippe Courtois\n",
      "Christopher D. Young\n",
      "Amy E. Hood\n",
      "Satya Nadella\n",
      "Bradford L. Smith\n"
     ]
    }
   ],
   "source": [
    "for i in range(0,5):\n",
    "    print(msft_dict[i]['name'])"
   ]
  },
  {
   "cell_type": "code",
   "execution_count": 17,
   "metadata": {},
   "outputs": [
    {
     "data": {
      "text/plain": [
       "Index(['id', 'cik', 'ticker', 'name', 'position', 'year', 'salary', 'bonus',\n",
       "       'stockAwards', 'optionAwards', 'nonEquityIncentiveCompensation',\n",
       "       'otherCompensation', 'total',\n",
       "       'changeInPensionValueAndDeferredEarnings'],\n",
       "      dtype='object')"
      ]
     },
     "execution_count": 17,
     "metadata": {},
     "output_type": "execute_result"
    }
   ],
   "source": [
    "pd.DataFrame(msft_dict).columns"
   ]
  },
  {
   "cell_type": "code",
   "execution_count": 18,
   "metadata": {},
   "outputs": [],
   "source": [
    "#reading the data from a file\n",
    "with open('old_files/AAPL_SCTpay_2021.txt') as f:\n",
    "    aapl_txt = f.read()\n",
    "    \n",
    "#converting the text string into a dictionary\n",
    "aapl_dict = json.loads(aapl_txt)"
   ]
  },
  {
   "cell_type": "code",
   "execution_count": 19,
   "metadata": {},
   "outputs": [
    {
     "data": {
      "text/plain": [
       "array([ True,  True,  True,  True,  True,  True,  True,  True,  True,\n",
       "        True,  True,  True,  True,  True])"
      ]
     },
     "execution_count": 19,
     "metadata": {},
     "output_type": "execute_result"
    }
   ],
   "source": [
    "pd.DataFrame(aapl_dict).columns == pd.DataFrame(msft_dict).columns"
   ]
  },
  {
   "cell_type": "code",
   "execution_count": 20,
   "metadata": {},
   "outputs": [
    {
     "data": {
      "text/plain": [
       "{True}"
      ]
     },
     "execution_count": 20,
     "metadata": {},
     "output_type": "execute_result"
    }
   ],
   "source": [
    "set(pd.DataFrame(aapl_dict).columns == pd.DataFrame(msft_dict).columns)"
   ]
  },
  {
   "cell_type": "code",
   "execution_count": null,
   "metadata": {},
   "outputs": [],
   "source": []
  }
 ],
 "metadata": {
  "kernelspec": {
   "display_name": "Python 3",
   "language": "python",
   "name": "python3"
  },
  "language_info": {
   "codemirror_mode": {
    "name": "ipython",
    "version": 3
   },
   "file_extension": ".py",
   "mimetype": "text/x-python",
   "name": "python",
   "nbconvert_exporter": "python",
   "pygments_lexer": "ipython3",
   "version": "3.8.5"
  }
 },
 "nbformat": 4,
 "nbformat_minor": 5
}
