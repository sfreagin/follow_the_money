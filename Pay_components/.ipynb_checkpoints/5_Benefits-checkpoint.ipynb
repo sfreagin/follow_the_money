{
 "cells": [
  {
   "cell_type": "markdown",
   "metadata": {},
   "source": [
    "## Pay Components - Benefits"
   ]
  },
  {
   "cell_type": "markdown",
   "metadata": {},
   "source": [
    "---\n",
    "### Benefits\n",
    "\n",
    "Usually pretty standard, typically not a large component of executive pay. \n",
    "\n",
    "On rare occasions you may see payments for private security, use of company jet, private club memberships, and other perks. But these are most often for the CEO only, and many companies have moved away from the practice of extravagant benefits.\n",
    "\n",
    "---"
   ]
  },
  {
   "cell_type": "code",
   "execution_count": null,
   "metadata": {},
   "outputs": [],
   "source": []
  }
 ],
 "metadata": {
  "kernelspec": {
   "display_name": "Python 3",
   "language": "python",
   "name": "python3"
  },
  "language_info": {
   "codemirror_mode": {
    "name": "ipython",
    "version": 3
   },
   "file_extension": ".py",
   "mimetype": "text/x-python",
   "name": "python",
   "nbconvert_exporter": "python",
   "pygments_lexer": "ipython3",
   "version": "3.8.5"
  }
 },
 "nbformat": 4,
 "nbformat_minor": 4
}
