{
 "cells": [
  {
   "cell_type": "markdown",
   "metadata": {},
   "source": [
    "## Pay Components - Salary"
   ]
  },
  {
   "cell_type": "markdown",
   "metadata": {},
   "source": [
    "---\n",
    "(previous notes)\n",
    "### Salary\n",
    "\n",
    "Table stakes for executives (and employees generally). Most often paid on a monthly or bi-monthly basis. \n",
    "\n",
    "CEO typically has the highest salary at a company. \n",
    "\n",
    "Annual raises are rather commonplace, ranging 1% to 10% (say) per year. Sometimes cited as a cost-of-living adjustment, sometimes cited as a market-rate adjustment (i.e. looking at peers and recalibrating), sometimes cited as a performance-based increase. My own completely-unfounded suspicion is, executive raises (and especially CEO raises) are more for Ego Management than any true statistical analysis, because the sample sizes are simply too small and there are too many unknown parameters to have any confidence that a (say) 5% adjustment is necessary or appropriate versus (say) a 7% adjustment YOY.\n",
    "\n",
    "In the past, base salaries would typically max out around $1M because of the 162(m) tax code limitations on deductions. But that changed with the 2017 tax code, and apparently also changed in 2021 with covid relief programs, so I personally need to investigate this more.\n",
    "\n",
    "---"
   ]
  },
  {
   "cell_type": "code",
   "execution_count": null,
   "metadata": {},
   "outputs": [],
   "source": []
  }
 ],
 "metadata": {
  "kernelspec": {
   "display_name": "Python 3",
   "language": "python",
   "name": "python3"
  },
  "language_info": {
   "codemirror_mode": {
    "name": "ipython",
    "version": 3
   },
   "file_extension": ".py",
   "mimetype": "text/x-python",
   "name": "python",
   "nbconvert_exporter": "python",
   "pygments_lexer": "ipython3",
   "version": "3.8.5"
  }
 },
 "nbformat": 4,
 "nbformat_minor": 4
}
