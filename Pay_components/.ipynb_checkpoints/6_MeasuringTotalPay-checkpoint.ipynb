{
 "cells": [
  {
   "cell_type": "markdown",
   "metadata": {},
   "source": [
    "## Pay Components - Measures of Total Pay"
   ]
  },
  {
   "cell_type": "markdown",
   "metadata": {},
   "source": [
    "---"
   ]
  },
  {
   "cell_type": "markdown",
   "metadata": {},
   "source": [
    "### Measures of total pay\n",
    "---\n",
    "#### Total Target Compensation (TTC, TDC)\n",
    "\n",
    "Total Target Compensation (TTC) or Total Direct Compensation (TDC) is most often taken to be the sum of:\n",
    "* Salary\n",
    "* Performance bonus (at target)\n",
    "* Equity awards (at target)\n"
   ]
  },
  {
   "cell_type": "markdown",
   "metadata": {},
   "source": [
    "#### Total Cash Compensation (TCC, TTC)\n",
    "\n",
    "Total Cash Compensation (TCC) or Total Target Cash (TTC) is most often taken to be the sum of:\n",
    "* Salary\n",
    "* Performance bonus (at target)\n",
    "\n",
    "The idea is, to get a sense for how much liquid cash is being paid to the executive on an annual basis. The executive may or may not sell their shares of vested stock. And the stock price may go up or down, so it's not neceessarily a great indicator for how much the executive is taking home on a regular or annual basis."
   ]
  },
  {
   "cell_type": "markdown",
   "metadata": {},
   "source": [
    "#### Realizable pay\n",
    "\n",
    "Realizable pay is the amount than an executive *can realize* if they were to achieve certain long-term metrics and sell their vested shares of stock. A lot of assumptions may go into a realizable pay analysis, for example whether stock awards are earned at minimum or target or max.\n",
    "\n",
    "Similarly, **realized pay** is what the executive *actually* realized in previous years. This may include the actual performance of long-term awards that were vested, shares of stock that were sold, stock options exercised, etc."
   ]
  },
  {
   "cell_type": "markdown",
   "metadata": {},
   "source": [
    "#### Grant Date Fair Value of awards (GDFV)\n",
    "\n",
    "The Grant Date Fair Value usually means the dollar-per-share amount of a given equity award. This usually depends on the company's stock price around the time the award was given. Many companies use a trailing average, *e.g.* a 45-day trailing average as of the grant date."
   ]
  },
  {
   "cell_type": "markdown",
   "metadata": {},
   "source": [
    "#### Summary Compensation Table (SCT pay)\n",
    "\n",
    "This is the value provided in the Summary Compensation Table of the publicly-filed DEF 14A proxy. While it technically includes all components of *actual* pay (rather than target), there are a lot of assumptions made regarding the value of stock awards that will not be known for several years."
   ]
  },
  {
   "cell_type": "markdown",
   "metadata": {},
   "source": [
    "---"
   ]
  },
  {
   "cell_type": "code",
   "execution_count": null,
   "metadata": {},
   "outputs": [],
   "source": []
  }
 ],
 "metadata": {
  "kernelspec": {
   "display_name": "Python 3",
   "language": "python",
   "name": "python3"
  },
  "language_info": {
   "codemirror_mode": {
    "name": "ipython",
    "version": 3
   },
   "file_extension": ".py",
   "mimetype": "text/x-python",
   "name": "python",
   "nbconvert_exporter": "python",
   "pygments_lexer": "ipython3",
   "version": "3.8.5"
  }
 },
 "nbformat": 4,
 "nbformat_minor": 4
}
