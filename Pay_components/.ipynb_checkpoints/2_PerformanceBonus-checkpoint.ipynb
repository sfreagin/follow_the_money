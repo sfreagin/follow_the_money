{
 "cells": [
  {
   "cell_type": "markdown",
   "metadata": {},
   "source": [
    "## Pay Components - Cash Performance Bonus"
   ]
  },
  {
   "cell_type": "markdown",
   "metadata": {},
   "source": [
    "---\n",
    "### Cash incentive (performance bonus)\n",
    "\n",
    "Cash performance bonuses are almost always an annual award, designed to encourage (or *incentivize*) particular achievements over the course of the year.\n",
    "\n",
    "Most often targeted as a percentage of salary, *e.g.* a target bonus might be equal to 75% of the executive's salary. Typically has a minimum / target / maximum range of payout opportunities.\n",
    "\n",
    "CEO typically has the highest percentage relative to other NEOs, *e.g.* the CEO's target bonus may be 100% of salary and the other NEOs may be 75% of salary.\n",
    "\n",
    "Payout ranges are most often based on metrics, like financial metrics and ESG or other internal qualitative goals. And these metrics are almost always measured on an annual basis, as opposed to (say) a 3-year measurement period.\n",
    "\n",
    "A typical payout range is something like 50% at minimum / 100% target (by definition) / 200% at maximum. Of course those payout ranges may be different for different companies.\n",
    "\n",
    "The most common or simplest plans are additive in nature, for example:\n",
    "* 25% based on a Revenue metric\n",
    "* 25% based on an Earnings metric\n",
    "* 30% based on qualitative goals like D&I metric\n",
    "* 20% based on leadership goals\n",
    "\n",
    "And each metric above will commonly have its own range of achievements and payouts. For example a Revenue range of \\\\$750m / \\\\$1B / $1.25B corresponds to a payout range of 50% / 100% / 200% of the Revenue metric, which is itself weighted as 25% of the target incentive above.\n",
    "\n",
    "There may also be *funding* metrics, where no payout will occur unless a particular metric is achieved. Or perhaps, the total bonus pool is equal to (say) 1% of the company's total revenue, and proportionately allocated from there.\n",
    "\n",
    "---"
   ]
  },
  {
   "cell_type": "code",
   "execution_count": null,
   "metadata": {},
   "outputs": [],
   "source": []
  }
 ],
 "metadata": {
  "kernelspec": {
   "display_name": "Python 3",
   "language": "python",
   "name": "python3"
  },
  "language_info": {
   "codemirror_mode": {
    "name": "ipython",
    "version": 3
   },
   "file_extension": ".py",
   "mimetype": "text/x-python",
   "name": "python",
   "nbconvert_exporter": "python",
   "pygments_lexer": "ipython3",
   "version": "3.8.5"
  }
 },
 "nbformat": 4,
 "nbformat_minor": 4
}
