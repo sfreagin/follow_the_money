{
 "cells": [
  {
   "cell_type": "markdown",
   "metadata": {},
   "source": [
    "## Pay Components - Equity Awards"
   ]
  },
  {
   "cell_type": "markdown",
   "metadata": {},
   "source": [
    "---\n",
    "### Equity awards\n",
    "\n",
    "Most often the largest component of an executive's total compensation package.\n",
    "\n",
    "All equity awards will:\n",
    "* Align the interests of executives with broader shareholders\n",
    "* Encourage retention through vesting schedules\n",
    "* Reward the executive for company success through higher stock appreciation\n",
    "\n",
    "Equity awards are often given to broader employees; as you move 'up' in the company hierarchy, equity awards tend to comprise a greater percentage of total compensation. This is because a Senior VP (say) makes decisions that can affect the stock price, much moreso than decisions made at the middle management or entry level positions.\n",
    "\n",
    "The primary vehicles are:\n",
    "* Restricted Stock Units (RSUs)\n",
    "* Stock Options\n",
    "* Performance stock awards (PSUs / PRSUs)\n"
   ]
  },
  {
   "cell_type": "markdown",
   "metadata": {},
   "source": [
    "### Restricted Stock Units (RSUs)\n",
    "\n",
    "RSUs represent full shares of common stock. They are typically granted with a vesting schedule, and this is designed to encourage retention. If the executive leaves before a vesting event, the unvested portion is forfeited. Most common vesting schedule is something like 25% per year.\n",
    "\n"
   ]
  },
  {
   "cell_type": "markdown",
   "metadata": {},
   "source": [
    "### Stock Options\n",
    "\n",
    "Stock Options are a vehicle designed to encourage stock price appreciation, because stock options only have value if the stock price goes up. They give you the option *but not the obligation* to purchase shares at a predetermined exercise price. Stock options also often have a vesting schedule. Stock options have fallen out of favor with larger companies because of accounting changes, and also it's much harder to grow a large company than a small company percentage-wise."
   ]
  },
  {
   "cell_type": "markdown",
   "metadata": {},
   "source": [
    "### Performance Stock Awards (PSUs, PRSUs, etc.)\n",
    "\n",
    "Performance stock awards are designed similar to cash performance bonuses, with payout ranges based on achievement of predetermined metrics. The performance period and measurement period are typically longer, most often 3 years, and the payout is usually in shares a common stock (as opposed to cash). The most common metric is Total Shareholder Return (TSR) and most often measured on a *relative* basis, *i.e.* compared to the TSR performance of other companies in the peer group. Sometimes TSR is measured in absolute terms. I personally do not care for the use of TSR as a metric to incentivize executives over the long term, because it takes the focus away from company execution and places it on stock price.\n",
    "\n",
    "---"
   ]
  },
  {
   "cell_type": "code",
   "execution_count": null,
   "metadata": {},
   "outputs": [],
   "source": []
  }
 ],
 "metadata": {
  "kernelspec": {
   "display_name": "Python 3",
   "language": "python",
   "name": "python3"
  },
  "language_info": {
   "codemirror_mode": {
    "name": "ipython",
    "version": 3
   },
   "file_extension": ".py",
   "mimetype": "text/x-python",
   "name": "python",
   "nbconvert_exporter": "python",
   "pygments_lexer": "ipython3",
   "version": "3.8.5"
  }
 },
 "nbformat": 4,
 "nbformat_minor": 4
}
